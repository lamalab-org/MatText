{
 "cells": [
  {
   "cell_type": "code",
   "execution_count": 3,
   "metadata": {},
   "outputs": [],
   "source": [
    "import json\n",
    "\n",
    "# function to read json file\n",
    "def read_json_file(file_name):\n",
    "    with open(file_name, 'r') as file:\n",
    "        data = json.load(file)\n",
    "    return data"
   ]
  },
  {
   "cell_type": "code",
   "execution_count": 4,
   "metadata": {},
   "outputs": [],
   "source": [
    "data = read_json_file('/work/so87pot/material_db/all_1/train_matbench_dielectric_0.json')\n",
    "data_slice = read_json_file('/work/so87pot/material_db/slice_lp/train_matbench_dielectric_0.json')"
   ]
  },
  {
   "cell_type": "code",
   "execution_count": 5,
   "metadata": {},
   "outputs": [
    {
     "data": {
      "text/plain": [
       "2924"
      ]
     },
     "execution_count": 5,
     "metadata": {},
     "output_type": "execute_result"
    }
   ],
   "source": [
    "len(data_slice)"
   ]
  },
  {
   "cell_type": "code",
   "execution_count": 6,
   "metadata": {},
   "outputs": [
    {
     "data": {
      "text/plain": [
       "2925"
      ]
     },
     "execution_count": 6,
     "metadata": {},
     "output_type": "execute_result"
    }
   ],
   "source": [
    "len(data)"
   ]
  },
  {
   "cell_type": "code",
   "execution_count": 7,
   "metadata": {},
   "outputs": [],
   "source": [
    "def merge_json_files(data, data_slice, output_file):\n",
    "    # Convert data_slice to a dictionary for faster lookup\n",
    "    data_slice_dict = {item['mbid']: item for item in data_slice}\n",
    "\n",
    "    for item in data:\n",
    "        mbid = item['mbid']\n",
    "        if mbid in data_slice_dict:\n",
    "            item.update(data_slice_dict[mbid])\n",
    "\n",
    "    with open(output_file, 'w') as file:\n",
    "        json.dump(data, file)\n",
    "\n",
    "merge_json_files(data, data_slice, f\"/work/so87pot/material_db/lp_exp/all/train_matbench_dielectric_0.json\")"
   ]
  },
  {
   "cell_type": "code",
   "execution_count": 8,
   "metadata": {},
   "outputs": [],
   "source": [
    "\n",
    "\n",
    "for p in [\"dielectric\", \"log_kvrh\",\"log_gvrh\",\"perovskites\"]:\n",
    "    for t in [\"test\",\"train\"]:\n",
    "        data = read_json_file(f'/work/so87pot/material_db/all_1/{t}_matbench_{p}_0.json')\n",
    "        data_slice = read_json_file(f'/work/so87pot/material_db/slice_lp/{t}_matbench_{p}_0.json')\n",
    "        merge_json_files(data, data_slice, f\"/work/so87pot/material_db/lp_exp/all/{t}_matbench_{p}_0.json\" )\n",
    "\n",
    "\n"
   ]
  },
  {
   "cell_type": "code",
   "execution_count": null,
   "metadata": {},
   "outputs": [],
   "source": []
  }
 ],
 "metadata": {
  "kernelspec": {
   "display_name": "slice_llm",
   "language": "python",
   "name": "python3"
  },
  "language_info": {
   "codemirror_mode": {
    "name": "ipython",
    "version": 3
   },
   "file_extension": ".py",
   "mimetype": "text/x-python",
   "name": "python",
   "nbconvert_exporter": "python",
   "pygments_lexer": "ipython3",
   "version": "3.9.18"
  }
 },
 "nbformat": 4,
 "nbformat_minor": 2
}
