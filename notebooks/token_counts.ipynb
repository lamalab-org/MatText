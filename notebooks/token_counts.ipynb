{
 "cells": [
  {
   "cell_type": "code",
   "execution_count": 1,
   "metadata": {},
   "outputs": [],
   "source": [
    "from tokenizers import Tokenizer\n",
    "from transformers import PreTrainedTokenizerFast\n",
    "import matplotlib.pyplot as plt\n",
    "from tqdm import tqdm"
   ]
  },
  {
   "cell_type": "code",
   "execution_count": 2,
   "metadata": {},
   "outputs": [],
   "source": [
    "SLICE_TOKENIZER_PATH = \"/home/so87pot/n0w0f/regression-transformer/slice-assets/tokenizer/tokenizer-slice_396k.json\""
   ]
  },
  {
   "cell_type": "code",
   "execution_count": 3,
   "metadata": {},
   "outputs": [],
   "source": [
    "\n",
    "\n",
    "class SliceTokenizer:\n",
    "    def __init__(self, vocab_file=SLICE_TOKENIZER_PATH):\n",
    "        _tokenizer = Tokenizer.from_file(vocab_file)\n",
    "        self.tokenizer = PreTrainedTokenizerFast(\n",
    "                    tokenizer_object=_tokenizer,\n",
    "                    unk_token=\"[UNK]\",\n",
    "                    pad_token=\"[PAD]\",\n",
    "                    cls_token=\"[CLS]\",\n",
    "                    sep_token=\"[SEP]\",\n",
    "                    mask_token=\"[MASK]\",\n",
    "                )\n",
    "    def tokenize(self, text):\n",
    "        return self.tokenizer.tokenize(text)\n",
    "\n",
    "\n",
    "\n",
    "def tokenize_save_and_plot(csv_path, txt_path, plot_path):\n",
    "    tokenizer = SliceTokenizer(SLICE_TOKENIZER_PATH)\n",
    "    token_counts = []\n",
    "    with open(csv_path, \"rt\") as fp, open(txt_path, \"w\") as out_fp:\n",
    "        for line in tqdm(fp):\n",
    "            line = line.strip()\n",
    "            tokens = tokenizer.tokenize(text=line)\n",
    "            out_fp.write(line + '\\n')  # write original line to file\n",
    "            out_fp.write(' '.join(tokens) + '\\n')  # write tokens to file\n",
    "            out_fp.write(f\"length:{len(tokens)}\\n\")  # write number of tokens to file\n",
    "            out_fp.write(\"--------------\\n\")  # write separator to file\n",
    "            token_counts.append(len(tokens))\n",
    "\n",
    "    plt.hist(token_counts, bins='auto')\n",
    "    plt.title('Token Count Distribution')\n",
    "    plt.xlabel('Number of Tokens')\n",
    "    plt.ylabel('Frequency')\n",
    "    plt.savefig(plot_path)  # save the plot to a file\n",
    "    plt.show()\n",
    "\n",
    "    # Save distribution details to the file\n",
    "    with open(txt_path, \"a\") as out_fp:\n",
    "        out_fp.write(\"\\nToken Count Distribution:\\n\")\n",
    "        out_fp.write(f\"Min: {min(token_counts)}\\n\")\n",
    "        out_fp.write(f\"Max: {max(token_counts)}\\n\")\n",
    "        out_fp.write(f\"Average: {sum(token_counts) / len(token_counts)}\\n\")"
   ]
  },
  {
   "cell_type": "code",
   "execution_count": 13,
   "metadata": {},
   "outputs": [
    {
     "name": "stderr",
     "output_type": "stream",
     "text": [
      "15143it [00:01, 7832.53it/s]\n"
     ]
    },
    {
     "data": {
      "image/png": "[encoded data removed]",
      "text/plain": [
       "<Figure size 640x480 with 1 Axes>"
      ]
     },
     "metadata": {},
     "output_type": "display_data"
    }
   ],
   "source": [
    "csv_path = \"/home/so87pot/n0w0f/structllm/data/mb_1/csv/train_matbench_perovskites_0.csv\"\n",
    "\n",
    "file_name = \"ft_perovskites\"\n",
    "txt_path = f\"/home/so87pot/n0w0f/structllm/results/{file_name}_tokens.txt\"\n",
    "plot_path = f\"/home/so87pot/n0w0f/structllm/results/{file_name}_tokens.png\"\n",
    "tokenize_save_and_plot(csv_path, txt_path, plot_path)"
   ]
  },
  {
   "cell_type": "code",
   "execution_count": null,
   "metadata": {},
   "outputs": [],
   "source": [
    "\"/work/so87pot/structllm/matbench_data/csv/train_matbench_perovskites_0.csv\"\n",
    "\"/work/so87pot/structllm/matbench_data/csv/train_matbench_log_gvrh_0.csv\"\n",
    "\"/work/so87pot/structllm/matbench_data/csv/train_matbench_log_kvrh_0.csv\"\n",
    "\"/work/so87pot/structllm/matbench_data/csv/train_matbench_dielectric_0.csv\""
   ]
  },
  {
   "cell_type": "code",
   "execution_count": null,
   "metadata": {},
   "outputs": [],
   "source": [
    "'''\n",
    "\"/home/so87pot/n0w0f/structllm/data/396k/slice/train.csv\"\n",
    "/home/so87pot/n0w0f/structllm/data/27k/train.csv\n",
    "/home/so87pot/n0w0f/structllm/data/130k/train.csv\n",
    "/work/so87pot/material_db/scaleup/clean_2m.csv\n",
    "\n",
    "/home/so87pot/n0w0f/structllm/data/mb_1/csv/train_matbench_log_gvrh_0.csv\n",
    "/home/so87pot/n0w0f/structllm/data/mb_1/csv/train_matbench_log_kvrh_0.csv\n",
    "/home/so87pot/n0w0f/structllm/data/mb_1/csv/train_matbench_perovskites_0.csv\n",
    "/home/so87pot/n0w0f/structllm/data/mb_1/csv/train_matbench_dielectric_0.csv\n",
    "/home/so87pot/n0w0f/structllm/data/mb_1/csv/train_matbench_mp_gap_0.csv\n",
    "\n",
    "\n",
    "'''"
   ]
  }
 ],
 "metadata": {
  "kernelspec": {
   "display_name": "slice_llm",
   "language": "python",
   "name": "python3"
  },
  "language_info": {
   "codemirror_mode": {
    "name": "ipython",
    "version": 3
   },
   "file_extension": ".py",
   "mimetype": "text/x-python",
   "name": "python",
   "nbconvert_exporter": "python",
   "pygments_lexer": "ipython3",
   "version": "3.9.18"
  }
 },
 "nbformat": 4,
 "nbformat_minor": 2
}
