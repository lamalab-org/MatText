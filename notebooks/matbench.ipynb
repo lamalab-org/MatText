{
 "cells": [
  {
   "cell_type": "code",
   "execution_count": 1,
   "metadata": {},
   "outputs": [],
   "source": [
    "import json"
   ]
  },
  {
   "cell_type": "code",
   "execution_count": 1,
   "metadata": {},
   "outputs": [],
   "source": [
    "def read_json(json_file: str):\n",
    "    \"\"\"Read JSON data from a file.\n",
    "\n",
    "    Args:\n",
    "        json_file (str): The path to the JSON file.\n",
    "\n",
    "    Returns:\n",
    "        List[Dict]: A list of dictionaries containing the JSON data.\n",
    "    \"\"\"\n",
    "    with open(json_file, 'r') as file:\n",
    "        data = json.load(file)\n",
    "    return data"
   ]
  },
  {
   "cell_type": "code",
   "execution_count": 157,
   "metadata": {},
   "outputs": [],
   "source": [
    "matbench_dielectric = \"/home/so87pot/n0w0f/structllm/data/mb_3_head/matbench_dielectric_396_all.json.gz\"\n",
    "matbench_log_gvrh = \"/home/so87pot/n0w0f/structllm/data/mb_3_head/matbench_log_gvrh_27_all.json.gz\"\n",
    "matbench_log_kvrh = \"/home/so87pot/n0w0f/structllm/data/mb_3_head/matbench_log_kvrh_27_all.json.gz\"\n",
    "matbench_perovskites = \"/home/so87pot/n0w0f/structllm/data/mb_3_head/matbench_perovskites_27_all.json.gz\"\n",
    "matbench_mp_gap = \"/home/so87pot/n0w0f/structllm/data/mb_3_head/matbench_mp_gap_27_all.json.gz\""
   ]
  },
  {
   "cell_type": "code",
   "execution_count": 1,
   "metadata": {},
   "outputs": [],
   "source": [
    "path = \"/home/so87pot/n0w0f/structllm/data/05_02_300k_ft_perov_512_atom/matbench_perovskites_05_02.json.gz\"\n"
   ]
  },
  {
   "cell_type": "code",
   "execution_count": 3,
   "metadata": {},
   "outputs": [
    {
     "name": "stdout",
     "output_type": "stream",
     "text": [
      "2024-02-05 15:06:52 INFO     Initialized benchmark 'matbench_v0.1' with 13 tasks: \n",
      "['matbench_dielectric',\n",
      " 'matbench_expt_gap',\n",
      " 'matbench_expt_is_metal',\n",
      " 'matbench_glass',\n",
      " 'matbench_jdft2d',\n",
      " 'matbench_log_gvrh',\n",
      " 'matbench_log_kvrh',\n",
      " 'matbench_mp_e_form',\n",
      " 'matbench_mp_gap',\n",
      " 'matbench_mp_is_metal',\n",
      " 'matbench_perovskites',\n",
      " 'matbench_phonons',\n",
      " 'matbench_steels']\n",
      "2024-02-05 15:06:52 INFO     Loading dataset 'matbench_perovskites'...\n",
      "2024-02-05 15:06:56 INFO     Dataset 'matbench_perovskites loaded.\n"
     ]
    }
   ],
   "source": [
    "from matbench.bench import MatbenchBenchmark\n",
    "mb = MatbenchBenchmark(autoload=False)\n",
    "mp_perov = mb.matbench_perovskites\n",
    "mp_perov.load()\n"
   ]
  },
  {
   "cell_type": "code",
   "execution_count": 4,
   "metadata": {},
   "outputs": [],
   "source": [
    "mb = mp_perov.from_file(path)"
   ]
  },
  {
   "cell_type": "code",
   "execution_count": 5,
   "metadata": {},
   "outputs": [
    {
     "data": {
      "text/plain": [
       "{0: True, 1: True, 2: True, 3: True, 4: True}"
      ]
     },
     "execution_count": 5,
     "metadata": {},
     "output_type": "execute_result"
    }
   ],
   "source": [
    "mb.is_recorded"
   ]
  },
  {
   "cell_type": "code",
   "execution_count": 6,
   "metadata": {},
   "outputs": [
    {
     "data": {
      "text/plain": [
       "{'mae': {'mean': 0.16644155941452432,\n",
       "  'max': 0.1772300928629191,\n",
       "  'min': 0.14858475348288835,\n",
       "  'std': 0.010684631458913182},\n",
       " 'rmse': {'mean': 0.268047299297259,\n",
       "  'max': 0.290583293407963,\n",
       "  'min': 0.22729906434739394,\n",
       "  'std': 0.02325147872669033},\n",
       " 'mape': {'mean': 0.1411908981518503,\n",
       "  'max': 0.15511820564297807,\n",
       "  'min': 0.12633744623132578,\n",
       "  'std': 0.011076355054653132},\n",
       " 'max_error': {'mean': 2.0629446506500244,\n",
       "  'max': 2.698207674026489,\n",
       "  'min': 1.3459299659729007,\n",
       "  'std': 0.46622679670777695},\n",
       " '_ipython_canary_method_should_not_exist_': {}}"
      ]
     },
     "execution_count": 6,
     "metadata": {},
     "output_type": "execute_result"
    }
   ],
   "source": [
    "mb.scores"
   ]
  },
  {
   "cell_type": "code",
   "execution_count": null,
   "metadata": {},
   "outputs": [],
   "source": [
    "{'mae': {'mean': 0.16321307585557826,\n",
    "  'max': 0.1723565420311592,\n",
    "  'min': 0.15192530561065348,\n",
    "  'std': 0.007781953169715383},\n",
    " 'rmse': {'mean': 0.2641490023436838,\n",
    "  'max': 0.28574643983233655,\n",
    "  'min': 0.23594510806889693,\n",
    "  'std': 0.019406397274813476},\n",
    " 'mape': {'mean': 0.13135148485477674,\n",
    "  'max': 0.1402066548614776,\n",
    "  'min': 0.12425420862655222,\n",
    "  'std': 0.005510391218068342},\n",
    " 'max_error': {'mean': 1.6451882826089856,\n",
    "  'max': 1.794321937561035,\n",
    "  'min': 1.4390246963500974,\n",
    "  'std': 0.15202900006628944},\n",
    " '_ipython_canary_method_should_not_exist_': {}}"
   ]
  },
  {
   "cell_type": "code",
   "execution_count": null,
   "metadata": {},
   "outputs": [],
   "source": [
    "{'mae': {'mean': 0.17484675448866333,\n",
    "  'max': 0.18238587781335278,\n",
    "  'min': 0.16562290710247254,\n",
    "  'std': 0.006226021312469289},\n",
    " 'rmse': {'mean': 0.27217689887293506,\n",
    "  'max': 0.2831111064052118,\n",
    "  'min': 0.26151922172722697,\n",
    "  'std': 0.007002984927760817},\n",
    " 'mape': {'mean': 0.14866457864496097,\n",
    "  'max': 0.15834095181279684,\n",
    "  'min': 0.13662218439557322,\n",
    "  'std': 0.008421444175851443},\n",
    " 'max_error': {'mean': 1.6297150650024412,\n",
    "  'max': 1.8278116989135746,\n",
    "  'min': 1.3613506603240966,\n",
    "  'std': 0.157011092399824},\n",
    " '_ipython_canary_method_should_not_exist_': {}}"
   ]
  },
  {
   "cell_type": "code",
   "execution_count": null,
   "metadata": {},
   "outputs": [],
   "source": [
    "\n",
    "{'mae': {'mean': 0.08704868994910075,\n",
    "  'max': 0.09027901291758213,\n",
    "  'min': 0.08408947054242642,\n",
    "  'std': 0.0025914525310754355},\n",
    " 'rmse': {'mean': 0.14142302810722765,\n",
    "  'max': 0.14564940650735386,\n",
    "  'min': 0.1355296844938767,\n",
    "  'std': 0.0035328008374250174},\n",
    " 'mape': {'mean': 0.05570973611811605,\n",
    "  'max': 0.060850154745087995,\n",
    "  'min': 0.052376917805488254,\n",
    "  'std': 0.0031169970301448894},\n",
    " 'max_error': {'mean': 1.4545736836390915,\n",
    "  'max': 1.8592499494552612,\n",
    "  'min': 1.1089501822153522,\n",
    "  'std': 0.2552881260330971},\n",
    " '_ipython_canary_method_should_not_exist_': {}}"
   ]
  },
  {
   "cell_type": "code",
   "execution_count": null,
   "metadata": {},
   "outputs": [],
   "source": [
    "{'mae': {'mean': 0.08665556902551864,\n",
    "  'max': 0.0879845488474837,\n",
    "  'min': 0.08488214832819575,\n",
    "  'std': 0.0010367499681410697},\n",
    " 'rmse': {'mean': 0.15155514536300393,\n",
    "  'max': 0.15645323563382216,\n",
    "  'min': 0.14811551621619845,\n",
    "  'std': 0.0030758718730574514},\n",
    " 'mape': {'mean': 0.05706560324799713,\n",
    "  'max': 0.06061106047082557,\n",
    "  'min': 0.05444826649676831,\n",
    "  'std': 0.0022678333416675726},\n",
    " 'max_error': {'mean': 1.4821990951559088,\n",
    "  'max': 1.7518041133880615,\n",
    "  'min': 1.1541506493250324,\n",
    "  'std': 0.2558396600838983},\n",
    " '_ipython_canary_method_should_not_exist_': {}}"
   ]
  },
  {
   "cell_type": "code",
   "execution_count": null,
   "metadata": {},
   "outputs": [],
   "source": [
    "{'mae': {'mean': 0.08872087944347276,\n",
    "  'max': 0.09003899941981135,\n",
    "  'min': 0.08682511130656775,\n",
    "  'std': 0.0011370670044335794},\n",
    " 'rmse': {'mean': 0.15158522962175147,\n",
    "  'max': 0.1551538747784559,\n",
    "  'min': 0.14680000074519003,\n",
    "  'std': 0.0027504823258621153},\n",
    " 'mape': {'mean': 0.057205990728936694,\n",
    "  'max': 0.06057298854339561,\n",
    "  'min': 0.054650286528915654,\n",
    "  'std': 0.0021682805498218862},\n",
    " 'max_error': {'mean': 1.3762344588071813,\n",
    "  'max': 1.7782129049301147,\n",
    "  'min': 1.1327246868769123,\n",
    "  'std': 0.22047075450939516},\n",
    " '_ipython_canary_method_should_not_exist_': {}}"
   ]
  },
  {
   "cell_type": "code",
   "execution_count": null,
   "metadata": {},
   "outputs": [],
   "source": [
    "{'mae': {'mean': 0.08627010090170432,\n",
    "  'max': 0.08788658787419694,\n",
    "  'min': 0.08395192564192809,\n",
    "  'std': 0.001308807620313251},\n",
    " 'rmse': {'mean': 0.14925238148758083,\n",
    "  'max': 0.15375920237814758,\n",
    "  'min': 0.14506786312280193,\n",
    "  'std': 0.002870745398897964},\n",
    " 'mape': {'mean': 0.056416144097510855,\n",
    "  'max': 0.05996457576482949,\n",
    "  'min': 0.05364092728215225,\n",
    "  'std': 0.002070197771924443},\n",
    " 'max_error': {'mean': 1.445230393310112,\n",
    "  'max': 1.7754493951797485,\n",
    "  'min': 1.1095647061029865,\n",
    "  'std': 0.261163043879438},\n",
    " '_ipython_canary_method_should_not_exist_': {}}"
   ]
  },
  {
   "cell_type": "code",
   "execution_count": null,
   "metadata": {},
   "outputs": [],
   "source": [
    "{'mae': {'mean': 0.9029617352207924,\n",
    "  'max': 0.9218828208777203,\n",
    "  'min': 0.8835956506026782,\n",
    "  'std': 0.01522897490543334},\n",
    " 'rmse': {'mean': 1.0882545900466405,\n",
    "  'max': 1.1066540978498651,\n",
    "  'min': 1.0609659041576418,\n",
    "  'std': 0.01709733530196532},\n",
    " 'mape': {'mean': 1.28571758736317,\n",
    "  'max': 1.3372490864324655,\n",
    "  'min': 1.195482810167359,\n",
    "  'std': 0.05604625131083189},\n",
    " 'max_error': {'mean': 3.621107353687287,\n",
    "  'max': 3.891853258609772,\n",
    "  'min': 3.4569366979599003,\n",
    "  'std': 0.15334349782225742},\n",
    " '_ipython_canary_method_should_not_exist_': {}}"
   ]
  },
  {
   "cell_type": "code",
   "execution_count": 43,
   "metadata": {},
   "outputs": [],
   "source": [
    "matbench_dielectric = \"/home/so87pot/n0w0f/structllm/data/comp_2m/matbench_dielectric.json.gz\"\n",
    "matbench_log_gvrh = \"/home/so87pot/n0w0f/structllm/data/comp_2m/matbench_log_gvrh.json.gz\"\n",
    "matbench_log_kvrh = \"/home/so87pot/n0w0f/structllm/data/comp_2m/matbench_log_kvrh.json.gz\"\n",
    "matbench_perovskites = \"/home/so87pot/n0w0f/structllm/data/comp_2m/matbench_perovskites.json.gz\"\n"
   ]
  },
  {
   "cell_type": "code",
   "execution_count": 1,
   "metadata": {
    "scrolled": true
   },
   "outputs": [
    {
     "data": {
      "image/png": "[encoded data removed]",
      "text/plain": [
       "<Figure size 1000x600 with 1 Axes>"
      ]
     },
     "metadata": {},
     "output_type": "display_data"
    }
   ],
   "source": [
    "import matplotlib.pyplot as plt\n",
    "import numpy as np\n",
    "\n",
    "# Data\n",
    "properties = ['mp perovskite form E', 'mp log_kvrh', 'mp log_gvrh', 'mp dielectric', 'mp bandgap']\n",
    "models = ['CGCNN', 'CrabNet', '27K slice', '100K slice', '300K slices']\n",
    "accuracy = [\n",
    "    [0.0722, 0.5412, 0.614, 0.1016, 0.095],\n",
    "    [0.1301, 0.1471, 0.296, 0.15726, 0.1453],\n",
    "    [0.1337, 0.1604, 0.298, 0.165, 0.153],\n",
    "    [1.7288, 1.8976, 1.902, 1.81, 1.766],\n",
    "    [0.6771, 0.5898, 1.304, 0.6821, 0.662]\n",
    "]\n",
    "\n",
    "# Convert data to np array\n",
    "accuracy_np = np.array(accuracy)\n",
    "\n",
    "# Plotting\n",
    "x = np.arange(len(properties))\n",
    "width = 0.15  # the width of the bars\n",
    "\n",
    "fig, ax = plt.subplots(figsize=(10, 6))\n",
    "\n",
    "for i in range(len(models)):\n",
    "    ax.bar(x + i * width, accuracy_np[:, i], width, label=models[i])\n",
    "\n",
    "ax.set_xlabel('Properties')\n",
    "ax.set_ylabel('rmse')\n",
    "ax.set_title('Accuracy of Models for Different Properties')\n",
    "ax.set_xticks(x + 0.25)\n",
    "ax.set_xticklabels(properties)\n",
    "ax.legend()\n",
    "plt.xticks(rotation=45)\n",
    "plt.tight_layout()\n",
    "\n",
    "# Save plot as PNG\n",
    "plt.savefig('/home/so87pot/n0w0f/structllm/data/mb_3_head/accuracy_comparison.png')\n",
    "\n",
    "plt.show()\n"
   ]
  },
  {
   "cell_type": "code",
   "execution_count": null,
   "metadata": {},
   "outputs": [],
   "source": []
  }
 ],
 "metadata": {
  "kernelspec": {
   "display_name": "Python 3 (ipykernel)",
   "language": "python",
   "name": "python3"
  },
  "language_info": {
   "codemirror_mode": {
    "name": "ipython",
    "version": 3
   },
   "file_extension": ".py",
   "mimetype": "text/x-python",
   "name": "python",
   "nbconvert_exporter": "python",
   "pygments_lexer": "ipython3",
   "version": "3.9.18"
  }
 },
 "nbformat": 4,
 "nbformat_minor": 4
}
