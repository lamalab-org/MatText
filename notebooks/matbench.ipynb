{
 "cells": [
  {
   "cell_type": "code",
   "execution_count": 1,
   "metadata": {},
   "outputs": [],
   "source": [
    "import json"
   ]
  },
  {
   "cell_type": "code",
   "execution_count": 2,
   "metadata": {},
   "outputs": [],
   "source": [
    "def read_json(json_file: str):\n",
    "    \"\"\"Read JSON data from a file.\n",
    "\n",
    "    Args:\n",
    "        json_file (str): The path to the JSON file.\n",
    "\n",
    "    Returns:\n",
    "        List[Dict]: A list of dictionaries containing the JSON data.\n",
    "    \"\"\"\n",
    "    with open(json_file, 'r') as file:\n",
    "        data = json.load(file)\n",
    "    return data"
   ]
  },
  {
   "cell_type": "code",
   "execution_count": 25,
   "metadata": {},
   "outputs": [],
   "source": [
    "path = \"/home/so87pot/n0w0f/structllm/data/mb_1/json/train_matbench_dielectric_0.json\""
   ]
  },
  {
   "cell_type": "code",
   "execution_count": 26,
   "metadata": {},
   "outputs": [],
   "source": [
    "with open(path, 'r') as train_file:\n",
    "    train_data = json.load(train_file)\n",
    "\n",
    "# Process the loaded data\n",
    "for entry in train_data:\n",
    "    structure = entry[\"structure\"]  # Access the structure data\n",
    "    labels = entry[\"labels\"] "
   ]
  },
  {
   "cell_type": "code",
   "execution_count": 5,
   "metadata": {},
   "outputs": [],
   "source": [
    "data = read_json(path)"
   ]
  },
  {
   "cell_type": "code",
   "execution_count": 24,
   "metadata": {},
   "outputs": [
    {
     "data": {
      "text/plain": [
       "\"# generated using pymatgen\\ndata_Li4Zr3O8\\n_symmetry_space_group_name_H-M   'P 1'\\n_cell_length_a   5.46528813\\n_cell_length_b   10.19813392\\n_cell_length_c   6.20755523\\n_cell_angle_alpha   90.00000000\\n_cell_angle_beta   90.00000000\\n_cell_angle_gamma   80.25645854\\n_symmetry_Int_Tables_number   1\\n_chemical_formula_structural   Li4Zr3O8\\n_chemical_formula_sum   'Li8 Zr6 O16'\\n_cell_volume   340.99193494\\n_cell_formula_units_Z   2\\nloop_\\n _symmetry_equiv_pos_site_id\\n _symmetry_equiv_pos_as_xyz\\n  1  'x, y, z'\\nloop_\\n _atom_site_type_symbol\\n _atom_site_label\\n _atom_site_symmetry_multiplicity\\n _atom_site_fract_x\\n _atom_site_fract_y\\n _atom_site_fract_z\\n _atom_site_occupancy\\n  Li  Li0  1  0.38166873  0.13262988  0.87734503  1\\n  Li  Li1  1  0.86833127  0.11737012  0.62265497  1\\n  Li  Li2  1  0.86833127  0.61737012  0.87734503  1\\n  Li  Li3  1  0.38166873  0.63262988  0.62265497  1\\n  Li  Li4  1  0.62500000  0.37500000  0.39252799  1\\n  Li  Li5  1  0.12500000  0.37500000  0.12708337  1\\n  Li  Li6  1  0.12500000  0.87500000  0.37291663  1\\n  Li  Li7  1  0.62500000  0.87500000  0.10747201  1\\n  Zr  Zr8  1  0.39033345  0.10510002  0.38871317  1\\n  Zr  Zr9  1  0.12500000  0.37500000  0.64688608  1\\n  Zr  Zr10  1  0.85966655  0.14489998  0.11128683  1\\n  Zr  Zr11  1  0.12500000  0.87500000  0.85311392  1\\n  Zr  Zr12  1  0.85966655  0.64489998  0.38871317  1\\n  Zr  Zr13  1  0.39033345  0.60510002  0.11128683  1\\n  O  O14  1  0.22664681  0.50041232  0.87684074  1\\n  O  O15  1  0.02335319  0.24958768  0.87684074  1\\n  O  O16  1  0.01589673  0.24648781  0.37434706  1\\n  O  O17  1  0.23410327  0.00351219  0.12565294  1\\n  O  O18  1  0.74740116  0.01421957  0.35459297  1\\n  O  O19  1  0.46673986  0.24557698  0.60823830  1\\n  O  O20  1  0.23410327  0.50351219  0.37434706  1\\n  O  O21  1  0.50259884  0.23578043  0.14540703  1\\n  O  O22  1  0.78326014  0.50442302  0.60823830  1\\n  O  O23  1  0.46673986  0.74557698  0.89176170  1\\n  O  O24  1  0.78326014  0.00442302  0.89176170  1\\n  O  O25  1  0.01589673  0.74648781  0.12565294  1\\n  O  O26  1  0.22664681  0.00041232  0.62315926  1\\n  O  O27  1  0.50259884  0.73578043  0.35459297  1\\n  O  O28  1  0.02335319  0.74958768  0.62315926  1\\n  O  O29  1  0.74740116  0.51421957  0.14540703  1\\n\""
      ]
     },
     "execution_count": 24,
     "metadata": {},
     "output_type": "execute_result"
    }
   ],
   "source": [
    "data[1]"
   ]
  },
  {
   "cell_type": "code",
   "execution_count": 18,
   "metadata": {},
   "outputs": [],
   "source": [
    "batch_size = 36\n",
    "\n",
    "    \n",
    "batch_iterator = (data[i:i+batch_size] for i in range(0, len(data), batch_size))"
   ]
  },
  {
   "cell_type": "code",
   "execution_count": 19,
   "metadata": {},
   "outputs": [
    {
     "data": {
      "text/plain": [
       "<generator object <genexpr> at 0x7f4fe836a510>"
      ]
     },
     "execution_count": 19,
     "metadata": {},
     "output_type": "execute_result"
    }
   ],
   "source": [
    "batch_iterator"
   ]
  },
  {
   "cell_type": "code",
   "execution_count": null,
   "metadata": {},
   "outputs": [],
   "source": []
  }
 ],
 "metadata": {
  "kernelspec": {
   "display_name": "slice_llm",
   "language": "python",
   "name": "python3"
  },
  "language_info": {
   "codemirror_mode": {
    "name": "ipython",
    "version": 3
   },
   "file_extension": ".py",
   "mimetype": "text/x-python",
   "name": "python",
   "nbconvert_exporter": "python",
   "pygments_lexer": "ipython3",
   "version": "3.9.18"
  }
 },
 "nbformat": 4,
 "nbformat_minor": 2
}
