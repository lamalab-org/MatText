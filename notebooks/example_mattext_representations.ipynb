{
 "cells": [
  {
   "cell_type": "code",
   "execution_count": 1,
   "metadata": {},
   "outputs": [
    {
     "name": "stderr",
     "output_type": "stream",
     "text": [
      "2024-06-09 22:41:02.654971: E external/local_xla/xla/stream_executor/cuda/cuda_dnn.cc:9261] Unable to register cuDNN factory: Attempting to register factory for plugin cuDNN when one has already been registered\n",
      "2024-06-09 22:41:02.655949: E external/local_xla/xla/stream_executor/cuda/cuda_fft.cc:607] Unable to register cuFFT factory: Attempting to register factory for plugin cuFFT when one has already been registered\n",
      "2024-06-09 22:41:02.938760: E external/local_xla/xla/stream_executor/cuda/cuda_blas.cc:1515] Unable to register cuBLAS factory: Attempting to register factory for plugin cuBLAS when one has already been registered\n"
     ]
    },
    {
     "name": "stdout",
     "output_type": "stream",
     "text": [
      "WARNING:tensorflow:From /home/so87pot/miniconda3/envs/mattext/lib/python3.9/site-packages/tensorflow/python/util/deprecation.py:588: calling function (from tensorflow.python.eager.polymorphic_function.polymorphic_function) with experimental_relax_shapes is deprecated and will be removed in a future version.\n",
      "Instructions for updating:\n",
      "experimental_relax_shapes is deprecated, use reduce_retracing instead\n"
     ]
    },
    {
     "name": "stderr",
     "output_type": "stream",
     "text": [
      "Reading file /home/so87pot/miniconda3/envs/mattext/lib/python3.9/site-packages/robocrys/condense/mineral_db.json.gz: 0it [00:00, ?it/s]#####1| 165/180 [00:00<00:00, 588.25it/s]\n",
      "Decoding objects from /home/so87pot/miniconda3/envs/mattext/lib/python3.9/site-packages/robocrys/condense/mineral_db.json.gz: 100%|##########| 180/180 [00:00<00:00, 542.32it/s]\n"
     ]
    }
   ],
   "source": [
    "from mattext.representations import TextRep\n",
    "from pymatgen.core.structure import Structure"
   ]
  },
  {
   "cell_type": "code",
   "execution_count": 2,
   "metadata": {},
   "outputs": [],
   "source": [
    "example_structure_1 = \"./example_data/N2_p1.cif\"\n",
    "structure_1 = Structure.from_file(str(example_structure_1), \"cif\")\n",
    "\n",
    "example_structure_2 = \"./example_data/SrTiO3_p1.cif\"\n",
    "structure_2 = Structure.from_file(str(example_structure_2), \"cif\")"
   ]
  },
  {
   "cell_type": "markdown",
   "metadata": {},
   "source": [
    "\n",
    "### Original Structure"
   ]
  },
  {
   "cell_type": "code",
   "execution_count": 5,
   "metadata": {},
   "outputs": [
    {
     "name": "stdout",
     "output_type": "stream",
     "text": [
      "Original Pymatgen Structure\n",
      "Full Formula (Sr1 Ti1 O3)\n",
      "Reduced Formula: SrTiO3\n",
      "abc   :   3.912701   3.912701   3.912701\n",
      "angles:  90.000000  90.000000  90.000000\n",
      "pbc   :       True       True       True\n",
      "Sites (5)\n",
      "  #  SP      a    b    c\n",
      "---  ----  ---  ---  ---\n",
      "  0  Sr2+  0    0    0\n",
      "  1  Ti4+  0.5  0.5  0.5\n",
      "  2  O2-   0.5  0    0.5\n",
      "  3  O2-   0.5  0.5  0\n",
      "  4  O2-   0    0.5  0.5\n",
      "Original Text Representations\n",
      "{'atoms': 'Sr Ti O O O', 'crystal_llm_rep': '3.9 3.9 3.9\\n90 90 90\\nSr2+\\n0.00 0.00 0.00\\nTi4+\\n0.50 0.50 0.50\\nO2-\\n0.50 0.00 0.50\\nO2-\\n0.50 0.50 0.00\\nO2-\\n0.00 0.50 0.50'}\n"
     ]
    }
   ],
   "source": [
    "text_rep = TextRep.from_input(structure_2)\n",
    "text_representations_requested = [\"atoms\",\"crystal_llm_rep\"] # add more text representations here\n",
    "print(\"Original Pymatgen Structure\")\n",
    "print(text_rep.structure)\n",
    "\n",
    "print(\"Original Text Representations\")\n",
    "print(text_rep.get_requested_text_reps(text_representations_requested))\n",
    "\n",
    "all_representations = text_rep.get_all_text_reps()"
   ]
  },
  {
   "cell_type": "code",
   "execution_count": 6,
   "metadata": {},
   "outputs": [
    {
     "data": {
      "text/plain": [
       "{'cif_p1': \"data_SrTiO3\\n_symmetry_space_group_name_H-M   'P 1'\\n_cell_length_a   3.91\\n_cell_length_b   3.91\\n_cell_length_c   3.91\\n_cell_angle_alpha   90.0\\n_cell_angle_beta   90.0\\n_cell_angle_gamma   90.0\\n_symmetry_Int_Tables_number   1\\n_chemical_formula_structural   SrTiO3\\n_chemical_formula_sum   'Sr1 Ti1 O3'\\n_cell_volume   59.9\\n_cell_formula_units_Z   1\\nloop_\\n _symmetry_equiv_pos_site_id\\n _symmetry_equiv_pos_as_xyz\\n  1  'x, y, z'\\nloop_\\n _atom_type_symbol\\n _atom_type_oxidation_number\\n  Sr2+  2.0\\n  Ti4+  4.0\\n  O2-  -2.0\\nloop_\\n _atom_site_type_symbol\\n _atom_site_label\\n _atom_site_symmetry_multiplicity\\n _atom_site_fract_x\\n _atom_site_fract_y\\n _atom_site_fract_z\\n _atom_site_occupancy\\n  Sr2+  Sr0  1  0.0  0.0  0.0  1.0\\n  Ti4+  Ti1  1  0.5  0.5  0.5  1.0\\n  O2-  O2  1  0.5  0.0  0.5  1.0\\n  O2-  O3  1  0.5  0.5  0.0  1.0\\n  O2-  O4  1  0.0  0.5  0.5  1.0\\n\",\n",
       " 'cif_symmetrized': None,\n",
       " 'cif_bonding': None,\n",
       " 'slice': 'Sr Ti O O O 0 3 - - o 0 3 - o o 0 3 o - o 0 3 o o o 0 2 - o - 0 2 - o o 0 2 o o - 0 2 o o o 0 4 o - - 0 4 o - o 0 4 o o - 0 4 o o o 1 4 o o o 1 4 + o o 1 2 o o o 1 2 o + o 1 3 o o o 1 3 o o + ',\n",
       " 'composition': 'O3SrTi',\n",
       " 'crystal_llm_rep': '3.9 3.9 3.9\\n90 90 90\\nSr2+\\n0.00 0.00 0.00\\nTi4+\\n0.50 0.50 0.50\\nO2-\\n0.50 0.00 0.50\\nO2-\\n0.50 0.50 0.00\\nO2-\\n0.00 0.50 0.50',\n",
       " 'robocrys_rep': 'SrTiO3 is (Cubic) Perovskite structured and crystallizes in the cubic Pm-3m space group. Sr(1)2+ is bonded to twelve equivalent O(1)2- atoms to form SrO12 cuboctahedra that share corners with twelve equivalent Sr(1)O12 cuboctahedra, faces with six equivalent Sr(1)O12 cuboctahedra, and faces with eight equivalent Ti(1)O6 octahedra. All Sr(1)-O(1) bond lengths are 2.77 Å. Ti(1)4+ is bonded to six equivalent O(1)2- atoms to form TiO6 octahedra that share corners with six equivalent Ti(1)O6 octahedra and faces with eight equivalent Sr(1)O12 cuboctahedra. The corner-sharing octahedra are not tilted. All Ti(1)-O(1) bond lengths are 1.96 Å. O(1)2- is bonded in a distorted linear geometry to four equivalent Sr(1)2+ and two equivalent Ti(1)4+ atoms.',\n",
       " 'wycoff_rep': None,\n",
       " 'atoms': 'Sr Ti O O O',\n",
       " 'atoms_params': 'Sr Ti O O O 3.91 3.91 3.91 90 90 90',\n",
       " 'zmatrix': 'Sr\\nTi 1 3.4\\nO 2 2.0 1 55\\nO 2 2.0 1 55 3 120\\nO 2 2.0 4 90 1 -45',\n",
       " 'local_env': None}"
      ]
     },
     "execution_count": 6,
     "metadata": {},
     "output_type": "execute_result"
    }
   ],
   "source": [
    "all_representations"
   ]
  },
  {
   "cell_type": "markdown",
   "metadata": {},
   "source": [
    "## Permute the order of atoms in representations\n",
    "\n",
    "In the example below we will permute the order of atoms.\n",
    "Notice with seed the order might change, we recommend fixing the seed."
   ]
  },
  {
   "cell_type": "markdown",
   "metadata": {},
   "source": [
    "\n",
    "Notice here the order of atoms changes in different representations\n"
   ]
  },
  {
   "cell_type": "code",
   "execution_count": 4,
   "metadata": {},
   "outputs": [
    {
     "name": "stdout",
     "output_type": "stream",
     "text": [
      "Permuted Pymatgen Structure\n",
      "Full Formula (Sr1 Ti1 O3)\n",
      "Reduced Formula: SrTiO3\n",
      "abc   :   3.912701   3.912701   3.912701\n",
      "angles:  90.000000  90.000000  90.000000\n",
      "pbc   :       True       True       True\n",
      "Sites (5)\n",
      "  #  SP      a    b    c\n",
      "---  ----  ---  ---  ---\n",
      "  0  O2-   0.5  0.5  0\n",
      "  1  Ti4+  0.5  0.5  0.5\n",
      "  2  O2-   0.5  0    0.5\n",
      "  3  O2-   0    0.5  0.5\n",
      "  4  Sr2+  0    0    0\n",
      "Permuted Text Representations\n",
      "{'atoms': 'O Ti O O Sr', 'crystal_llm_rep': '3.9 3.9 3.9\\n90 90 90\\nO2-\\n0.50 0.50 0.00\\nTi4+\\n0.50 0.50 0.50\\nO2-\\n0.50 0.00 0.50\\nO2-\\n0.00 0.50 0.50\\nSr2+\\n0.00 0.00 0.00'}\n"
     ]
    }
   ],
   "source": [
    "transformations = [\n",
    "    (\"permute_structure\", {\"seed\": 42}),]\n",
    "\n",
    "text_rep = TextRep.from_input(structure_2, transformations)\n",
    "text_representations_requested = [\"atoms\",\"crystal_llm_rep\"] # add more text representations here\n",
    "print(\"Permuted Pymatgen Structure\")\n",
    "print(text_rep.structure)\n",
    "\n",
    "print(\"Permuted Text Representations\")\n",
    "print(text_rep.get_requested_text_reps(text_representations_requested))\n"
   ]
  },
  {
   "cell_type": "markdown",
   "metadata": {},
   "source": [
    "## Translate atoms"
   ]
  },
  {
   "cell_type": "code",
   "execution_count": 23,
   "metadata": {},
   "outputs": [
    {
     "name": "stdout",
     "output_type": "stream",
     "text": [
      "Translated Pymatgen Structure\n",
      "Full Formula (Sr1 Ti1 O3)\n",
      "Reduced Formula: SrTiO3\n",
      "abc   :   3.912701   3.912701   3.912701\n",
      "angles:  90.000000  90.000000  90.000000\n",
      "pbc   :       True       True       True\n",
      "Sites (5)\n",
      "  #  SP      a    b    c\n",
      "---  ----  ---  ---  ---\n",
      "  0  Sr2+  0.1  0.1  0.1\n",
      "  1  Ti4+  0.6  0.6  0.6\n",
      "  2  O2-   0.6  0.1  0.6\n",
      "  3  O2-   0.6  0.6  0.1\n",
      "  4  O2-   0.1  0.6  0.6\n",
      "Translated Text Representations\n",
      "{'atoms': 'Sr Ti O O O', 'crystal_llm_rep': '3.9 3.9 3.9\\n90 90 90\\nSr2+\\n0.10 0.10 0.10\\nTi4+\\n0.60 0.60 0.60\\nO2-\\n0.60 0.10 0.60\\nO2-\\n0.60 0.60 0.10\\nO2-\\n0.10 0.60 0.60'}\n"
     ]
    }
   ],
   "source": [
    "transformations = [\n",
    "  (\"translate_structure\", {\"seed\": 42, \"vector\": [0.1, 0.1, 0.1]})\n",
    "]\n",
    "text_rep = TextRep.from_input(structure_2, transformations)\n",
    "text_representations_requested = [\"atoms\",\"crystal_llm_rep\"] # add more text representations here\n",
    "print(\"Translated Pymatgen Structure\")\n",
    "print(text_rep.structure)\n",
    "\n",
    "print(\"Translated Text Representations\")\n",
    "print(text_rep.get_requested_text_reps(text_representations_requested))"
   ]
  },
  {
   "cell_type": "markdown",
   "metadata": {},
   "source": [
    "> Notice that translation won't effect Composition,  Atom Sequences, Atom Sequences++, SLICES, Local Env Representations"
   ]
  },
  {
   "cell_type": "markdown",
   "metadata": {},
   "source": [
    "### Apply all transformations 💪🏼"
   ]
  },
  {
   "cell_type": "code",
   "execution_count": 24,
   "metadata": {},
   "outputs": [
    {
     "name": "stdout",
     "output_type": "stream",
     "text": [
      "Transformed Pymatgen Structure\n",
      "Full Formula (Sr1 Ti1 O3)\n",
      "Reduced Formula: SrTiO3\n",
      "abc   :   3.912701   3.912701   3.912701\n",
      "angles:  90.000000  90.000000  90.000000\n",
      "pbc   :       True       True       True\n",
      "Sites (5)\n",
      "  #  SP           a         b         c\n",
      "---  ----  --------  --------  --------\n",
      "  0  Sr2+  0.459805  0.447271  0.462786\n",
      "  1  Ti4+  0.715969  0.697545  0.697545\n",
      "  2  O2-   0.7142    0.206901  0.695779\n",
      "  3  O2-   0.710406  0.691112  0.191068\n",
      "  4  O2-   0.201528  0.687915  0.689105\n",
      "Transformed Text Representations\n",
      "{'atoms': 'Sr Ti O O O', 'crystal_llm_rep': '3.9 3.9 3.9\\n90 90 90\\nSr2+\\n0.46 0.45 0.46\\nTi4+\\n0.72 0.70 0.70\\nO2-\\n0.71 0.21 0.70\\nO2-\\n0.71 0.69 0.19\\nO2-\\n0.20 0.69 0.69'}\n"
     ]
    }
   ],
   "source": [
    "transformations = [\n",
    "  (\"translate_single_atom\", {\"seed\": 42}),\n",
    "  (\"perturb_structure\", {\"seed\": 42, \"max_distance\": 0.1}),\n",
    "  (\"translate_structure\", {\"seed\": 42, \"vector\": [0.1, 0.1, 0.1], \"frac_coords\": True})\n",
    "]\n",
    "\n",
    "text_rep = TextRep.from_input(structure_2, transformations)\n",
    "text_representations_requested = [\"atoms\",\"crystal_llm_rep\"] # add more text representations here\n",
    "print(\"Transformed Pymatgen Structure\")\n",
    "print(text_rep.structure)\n",
    "\n",
    "print(\"Transformed Text Representations\")\n",
    "print(text_rep.get_requested_text_reps(text_representations_requested))"
   ]
  },
  {
   "cell_type": "markdown",
   "metadata": {},
   "source": [
    "## Augmenting dataset with transformations"
   ]
  },
  {
   "cell_type": "code",
   "execution_count": 32,
   "metadata": {},
   "outputs": [
    {
     "name": "stdout",
     "output_type": "stream",
     "text": [
      "Permuted and Translated Text Representations\n",
      "{'crystal_llm_rep': '3.9 3.9 3.9\\n90 90 90\\nO2-\\n0.81 0.79 0.29\\nTi4+\\n0.82 0.80 0.80\\nO2-\\n0.81 0.31 0.80\\nO2-\\n0.30 0.79 0.79\\nSr2+\\n0.56 0.55 0.56'}\n",
      "Permuted and Translated Text Representations\n",
      "{'crystal_llm_rep': '3.9 3.9 3.9\\n90 90 90\\nO2-\\n0.91 0.89 0.39\\nTi4+\\n0.92 0.90 0.90\\nO2-\\n0.91 0.41 0.90\\nO2-\\n0.40 0.89 0.89\\nSr2+\\n0.66 0.65 0.66'}\n",
      "Permuted and Translated Text Representations\n",
      "{'crystal_llm_rep': '3.9 3.9 3.9\\n90 90 90\\nO2-\\n0.01 0.99 0.49\\nTi4+\\n0.02 1.00 1.00\\nO2-\\n0.01 0.51 1.00\\nO2-\\n0.50 0.99 0.99\\nSr2+\\n0.76 0.75 0.76'}\n"
     ]
    }
   ],
   "source": [
    "import numpy as np\n",
    "\n",
    "\n",
    "translation_vectors = [\n",
    "    [0.1, 0.1, 0.1],\n",
    "    [0.2, 0.2, 0.2],\n",
    "    [0.3, 0.3, 0.3]\n",
    "]\n",
    "\n",
    "for vector in translation_vectors:\n",
    "    transformations = [\n",
    "        (\"permute_structure\", {\"seed\": 42}),\n",
    "        (\"translate_structure\", {\"seed\": 42, \"vector\": vector})\n",
    "    ]\n",
    "    text_rep = TextRep.from_input(structure_2, transformations)\n",
    "    text_representations_requested = [\"crystal_llm_rep\"] # add more text representations here\n",
    "\n",
    "    print(\"Translated Text Representations\")\n",
    "    print(text_rep.get_requested_text_reps(text_representations_requested))\n"
   ]
  },
  {
   "cell_type": "markdown",
   "metadata": {},
   "source": [
    ">Translating with random vectors with meaningful range can generate valid material text representations"
   ]
  },
  {
   "cell_type": "code",
   "execution_count": 8,
   "metadata": {},
   "outputs": [
    {
     "name": "stdout",
     "output_type": "stream",
     "text": [
      "Translated Text Representations:\n",
      "{'crystal_llm_rep': '3.9 3.9 3.9\\n90 90 90\\nO2-\\n0.76 0.98 0.41\\nTi4+\\n0.77 0.98 0.89\\nO2-\\n0.76 0.49 0.89\\nO2-\\n0.26 0.97 0.88\\nSr2+\\n0.25 0.47 0.38'}\n",
      "Translated Text Representations:\n",
      "{'crystal_llm_rep': '3.9 3.9 3.9\\n90 90 90\\nO2-\\n0.85 0.66 0.18\\nTi4+\\n0.86 0.66 0.66\\nO2-\\n0.85 0.17 0.66\\nO2-\\n0.35 0.65 0.65\\nSr2+\\n0.34 0.15 0.15'}\n",
      "Translated Text Representations:\n",
      "{'crystal_llm_rep': '3.9 3.9 3.9\\n90 90 90\\nO2-\\n0.63 0.94 0.35\\nTi4+\\n0.64 0.94 0.84\\nO2-\\n0.64 0.45 0.84\\nO2-\\n0.13 0.94 0.83\\nSr2+\\n0.12 0.43 0.33'}\n"
     ]
    }
   ],
   "source": [
    "from xtal2txt.core import TextRep\n",
    "\n",
    "# Define transformations\n",
    "translation_vectors = np.random.uniform(low=0.1, high=0.5, size=(3, 3))\n",
    "for vector in translation_vectors:\n",
    "    transformations = [\n",
    "        (\"permute_structure\", {\"seed\": 42}),\n",
    "        (\"perturb_structure\", {\"seed\": 42, \"max_distance\": 0.1}),\n",
    "        (\"translate_structure\", {\"seed\": 42, \"vector\": vector.tolist()})\n",
    "    ]\n",
    "    text_rep = TextRep.from_input(structure_2, transformations)\n",
    "    text_representations_requested = [\"crystal_llm_rep\"]\n",
    "    print(\"Translated Text Representations:\")\n",
    "    print(text_rep.get_requested_text_reps(text_representations_requested))\n"
   ]
  }
 ],
 "metadata": {
  "kernelspec": {
   "display_name": "xtal2txt",
   "language": "python",
   "name": "python3"
  },
  "language_info": {
   "codemirror_mode": {
    "name": "ipython",
    "version": 3
   },
   "file_extension": ".py",
   "mimetype": "text/x-python",
   "name": "python",
   "nbconvert_exporter": "python",
   "pygments_lexer": "ipython3",
   "version": "3.9.19"
  }
 },
 "nbformat": 4,
 "nbformat_minor": 2
}
