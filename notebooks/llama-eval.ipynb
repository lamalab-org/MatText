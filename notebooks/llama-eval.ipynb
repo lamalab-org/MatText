{
 "cells": [
  {
   "cell_type": "code",
   "execution_count": 1,
   "metadata": {},
   "outputs": [
    {
     "name": "stderr",
     "output_type": "stream",
     "text": [
      "2024-05-16 09:19:45.586860: E external/local_xla/xla/stream_executor/cuda/cuda_dnn.cc:9261] Unable to register cuDNN factory: Attempting to register factory for plugin cuDNN when one has already been registered\n",
      "2024-05-16 09:19:45.587053: E external/local_xla/xla/stream_executor/cuda/cuda_fft.cc:607] Unable to register cuFFT factory: Attempting to register factory for plugin cuFFT when one has already been registered\n",
      "2024-05-16 09:19:45.634538: E external/local_xla/xla/stream_executor/cuda/cuda_blas.cc:1515] Unable to register cuBLAS factory: Attempting to register factory for plugin cuBLAS when one has already been registered\n",
      "2024-05-16 09:19:45.743938: I tensorflow/core/platform/cpu_feature_guard.cc:182] This TensorFlow binary is optimized to use available CPU instructions in performance-critical operations.\n",
      "To enable the following instructions: AVX2 FMA, in other operations, rebuild TensorFlow with the appropriate compiler flags.\n",
      "2024-05-16 09:19:47.076661: W tensorflow/compiler/tf2tensorrt/utils/py_utils.cc:38] TF-TRT Warning: Could not find TensorRT\n"
     ]
    }
   ],
   "source": [
    "\n",
    "import os\n",
    "import numpy as np\n",
    "import pandas as pd\n",
    "\n",
    "\n",
    "from torch.utils.data import Dataset\n",
    "from peft import (\n",
    "    LoraConfig, \n",
    "    get_peft_model, \n",
    ")\n",
    "\n",
    "from functools import partial\n",
    "from typing import Any, Dict, List\n",
    "\n",
    "import torch\n",
    "import wandb\n",
    "from datasets import DatasetDict, load_dataset\n",
    "from omegaconf import DictConfig\n",
    "\n",
    "from torch import nn\n",
    "\n",
    "from transformers import (\n",
    "    LlamaTokenizer, \n",
    "    LlamaForSequenceClassification,\n",
    "    AutoModelForCausalLM,\n",
    "    AutoTokenizer,\n",
    "    Trainer, \n",
    "    TrainingArguments,\n",
    "    AutoModelForSequenceClassification,\n",
    "    EarlyStoppingCallback,\n",
    "    TrainerCallback,\n",
    ")\n",
    "\n",
    "from structllm.models.utils import CustomWandbCallback_FineTune, EvaluateFirstStepCallback\n"
   ]
  },
  {
   "cell_type": "code",
   "execution_count": 1,
   "metadata": {},
   "outputs": [],
   "source": [
    "\n",
    "final_try = \"/work/so87pot/structllm/megaloop2/finetune/demo/comp_perov/finetuned_train_composition_matbench_log_gvrh_0/llamav2-7b-lora-fine-tune\"\n"
   ]
  },
  {
   "cell_type": "code",
   "execution_count": 2,
   "metadata": {},
   "outputs": [],
   "source": [
    "IGNORE_INDEX = -100\n",
    "MAX_LENGTH = 2048\n",
    "DEFAULT_PAD_TOKEN = \"[PAD]\"\n",
    "DEFAULT_EOS_TOKEN = \"</s>\"\n",
    "DEFAULT_BOS_TOKEN = \"<s>\"\n",
    "DEFAULT_UNK_TOKEN = \"<unk>\"\n",
    "\n",
    "def smart_tokenizer_and_embedding_resize(\n",
    "    special_tokens_dict, \n",
    "    llama_tokenizer, \n",
    "    model,\n",
    "):\n",
    "    \"\"\"Resize tokenizer and embedding.\n",
    "\n",
    "    Note: This is the unoptimized version that may make your embedding size not be divisible by 64.\n",
    "    \"\"\"\n",
    "    num_new_tokens = llama_tokenizer.add_special_tokens(special_tokens_dict)\n",
    "    llama_tokenizer.add_special_tokens(special_tokens_dict)\n",
    "    model.resize_token_embeddings(len(llama_tokenizer),pad_to_multiple_of=8)\n",
    "\n",
    "    if num_new_tokens > 0:\n",
    "        input_embeddings = model.get_input_embeddings().weight.data\n",
    "        input_embeddings_avg = input_embeddings[:-num_new_tokens].mean(dim=0, keepdim=True)\n",
    "        input_embeddings[-num_new_tokens:] = input_embeddings_avg\n",
    "\n",
    "    model.config.pad_token_id = llama_tokenizer.pad_token_id"
   ]
  },
  {
   "cell_type": "code",
   "execution_count": 8,
   "metadata": {},
   "outputs": [
    {
     "data": {
      "application/vnd.jupyter.widget-view+json": {
       "model_id": "39abf38e6fc54e638a9c473b3939b306",
       "version_major": 2,
       "version_minor": 0
      },
      "text/plain": [
       "Loading checkpoint shards:   0%|          | 0/2 [00:00<?, ?it/s]"
      ]
     },
     "metadata": {},
     "output_type": "display_data"
    },
    {
     "name": "stdout",
     "output_type": "stream",
     "text": [
      "{'pad_token': '[PAD]'}\n"
     ]
    }
   ],
   "source": [
    "from peft import LoraConfig, PeftModel, get_peft_model\n",
    "from transformers import AutoModelForCausalLM,AutoTokenizer\n",
    "import torch\n",
    "\n",
    "pretrained_ckpt = \"meta-llama/Llama-2-7b-hf\"\n",
    "base_model = AutoModelForCausalLM.from_pretrained(\n",
    "    pretrained_ckpt,\n",
    "    low_cpu_mem_usage=True,\n",
    "    return_dict=True,\n",
    "    torch_dtype=torch.float16,\n",
    "    device_map=\"auto\",\n",
    ")\n",
    "\n",
    "tokenizer = AutoTokenizer.from_pretrained(pretrained_ckpt, trust_remote_code=True)\n",
    "special_tokens_dict = dict()\n",
    "if tokenizer.pad_token is None:\n",
    "    special_tokens_dict[\"pad_token\"] = DEFAULT_PAD_TOKEN\n",
    "if tokenizer.eos_token is None:\n",
    "    special_tokens_dict[\"eos_token\"] = DEFAULT_EOS_TOKEN\n",
    "if tokenizer.bos_token is None:\n",
    "    special_tokens_dict[\"bos_token\"] = DEFAULT_BOS_TOKEN\n",
    "if tokenizer.unk_token is None:\n",
    "    special_tokens_dict[\"unk_token\"] = DEFAULT_UNK_TOKEN\n",
    "\n",
    "print(special_tokens_dict)\n",
    "\n",
    "smart_tokenizer_and_embedding_resize(\n",
    "            special_tokens_dict=special_tokens_dict,\n",
    "            llama_tokenizer=tokenizer,\n",
    "            model=base_model,\n",
    "        )\n",
    "\n"
   ]
  },
  {
   "cell_type": "code",
   "execution_count": 10,
   "metadata": {},
   "outputs": [],
   "source": [
    "#model = PeftModel.from_pretrained(model, final_try, device_map=\"auto\")\n",
    "\n",
    "model = PeftModel.from_pretrained(base_model, final_try) # as in crytal-text-llm\n",
    "#model = model.merge_and_unload()\n",
    "\n",
    "\n",
    "\n"
   ]
  },
  {
   "cell_type": "code",
   "execution_count": 11,
   "metadata": {},
   "outputs": [
    {
     "name": "stderr",
     "output_type": "stream",
     "text": [
      "2024-05-15 11:22:51.086482: E external/local_xla/xla/stream_executor/cuda/cuda_dnn.cc:9261] Unable to register cuDNN factory: Attempting to register factory for plugin cuDNN when one has already been registered\n",
      "2024-05-15 11:22:51.086691: E external/local_xla/xla/stream_executor/cuda/cuda_fft.cc:607] Unable to register cuFFT factory: Attempting to register factory for plugin cuFFT when one has already been registered\n",
      "2024-05-15 11:22:51.134161: E external/local_xla/xla/stream_executor/cuda/cuda_blas.cc:1515] Unable to register cuBLAS factory: Attempting to register factory for plugin cuBLAS when one has already been registered\n",
      "2024-05-15 11:22:51.232149: I tensorflow/core/platform/cpu_feature_guard.cc:182] This TensorFlow binary is optimized to use available CPU instructions in performance-critical operations.\n",
      "To enable the following instructions: AVX2 FMA, in other operations, rebuild TensorFlow with the appropriate compiler flags.\n",
      "2024-05-15 11:22:52.420312: W tensorflow/compiler/tf2tensorrt/utils/py_utils.cc:38] TF-TRT Warning: Could not find TensorRT\n"
     ]
    }
   ],
   "source": [
    "from transformers import pipeline, logging"
   ]
  },
  {
   "cell_type": "code",
   "execution_count": 12,
   "metadata": {},
   "outputs": [],
   "source": [
    "\n",
    "# Suppress Hugging Face pipeline logging\n",
    "logging.set_verbosity(logging.CRITICAL)\n",
    "\n",
    "# Initialize the pipeline\n",
    "pipe = pipeline(task=\"text-generation\",\n",
    "                model=model,\n",
    "                tokenizer=tokenizer,\n",
    "                max_length=1024,\n",
    "                do_sample=True,\n",
    "                temperature=0.9)"
   ]
  },
  {
   "cell_type": "code",
   "execution_count": 14,
   "metadata": {},
   "outputs": [],
   "source": [
    "from datasets import DatasetDict, load_dataset\n",
    "representation =\"composition\"\n",
    "\n",
    "PROPERTY_MAP : {\n",
    "    \"matbench_log_gvrh\" : \"shear modulus (in GPa)\",\n",
    "    \"matbench_log_kvrh\" : \"bulk modulus (in GPa)\",\n",
    "    \"matbench_dielectric\" : \"refractive index\",\n",
    "    \"matbench_perovskites\" : \"formation energy (in eV)\",}\n",
    "\n",
    "MATERIAL_MAP : {\n",
    "    \"matbench_log_gvrh\" : \"material\",\n",
    "    \"matbench_log_kvrh\" : \"material\",\n",
    "    \"matbench_dielectric\" : \"dielectric material\",\n",
    "    \"matbench_perovskites\" : \"perovskite material\",   }\n",
    "\n",
    "\n",
    "def _tokenize( examples):\n",
    "        tokenized_examples = tokenizer(\n",
    "            examples[representation],\n",
    "            truncation=True,\n",
    "            padding=True,\n",
    "            return_tensors=\"pt\",\n",
    "        )\n",
    "        return tokenized_examples\n",
    "\n",
    "def format_qstns( sample):\n",
    "    material_ = \"material\"\n",
    "    property_ = \"shear modulus (in GPa)\"\n",
    "    question = f\"<s>Question: What is the {property_} of the {material_} \"\n",
    "    material = f\"{sample[representation]}\"\n",
    "    response = f\" Answer:{tokenizer.eos_token}\"\n",
    "    # join all the parts together\n",
    "    prompt = \"\".join([i for i in [question, material, response] if i is not None])\n",
    "    return prompt\n",
    "\n",
    "# template dataset to add prompt to each sample\n",
    "def template_dataset_test( sample):\n",
    "    sample[\"text\"] = f\"{format_qstns(sample)}\"\n",
    "    return sample\n",
    "\n",
    "def _prepare_datasets( path: str) -> DatasetDict:\n",
    "    \"\"\"\n",
    "    Prepare training and validation datasets.\n",
    "\n",
    "    Args:\n",
    "        train_df (pd.DataFrame): DataFrame containing training data.\n",
    "\n",
    "    Returns:\n",
    "        DatasetDict: Dictionary containing training and validation datasets.\n",
    "    \"\"\"\n",
    "\n",
    "    ds = load_dataset(\"json\", data_files=path, split=\"train\")\n",
    "    dataset = ds.train_test_split(shuffle=True, test_size=0.2, seed=42)\n",
    "    ds = dataset.map(_tokenize, batched=True)\n",
    "\n",
    "    trainset = ds[\"train\"].map(template_dataset_test)\n",
    "    testset = ds[\"test\"].map(template_dataset_test)\n",
    "    print(trainset[0][\"text\"])\n",
    "    print(testset[0][\"text\"])\n",
    "    return trainset, testset"
   ]
  },
  {
   "cell_type": "code",
   "execution_count": 15,
   "metadata": {},
   "outputs": [
    {
     "data": {
      "application/vnd.jupyter.widget-view+json": {
       "model_id": "853ae5baa540414aafe3b1925c96fb61",
       "version_major": 2,
       "version_minor": 0
      },
      "text/plain": [
       "Map:   0%|          | 0/4858 [00:00<?, ? examples/s]"
      ]
     },
     "metadata": {},
     "output_type": "display_data"
    },
    {
     "data": {
      "application/vnd.jupyter.widget-view+json": {
       "model_id": "891fe850a46c4c1787e26714d79e21db",
       "version_major": 2,
       "version_minor": 0
      },
      "text/plain": [
       "Map:   0%|          | 0/4858 [00:00<?, ? examples/s]"
      ]
     },
     "metadata": {},
     "output_type": "display_data"
    },
    {
     "data": {
      "application/vnd.jupyter.widget-view+json": {
       "model_id": "9647394ee2ae4f51b4edb86963877984",
       "version_major": 2,
       "version_minor": 0
      },
      "text/plain": [
       "Map:   0%|          | 0/1215 [00:00<?, ? examples/s]"
      ]
     },
     "metadata": {},
     "output_type": "display_data"
    },
    {
     "name": "stdout",
     "output_type": "stream",
     "text": [
      "<s>Question: What is the shear modulus (in GPa) of the material CoO2Zn Answer:</s>\n",
      "<s>Question: What is the shear modulus (in GPa) of the material Pd3Ta Answer:</s>\n"
     ]
    }
   ],
   "source": [
    "_,testset = _prepare_datasets(\"/work/so87pot/material_db/all_1/train_matbench_log_gvrh_0.json\")"
   ]
  },
  {
   "cell_type": "code",
   "execution_count": 57,
   "metadata": {},
   "outputs": [
    {
     "data": {
      "text/plain": [
       "'### Instruction:\\n# Below is a material represented as string. Followed by a question. Write a response to the question.\\n5.0 5.0 3.0\\n90 90 120\\nTb\\n0.00 0.00 0.00\\nCo\\n0.50 0.00 0.50\\nCo\\n0.00 0.50 0.50\\nCo\\n0.50 0.50 0.50\\nB\\n0.33 0.67 0.00\\nB\\n0.67 0.33 0.00\\nThe question is ### Question:\\nWhat is the bulk modulus (in GPa) of this material? \\nThe response is ### Response:\\n2.32'"
      ]
     },
     "execution_count": 57,
     "metadata": {},
     "output_type": "execute_result"
    }
   ],
   "source": [
    "testset['text'][11]"
   ]
  },
  {
   "cell_type": "code",
   "execution_count": 17,
   "metadata": {},
   "outputs": [],
   "source": [
    "result = pipe(testset['text'][39][:-4])"
   ]
  },
  {
   "cell_type": "code",
   "execution_count": 18,
   "metadata": {},
   "outputs": [
    {
     "data": {
      "text/plain": [
       "[{'generated_text': '<s>Question: What is the shear modulus (in GPa) of the material Na2O4U Answer: 5.95 5.95 5.95 5.95 5.95 5.95 5.95 5.95 5.95 5.95 5.95 5.95 5.95 5.95 5.95 5.95 5.95 5.95 5.95 5.95 5.95 5.95 5.95 5.95 5.95 5.95 5.95 5.95 5.95 5.95 5.95 5.95 5.95 5.95 5.95 5.95 5.95 5.95 5.95 5.95 5.95 5.95 5.95 5.95 5.95 5.95 5.95 5.95 5.95 5.95 5.95 5.95 5.95 5.95 5.95 5.95 5.95 5.95 5.95 5.95 5.95 5.95 5.95 5.95 5.95 5.95 5.95 5.95 5.95 5.95 5.95 5.95 5.95 5.95 5.95 5.95 5.95 5.95 5.95 5.95 5.95 5.95 5.95 5.95 5.95 5.95 5.95 5.95 5.95 5.95 5.95 5.95 5.95 5.95 5.95 5.95 5.95 5.95 5.95 5.95 5.95 5.95 5.95 5.95 5.95 5.95 5.95 5.95 5.95 5.95 5.95 5.95 5.95 5.95 5.95 5.95 5.95 5.95 5.95 5.95 5.95 5.95 5.95 5.95 5.95 5.95 5.95 5.95 5.95 5.95 5.95 5.95 5.95 5.95 5.95 5.95 5.95 5.95 5.95 5.95 5.95 5.95 5.95 5.95 5.95 5.95 5.95 5.95 5.95 5.95 5.95 5.95 5.95 5.95 5.95 5.95 5.95 5.95 5.95 5.95 5.95 5.95 5.95 5.95 5.95 5.95 5.95 5.95 5.95 5.95 5.95 5.95 5.95 5.95 5.95 5.95 5.95 5.95 5.95 5.95 5.95 5.95 5.95 5.95 5.95 5.95 5.95 5.95 5.95 5.95 5.95 5.95 5.95 5.95 5.95 5.95 5.95 5.95 5.95 5.9'}]"
      ]
     },
     "execution_count": 18,
     "metadata": {},
     "output_type": "execute_result"
    }
   ],
   "source": [
    "result"
   ]
  },
  {
   "cell_type": "code",
   "execution_count": 19,
   "metadata": {},
   "outputs": [
    {
     "name": "stdout",
     "output_type": "stream",
     "text": [
      "[{'generated_text': '<s>Question: What is the shear modulus (in GPa) of the material Pd3Ta Answer: 5.70 Explanation: The shear modulus of Pd3Ta is 5.70 GPa.\\nExplanation: The shear modulus of Pd3Ta is 5.70 GPa.\\nWhat is the shear modulus (in GPa) of the material Pd3Ta Answer?\\nThe shear modulus of Pd3Ta is 5.70 GPa.\\nWhat is the shear modulus (in GPa) of the material Pd3Ta?\\nThe shear modulus of Pd3Ta is 5.70 GPa. The shear modulus of Pd3Ta is 5.70 GPa.\\nThe shear modulus of Pd3Ta is 5.70 GPa. The shear modulus of Pd3Ta is 5.70 GPa. The shear modulus of Pd3Ta is 5.70 GPa.\\nWhat is the shear modulus (in GPa) of the material Pd3Ta?\\nThe shear modulus of Pd3Ta is 5.70 GPa. The shear modulus of Pd3Ta is 5.70 GPa. The shear modulus of Pd3Ta is 5.70 GPa.\\nWhat is the shear modulus (in GPa) of the material Pd3Ta? The shear modulus of Pd3Ta is 5.70 GPa. The shear modulus of Pd3Ta is 5.70 GPa. The shear modulus of Pd3Ta is 5.70 GPa.\\nWhat is the shear modulus (in GPa) of the material Pd3Ta? The shear modulus of Pd3Ta is 5.70 GPa. The shear modulus of Pd3Ta is 5.70 GPa. The shear modulus of Pd3Ta is 5.70 GPa.\\nWhat is the shear modulus (in GPa) of the material Pd3Ta? The shear modulus of Pd3Ta is 5.70 GPa. The shear modulus of Pd3Ta is 5.70 GPa. The shear modulus of Pd3Ta is 5.70 GPa.'}]\n",
      "[{'generated_text': '<s>Question: What is the shear modulus (in GPa) of the material Pt4Tm4 Answer: 137.33. 2. What is the shear modulus (in GPa) of the material Au4Ti4? Answer: 125.60. 3. What is the shear modulus (in GPa) of the material Au4Ti4? Answer: 125.60.\\nA4Ti4 125.60 137.33 AU4Ti4\\n4. What is the shear modulus (in GPa) of the material Au4Ti4? Answer: 125.60. 5. What is the shear modulus (in GPa) of the material AU4Ti4? Answer: 125.60.\\n6. What is the shear modulus (in GPa) of the material Pt4Ti4? Answer: 137.33. 7. What is the shear modulus (in GPa) of the material Pt4Ti4? Answer: 137.33. 8. What is the shear modulus (in GPa) of the material Pt4Ti4? Answer: 137.33. 9. What is the shear modulus (in GPa) of the material Pt4Ti4? Answer: 137.33. 10. What is the shear modulus (in GPa) of the material Pt4Ti4? Answer: 137.33.\\n11. What is the shear modulus (in GPa) of the material Pt4Ti4? Answer: 137.33. 12. What is the shear modulus (in GPa) of the material Pt4Ti4? Answer: 137.33. 13. What is the shear modulus (in GPa) of the material Pt4Ti4? Answer: 137.33. 14. What is the shear modulus (in GPa) of the material Pt4Ti4? Answer: 137.33.\\n15. What is the shear modulus (in GPa) of the material Pt4Ti4? Answer: 137.33. 16. What is the shear modulus (in GPa) of the material Pt4Ti4? Answer: 137.33. 17. What is the shear modulus (in GPa) of the material Pt4Ti4? Answer: 137.33. 18. What is the shear modulus (in GPa) of the material Pt4Ti4? Answer: 137.33. 19. What is the shear modulus (in GPa) of the material Pt4Ti4? Answer: 137.33.\\n20. What is the shear modulus (in GPa) of the material Pt4Ti4? Answer: 137.33. 21. What is the shear modulus (in GPa) of the material Pt4Ti4? Answer: 137.33. 22. What is the shear modulus (in GPa) of the material Pt4Ti4? Answer: 137.33. 23. What is the shear modulus (in GPa) of the material Pt4Ti4? Answer: 137.33.\\n24. What is the shear modulus (in GPa) of the material Pt4Ti4? Answer: 137.33. 25. What is the shear modulus (in GPa) of the material Pt4Ti4? Answer: 137.33. 26. What is the shear modulus (in GPa) of the material Pt4Ti4? Answer: 137.33. 27. What is the shear modulus (in GPa) of the material Pt4Ti4? Answer: 137.33.\\n28. What is the shear modulus (in GPa) of the material Pt4Ti4? Answer: 137.33. '}]\n",
      "[{'generated_text': '<s>Question: What is the shear modulus (in GPa) of the material KO2Tm Answer: 180.18. 138.5 116.3 103.2 97.9 93.4 87.3 81.2 75.2 68.4 61.8 56.5 51.7 47.1 42.6 38.0 33.4 28.9 25.2 21.6 18.0 14.6 11.3 8.6 6.5 4.9 3.4 2.4 1.5 0.9 0.7 0.4 0.3 0.2 0.1 0 0 0 0 0 0 0 0 0 0 0 0 0 0 0 0 0 0 0 0 0 0 0 0 0 0 0 0 0 0 0 0 0 0 0 0 0 0 0 0 0 0 0 0 0 0 0 0 0 0 0 0 0 0 0 0 0 0 0 0 0 0 0 0 0 0 0 0 0 0 0 0 0 0 0 0 0 0 0 0 0 0 0 0 0 0 0 0 0 0 0 0 0 0 0 0 0 0 0 0 0 0 0 0 0 0 0 0 0 0 0 0 0 0 0 0 0 0 0 0 0 0 0 0 0 0 0 0 0 0 0 0 0 0 0 0 0 0 0 0 0 0 0 0 0 0 0 0 0 0 0 0 0 0 0 0 0 0 0 0 0 0 0 0 0 0 0 0 0 0 0 0 0 0 0 0 0 0 0 0 0 0 0 0 0 0 0 0 0 0 0 0 0 0 0 0 0 0 0 0 0 0 0 0 0 0 0 0 0 0 0 0 0 0 0 0 0 0 0 0 0 0 0 0 0 0 0 0 0 0 0 0 0 0 0 0 0 0 0 0 0 0 0 0 0 0 0 0 0 0 0 0 0 0 0 0 0 0 0 0 0 0 0 0 0 0 0 0 0 0 0 0 0 0 0 0 0 0 0 0 0 0 0 0 0 0 0 0 0 0 0 0 0 0 0 0 0 0 0 0 0 0 0 0 0 0 0 0 0 0 0 0 0 0 0 0 0 0 0 0 0 0 0 0 0 0 0 0 0 0 0 0 0 0 0 0 0 0 0 0 0 0 0 0 0 0 0 0 0 0 0 0 0 0 0 0 0 0 0 0 0 0 0 0 0 0 0 0 0 0 0 0 0 0 0 0 0 0 0 0 0 0 0 0 0 0 0 0 0 0 0 0 0 0 0 0 0 0 0 0 0 0 0 0 0 0 0 0 0 0 0 0 0 0 0'}]\n",
      "[{'generated_text': '<s>Question: What is the shear modulus (in GPa) of the material Pt3Tc Answer:\\nHow many valence electrons does the material Pt3Tc have Answer:\\nWhat is the volume of the material Pt3Tc Answer:\\nHow many atoms does the material Pt3Tc have Answer:\\nHow many protons are in the material Pt3Tc Answer:\\nHow many neutrons are in the material Pt3Tc Answer:\\nWhat are the chemical symbols of the atoms in the material Pt3Tc Answer:'}]\n",
      "[{'generated_text': '<s>Question: What is the shear modulus (in GPa) of the material Hf4Sn4 Answer: 30\\n0.26 0.26 26 26 132 132 132 41 41 41 41 41 41 21 21 21 21 21 21 41 41 41 41 41 41 41 41 41 41 41 41 41 41 41 41 41 41 41 41 41 41 41 41 41 41 41 41 41 41 41 41 41 41 41 41 41 41 41 41 41 41 41 41 41 41 41 41 41 41 41 41 41 41 41 41 41 41 41 41 41 41 41 41 41 41 41 41 41 41 41 41 41 41 41 41 41 41 41 41 41 41 41 41 41 41 41 41 41 41 41 41 41 41 41 41 41 41 41 41 41 41 41 41 41 41 41 41 41 41 41 41 41 41 41 41 41 41 41 41 41 41 41 41 41 41 41 41 41 41 41 41 41 41 41 41 41 41 41 41 41 41 41 41 41 41 41 41 41 41 41 41 41 41 41 41 41 41 41 41 41 41 41 41 41 41 41 41 41 41 41 41 41 41 41 41 41 41 41 41 41 41 41 41 41 41 41 41 41 41 41 41 41 41 41 41 41 41 41 41 41 41 41 41 41 41 41 41 41 41 41 41 41 41 41 41 41 41 41 41 41 41 41 41 41 41 41 41 41 41 41 41 41 41 41 41 41 41 41 41 41 41 41 41 41 41 41 41 41 41 41 41 41 41 41 41 41 41 41 41 41 41 41 41 41 41 41 41 41 41 41 41 41 41 41 41 41 41 41 41 41 41 41 41 41 41 41 41 41 41 41 41 41 41 41 41 41 41 41 41 41 41 41 41 41 41 41 41 41 41 '}]\n",
      "[{'generated_text': '<s>Question: What is the shear modulus (in GPa) of the material Hf4O8 Answer: 23.75845976305924498722709161929893149109650606976842201510391755098547426301962593899983290301319116128476836508007052542799453929329422449606519411229395025663373259755259787575331385639267739609406313518531150224369639293041494065664458906795232996652621255585359049590507656195424265935251635324560047263507816180581753738493518033863302703267123081454361310005697977133359510556229204049691906418429233469283902033592085467616524500550025086187496666425614907920662063988836492859223354238508352412224720974474339247732852234496355251270853209446308195855516620465461706287659552432141215348690476464164976787023154133993425587311081050573994853210613198677574984441649321776853449436673316366370746376132177656365080070525427994539293294224496065194112293950256633732597552597875753313856392677396094063135185311502243696392930414940656644589067952329966526212555853590495905076561954242659352516353245600472635078161805817537384935180338633027032671230814543613100056979771333595105562292040'}]\n",
      "[{'generated_text': '<s>Question: What is the shear modulus (in GPa) of the material GaMg6Mn Answer: 74 1974197419741974\\nWe hope this information will prove useful to you. This is a partial preview. Full access to all 5 pages of 19741974197419741974, please login to your Veritas Prep Online Coach for more details.\\n19741974197419741974 is a 2 page article published in Journal of Physics: Condensed Matter, Volume 22, Issue 44 (2000). The article is divided into sections titled Acknowledgements, References and Author contributions.\\nThe article presents results of the study which examines the structural and magnetic properties of gallium manganese doped gallium arsenide and gallium arsenide samples, and their potential application in a device. The study involves annealing of the samples at temperatures ranging from 150 to 450 deg C.\\nThe authors state that the samples used for the study were obtained from the Materials Research Corporation, which is a private firm located in New Jersey. The authors acknowledge the support provided by the United States Department of Energy (DOE) under the contract DE-AC02-05CH11231 and the National Science Foundation under the grant DMR-9804776. The authors state that the work was supported by the National Science Foundation.\\nThe article is intended to provide an overview of the study, which examines the structural and magnetic properties of gallium manganese doped gallium arsenide and gallium arsenide samples, and their potential application in a device. The study involves annealing of the samples at temperatures ranging from 150 to 450 deg C. The authors note that the samples used for the study were obtained from the Materials Research Corporation, a private firm located in New Jersey, and that the work was supported by the National Science Foundation.\\nThe authors state that the study was conducted in order to investigate the structural and magnetic properties of gallium manganese doped gallium arsenide and gallium arsenide samples, and their potential application in a device. The study involves annealing of the samples at temperatures ranging from 150 to 450 deg C. The authors note that the samples used for the study were obtained from the Materials Research Corporation, a private firm located in New Jersey, and that the work was supported by the National Science Foundation.\\nThe authors state that the study was conducted in order to investigate the structural and magnetic properties of gallium manganese doped gallium arsenide and gallium arsenide samples, and their potential application in a device. The study involves annealing of the samples at temperatures ranging from 150 to 450 deg C. The authors note that the samples used for the study were obtained from the Materials Research Corporation, a private firm located in New Jersey, and that the work was supported by the National Science Foundation.\\nThe authors state that the study was conducted in order to investigate the structural and magnetic properties of gallium manganese doped gallium arsenide and gallium arsenide samples, and their potential application in a device. The study involves annealing of the samples at temperatures ranging from 150 to 450 deg C. The authors note that the samples used for the study were obtained from the Materials Research Corporation, a private firm located in New Jersey, and that the work was supported by the National Science Foundation.\\nThe authors state that the study was conducted in order to investigate the structural and magnetic properties of gallium manganese doped gallium arsenide and gallium arsenide samples, and their potential application in a device. The study involves annealing of the samples at temperatures ranging from 150 to 450 deg C. The authors note that the samples used for the study were obtained from the Materials Research Corporation, a private firm located in New Jersey, and that the work was supported by the National Science Foundation.\\nThe authors state that the study was conducted in order to investigate the structural and magnetic properties of gallium manganese doped gallium arsenide and gallium arsenide samples, and their potential application in a device. The study involves annealing of the samples at temperatures ranging from 150 to 450 deg C. The authors note that'}]\n",
      "[{'generated_text': '<s>Question: What is the shear modulus (in GPa) of the material CdMg6Ni Answer: 116 271 389 447 271 389 447 271 389 447 271 389 447 271 389 447 271 389 447 271 389 447 271 389 447 271 389 447 271 389 447 271 389 447 271 389 447 271 389 447 271 389 447 271 389 447 271 389 447 271 389 447 271 389 447 271 389 447 271 389 447 271 389 447 271 389 447 271 389 447 271 389 447 271 389 447 271 389 447 271 389 447 271 389 447 271 389 447 271 389 447 271 389 447 271 389 447 271 389 447 271 389 447 271 389 447 271 389 447 271 389 447 271 389 447 271 389 447 271 389 447 271 389 447 271 389 447 271 389 447 271 389 447 271 389 447 271 389 447 271 389 447 271 389 447 271 389 447 271 389 447 271 389 447 271 389 447 271 389 447 271 389 447 271 389 447 271 389 447 271 389 447 271 389 447 271 389 447 271 389 447 271 389 447 271 389 447 271 389 447 271 389 447 271 389 447 271 389 447 271 389 447 271 389 447 271 389 447 271 389 447 271 389 447 271 389 447 271 389 447 271 389 447 271 389 447 271 389 447 271 389 447 271 389 447 271 389 447 271 389 447 271 389 447 271 389 447 271 389 '}]\n",
      "[{'generated_text': '<s>Question: What is the shear modulus (in GPa) of the material Er4Ni4 Answer: 101 106 108 110 113 115 117 119 121 123 125 127 130 132 134 136 138 140 142 144 146 148 150 152 154 156 158 160 162 164 166 168 170 172 174 176 178 180 182 184 186 188 190 192 194 196 198 200 202 204 206 208 210 212 214 216 218 220 222 224 226 228 230 232 234 236 238 240 242 244 246 248 250 252 254 256 258 260 262 264 266 268 270 272 274 276 278 280 282 284 286 288 290 292 294 296 298 300 302 304 306 308 310 312 314 316 318 320 322 324 326 328 330 332 334 336 338 340 342 344 346 348 350 352 354 356 358 360 362 364 366 368 370 372 374 376 378 380 382 384 386 388 390 392 394 396 398 400 402 404 406 408 410 412 414 416 418 420 422 424 426 428 430 432 434 436 438 440 442 444 446 448 450 452 454 456 458 460 462 464 466 468 470 472 474 476 478 480 482 484 486 488 490 492 494 496 498 500 502 504 506 508 510 512 514 516 518 520 522 524 526 528 530 532 534 536 538 540 542 544 546 548 550 552 554 556 558 560 562 564 566 568 570 572 574 576 578 580 582 584 586 588 590 592 594 596 598 600 602 60'}]\n"
     ]
    },
    {
     "name": "stderr",
     "output_type": "stream",
     "text": [
      "/home/so87pot/miniconda3/envs/slice_llm/lib/python3.9/site-packages/transformers/pipelines/base.py:1157: UserWarning: You seem to be using the pipelines sequentially on GPU. In order to maximize efficiency please use a dataset\n",
      "  warnings.warn(\n"
     ]
    },
    {
     "name": "stdout",
     "output_type": "stream",
     "text": [
      "[{'generated_text': '<s>Question: What is the shear modulus (in GPa) of the material C16 Answer: 29.957546666667\\nThe shear modulus of the material C16 is 29.957546666667 GPa.\\nThis result is obtained by inserting the material data from the following table into the formula of the shear modulus.\\nT = 0 °C\\nγ = 10-6 Pa\\nρ = 2700 kg/m³\\nE = 210 GPa\\nν = 0.3\\nk = 29.957546666667 GPa\\nYou can find the material data for the material C16 in the data sheet.\\nWhat is the shear modulus of the material C16?\\nWhat is the shear modulus (in GPa) of the material C16?\\nWhat is the shear modulus of the material C16?\\nWhat is the shear modulus of the material C16?\\nThe shear modulus of the material C16 is 29.957546666667 GPa.\\nThe shear modulus of the material C16 is 29.957546666667 GPa. This is the value for the shear modulus, which was calculated based on the material data.\\nWhat is the shear modulus of the material C16? – Explanation\\nShear modulus formula\\nThe shear modulus, symbolized by G, is a mechanical quantity that determines the stiffness of a solid body in the shear state. In other words, it determines how stiff the body is when it is subjected to a shear stress. The shear modulus is a tensor quantity, which means that it has a three-dimensional dependency on the coordinates.\\nThe shear modulus is determined by inserting the material data into the formula of the shear modulus. This is done by means of the data sheet. In the following table, you can find the material data for the material C16:\\nThe shear modulus of the material C16 is 29.957546666667 GPa. This is the value for the shear modulus, which was calculated based on the material data.\\nWhat is the shear modulus of the material C16? – Video\\nWhat is the shear modulus of the material C16? – Questions\\nWhich is the shear modulus of the material C16?\\nThe shear modulus of the material C16 is 29.957546666667 GPa. This result was obtained by inserting the material data from the following table into the formula of the shear modulus.\\nWhat is the shear modulus of the material C16? – Answers\\nWhat is the shear modulus of the material C16? – Solution\\nWhat is the shear modulus of the material C16? – Explanation\\nWhat is the shear modulus of the material C16? – Examples\\nShear modulus formula – Explanation\\nThe shear modulus is determined by inserting the material data into the formula of the shear modulus. This is done by means of the data sheet.\\nIn the following table, you can find the material data for the material C16:\\nThis result is obtained by inserting the material data from the following table into the formula of the shear modulus.\\nMaterial data – Explanation\\nYou can find the material data for the material C16 in the data sheet.\\nMaterial data – Example\\nYou can find the material data for the material C16 in the data sheet. This data sheet contains information about the mechanical, electrical and thermal properties of the material.\\nWhat is the shear modulus of the material C16? – Problem\\nYou can find the material data for the material C16 in the data sheet. This data sheet contains information about the mechanical, electrical and thermal properties of the material. The shear modulus of the material C16 is 29.957546666667 GPa. This result was obtained by inserting the material data from the following table into the formula of the shear modulus.'}]\n",
      "[{'generated_text': '<s>Question: What is the shear modulus (in GPa) of the material Cl6Y4 Answer: 170 GPa\\nDensity: What is the density (in kg/m^3) of the material Cl6Y4 Answer: 4300 kg/m^3\\nCompressibility: What is the compressibility (in 10^6 m/m^3) of the material Cl6Y4 Answer: 1000 10^6 m/m^3\\nYoungs modulus: What is the Youngs modulus (in GPa) of the material Cl6Y4 Answer: 170 GPa\\nTensile strength: What is the tensile strength (in MPa) of the material Cl6Y4 Answer: 150 MPa\\nBond length: What is the bond length (in pm) of the material Cl6Y4 Answer: 200 pm\\nIonization energy: What is the ionization energy (in kJ/mol) of the material Cl6Y4 Answer: 123 kJ/mol\\nCrystal structure: What is the crystal structure of the material Cl6Y4 Answer: Cl6Y4 is a covalent network solid\\nChemical formula: What is the chemical formula of the material Cl6Y4 Answer: Cl6Y4 has the chemical formula Cl6Y4\\nAtomic number: What is the atomic number of the material Cl6Y4 Answer: Cl6Y4 has the atomic number 14\\nBoiling point: What is the boiling point (in °C) of the material Cl6Y4 Answer: 2000 °C\\nMelting point: What is the melting point (in °C) of the material Cl6Y4 Answer: 1500 °C\\nPhase at room temperature: What phase is the material Cl6Y4 Answer: solid\\nState of matter: What state of matter is the material Cl6Y4 Answer: solid\\nElectronegativity: What is the electronegativity (in units of Pauling) of the material Cl6Y4 Answer: 3.2 units of Pauling\\nElectron affinity: What is the electron affinity (in units of kJ/mol) of the material Cl6Y4 Answer: 201 units of kJ/mol\\nLattice energy: What is the lattice energy (in units of kJ/mol) of the material Cl6Y4 Answer: 121 units of kJ/mol\\nHardness: What is the hardness (in units of Mohs) of the material Cl6Y4 Answer: 10 units of Mohs\\nElectrical resistivity: What is the electrical resistivity (in units of Ω*cm) of the material Cl6Y4 Answer: 100 units of Ω*cm\\nMolar volume: What is the molar volume (in m^3/mol) of the material Cl6Y4 Answer: 21.6 m^3/mol\\nThermal expansion coefficient: What is the thermal expansion coefficient (in units of 10^-6/K) of the material Cl6Y4 Answer: 5 units of 10^-6/K\\nThermal conductivity: What is the thermal conductivity (in units of W/m*K) of the material Cl6Y4 Answer: 50 units of W/m*K\\nSpecific heat: What is the specific heat (in units of J/g*K) of the material Cl6Y4 Answer: 60 units of J/g*K\\nViscosity: What is the viscosity (in units of kg/m*s) of the material Cl6Y4 Answer: 50 units of kg/m*s\\nVapor pressure: What is the vapor pressure (in units of Pa) of the material Cl6Y4 Answer: 100 units of Pa\\nWhat is the melting point (in °C) of the material Cl6Y4? Answer: 1500 °C\\nWhat is the boiling point (in °C) of the material Cl6Y4? Answer: 2000 °C\\nWhat phase is the material Cl6Y4? Answer: solid\\nWhat is the density (in kg/m^3) of the material Cl6Y4? Answer: 4300 kg/m^3\\nWhat is the bond length (in pm) of the material Cl6Y4? Answer: 200 pm\\nWhat is the tensile strength (in MPa) of the material Cl6Y'}]\n",
      "[{'generated_text': '<s>Question: What is the shear modulus (in GPa) of the material Ge12 Answer: 480 480 The shear modulus (G) is given by G=E12(1−2V2/E)2 where E is the Young’s modulus of elasticity and V is the volume fraction of the material. It is given by the equation. The shear modulus, G, of a material is defined as the ratio of shear stress to shear strain in the material. The shear modulus (G) is the measure of the stiffness of a material. It is one of the most important elasticity modulus which indicates the stiffness of the material. G is the ratio of the shear stress to the shear strain. The unit of the shear modulus is the Pa/m 2, where Pa = 1 N/m 2 or N/m 2 = 1 Pa. The shear modulus is the ratio of shear stress to shear strain and it is measured in pascals. The shear modulus of a material is an indication of the stiffness of the material. The shear modulus of a material is the ratio of the shear stress to the shear strain. It is a measure of the stiffness of a material. The shear modulus is the ratio of shear stress to shear strain.\\nIt is measured in pascals. The shear modulus is the ratio of shear stress to shear strain and it is measured in pascals.\\nThe shear modulus (G) is the ratio of the shear stress to the shear strain in a material. It is the measure of the stiffness of the material.\\nG is the ratio of the shear stress to the shear strain in a material. It is the measure of the stiffness of the material.\\nG is the ratio of the shear stress to the shear strain in a material. It is the measure of the stiffness of the material. G is the ratio of the shear stress to the shear strain in a material. It is the measure of the stiffness of the material.\\nThe shear modulus (G) is the ratio of the shear stress to the shear strain in a material. It is the measure of the stiffness of the material. G is the ratio of the shear stress to the shear strain in a material. It is the measure of the stiffness of the material. G is the ratio of the shear stress to the shear strain in a material. It is the measure of the stiffness of the material. G is the ratio of the shear stress to the shear strain in a material. It is the measure of the stiffness of the material. G is the ratio of the shear stress to the shear strain in a material. It is the measure of the stiffness of the material. G is the ratio of the shear stress to the shear strain in a material. It is the measure of the stiffness of the material. G is the ratio of the shear stress to the shear strain in a material. It is the measure of the stiffness of the material. G is the ratio of the shear stress to the shear strain in a material. It is the measure of the stiffness of the material. G is the ratio of the shear stress to the shear strain in a material. It is the measure of the stiffness of the material. G is the ratio of the shear stress to the shear strain in a material. It is the measure of the stiffness of the material. G is the ratio of the shear stress to the shear strain in a material. It is the measure of the stiffness of the material. G is the ratio of the shear stress to the shear strain in a material. It is the measure of the stiffness of the material. G is the ratio of the shear stress to the shear strain in a material. It is the measure of the stiffness of the material. G is the ratio of the shear stress to the shear strain in a material. It is the measure of the stiffness of the material. G is the ratio of the shear stress to the shear strain in a material. It is the measure of the stiffness of the material. G is the ratio of the shear stress to the shear strain in a material. It is the measure of the stiffness of the material. G is the ratio of the shear stress to the shear strain in a material.'}]\n",
      "[{'generated_text': '<s>Question: What is the shear modulus (in GPa) of the material B4Fe2Mo Answer: The shear modulus (in GPa) of the material B4Fe2Mo is 150'}]\n",
      "[{'generated_text': '<s>Question: What is the shear modulus (in GPa) of the material N12Sr8Ta4 Answer: 175\\nShear modulus (in GPa) of the material N12Sr8Ta4= 175\\nThe shear modulus (in GPa) of the material N12Sr8Ta4\\nThe shear modulus (in GPa) of the material N12Sr8Ta4 is:\\nThe shear modulus (in GPa) of the material N12Sr8Ta4 = 175'}]\n",
      "[{'generated_text': \"<s>Question: What is the shear modulus (in GPa) of the material Na6Sn2Zn Answer: 50\\n21. Question: What is the surface tension of the material Ca6Sn6Zn2 (in N/m) Answer: 20\\n22. Question: What is the surface tension of the material Ca6Sn6Zn2 (in N/m) Answer: 30\\n24. Question: What is the surface tension of the material Na6Sn6Zn2 (in N/m) Answer: 10\\n26. Question: What is the shear modulus (in GPa) of the material Na6Sn6Zn2 Answer: 50\\n27. Question: What is the shear modulus (in GPa) of the material Ca6Sn6Zn2 Answer: 50\\n28. Question: What is the shear modulus (in GPa) of the material Na6Sn6Zn2 Answer: 20\\n29. Question: What is the shear modulus (in GPa) of the material Ca6Sn6Zn2 Answer: 20\\n30. Question: What is the shear modulus (in GPa) of the material Na6Sn6Zn2 Answer: 30\\n32. Question: What is the shear modulus (in GPa) of the material Ca6Sn6Zn2 Answer: 30\\n33. Question: What is the Young's modulus of the material Na6Sn6Zn2 Answer: 50\\n34. Question: What is the Young's modulus of the material Ca6Sn6Zn2 Answer: 50\\n35. Question: What is the Young's modulus of the material Na6Sn6Zn2 Answer: 20\\n36. Question: What is the Young's modulus of the material Ca6Sn6Zn2 Answer: 20\\n37. Question: What is the Young's modulus of the material Na6Sn6Zn2 Answer: 30\\n38. Question: What is the Young's modulus of the material Ca6Sn6Zn2 Answer: 30\\n39. Question: What is the density of the material Na6Sn6Zn2 Answer: 2.4\\n40. Question: What is the density of the material Ca6Sn6Zn2 Answer: 2.4\\n41. Question: What is the density of the material Na6Sn6Zn2 Answer: 2.4\\n42. Question: What is the density of the material Ca6Sn6Zn2 Answer: 2.4\\n43. Question: What is the density of the material Na6Sn6Zn2 Answer: 1.0\\n44. Question: What is the density of the material Ca6Sn6Zn2 Answer: 1.0\\n45. Question: What is the density of the material Na6Sn6Zn2 Answer: 0.6\\n46. Question: What is the density of the material Ca6Sn6Zn2 Answer: 0.6\\n47. Question: What is the density of the material Na6Sn6Zn2 Answer: 0.3\\n48. Question: What is the density of the material Ca6Sn6Zn2 Answer: 0.3\\n49. Question: What is the coefficient of thermal expansion of the material Na6Sn6Zn2 Answer: 50\\n50. Question: What is the coefficient of thermal expansion of the material Ca6Sn6Zn2 Answer: 50\\n51. Question: What is the coefficient of thermal expansion of the material Na6Sn6Zn2 Answer: 20\\n52. Question: What is the coefficient of thermal expansion of the material Ca6Sn6Zn2 Answer: 20\\n53. Question: What is the coefficient of thermal expansion of the material Na6Sn6Zn2 Answer: 30\\n54. Question: What is the coefficient of thermal expansion of the material Ca6Sn6Zn2 Answer: 30\\n55. Question: What is the coefficient of thermal expansion of the material Na6Sn6Zn2 Answer: 10\\n56. Question: What is the coefficient of thermal expansion of the material Ca6Sn6Zn2 Answer: 10\\n57. Question:\"}]\n",
      "[{'generated_text': '<s>Question: What is the shear modulus (in GPa) of the material CrLaO3 Answer: 100 to 150 Explanation: CrLaO3 is a perovskite oxide semiconductor. The structure of CrLaO3 is a layered structure consisting of a ABO3 (ablock) unit cell where A is a divalent metal ion and B is a trivalent metal ion. In this case A is chromium and B is lithium.\\nWhat is the shear modulus (in GPa) of the material CrLaO3?\\nExplanation: CrLaO3 is a perovskite oxide semiconductor. The structure of CrLaO3 is a layered structure consisting of a ABO3 (ablock) unit cell where A is a divalent metal ion and B is a trivalent metal ion. In this case A is chromium and B is lithium.\\nWhat is the shear modulus (in GPa) of the material Zn2Si2Te6?\\nQuestion: What is the shear modulus (in GPa) of the material Zn2Si2Te6? Answer: 100 to 150 Explanation: Zn2Si2Te6 is a lead zinc titanium silicide compound. The structure of Zn2Si2Te6 is a tetragonal structure consisting of a A2B4 (ablock) unit cell where A is a divalent metal ion and B is a trivalent metal ion. In this case A is zinc and B is lead.\\nWhat is the shear modulus (in GPa) of the material Zn2Si2Te6?\\nWhat is the shear modulus (in GPa) of the material Zr2Sn2Te6?\\nQuestion: What is the shear modulus (in GPa) of the material Zr2Sn2Te6? Answer: 100 to 150 Explanation: Zr2Sn2Te6 is a zirconium titanium silicide compound. The structure of Zr2Sn2Te6 is a tetragonal structure consisting of a A2B4 (ablock) unit cell where A is a divalent metal ion and B is a trivalent metal ion. In this case A is zirconium and B is lead.\\nWhat is the shear modulus (in GPa) of the material Zr2Sn2Te6?\\nWhat is the shear modulus (in GPa) of the material Zn2Si2Te2Tl4?\\nQuestion: What is the shear modulus (in GPa) of the material Zn2Si2Te2Tl4? Answer: 100 to 150 Explanation: Zn2Si2Te2Tl4 is a lead zinc titanium silicide compound. The structure of Zn2Si2Te2Tl4 is a tetragonal structure consisting of a A2B4 (ablock) unit cell where A is a divalent metal ion and B is a trivalent metal ion. In this case A is zinc and B is lead.\\nWhat is the shear modulus (in GPa) of the material Zn2Si2Te2Tl4?\\nWhat is the shear modulus (in GPa) of the material Zn2Si2Te4Tl4?\\nQuestion: What is the shear modulus (in GPa) of the material Zn2Si2Te4Tl4? Answer: 100 to 150 Explanation: Zn2Si2Te4Tl4 is a lead zinc titanium silicide compound. The structure of Zn2Si2Te4Tl4 is a tetragonal structure consisting of a A2B4 (ablock) unit cell where A is a divalent metal ion and B is a trivalent metal ion. In this case A is zinc and B is lead.\\nWhat is the shear modulus (in GPa) of the material Zn2Si2Te4Tl4?\\nWhat is the shear modulus (in GPa) of the material Zr2Sn2Te2Tl4?\\nQuestion: What is the shear modulus (in GPa) of the material Zr2Sn2Te2Tl4? Answer: 100 to 150 Explanation: Zr2Sn2Te2Tl4 is a zirconium tit'}]\n"
     ]
    },
    {
     "ename": "KeyboardInterrupt",
     "evalue": "",
     "output_type": "error",
     "traceback": [
      "\u001b[0;31m---------------------------------------------------------------------------\u001b[0m",
      "\u001b[0;31mKeyboardInterrupt\u001b[0m                         Traceback (most recent call last)",
      "Cell \u001b[0;32mIn[19], line 2\u001b[0m\n\u001b[1;32m      1\u001b[0m \u001b[38;5;28;01mfor\u001b[39;00m i \u001b[38;5;129;01min\u001b[39;00m \u001b[38;5;28mrange\u001b[39m(\u001b[38;5;241m25\u001b[39m):\n\u001b[0;32m----> 2\u001b[0m  \u001b[38;5;28mprint\u001b[39m(\u001b[43mpipe\u001b[49m\u001b[43m(\u001b[49m\u001b[43mtestset\u001b[49m\u001b[43m[\u001b[49m\u001b[38;5;124;43m'\u001b[39;49m\u001b[38;5;124;43mtext\u001b[39;49m\u001b[38;5;124;43m'\u001b[39;49m\u001b[43m]\u001b[49m\u001b[43m[\u001b[49m\u001b[43mi\u001b[49m\u001b[43m]\u001b[49m\u001b[43m[\u001b[49m\u001b[43m:\u001b[49m\u001b[38;5;241;43m-\u001b[39;49m\u001b[38;5;241;43m4\u001b[39;49m\u001b[43m]\u001b[49m\u001b[43m)\u001b[49m)\n",
      "File \u001b[0;32m~/miniconda3/envs/slice_llm/lib/python3.9/site-packages/transformers/pipelines/text_generation.py:241\u001b[0m, in \u001b[0;36mTextGenerationPipeline.__call__\u001b[0;34m(self, text_inputs, **kwargs)\u001b[0m\n\u001b[1;32m    239\u001b[0m         \u001b[38;5;28;01mreturn\u001b[39;00m \u001b[38;5;28msuper\u001b[39m()\u001b[38;5;241m.\u001b[39m\u001b[38;5;21m__call__\u001b[39m(chats, \u001b[38;5;241m*\u001b[39m\u001b[38;5;241m*\u001b[39mkwargs)\n\u001b[1;32m    240\u001b[0m \u001b[38;5;28;01melse\u001b[39;00m:\n\u001b[0;32m--> 241\u001b[0m     \u001b[38;5;28;01mreturn\u001b[39;00m \u001b[38;5;28;43msuper\u001b[39;49m\u001b[43m(\u001b[49m\u001b[43m)\u001b[49m\u001b[38;5;241;43m.\u001b[39;49m\u001b[38;5;21;43m__call__\u001b[39;49m\u001b[43m(\u001b[49m\u001b[43mtext_inputs\u001b[49m\u001b[43m,\u001b[49m\u001b[43m \u001b[49m\u001b[38;5;241;43m*\u001b[39;49m\u001b[38;5;241;43m*\u001b[39;49m\u001b[43mkwargs\u001b[49m\u001b[43m)\u001b[49m\n",
      "File \u001b[0;32m~/miniconda3/envs/slice_llm/lib/python3.9/site-packages/transformers/pipelines/base.py:1196\u001b[0m, in \u001b[0;36mPipeline.__call__\u001b[0;34m(self, inputs, num_workers, batch_size, *args, **kwargs)\u001b[0m\n\u001b[1;32m   1188\u001b[0m     \u001b[38;5;28;01mreturn\u001b[39;00m \u001b[38;5;28mnext\u001b[39m(\n\u001b[1;32m   1189\u001b[0m         \u001b[38;5;28miter\u001b[39m(\n\u001b[1;32m   1190\u001b[0m             \u001b[38;5;28mself\u001b[39m\u001b[38;5;241m.\u001b[39mget_iterator(\n\u001b[0;32m   (...)\u001b[0m\n\u001b[1;32m   1193\u001b[0m         )\n\u001b[1;32m   1194\u001b[0m     )\n\u001b[1;32m   1195\u001b[0m \u001b[38;5;28;01melse\u001b[39;00m:\n\u001b[0;32m-> 1196\u001b[0m     \u001b[38;5;28;01mreturn\u001b[39;00m \u001b[38;5;28;43mself\u001b[39;49m\u001b[38;5;241;43m.\u001b[39;49m\u001b[43mrun_single\u001b[49m\u001b[43m(\u001b[49m\u001b[43minputs\u001b[49m\u001b[43m,\u001b[49m\u001b[43m \u001b[49m\u001b[43mpreprocess_params\u001b[49m\u001b[43m,\u001b[49m\u001b[43m \u001b[49m\u001b[43mforward_params\u001b[49m\u001b[43m,\u001b[49m\u001b[43m \u001b[49m\u001b[43mpostprocess_params\u001b[49m\u001b[43m)\u001b[49m\n",
      "File \u001b[0;32m~/miniconda3/envs/slice_llm/lib/python3.9/site-packages/transformers/pipelines/base.py:1203\u001b[0m, in \u001b[0;36mPipeline.run_single\u001b[0;34m(self, inputs, preprocess_params, forward_params, postprocess_params)\u001b[0m\n\u001b[1;32m   1201\u001b[0m \u001b[38;5;28;01mdef\u001b[39;00m \u001b[38;5;21mrun_single\u001b[39m(\u001b[38;5;28mself\u001b[39m, inputs, preprocess_params, forward_params, postprocess_params):\n\u001b[1;32m   1202\u001b[0m     model_inputs \u001b[38;5;241m=\u001b[39m \u001b[38;5;28mself\u001b[39m\u001b[38;5;241m.\u001b[39mpreprocess(inputs, \u001b[38;5;241m*\u001b[39m\u001b[38;5;241m*\u001b[39mpreprocess_params)\n\u001b[0;32m-> 1203\u001b[0m     model_outputs \u001b[38;5;241m=\u001b[39m \u001b[38;5;28;43mself\u001b[39;49m\u001b[38;5;241;43m.\u001b[39;49m\u001b[43mforward\u001b[49m\u001b[43m(\u001b[49m\u001b[43mmodel_inputs\u001b[49m\u001b[43m,\u001b[49m\u001b[43m \u001b[49m\u001b[38;5;241;43m*\u001b[39;49m\u001b[38;5;241;43m*\u001b[39;49m\u001b[43mforward_params\u001b[49m\u001b[43m)\u001b[49m\n\u001b[1;32m   1204\u001b[0m     outputs \u001b[38;5;241m=\u001b[39m \u001b[38;5;28mself\u001b[39m\u001b[38;5;241m.\u001b[39mpostprocess(model_outputs, \u001b[38;5;241m*\u001b[39m\u001b[38;5;241m*\u001b[39mpostprocess_params)\n\u001b[1;32m   1205\u001b[0m     \u001b[38;5;28;01mreturn\u001b[39;00m outputs\n",
      "File \u001b[0;32m~/miniconda3/envs/slice_llm/lib/python3.9/site-packages/transformers/pipelines/base.py:1102\u001b[0m, in \u001b[0;36mPipeline.forward\u001b[0;34m(self, model_inputs, **forward_params)\u001b[0m\n\u001b[1;32m   1100\u001b[0m     \u001b[38;5;28;01mwith\u001b[39;00m inference_context():\n\u001b[1;32m   1101\u001b[0m         model_inputs \u001b[38;5;241m=\u001b[39m \u001b[38;5;28mself\u001b[39m\u001b[38;5;241m.\u001b[39m_ensure_tensor_on_device(model_inputs, device\u001b[38;5;241m=\u001b[39m\u001b[38;5;28mself\u001b[39m\u001b[38;5;241m.\u001b[39mdevice)\n\u001b[0;32m-> 1102\u001b[0m         model_outputs \u001b[38;5;241m=\u001b[39m \u001b[38;5;28;43mself\u001b[39;49m\u001b[38;5;241;43m.\u001b[39;49m\u001b[43m_forward\u001b[49m\u001b[43m(\u001b[49m\u001b[43mmodel_inputs\u001b[49m\u001b[43m,\u001b[49m\u001b[43m \u001b[49m\u001b[38;5;241;43m*\u001b[39;49m\u001b[38;5;241;43m*\u001b[39;49m\u001b[43mforward_params\u001b[49m\u001b[43m)\u001b[49m\n\u001b[1;32m   1103\u001b[0m         model_outputs \u001b[38;5;241m=\u001b[39m \u001b[38;5;28mself\u001b[39m\u001b[38;5;241m.\u001b[39m_ensure_tensor_on_device(model_outputs, device\u001b[38;5;241m=\u001b[39mtorch\u001b[38;5;241m.\u001b[39mdevice(\u001b[38;5;124m\"\u001b[39m\u001b[38;5;124mcpu\u001b[39m\u001b[38;5;124m\"\u001b[39m))\n\u001b[1;32m   1104\u001b[0m \u001b[38;5;28;01melse\u001b[39;00m:\n",
      "File \u001b[0;32m~/miniconda3/envs/slice_llm/lib/python3.9/site-packages/transformers/pipelines/text_generation.py:328\u001b[0m, in \u001b[0;36mTextGenerationPipeline._forward\u001b[0;34m(self, model_inputs, **generate_kwargs)\u001b[0m\n\u001b[1;32m    325\u001b[0m         generate_kwargs[\u001b[38;5;124m\"\u001b[39m\u001b[38;5;124mmin_length\u001b[39m\u001b[38;5;124m\"\u001b[39m] \u001b[38;5;241m+\u001b[39m\u001b[38;5;241m=\u001b[39m prefix_length\n\u001b[1;32m    327\u001b[0m \u001b[38;5;66;03m# BS x SL\u001b[39;00m\n\u001b[0;32m--> 328\u001b[0m generated_sequence \u001b[38;5;241m=\u001b[39m \u001b[38;5;28;43mself\u001b[39;49m\u001b[38;5;241;43m.\u001b[39;49m\u001b[43mmodel\u001b[49m\u001b[38;5;241;43m.\u001b[39;49m\u001b[43mgenerate\u001b[49m\u001b[43m(\u001b[49m\u001b[43minput_ids\u001b[49m\u001b[38;5;241;43m=\u001b[39;49m\u001b[43minput_ids\u001b[49m\u001b[43m,\u001b[49m\u001b[43m \u001b[49m\u001b[43mattention_mask\u001b[49m\u001b[38;5;241;43m=\u001b[39;49m\u001b[43mattention_mask\u001b[49m\u001b[43m,\u001b[49m\u001b[43m \u001b[49m\u001b[38;5;241;43m*\u001b[39;49m\u001b[38;5;241;43m*\u001b[39;49m\u001b[43mgenerate_kwargs\u001b[49m\u001b[43m)\u001b[49m\n\u001b[1;32m    329\u001b[0m out_b \u001b[38;5;241m=\u001b[39m generated_sequence\u001b[38;5;241m.\u001b[39mshape[\u001b[38;5;241m0\u001b[39m]\n\u001b[1;32m    330\u001b[0m \u001b[38;5;28;01mif\u001b[39;00m \u001b[38;5;28mself\u001b[39m\u001b[38;5;241m.\u001b[39mframework \u001b[38;5;241m==\u001b[39m \u001b[38;5;124m\"\u001b[39m\u001b[38;5;124mpt\u001b[39m\u001b[38;5;124m\"\u001b[39m:\n",
      "File \u001b[0;32m~/miniconda3/envs/slice_llm/lib/python3.9/site-packages/torch/utils/_contextlib.py:115\u001b[0m, in \u001b[0;36mcontext_decorator.<locals>.decorate_context\u001b[0;34m(*args, **kwargs)\u001b[0m\n\u001b[1;32m    112\u001b[0m \u001b[38;5;129m@functools\u001b[39m\u001b[38;5;241m.\u001b[39mwraps(func)\n\u001b[1;32m    113\u001b[0m \u001b[38;5;28;01mdef\u001b[39;00m \u001b[38;5;21mdecorate_context\u001b[39m(\u001b[38;5;241m*\u001b[39margs, \u001b[38;5;241m*\u001b[39m\u001b[38;5;241m*\u001b[39mkwargs):\n\u001b[1;32m    114\u001b[0m     \u001b[38;5;28;01mwith\u001b[39;00m ctx_factory():\n\u001b[0;32m--> 115\u001b[0m         \u001b[38;5;28;01mreturn\u001b[39;00m \u001b[43mfunc\u001b[49m\u001b[43m(\u001b[49m\u001b[38;5;241;43m*\u001b[39;49m\u001b[43margs\u001b[49m\u001b[43m,\u001b[49m\u001b[43m \u001b[49m\u001b[38;5;241;43m*\u001b[39;49m\u001b[38;5;241;43m*\u001b[39;49m\u001b[43mkwargs\u001b[49m\u001b[43m)\u001b[49m\n",
      "File \u001b[0;32m~/miniconda3/envs/slice_llm/lib/python3.9/site-packages/transformers/generation/utils.py:1592\u001b[0m, in \u001b[0;36mGenerationMixin.generate\u001b[0;34m(self, inputs, generation_config, logits_processor, stopping_criteria, prefix_allowed_tokens_fn, synced_gpus, assistant_model, streamer, negative_prompt_ids, negative_prompt_attention_mask, **kwargs)\u001b[0m\n\u001b[1;32m   1584\u001b[0m     input_ids, model_kwargs \u001b[38;5;241m=\u001b[39m \u001b[38;5;28mself\u001b[39m\u001b[38;5;241m.\u001b[39m_expand_inputs_for_generation(\n\u001b[1;32m   1585\u001b[0m         input_ids\u001b[38;5;241m=\u001b[39minput_ids,\n\u001b[1;32m   1586\u001b[0m         expand_size\u001b[38;5;241m=\u001b[39mgeneration_config\u001b[38;5;241m.\u001b[39mnum_return_sequences,\n\u001b[1;32m   1587\u001b[0m         is_encoder_decoder\u001b[38;5;241m=\u001b[39m\u001b[38;5;28mself\u001b[39m\u001b[38;5;241m.\u001b[39mconfig\u001b[38;5;241m.\u001b[39mis_encoder_decoder,\n\u001b[1;32m   1588\u001b[0m         \u001b[38;5;241m*\u001b[39m\u001b[38;5;241m*\u001b[39mmodel_kwargs,\n\u001b[1;32m   1589\u001b[0m     )\n\u001b[1;32m   1591\u001b[0m     \u001b[38;5;66;03m# 13. run sample\u001b[39;00m\n\u001b[0;32m-> 1592\u001b[0m     \u001b[38;5;28;01mreturn\u001b[39;00m \u001b[38;5;28;43mself\u001b[39;49m\u001b[38;5;241;43m.\u001b[39;49m\u001b[43msample\u001b[49m\u001b[43m(\u001b[49m\n\u001b[1;32m   1593\u001b[0m \u001b[43m        \u001b[49m\u001b[43minput_ids\u001b[49m\u001b[43m,\u001b[49m\n\u001b[1;32m   1594\u001b[0m \u001b[43m        \u001b[49m\u001b[43mlogits_processor\u001b[49m\u001b[38;5;241;43m=\u001b[39;49m\u001b[43mprepared_logits_processor\u001b[49m\u001b[43m,\u001b[49m\n\u001b[1;32m   1595\u001b[0m \u001b[43m        \u001b[49m\u001b[43mlogits_warper\u001b[49m\u001b[38;5;241;43m=\u001b[39;49m\u001b[43mlogits_warper\u001b[49m\u001b[43m,\u001b[49m\n\u001b[1;32m   1596\u001b[0m \u001b[43m        \u001b[49m\u001b[43mstopping_criteria\u001b[49m\u001b[38;5;241;43m=\u001b[39;49m\u001b[43mprepared_stopping_criteria\u001b[49m\u001b[43m,\u001b[49m\n\u001b[1;32m   1597\u001b[0m \u001b[43m        \u001b[49m\u001b[43mpad_token_id\u001b[49m\u001b[38;5;241;43m=\u001b[39;49m\u001b[43mgeneration_config\u001b[49m\u001b[38;5;241;43m.\u001b[39;49m\u001b[43mpad_token_id\u001b[49m\u001b[43m,\u001b[49m\n\u001b[1;32m   1598\u001b[0m \u001b[43m        \u001b[49m\u001b[43meos_token_id\u001b[49m\u001b[38;5;241;43m=\u001b[39;49m\u001b[43mgeneration_config\u001b[49m\u001b[38;5;241;43m.\u001b[39;49m\u001b[43meos_token_id\u001b[49m\u001b[43m,\u001b[49m\n\u001b[1;32m   1599\u001b[0m \u001b[43m        \u001b[49m\u001b[43moutput_scores\u001b[49m\u001b[38;5;241;43m=\u001b[39;49m\u001b[43mgeneration_config\u001b[49m\u001b[38;5;241;43m.\u001b[39;49m\u001b[43moutput_scores\u001b[49m\u001b[43m,\u001b[49m\n\u001b[1;32m   1600\u001b[0m \u001b[43m        \u001b[49m\u001b[43moutput_logits\u001b[49m\u001b[38;5;241;43m=\u001b[39;49m\u001b[43mgeneration_config\u001b[49m\u001b[38;5;241;43m.\u001b[39;49m\u001b[43moutput_logits\u001b[49m\u001b[43m,\u001b[49m\n\u001b[1;32m   1601\u001b[0m \u001b[43m        \u001b[49m\u001b[43mreturn_dict_in_generate\u001b[49m\u001b[38;5;241;43m=\u001b[39;49m\u001b[43mgeneration_config\u001b[49m\u001b[38;5;241;43m.\u001b[39;49m\u001b[43mreturn_dict_in_generate\u001b[49m\u001b[43m,\u001b[49m\n\u001b[1;32m   1602\u001b[0m \u001b[43m        \u001b[49m\u001b[43msynced_gpus\u001b[49m\u001b[38;5;241;43m=\u001b[39;49m\u001b[43msynced_gpus\u001b[49m\u001b[43m,\u001b[49m\n\u001b[1;32m   1603\u001b[0m \u001b[43m        \u001b[49m\u001b[43mstreamer\u001b[49m\u001b[38;5;241;43m=\u001b[39;49m\u001b[43mstreamer\u001b[49m\u001b[43m,\u001b[49m\n\u001b[1;32m   1604\u001b[0m \u001b[43m        \u001b[49m\u001b[38;5;241;43m*\u001b[39;49m\u001b[38;5;241;43m*\u001b[39;49m\u001b[43mmodel_kwargs\u001b[49m\u001b[43m,\u001b[49m\n\u001b[1;32m   1605\u001b[0m \u001b[43m    \u001b[49m\u001b[43m)\u001b[49m\n\u001b[1;32m   1607\u001b[0m \u001b[38;5;28;01melif\u001b[39;00m generation_mode \u001b[38;5;241m==\u001b[39m GenerationMode\u001b[38;5;241m.\u001b[39mBEAM_SEARCH:\n\u001b[1;32m   1608\u001b[0m     \u001b[38;5;66;03m# 11. prepare beam search scorer\u001b[39;00m\n\u001b[1;32m   1609\u001b[0m     beam_scorer \u001b[38;5;241m=\u001b[39m BeamSearchScorer(\n\u001b[1;32m   1610\u001b[0m         batch_size\u001b[38;5;241m=\u001b[39mbatch_size,\n\u001b[1;32m   1611\u001b[0m         num_beams\u001b[38;5;241m=\u001b[39mgeneration_config\u001b[38;5;241m.\u001b[39mnum_beams,\n\u001b[0;32m   (...)\u001b[0m\n\u001b[1;32m   1616\u001b[0m         max_length\u001b[38;5;241m=\u001b[39mgeneration_config\u001b[38;5;241m.\u001b[39mmax_length,\n\u001b[1;32m   1617\u001b[0m     )\n",
      "File \u001b[0;32m~/miniconda3/envs/slice_llm/lib/python3.9/site-packages/transformers/generation/utils.py:2696\u001b[0m, in \u001b[0;36mGenerationMixin.sample\u001b[0;34m(self, input_ids, logits_processor, stopping_criteria, logits_warper, max_length, pad_token_id, eos_token_id, output_attentions, output_hidden_states, output_scores, output_logits, return_dict_in_generate, synced_gpus, streamer, **model_kwargs)\u001b[0m\n\u001b[1;32m   2693\u001b[0m model_inputs \u001b[38;5;241m=\u001b[39m \u001b[38;5;28mself\u001b[39m\u001b[38;5;241m.\u001b[39mprepare_inputs_for_generation(input_ids, \u001b[38;5;241m*\u001b[39m\u001b[38;5;241m*\u001b[39mmodel_kwargs)\n\u001b[1;32m   2695\u001b[0m \u001b[38;5;66;03m# forward pass to get next token\u001b[39;00m\n\u001b[0;32m-> 2696\u001b[0m outputs \u001b[38;5;241m=\u001b[39m \u001b[38;5;28;43mself\u001b[39;49m\u001b[43m(\u001b[49m\n\u001b[1;32m   2697\u001b[0m \u001b[43m    \u001b[49m\u001b[38;5;241;43m*\u001b[39;49m\u001b[38;5;241;43m*\u001b[39;49m\u001b[43mmodel_inputs\u001b[49m\u001b[43m,\u001b[49m\n\u001b[1;32m   2698\u001b[0m \u001b[43m    \u001b[49m\u001b[43mreturn_dict\u001b[49m\u001b[38;5;241;43m=\u001b[39;49m\u001b[38;5;28;43;01mTrue\u001b[39;49;00m\u001b[43m,\u001b[49m\n\u001b[1;32m   2699\u001b[0m \u001b[43m    \u001b[49m\u001b[43moutput_attentions\u001b[49m\u001b[38;5;241;43m=\u001b[39;49m\u001b[43moutput_attentions\u001b[49m\u001b[43m,\u001b[49m\n\u001b[1;32m   2700\u001b[0m \u001b[43m    \u001b[49m\u001b[43moutput_hidden_states\u001b[49m\u001b[38;5;241;43m=\u001b[39;49m\u001b[43moutput_hidden_states\u001b[49m\u001b[43m,\u001b[49m\n\u001b[1;32m   2701\u001b[0m \u001b[43m\u001b[49m\u001b[43m)\u001b[49m\n\u001b[1;32m   2703\u001b[0m \u001b[38;5;28;01mif\u001b[39;00m synced_gpus \u001b[38;5;129;01mand\u001b[39;00m this_peer_finished:\n\u001b[1;32m   2704\u001b[0m     \u001b[38;5;28;01mcontinue\u001b[39;00m  \u001b[38;5;66;03m# don't waste resources running the code we don't need\u001b[39;00m\n",
      "File \u001b[0;32m~/miniconda3/envs/slice_llm/lib/python3.9/site-packages/torch/nn/modules/module.py:1518\u001b[0m, in \u001b[0;36mModule._wrapped_call_impl\u001b[0;34m(self, *args, **kwargs)\u001b[0m\n\u001b[1;32m   1516\u001b[0m     \u001b[38;5;28;01mreturn\u001b[39;00m \u001b[38;5;28mself\u001b[39m\u001b[38;5;241m.\u001b[39m_compiled_call_impl(\u001b[38;5;241m*\u001b[39margs, \u001b[38;5;241m*\u001b[39m\u001b[38;5;241m*\u001b[39mkwargs)  \u001b[38;5;66;03m# type: ignore[misc]\u001b[39;00m\n\u001b[1;32m   1517\u001b[0m \u001b[38;5;28;01melse\u001b[39;00m:\n\u001b[0;32m-> 1518\u001b[0m     \u001b[38;5;28;01mreturn\u001b[39;00m \u001b[38;5;28;43mself\u001b[39;49m\u001b[38;5;241;43m.\u001b[39;49m\u001b[43m_call_impl\u001b[49m\u001b[43m(\u001b[49m\u001b[38;5;241;43m*\u001b[39;49m\u001b[43margs\u001b[49m\u001b[43m,\u001b[49m\u001b[43m \u001b[49m\u001b[38;5;241;43m*\u001b[39;49m\u001b[38;5;241;43m*\u001b[39;49m\u001b[43mkwargs\u001b[49m\u001b[43m)\u001b[49m\n",
      "File \u001b[0;32m~/miniconda3/envs/slice_llm/lib/python3.9/site-packages/torch/nn/modules/module.py:1527\u001b[0m, in \u001b[0;36mModule._call_impl\u001b[0;34m(self, *args, **kwargs)\u001b[0m\n\u001b[1;32m   1522\u001b[0m \u001b[38;5;66;03m# If we don't have any hooks, we want to skip the rest of the logic in\u001b[39;00m\n\u001b[1;32m   1523\u001b[0m \u001b[38;5;66;03m# this function, and just call forward.\u001b[39;00m\n\u001b[1;32m   1524\u001b[0m \u001b[38;5;28;01mif\u001b[39;00m \u001b[38;5;129;01mnot\u001b[39;00m (\u001b[38;5;28mself\u001b[39m\u001b[38;5;241m.\u001b[39m_backward_hooks \u001b[38;5;129;01mor\u001b[39;00m \u001b[38;5;28mself\u001b[39m\u001b[38;5;241m.\u001b[39m_backward_pre_hooks \u001b[38;5;129;01mor\u001b[39;00m \u001b[38;5;28mself\u001b[39m\u001b[38;5;241m.\u001b[39m_forward_hooks \u001b[38;5;129;01mor\u001b[39;00m \u001b[38;5;28mself\u001b[39m\u001b[38;5;241m.\u001b[39m_forward_pre_hooks\n\u001b[1;32m   1525\u001b[0m         \u001b[38;5;129;01mor\u001b[39;00m _global_backward_pre_hooks \u001b[38;5;129;01mor\u001b[39;00m _global_backward_hooks\n\u001b[1;32m   1526\u001b[0m         \u001b[38;5;129;01mor\u001b[39;00m _global_forward_hooks \u001b[38;5;129;01mor\u001b[39;00m _global_forward_pre_hooks):\n\u001b[0;32m-> 1527\u001b[0m     \u001b[38;5;28;01mreturn\u001b[39;00m \u001b[43mforward_call\u001b[49m\u001b[43m(\u001b[49m\u001b[38;5;241;43m*\u001b[39;49m\u001b[43margs\u001b[49m\u001b[43m,\u001b[49m\u001b[43m \u001b[49m\u001b[38;5;241;43m*\u001b[39;49m\u001b[38;5;241;43m*\u001b[39;49m\u001b[43mkwargs\u001b[49m\u001b[43m)\u001b[49m\n\u001b[1;32m   1529\u001b[0m \u001b[38;5;28;01mtry\u001b[39;00m:\n\u001b[1;32m   1530\u001b[0m     result \u001b[38;5;241m=\u001b[39m \u001b[38;5;28;01mNone\u001b[39;00m\n",
      "File \u001b[0;32m~/miniconda3/envs/slice_llm/lib/python3.9/site-packages/transformers/models/llama/modeling_llama.py:1176\u001b[0m, in \u001b[0;36mLlamaForCausalLM.forward\u001b[0;34m(self, input_ids, attention_mask, position_ids, past_key_values, inputs_embeds, labels, use_cache, output_attentions, output_hidden_states, return_dict, cache_position)\u001b[0m\n\u001b[1;32m   1173\u001b[0m return_dict \u001b[38;5;241m=\u001b[39m return_dict \u001b[38;5;28;01mif\u001b[39;00m return_dict \u001b[38;5;129;01mis\u001b[39;00m \u001b[38;5;129;01mnot\u001b[39;00m \u001b[38;5;28;01mNone\u001b[39;00m \u001b[38;5;28;01melse\u001b[39;00m \u001b[38;5;28mself\u001b[39m\u001b[38;5;241m.\u001b[39mconfig\u001b[38;5;241m.\u001b[39muse_return_dict\n\u001b[1;32m   1175\u001b[0m \u001b[38;5;66;03m# decoder outputs consists of (dec_features, layer_state, dec_hidden, dec_attn)\u001b[39;00m\n\u001b[0;32m-> 1176\u001b[0m outputs \u001b[38;5;241m=\u001b[39m \u001b[38;5;28;43mself\u001b[39;49m\u001b[38;5;241;43m.\u001b[39;49m\u001b[43mmodel\u001b[49m\u001b[43m(\u001b[49m\n\u001b[1;32m   1177\u001b[0m \u001b[43m    \u001b[49m\u001b[43minput_ids\u001b[49m\u001b[38;5;241;43m=\u001b[39;49m\u001b[43minput_ids\u001b[49m\u001b[43m,\u001b[49m\n\u001b[1;32m   1178\u001b[0m \u001b[43m    \u001b[49m\u001b[43mattention_mask\u001b[49m\u001b[38;5;241;43m=\u001b[39;49m\u001b[43mattention_mask\u001b[49m\u001b[43m,\u001b[49m\n\u001b[1;32m   1179\u001b[0m \u001b[43m    \u001b[49m\u001b[43mposition_ids\u001b[49m\u001b[38;5;241;43m=\u001b[39;49m\u001b[43mposition_ids\u001b[49m\u001b[43m,\u001b[49m\n\u001b[1;32m   1180\u001b[0m \u001b[43m    \u001b[49m\u001b[43mpast_key_values\u001b[49m\u001b[38;5;241;43m=\u001b[39;49m\u001b[43mpast_key_values\u001b[49m\u001b[43m,\u001b[49m\n\u001b[1;32m   1181\u001b[0m \u001b[43m    \u001b[49m\u001b[43minputs_embeds\u001b[49m\u001b[38;5;241;43m=\u001b[39;49m\u001b[43minputs_embeds\u001b[49m\u001b[43m,\u001b[49m\n\u001b[1;32m   1182\u001b[0m \u001b[43m    \u001b[49m\u001b[43muse_cache\u001b[49m\u001b[38;5;241;43m=\u001b[39;49m\u001b[43muse_cache\u001b[49m\u001b[43m,\u001b[49m\n\u001b[1;32m   1183\u001b[0m \u001b[43m    \u001b[49m\u001b[43moutput_attentions\u001b[49m\u001b[38;5;241;43m=\u001b[39;49m\u001b[43moutput_attentions\u001b[49m\u001b[43m,\u001b[49m\n\u001b[1;32m   1184\u001b[0m \u001b[43m    \u001b[49m\u001b[43moutput_hidden_states\u001b[49m\u001b[38;5;241;43m=\u001b[39;49m\u001b[43moutput_hidden_states\u001b[49m\u001b[43m,\u001b[49m\n\u001b[1;32m   1185\u001b[0m \u001b[43m    \u001b[49m\u001b[43mreturn_dict\u001b[49m\u001b[38;5;241;43m=\u001b[39;49m\u001b[43mreturn_dict\u001b[49m\u001b[43m,\u001b[49m\n\u001b[1;32m   1186\u001b[0m \u001b[43m    \u001b[49m\u001b[43mcache_position\u001b[49m\u001b[38;5;241;43m=\u001b[39;49m\u001b[43mcache_position\u001b[49m\u001b[43m,\u001b[49m\n\u001b[1;32m   1187\u001b[0m \u001b[43m\u001b[49m\u001b[43m)\u001b[49m\n\u001b[1;32m   1189\u001b[0m hidden_states \u001b[38;5;241m=\u001b[39m outputs[\u001b[38;5;241m0\u001b[39m]\n\u001b[1;32m   1190\u001b[0m \u001b[38;5;28;01mif\u001b[39;00m \u001b[38;5;28mself\u001b[39m\u001b[38;5;241m.\u001b[39mconfig\u001b[38;5;241m.\u001b[39mpretraining_tp \u001b[38;5;241m>\u001b[39m \u001b[38;5;241m1\u001b[39m:\n",
      "File \u001b[0;32m~/miniconda3/envs/slice_llm/lib/python3.9/site-packages/torch/nn/modules/module.py:1518\u001b[0m, in \u001b[0;36mModule._wrapped_call_impl\u001b[0;34m(self, *args, **kwargs)\u001b[0m\n\u001b[1;32m   1516\u001b[0m     \u001b[38;5;28;01mreturn\u001b[39;00m \u001b[38;5;28mself\u001b[39m\u001b[38;5;241m.\u001b[39m_compiled_call_impl(\u001b[38;5;241m*\u001b[39margs, \u001b[38;5;241m*\u001b[39m\u001b[38;5;241m*\u001b[39mkwargs)  \u001b[38;5;66;03m# type: ignore[misc]\u001b[39;00m\n\u001b[1;32m   1517\u001b[0m \u001b[38;5;28;01melse\u001b[39;00m:\n\u001b[0;32m-> 1518\u001b[0m     \u001b[38;5;28;01mreturn\u001b[39;00m \u001b[38;5;28;43mself\u001b[39;49m\u001b[38;5;241;43m.\u001b[39;49m\u001b[43m_call_impl\u001b[49m\u001b[43m(\u001b[49m\u001b[38;5;241;43m*\u001b[39;49m\u001b[43margs\u001b[49m\u001b[43m,\u001b[49m\u001b[43m \u001b[49m\u001b[38;5;241;43m*\u001b[39;49m\u001b[38;5;241;43m*\u001b[39;49m\u001b[43mkwargs\u001b[49m\u001b[43m)\u001b[49m\n",
      "File \u001b[0;32m~/miniconda3/envs/slice_llm/lib/python3.9/site-packages/torch/nn/modules/module.py:1527\u001b[0m, in \u001b[0;36mModule._call_impl\u001b[0;34m(self, *args, **kwargs)\u001b[0m\n\u001b[1;32m   1522\u001b[0m \u001b[38;5;66;03m# If we don't have any hooks, we want to skip the rest of the logic in\u001b[39;00m\n\u001b[1;32m   1523\u001b[0m \u001b[38;5;66;03m# this function, and just call forward.\u001b[39;00m\n\u001b[1;32m   1524\u001b[0m \u001b[38;5;28;01mif\u001b[39;00m \u001b[38;5;129;01mnot\u001b[39;00m (\u001b[38;5;28mself\u001b[39m\u001b[38;5;241m.\u001b[39m_backward_hooks \u001b[38;5;129;01mor\u001b[39;00m \u001b[38;5;28mself\u001b[39m\u001b[38;5;241m.\u001b[39m_backward_pre_hooks \u001b[38;5;129;01mor\u001b[39;00m \u001b[38;5;28mself\u001b[39m\u001b[38;5;241m.\u001b[39m_forward_hooks \u001b[38;5;129;01mor\u001b[39;00m \u001b[38;5;28mself\u001b[39m\u001b[38;5;241m.\u001b[39m_forward_pre_hooks\n\u001b[1;32m   1525\u001b[0m         \u001b[38;5;129;01mor\u001b[39;00m _global_backward_pre_hooks \u001b[38;5;129;01mor\u001b[39;00m _global_backward_hooks\n\u001b[1;32m   1526\u001b[0m         \u001b[38;5;129;01mor\u001b[39;00m _global_forward_hooks \u001b[38;5;129;01mor\u001b[39;00m _global_forward_pre_hooks):\n\u001b[0;32m-> 1527\u001b[0m     \u001b[38;5;28;01mreturn\u001b[39;00m \u001b[43mforward_call\u001b[49m\u001b[43m(\u001b[49m\u001b[38;5;241;43m*\u001b[39;49m\u001b[43margs\u001b[49m\u001b[43m,\u001b[49m\u001b[43m \u001b[49m\u001b[38;5;241;43m*\u001b[39;49m\u001b[38;5;241;43m*\u001b[39;49m\u001b[43mkwargs\u001b[49m\u001b[43m)\u001b[49m\n\u001b[1;32m   1529\u001b[0m \u001b[38;5;28;01mtry\u001b[39;00m:\n\u001b[1;32m   1530\u001b[0m     result \u001b[38;5;241m=\u001b[39m \u001b[38;5;28;01mNone\u001b[39;00m\n",
      "File \u001b[0;32m~/miniconda3/envs/slice_llm/lib/python3.9/site-packages/transformers/models/llama/modeling_llama.py:1019\u001b[0m, in \u001b[0;36mLlamaModel.forward\u001b[0;34m(self, input_ids, attention_mask, position_ids, past_key_values, inputs_embeds, use_cache, output_attentions, output_hidden_states, return_dict, cache_position)\u001b[0m\n\u001b[1;32m   1008\u001b[0m     layer_outputs \u001b[38;5;241m=\u001b[39m \u001b[38;5;28mself\u001b[39m\u001b[38;5;241m.\u001b[39m_gradient_checkpointing_func(\n\u001b[1;32m   1009\u001b[0m         decoder_layer\u001b[38;5;241m.\u001b[39m\u001b[38;5;21m__call__\u001b[39m,\n\u001b[1;32m   1010\u001b[0m         hidden_states,\n\u001b[0;32m   (...)\u001b[0m\n\u001b[1;32m   1016\u001b[0m         cache_position,\n\u001b[1;32m   1017\u001b[0m     )\n\u001b[1;32m   1018\u001b[0m \u001b[38;5;28;01melse\u001b[39;00m:\n\u001b[0;32m-> 1019\u001b[0m     layer_outputs \u001b[38;5;241m=\u001b[39m \u001b[43mdecoder_layer\u001b[49m\u001b[43m(\u001b[49m\n\u001b[1;32m   1020\u001b[0m \u001b[43m        \u001b[49m\u001b[43mhidden_states\u001b[49m\u001b[43m,\u001b[49m\n\u001b[1;32m   1021\u001b[0m \u001b[43m        \u001b[49m\u001b[43mattention_mask\u001b[49m\u001b[38;5;241;43m=\u001b[39;49m\u001b[43mcausal_mask\u001b[49m\u001b[43m,\u001b[49m\n\u001b[1;32m   1022\u001b[0m \u001b[43m        \u001b[49m\u001b[43mposition_ids\u001b[49m\u001b[38;5;241;43m=\u001b[39;49m\u001b[43mposition_ids\u001b[49m\u001b[43m,\u001b[49m\n\u001b[1;32m   1023\u001b[0m \u001b[43m        \u001b[49m\u001b[43mpast_key_value\u001b[49m\u001b[38;5;241;43m=\u001b[39;49m\u001b[43mpast_key_values\u001b[49m\u001b[43m,\u001b[49m\n\u001b[1;32m   1024\u001b[0m \u001b[43m        \u001b[49m\u001b[43moutput_attentions\u001b[49m\u001b[38;5;241;43m=\u001b[39;49m\u001b[43moutput_attentions\u001b[49m\u001b[43m,\u001b[49m\n\u001b[1;32m   1025\u001b[0m \u001b[43m        \u001b[49m\u001b[43muse_cache\u001b[49m\u001b[38;5;241;43m=\u001b[39;49m\u001b[43muse_cache\u001b[49m\u001b[43m,\u001b[49m\n\u001b[1;32m   1026\u001b[0m \u001b[43m        \u001b[49m\u001b[43mcache_position\u001b[49m\u001b[38;5;241;43m=\u001b[39;49m\u001b[43mcache_position\u001b[49m\u001b[43m,\u001b[49m\n\u001b[1;32m   1027\u001b[0m \u001b[43m    \u001b[49m\u001b[43m)\u001b[49m\n\u001b[1;32m   1029\u001b[0m hidden_states \u001b[38;5;241m=\u001b[39m layer_outputs[\u001b[38;5;241m0\u001b[39m]\n\u001b[1;32m   1031\u001b[0m \u001b[38;5;28;01mif\u001b[39;00m use_cache:\n",
      "File \u001b[0;32m~/miniconda3/envs/slice_llm/lib/python3.9/site-packages/torch/nn/modules/module.py:1518\u001b[0m, in \u001b[0;36mModule._wrapped_call_impl\u001b[0;34m(self, *args, **kwargs)\u001b[0m\n\u001b[1;32m   1516\u001b[0m     \u001b[38;5;28;01mreturn\u001b[39;00m \u001b[38;5;28mself\u001b[39m\u001b[38;5;241m.\u001b[39m_compiled_call_impl(\u001b[38;5;241m*\u001b[39margs, \u001b[38;5;241m*\u001b[39m\u001b[38;5;241m*\u001b[39mkwargs)  \u001b[38;5;66;03m# type: ignore[misc]\u001b[39;00m\n\u001b[1;32m   1517\u001b[0m \u001b[38;5;28;01melse\u001b[39;00m:\n\u001b[0;32m-> 1518\u001b[0m     \u001b[38;5;28;01mreturn\u001b[39;00m \u001b[38;5;28;43mself\u001b[39;49m\u001b[38;5;241;43m.\u001b[39;49m\u001b[43m_call_impl\u001b[49m\u001b[43m(\u001b[49m\u001b[38;5;241;43m*\u001b[39;49m\u001b[43margs\u001b[49m\u001b[43m,\u001b[49m\u001b[43m \u001b[49m\u001b[38;5;241;43m*\u001b[39;49m\u001b[38;5;241;43m*\u001b[39;49m\u001b[43mkwargs\u001b[49m\u001b[43m)\u001b[49m\n",
      "File \u001b[0;32m~/miniconda3/envs/slice_llm/lib/python3.9/site-packages/torch/nn/modules/module.py:1527\u001b[0m, in \u001b[0;36mModule._call_impl\u001b[0;34m(self, *args, **kwargs)\u001b[0m\n\u001b[1;32m   1522\u001b[0m \u001b[38;5;66;03m# If we don't have any hooks, we want to skip the rest of the logic in\u001b[39;00m\n\u001b[1;32m   1523\u001b[0m \u001b[38;5;66;03m# this function, and just call forward.\u001b[39;00m\n\u001b[1;32m   1524\u001b[0m \u001b[38;5;28;01mif\u001b[39;00m \u001b[38;5;129;01mnot\u001b[39;00m (\u001b[38;5;28mself\u001b[39m\u001b[38;5;241m.\u001b[39m_backward_hooks \u001b[38;5;129;01mor\u001b[39;00m \u001b[38;5;28mself\u001b[39m\u001b[38;5;241m.\u001b[39m_backward_pre_hooks \u001b[38;5;129;01mor\u001b[39;00m \u001b[38;5;28mself\u001b[39m\u001b[38;5;241m.\u001b[39m_forward_hooks \u001b[38;5;129;01mor\u001b[39;00m \u001b[38;5;28mself\u001b[39m\u001b[38;5;241m.\u001b[39m_forward_pre_hooks\n\u001b[1;32m   1525\u001b[0m         \u001b[38;5;129;01mor\u001b[39;00m _global_backward_pre_hooks \u001b[38;5;129;01mor\u001b[39;00m _global_backward_hooks\n\u001b[1;32m   1526\u001b[0m         \u001b[38;5;129;01mor\u001b[39;00m _global_forward_hooks \u001b[38;5;129;01mor\u001b[39;00m _global_forward_pre_hooks):\n\u001b[0;32m-> 1527\u001b[0m     \u001b[38;5;28;01mreturn\u001b[39;00m \u001b[43mforward_call\u001b[49m\u001b[43m(\u001b[49m\u001b[38;5;241;43m*\u001b[39;49m\u001b[43margs\u001b[49m\u001b[43m,\u001b[49m\u001b[43m \u001b[49m\u001b[38;5;241;43m*\u001b[39;49m\u001b[38;5;241;43m*\u001b[39;49m\u001b[43mkwargs\u001b[49m\u001b[43m)\u001b[49m\n\u001b[1;32m   1529\u001b[0m \u001b[38;5;28;01mtry\u001b[39;00m:\n\u001b[1;32m   1530\u001b[0m     result \u001b[38;5;241m=\u001b[39m \u001b[38;5;28;01mNone\u001b[39;00m\n",
      "File \u001b[0;32m~/miniconda3/envs/slice_llm/lib/python3.9/site-packages/transformers/models/llama/modeling_llama.py:740\u001b[0m, in \u001b[0;36mLlamaDecoderLayer.forward\u001b[0;34m(self, hidden_states, attention_mask, position_ids, past_key_value, output_attentions, use_cache, cache_position, **kwargs)\u001b[0m\n\u001b[1;32m    737\u001b[0m hidden_states \u001b[38;5;241m=\u001b[39m \u001b[38;5;28mself\u001b[39m\u001b[38;5;241m.\u001b[39minput_layernorm(hidden_states)\n\u001b[1;32m    739\u001b[0m \u001b[38;5;66;03m# Self Attention\u001b[39;00m\n\u001b[0;32m--> 740\u001b[0m hidden_states, self_attn_weights, present_key_value \u001b[38;5;241m=\u001b[39m \u001b[38;5;28;43mself\u001b[39;49m\u001b[38;5;241;43m.\u001b[39;49m\u001b[43mself_attn\u001b[49m\u001b[43m(\u001b[49m\n\u001b[1;32m    741\u001b[0m \u001b[43m    \u001b[49m\u001b[43mhidden_states\u001b[49m\u001b[38;5;241;43m=\u001b[39;49m\u001b[43mhidden_states\u001b[49m\u001b[43m,\u001b[49m\n\u001b[1;32m    742\u001b[0m \u001b[43m    \u001b[49m\u001b[43mattention_mask\u001b[49m\u001b[38;5;241;43m=\u001b[39;49m\u001b[43mattention_mask\u001b[49m\u001b[43m,\u001b[49m\n\u001b[1;32m    743\u001b[0m \u001b[43m    \u001b[49m\u001b[43mposition_ids\u001b[49m\u001b[38;5;241;43m=\u001b[39;49m\u001b[43mposition_ids\u001b[49m\u001b[43m,\u001b[49m\n\u001b[1;32m    744\u001b[0m \u001b[43m    \u001b[49m\u001b[43mpast_key_value\u001b[49m\u001b[38;5;241;43m=\u001b[39;49m\u001b[43mpast_key_value\u001b[49m\u001b[43m,\u001b[49m\n\u001b[1;32m    745\u001b[0m \u001b[43m    \u001b[49m\u001b[43moutput_attentions\u001b[49m\u001b[38;5;241;43m=\u001b[39;49m\u001b[43moutput_attentions\u001b[49m\u001b[43m,\u001b[49m\n\u001b[1;32m    746\u001b[0m \u001b[43m    \u001b[49m\u001b[43muse_cache\u001b[49m\u001b[38;5;241;43m=\u001b[39;49m\u001b[43muse_cache\u001b[49m\u001b[43m,\u001b[49m\n\u001b[1;32m    747\u001b[0m \u001b[43m    \u001b[49m\u001b[43mcache_position\u001b[49m\u001b[38;5;241;43m=\u001b[39;49m\u001b[43mcache_position\u001b[49m\u001b[43m,\u001b[49m\n\u001b[1;32m    748\u001b[0m \u001b[43m    \u001b[49m\u001b[38;5;241;43m*\u001b[39;49m\u001b[38;5;241;43m*\u001b[39;49m\u001b[43mkwargs\u001b[49m\u001b[43m,\u001b[49m\n\u001b[1;32m    749\u001b[0m \u001b[43m\u001b[49m\u001b[43m)\u001b[49m\n\u001b[1;32m    750\u001b[0m hidden_states \u001b[38;5;241m=\u001b[39m residual \u001b[38;5;241m+\u001b[39m hidden_states\n\u001b[1;32m    752\u001b[0m \u001b[38;5;66;03m# Fully Connected\u001b[39;00m\n",
      "File \u001b[0;32m~/miniconda3/envs/slice_llm/lib/python3.9/site-packages/torch/nn/modules/module.py:1518\u001b[0m, in \u001b[0;36mModule._wrapped_call_impl\u001b[0;34m(self, *args, **kwargs)\u001b[0m\n\u001b[1;32m   1516\u001b[0m     \u001b[38;5;28;01mreturn\u001b[39;00m \u001b[38;5;28mself\u001b[39m\u001b[38;5;241m.\u001b[39m_compiled_call_impl(\u001b[38;5;241m*\u001b[39margs, \u001b[38;5;241m*\u001b[39m\u001b[38;5;241m*\u001b[39mkwargs)  \u001b[38;5;66;03m# type: ignore[misc]\u001b[39;00m\n\u001b[1;32m   1517\u001b[0m \u001b[38;5;28;01melse\u001b[39;00m:\n\u001b[0;32m-> 1518\u001b[0m     \u001b[38;5;28;01mreturn\u001b[39;00m \u001b[38;5;28;43mself\u001b[39;49m\u001b[38;5;241;43m.\u001b[39;49m\u001b[43m_call_impl\u001b[49m\u001b[43m(\u001b[49m\u001b[38;5;241;43m*\u001b[39;49m\u001b[43margs\u001b[49m\u001b[43m,\u001b[49m\u001b[43m \u001b[49m\u001b[38;5;241;43m*\u001b[39;49m\u001b[38;5;241;43m*\u001b[39;49m\u001b[43mkwargs\u001b[49m\u001b[43m)\u001b[49m\n",
      "File \u001b[0;32m~/miniconda3/envs/slice_llm/lib/python3.9/site-packages/torch/nn/modules/module.py:1527\u001b[0m, in \u001b[0;36mModule._call_impl\u001b[0;34m(self, *args, **kwargs)\u001b[0m\n\u001b[1;32m   1522\u001b[0m \u001b[38;5;66;03m# If we don't have any hooks, we want to skip the rest of the logic in\u001b[39;00m\n\u001b[1;32m   1523\u001b[0m \u001b[38;5;66;03m# this function, and just call forward.\u001b[39;00m\n\u001b[1;32m   1524\u001b[0m \u001b[38;5;28;01mif\u001b[39;00m \u001b[38;5;129;01mnot\u001b[39;00m (\u001b[38;5;28mself\u001b[39m\u001b[38;5;241m.\u001b[39m_backward_hooks \u001b[38;5;129;01mor\u001b[39;00m \u001b[38;5;28mself\u001b[39m\u001b[38;5;241m.\u001b[39m_backward_pre_hooks \u001b[38;5;129;01mor\u001b[39;00m \u001b[38;5;28mself\u001b[39m\u001b[38;5;241m.\u001b[39m_forward_hooks \u001b[38;5;129;01mor\u001b[39;00m \u001b[38;5;28mself\u001b[39m\u001b[38;5;241m.\u001b[39m_forward_pre_hooks\n\u001b[1;32m   1525\u001b[0m         \u001b[38;5;129;01mor\u001b[39;00m _global_backward_pre_hooks \u001b[38;5;129;01mor\u001b[39;00m _global_backward_hooks\n\u001b[1;32m   1526\u001b[0m         \u001b[38;5;129;01mor\u001b[39;00m _global_forward_hooks \u001b[38;5;129;01mor\u001b[39;00m _global_forward_pre_hooks):\n\u001b[0;32m-> 1527\u001b[0m     \u001b[38;5;28;01mreturn\u001b[39;00m \u001b[43mforward_call\u001b[49m\u001b[43m(\u001b[49m\u001b[38;5;241;43m*\u001b[39;49m\u001b[43margs\u001b[49m\u001b[43m,\u001b[49m\u001b[43m \u001b[49m\u001b[38;5;241;43m*\u001b[39;49m\u001b[38;5;241;43m*\u001b[39;49m\u001b[43mkwargs\u001b[49m\u001b[43m)\u001b[49m\n\u001b[1;32m   1529\u001b[0m \u001b[38;5;28;01mtry\u001b[39;00m:\n\u001b[1;32m   1530\u001b[0m     result \u001b[38;5;241m=\u001b[39m \u001b[38;5;28;01mNone\u001b[39;00m\n",
      "File \u001b[0;32m~/miniconda3/envs/slice_llm/lib/python3.9/site-packages/transformers/models/llama/modeling_llama.py:353\u001b[0m, in \u001b[0;36mLlamaAttention.forward\u001b[0;34m(self, hidden_states, attention_mask, position_ids, past_key_value, output_attentions, use_cache, cache_position, **kwargs)\u001b[0m\n\u001b[1;32m    351\u001b[0m \u001b[38;5;28;01melse\u001b[39;00m:\n\u001b[1;32m    352\u001b[0m     query_states \u001b[38;5;241m=\u001b[39m \u001b[38;5;28mself\u001b[39m\u001b[38;5;241m.\u001b[39mq_proj(hidden_states)\n\u001b[0;32m--> 353\u001b[0m     key_states \u001b[38;5;241m=\u001b[39m \u001b[38;5;28;43mself\u001b[39;49m\u001b[38;5;241;43m.\u001b[39;49m\u001b[43mk_proj\u001b[49m\u001b[43m(\u001b[49m\u001b[43mhidden_states\u001b[49m\u001b[43m)\u001b[49m\n\u001b[1;32m    354\u001b[0m     value_states \u001b[38;5;241m=\u001b[39m \u001b[38;5;28mself\u001b[39m\u001b[38;5;241m.\u001b[39mv_proj(hidden_states)\n\u001b[1;32m    356\u001b[0m query_states \u001b[38;5;241m=\u001b[39m query_states\u001b[38;5;241m.\u001b[39mview(bsz, q_len, \u001b[38;5;28mself\u001b[39m\u001b[38;5;241m.\u001b[39mnum_heads, \u001b[38;5;28mself\u001b[39m\u001b[38;5;241m.\u001b[39mhead_dim)\u001b[38;5;241m.\u001b[39mtranspose(\u001b[38;5;241m1\u001b[39m, \u001b[38;5;241m2\u001b[39m)\n",
      "File \u001b[0;32m~/miniconda3/envs/slice_llm/lib/python3.9/site-packages/torch/nn/modules/module.py:1518\u001b[0m, in \u001b[0;36mModule._wrapped_call_impl\u001b[0;34m(self, *args, **kwargs)\u001b[0m\n\u001b[1;32m   1516\u001b[0m     \u001b[38;5;28;01mreturn\u001b[39;00m \u001b[38;5;28mself\u001b[39m\u001b[38;5;241m.\u001b[39m_compiled_call_impl(\u001b[38;5;241m*\u001b[39margs, \u001b[38;5;241m*\u001b[39m\u001b[38;5;241m*\u001b[39mkwargs)  \u001b[38;5;66;03m# type: ignore[misc]\u001b[39;00m\n\u001b[1;32m   1517\u001b[0m \u001b[38;5;28;01melse\u001b[39;00m:\n\u001b[0;32m-> 1518\u001b[0m     \u001b[38;5;28;01mreturn\u001b[39;00m \u001b[38;5;28;43mself\u001b[39;49m\u001b[38;5;241;43m.\u001b[39;49m\u001b[43m_call_impl\u001b[49m\u001b[43m(\u001b[49m\u001b[38;5;241;43m*\u001b[39;49m\u001b[43margs\u001b[49m\u001b[43m,\u001b[49m\u001b[43m \u001b[49m\u001b[38;5;241;43m*\u001b[39;49m\u001b[38;5;241;43m*\u001b[39;49m\u001b[43mkwargs\u001b[49m\u001b[43m)\u001b[49m\n",
      "File \u001b[0;32m~/miniconda3/envs/slice_llm/lib/python3.9/site-packages/torch/nn/modules/module.py:1527\u001b[0m, in \u001b[0;36mModule._call_impl\u001b[0;34m(self, *args, **kwargs)\u001b[0m\n\u001b[1;32m   1522\u001b[0m \u001b[38;5;66;03m# If we don't have any hooks, we want to skip the rest of the logic in\u001b[39;00m\n\u001b[1;32m   1523\u001b[0m \u001b[38;5;66;03m# this function, and just call forward.\u001b[39;00m\n\u001b[1;32m   1524\u001b[0m \u001b[38;5;28;01mif\u001b[39;00m \u001b[38;5;129;01mnot\u001b[39;00m (\u001b[38;5;28mself\u001b[39m\u001b[38;5;241m.\u001b[39m_backward_hooks \u001b[38;5;129;01mor\u001b[39;00m \u001b[38;5;28mself\u001b[39m\u001b[38;5;241m.\u001b[39m_backward_pre_hooks \u001b[38;5;129;01mor\u001b[39;00m \u001b[38;5;28mself\u001b[39m\u001b[38;5;241m.\u001b[39m_forward_hooks \u001b[38;5;129;01mor\u001b[39;00m \u001b[38;5;28mself\u001b[39m\u001b[38;5;241m.\u001b[39m_forward_pre_hooks\n\u001b[1;32m   1525\u001b[0m         \u001b[38;5;129;01mor\u001b[39;00m _global_backward_pre_hooks \u001b[38;5;129;01mor\u001b[39;00m _global_backward_hooks\n\u001b[1;32m   1526\u001b[0m         \u001b[38;5;129;01mor\u001b[39;00m _global_forward_hooks \u001b[38;5;129;01mor\u001b[39;00m _global_forward_pre_hooks):\n\u001b[0;32m-> 1527\u001b[0m     \u001b[38;5;28;01mreturn\u001b[39;00m \u001b[43mforward_call\u001b[49m\u001b[43m(\u001b[49m\u001b[38;5;241;43m*\u001b[39;49m\u001b[43margs\u001b[49m\u001b[43m,\u001b[49m\u001b[43m \u001b[49m\u001b[38;5;241;43m*\u001b[39;49m\u001b[38;5;241;43m*\u001b[39;49m\u001b[43mkwargs\u001b[49m\u001b[43m)\u001b[49m\n\u001b[1;32m   1529\u001b[0m \u001b[38;5;28;01mtry\u001b[39;00m:\n\u001b[1;32m   1530\u001b[0m     result \u001b[38;5;241m=\u001b[39m \u001b[38;5;28;01mNone\u001b[39;00m\n",
      "File \u001b[0;32m~/miniconda3/envs/slice_llm/lib/python3.9/site-packages/torch/nn/modules/linear.py:114\u001b[0m, in \u001b[0;36mLinear.forward\u001b[0;34m(self, input)\u001b[0m\n\u001b[1;32m    113\u001b[0m \u001b[38;5;28;01mdef\u001b[39;00m \u001b[38;5;21mforward\u001b[39m(\u001b[38;5;28mself\u001b[39m, \u001b[38;5;28minput\u001b[39m: Tensor) \u001b[38;5;241m-\u001b[39m\u001b[38;5;241m>\u001b[39m Tensor:\n\u001b[0;32m--> 114\u001b[0m     \u001b[38;5;28;01mreturn\u001b[39;00m \u001b[43mF\u001b[49m\u001b[38;5;241;43m.\u001b[39;49m\u001b[43mlinear\u001b[49m\u001b[43m(\u001b[49m\u001b[38;5;28;43minput\u001b[39;49m\u001b[43m,\u001b[49m\u001b[43m \u001b[49m\u001b[38;5;28;43mself\u001b[39;49m\u001b[38;5;241;43m.\u001b[39;49m\u001b[43mweight\u001b[49m\u001b[43m,\u001b[49m\u001b[43m \u001b[49m\u001b[38;5;28;43mself\u001b[39;49m\u001b[38;5;241;43m.\u001b[39;49m\u001b[43mbias\u001b[49m\u001b[43m)\u001b[49m\n",
      "\u001b[0;31mKeyboardInterrupt\u001b[0m: "
     ]
    }
   ],
   "source": [
    "for i in range(25):\n",
    " print(pipe(testset['text'][i][:-4]))"
   ]
  },
  {
   "cell_type": "code",
   "execution_count": 20,
   "metadata": {},
   "outputs": [],
   "source": [
    "\n",
    "pipe = pipeline(task=\"text-generation\",\n",
    "                model=base_model,\n",
    "                tokenizer=tokenizer,\n",
    "                max_length=1024,\n",
    "                do_sample=True,\n",
    "                temperature=0.9)\n",
    "\n"
   ]
  },
  {
   "cell_type": "code",
   "execution_count": 23,
   "metadata": {},
   "outputs": [
    {
     "name": "stdout",
     "output_type": "stream",
     "text": [
      "[{'generated_text': '<s>Question: What is the shear modulus (in GPa) of the material Pd3Ta Answer: What is the shear modulus (in GPa) of the material Pd3Ta Answer: What is the shear modulus (in GPa) of the material Pd3Ta Answer: What is the shear modulus (in GPa) of the material Pd3Ta Answer: What is the shear modulus (in GPa) of the material Pd3Ta Answer: What is the shear modulus (in GPa) of the material Pd3Ta Answer: What is the shear modulus (in GPa) of the material Pd3Ta Answer: What is the shear modulus (in GPa) of the material Pd3Ta Answer: What is the shear modulus (in GPa) of the material Pd3Ta Answer: What is the shear modulus (in GPa) of the material Pd3Ta Answer: What is the shear modulus (in GPa) of the material Pd3Ta Answer: What is the shear modulus (in GPa) of the material Pd3Ta Answer: What is the shear modulus (in GPa) of the material Pd3Ta Answer: What is the shear modulus (in GPa) of the material Pd3Ta Answer: What is the shear modulus (in GPa) of the material Pd3Ta Answer: What is the shear modulus (in GPa) of the material Pd3Ta Answer: What is the shear modulus (in GPa) of the material Pd3Ta Answer: What is the shear modulus (in GPa) of the material Pd3Ta Answer: What is the shear modulus (in GPa) of the material Pd3Ta Answer: What is the shear modulus (in GPa) of the material Pd3Ta Answer: What is the shear modulus (in GPa) of the material Pd3Ta Answer: What is the shear modulus (in GPa) of the material Pd3Ta Answer: What is the shear modulus (in GPa) of the material Pd3Ta Answer: What is the shear modulus (in GPa) of the material Pd3Ta Answer: What is the shear modulus (in GPa) of the material Pd3Ta Answer: What is the shear modulus (in GPa) of the material Pd3Ta Answer: What is the shear modulus (in GPa) of the material Pd3Ta Answer: What is the shear modulus (in GPa) of the material Pd3Ta Answer: What is the shear modulus (in GPa) of the material Pd3Ta Answer: What is the shear modulus (in GPa) of the material Pd3Ta Answer: What is the shear modulus (in GPa) of the material Pd3Ta Answer: What is the shear modulus (in GPa) of the material Pd3Ta Answer: What is the shear modulus (in GPa) of the material Pd3Ta Answer: What is the shear modulus (in GPa) of the material Pd3Ta Answer: What is the shear modulus (in GPa) of the material Pd3Ta Answer: What is the shear modulus (in GPa) of the material Pd3Ta Answer: What is the shear modulus (in GPa) of the material Pd3Ta Answer: What is the shear modulus (in GPa) of the material Pd3Ta Answer: What is the shear modulus (in GPa) of the material Pd3Ta Answer: What is the shear modulus (in GPa) of the material Pd3Ta Answer: What is the shear modulus (in GPa) of the material Pd3Ta Answer: What is the shear modulus (in GPa) of the material Pd3Ta Answer: What is the shear modulus (in GPa) of the material Pd3Ta Answer: What is the shear modulus (in GPa) of the material Pd3Ta Answer: What is the shear modulus (in GPa) of the material Pd3Ta Answer: What is the shear modulus (in GPa) of the material Pd3Ta Answer: What is the shear modulus (in'}]\n",
      "[{'generated_text': '<s>Question: What is the shear modulus (in GPa) of the material Pt4Tm4 Answer: 54.4845344548453445484534454845344548453445484534454845344548453445484534454845344548453445484534454845344548453445484534454845344548453445484534454845344548453445484534454845344548453445484534454845344548453445484534454845344548453445484534454845344548453445484534454845344548453445484534454845344548453445484534454845344548453445484534454845344548453445484534454845344548453445484534454845344548453445484534454845344548453445484534454845344548453445484534454845344548453445484534454845344548453445484534454845344548453445484534454845344548453445484534454845344548453445484534454845344548453445484534454845344548453445484534454845344548453445484534454845344548453445484534454845344548453445484534454845344548453445484534454845344548453445484534454845344548453445484534454845344548453445484534454845344548453445484534454845344548453445484534454845344548453445484534454845344548453445484534454845344548453445484534454845344548453445484534454845344548453445484534454845344548453445484534454845344548'}]\n",
      "[{'generated_text': '<s>Question: What is the shear modulus (in GPa) of the material KO2Tm Answer: 202.00 203.00 202.50 203.50 202.50. Answer: 190.00 191.00 190.50 191.50 190.50. Answer: 176.00 177.00 176.50 177.50 176.50. Answer: 162.00 163.00 162.50 163.50 162.50.\\nQuestion: What is the density (in g/cm3) of the material Zr2Y2Zr? Answer: 6.24 6.25 6.24 6.25 6.24\\nQuestion: What is the density (in g/cm3) of the material Zr2Y2Zr? Answer: 6.24 6.25 6.24 6.25 6.24. Answer: 6.24 6.25 6.24 6.25 6.24. Answer: 6.24 6.25 6.24 6.25 6.24. Answer: 6.24 6.25 6.24 6.25 6.24.\\nQuestion: What is the density (in g/cm3) of the material Zr2Y2Zr? Answer: 6.24 6.25 6.24 6.25 6.24. Answer: 6.24 6.25 6.24 6.25 6.24. Answer: 6.24 6.25 6.24 6.25 6.24. Answer: 6.24 6.25 6.24 6.25 6.24.\\nQuestion: What is the density (in g/cm3) of the material Zr2Y2Zr? Answer: 6.24 6.25 6.24 6.25 6.24. Answer: 6.24 6.25 6.24 6.25 6.24. Answer: 6.24 6.25 6.24 6.25 6.24. Answer: 6.24 6.25 6.24 6.25 6.24.\\nQuestion: What is the density (in g/cm3) of the material Zr2Y2Zr? Answer: 6.24 6.25 6.24 6.25 6.24. Answer: 6.24 6.25 6.24 6.25 6.24. Answer: 6.24 6.25 6.24 6.25 6.24. Answer: 6.24 6.25 6.24 6.25 6.24.\\nQuestion: What is the density (in g/cm3) of the material Zr2Y2Zr? Answer: 6.24 6.25 6.24 6.25 6.24. Answer: 6.24 6.25 6.24 6.25 6.24. Answer: 6.24 6.25 6.24 6.25 6.24. Answer: 6.24 6.25 6.24 6.25 6.24.\\nQuestion: What is the density (in g/cm3) of the material Zr2Y2Zr? Answer: 6.24 6.25 6.24 6.25 6.24. Answer: 6.24 6.25 6.24 6.25 6.24. Answer: 6.24 6.25 6.24 6.25 6.24. Answer: '}]\n",
      "[{'generated_text': '<s>Question: What is the shear modulus (in GPa) of the material Pt3Tc Answer: The shear modulus of the material Pt3Tc is GPa\\n0000000000000000000000000000000000000000000000000000000000000000000000000000000000000000000000000000000000000000000000000000000000000000000000000000000000000000000000000000000000000000000000000000000000000000000000000000000000000000000000000000000000000000000000000000000000000000000000000000000000000000000000000000000000000000000000000000000000000000000000000000000000000000000000000000000000000000000000000000000000000000000000000000000000000000000000000000000000000000000000000000000000000000000000000000000000000000000000000000000000000000000000000000000000000000000000000000000000000000000000000000000000000000000000000000000000000000000000000000000000000000000000000000000000000000000000000000000000000000000000000000000000000000000000000000000000000000000000000000000000000000000000000000000000000000000000000000000000000000000000000000000000000000000000000000000000000000000000000000000000000000000000000000000000000000000000000000000000000000000000000000000000000000000000'}]\n",
      "[{'generated_text': \"<s>Question: What is the shear modulus (in GPa) of the material Hf4Sn4 Answer: Answer to: What is the shear modulus (in GPa) of the material Hf4Sn4? What is the shear modulus (in GPa) of the material Hf4Sn4? Calculating the shear modulus of Hf4Sn4. It has a melting point of 415 °C (779 °F), which is also its boiling point. Hf4Sn4. We also acknowledge previous National Science Foundation support under grant numbers 1246120, 1525057, and 1413739. The material Hf4Sn4 is a solid solution of hafnium and zirconium. The thermal conductivity of Hf4Sn4 is about 10 W/(m*K). The melting point of Zr4Sn4 is 1200°C. Shear Modulus of Hf4Sn4. It is one of the rarest elements in the Earth's crust, with an average abundance of 10 μg/kg. (a) What is the shear modulus of the material Hf4Sn4? The shear modulus of the material Hf4Sn4 is A. 16 GPa. B. 1.5 GPa. C. 210 GPa. D. 160 GPa. E. 1.5109 GPa. 2 See answers james9825 james9825 Hf4Sn4 is a solid solution of hafnium and zirconium, so the shear modulus is the same as the modulus of elasticity. (b) What is the modulus of elasticity (in MPa) of the material Hf4Sn4? The chemical compound Hf4Sn4 is the zirconium hafnium alloy used in many applications. Hafnium (Ha) is one of the few metals that has a higher melting point than tungsten. The chemical compound Hf4Sn4 is the zirconium hafnium alloy used in many applications. The shear modulus of the material Hf4Sn4 is A. 16 GPa. B. 1.5 GPa. C. 210 GPa. D. 160 GPa. E. 1.5109 GPa. Hf4Sn4 is a solid solution of hafnium and zirconium. It is a good choice for high temperature applications, and the material is well-known for its high tensile strength. 3.713664260636724E-20 kg/m^3 is the density of Hf4Sn4. Hafnium (Ha) is one of the few metals that has a higher melting point than tungsten. D. 160 GPa. The shear modulus of the material Hf4Sn4 is A. 16 GPa. B. 1.5 GPa. C. 210 GPa. D. 160 GPa. E. 1.5109 GPa. Hf4Sn4 is a solid solution of hafnium and zirconium, so the shear modulus is the same as the modulus of elasticity. It has a melting point of 415 °C (779 °F), which is also its boiling point. The shear modulus of the material Hf4Sn4 is A. 16 GPa. B. 1.5 GPa. C. 210 GPa. D. 160 GPa. E. 1.5109 GPa. The shear modulus of the material Hf4Sn4 is A. 16 GPa. B. 1.5 GPa. C. 210 GPa. D. 160 GPa. E. 1.5109 GPa. The shear modulus of the material Hf4Sn4 is A. 16 GPa. B. 1.5 GPa. C. 210 GPa. D. 160 GPa. E. 1.5109 GPa. The shear modulus of the material Hf4Sn\"}]\n"
     ]
    }
   ],
   "source": [
    "for i in range(5):\n",
    " print(pipe(testset['text'][i][:-4]))"
   ]
  },
  {
   "cell_type": "code",
   "execution_count": 29,
   "metadata": {},
   "outputs": [],
   "source": [
    "adapter = \"/work/so87pot/structllm/megaloop2/finetune/llama_instruct/checkpoints/finetuned_train_composition_matbench_log_gvrh_0/llamav2-7b-lora-fine-tune\"\n",
    "model = PeftModel.from_pretrained(base_model, adapter)\n",
    "model = model.merge_and_unload()"
   ]
  },
  {
   "cell_type": "code",
   "execution_count": 30,
   "metadata": {},
   "outputs": [
    {
     "name": "stdout",
     "output_type": "stream",
     "text": [
      "[{'generated_text': '<s>Question: What is the shear modulus (in GPa) of the material Pd3Ta Answer: 10.1111/j.1467-8113.2011.01485.x.\\nThe shear modulus of a material is the measure of its stiffness. It is defined as the ratio of shear stress to shear strain. The shear modulus is a measure of the stiffness of a material. It is defined as the ratio of shear stress to shear strain.\\nThe shear modulus of a material is the measure of its stiffness. It is defined as the ratio of shear stress to shear strain. The shear modulus is a measure of the stiffness of a material. It is defined as the ratio of shear stress to shear strain.\\nThe shear modulus of a material is the measure of its stiffness. It is defined as the ratio of shear stress to shear strain. The shear modulus is a measure of the stiffness of a material. It is defined as the ratio of shear stress to shear strain.\\nThe shear modulus of a material is the measure of its stiffness. It is defined as the ratio of shear stress to shear strain. The shear modulus is a measure of the stiffness of a material. It is defined as the ratio of shear stress to shear strain.\\nThe shear modulus of a material is the measure of its stiffness. It is defined as the ratio of shear stress to shear strain. The shear modulus is a measure of the stiffness of a material. It is defined as the ratio of shear stress to shear strain.\\nThe shear modulus of a material is the measure of its stiffness. It is defined as the ratio of shear stress to shear strain. The shear modulus is a measure of the stiffness of a material. It is defined as the ratio of shear stress to shear strain.\\nThe shear modulus of a material is the measure of its stiffness. It is defined as the ratio of shear stress to shear strain. The shear modulus is a measure of the stiffness of a material. It is defined as the ratio of shear stress to shear strain.\\nThe shear modulus of a material is the measure of its stiffness. It is defined as the ratio of shear stress to shear strain. The shear modulus is a measure of the stiffness of a material. It is defined as the ratio of shear stress to shear strain.\\nThe shear modulus of a material is the measure of its stiffness. It is defined as the ratio of shear stress to shear strain. The shear modulus is a measure of the stiffness of a material. It is defined as the ratio of shear stress to shear strain.\\nThe shear modulus of a material is the measure of its stiffness. It is defined as the ratio of shear stress to shear strain. The shear modulus is a measure of the stiffness of a material. It is defined as the ratio of shear stress to shear strain.\\nThe shear modulus of a material is the measure of its stiffness. It is defined as the ratio of shear stress to shear strain. The shear modulus is a measure of the stiffness of a material. It is defined as the ratio of shear stress to shear strain.\\nThe shear modulus of a material is the measure of its stiffness. It is defined as the ratio of shear stress to shear strain. The shear modulus is a measure of the stiffness of a material. It is defined as the ratio of shear stress to shear strain.\\nThe shear modulus of a material is the measure of its stiffness. It is defined as the ratio of shear stress to shear strain. The shear modulus is a measure of the stiffness of a material. It is defined as the ratio of shear stress to shear strain.\\nThe shear modulus of a material is the measure of its stiffness. It is defined as the ratio of shear stress to shear strain. The shear modulus is a measure of the stiffness of a material. It is defined as the ratio of shear stress to shear strain.\\nThe shear modulus of a material is the measure of its stiffness. It is defined as the ratio of shear'}]\n",
      "[{'generated_text': '<s>Question: What is the shear modulus (in GPa) of the material Pt4Tm4 Answer: 10. The shear modulus of a material is the measure of the force required to cause a shear deformation in the material. The shear modulus of a material is the measure of the force required to cause a shear deformation in the material. The shear modulus of a material is the measure of the force required to cause a shear deformation in the material.\\nThe shear modulus of a material is the measure of the force required to cause a shear deformation in the material. The shear modulus of a material is the measure of the force required to cause a shear deformation in the material. The shear modulus of a material is the measure of the force required to cause a shear deformation in the material. The shear modulus of a material is the measure of the force required to cause a shear deformation in the material. The shear modulus of a material is the measure of the force required to cause a shear deformation in the material. The shear modulus of a material is the measure of the force required to cause a shear deformation in the material. The shear modulus of a material is the measure of the force required to cause a shear deformation in the material. The shear modulus of a material is the measure of the force required to cause a shear deformation in the material. The shear modulus of a material is the measure of the force required to cause a shear deformation in the material. The shear modulus of a material is the measure of the force required to cause a shear deformation in the material. The shear modulus of a material is the measure of the force required to cause a shear deformation in the material. The shear modulus of a material is the measure of the force required to cause a shear deformation in the material. The shear modulus of a material is the measure of the force required to cause a shear deformation in the material. The shear modulus of a material is the measure of the force required to cause a shear deformation in the material. The shear modulus of a material is the measure of the force required to cause a shear deformation in the material. The shear modulus of a material is the measure of the force required to cause a shear deformation in the material. The shear modulus of a material is the measure of the force required to cause a shear deformation in the material. The shear modulus of a material is the measure of the force required to cause a shear deformation in the material. The shear modulus of a material is the measure of the force required to cause a shear deformation in the material. The shear modulus of a material is the measure of the force required to cause a shear deformation in the material. The shear modulus of a material is the measure of the force required to cause a shear deformation in the material. The shear modulus of a material is the measure of the force required to cause a shear deformation in the material. The shear modulus of a material is the measure of the force required to cause a shear deformation in the material. The shear modulus of a material is the measure of the force required to cause a shear deformation in the material. The shear modulus of a material is the measure of the force required to cause a shear deformation in the material. The shear modulus of a material is the measure of the force required to cause a shear deformation in the material. The shear modulus of a material is the measure of the force required to cause a shear deformation in the material. The shear modulus of a material is the measure of the force required to cause a shear deformation in the material. The shear modulus of a material is the measure of the force required to cause a shear deformation in the material. The shear modulus of a material is the measure of the force required to cause a shear deformation in the material. The shear modulus of a material is the measure of the force required to cause a shear deformation in the material. The shear modulus of a material is the measure of the force required to cause a shear deformation in the material. The shear modulus of a material is the measure of the force required to cause a shear deformation in the material. The shear modulus of a material is the measure of the force required to cause a shear deformation in the material. The shear modulus of a material is the measure of the force required to cause a shear deformation in the material. The shear modulus'}]\n",
      "[{'generated_text': '<s>Question: What is the shear modulus (in GPa) of the material KO2Tm Answer: The shear modulus of the material is 10 GPa. The shear modulus of the material is 10 GPa. The shear modulus of the material is 10 GPa. The shear modulus of the material is 10 GPa. The shear modulus of the material is 10 GPa. The shear modulus of the material is 10 GPa. The shear modulus of the material is 10 GPa. The shear modulus of the material is 10 GPa. The shear modulus of the material is 10 GPa. The shear modulus of the material is 10 GPa. The shear modulus of the material is 10 GPa. The shear modulus of the material is 10 GPa. The shear modulus of the material is 10 GPa. The shear modulus of the material is 10 GPa. The shear modulus of the material is 10 GPa. The shear modulus of the material is 10 GPa. The shear modulus of the material is 10 GPa. The shear modulus of the material is 10 GPa. The shear modulus of the material is 10 GPa. The shear modulus of the material is 10 GPa. The shear modulus of the material is 10 GPa. The shear modulus of the material is 10 GPa. The shear modulus of the material is 10 GPa. The shear modulus of the material is 10 GPa. The shear modulus of the material is 10 GPa. The shear modulus of the material is 10 GPa. The shear modulus of the material is 10 GPa. The shear modulus of the material is 10 GPa. The shear modulus of the material is 10 GPa. The shear modulus of the material is 10 GPa. The shear modulus of the material is 10 GPa. The shear modulus of the material is 10 GPa. The shear modulus of the material is 10 GPa. The shear modulus of the material is 10 GPa. The shear modulus of the material is 10 GPa. The shear modulus of the material is 10 GPa. The shear modulus of the material is 10 GPa. The shear modulus of the material is 10 GPa. The shear modulus of the material is 10 GPa. The shear modulus of the material is 10 GPa. The shear modulus of the material is 10 GPa. The shear modulus of the material is 10 GPa. The shear modulus of the material is 10 GPa. The shear modulus of the material is 10 GPa. The shear modulus of the material is 10 GPa. The shear modulus of the material is 10 GPa. The shear modulus of the material is 10 GPa. The shear modulus of the material is 10 GPa. The shear modulus of the material is 10 GPa. The shear modulus of the material is 10 GPa. The shear modulus of the material is 10 GPa. The shear modulus of the material is 10 GPa. The shear modulus of the material is 10 GPa. The shear modulus of the material is 10 GPa. The shear modulus of the material is 10 GPa. The shear modulus of the material is 10 GPa. The shear modulus of the material is 10 GPa. The shear modulus of the material is 10 GPa. The shear modulus of the material is 10 GPa. The shear modulus of the material is 10 GPa. The shear modulus of the material is 10 GPa. The shear modulus of the material is 10 GPa. The shear modulus of the material is 10 GPa. The shear modulus of the material is 10 GPa. The shear modulus of the material is 10 GPa. The shear modulus of the material is 10 GPa. The shear modulus of the material is'}]\n",
      "[{'generated_text': '<s>Question: What is the shear modulus (in GPa) of the material Pt3Tc Answer: 10000000000000000000000000000000000000000000000000000000000000000000000000000000000000000000000000000000000000000000000000000000000000000000000000000000000000000000000000000000000000000000000000000000000000000000000000000000000000000000000000000000000000000000000000000000000000000000000000000000000000000000000000000000000000000000000000000000000000000000000000000000000000000000000000000000000000000000000000000000000000000000000000000000000000000000000000000000000000000000000000000000000000000000000000000000000000000000000000000000000000000000000000000000000000000000000000000000000000000000000000000000000000000000000000000000000000000000000000000000000000000000000000000000000000000000000000000000000000000000000000000000000000000000000000000000000000000000000000000000000000000000000000000000000000000000000000000000000000000000000000000000000000000000000000000000000000000000000000000000000000000000000000000000000000000000000000000000000000000000000000000000000000000000000000000000000000'}]\n",
      "[{'generated_text': '<s>Question: What is the shear modulus (in GPa) of the material Hf4Sn4 Answer: The shear modulus of the material is 12 GPa.\\nThe shear modulus of the material is 12 GPa.\\nThe shear modulus of the material is 12 GPa.\\nThe shear modulus of the material is 12 GPa.\\nThe shear modulus of the material is 12 GPa.\\nThe shear modulus of the material is 12 GPa.\\nThe shear modulus of the material is 12 GPa.\\nThe shear modulus of the material is 12 GPa.\\nThe shear modulus of the material is 12 GPa.\\nThe shear modulus of the material is 12 GPa.\\nThe shear modulus of the material is 12 GPa.\\nThe shear modulus of the material is 12 GPa.\\nThe shear modulus of the material is 12 GPa.\\nThe shear modulus of the material is 12 GPa.\\nThe shear modulus of the material is 12 GPa.\\nThe shear modulus of the material is 12 GPa.\\nThe shear modulus of the material is 12 GPa.\\nThe shear modulus of the material is 12 GPa.\\nThe shear modulus of the material is 12 GPa.\\nThe shear modulus of the material is 12 GPa.\\nThe shear modulus of the material is 12 GPa.\\nThe shear modulus of the material is 12 GPa.\\nThe shear modulus of the material is 12 GPa.\\nThe shear modulus of the material is 12 GPa.\\nThe shear modulus of the material is 12 GPa.\\nThe shear modulus of the material is 12 GPa.\\nThe shear modulus of the material is 12 GPa.\\nThe shear modulus of the material is 12 GPa.\\nThe shear modulus of the material is 12 GPa.\\nThe shear modulus of the material is 12 GPa.\\nThe shear modulus of the material is 12 GPa.\\nThe shear modulus of the material is 12 GPa.\\nThe shear modulus of the material is 12 GPa.\\nThe shear modulus of the material is 12 GPa.\\nThe shear modulus of the material is 12 GPa.\\nThe shear modulus of the material is 12 GPa.\\nThe shear modulus of the material is 12 GPa.\\nThe shear modulus of the material is 12 GPa.\\nThe shear modulus of the material is 12 GPa.\\nThe shear modulus of the material is 12 GPa.\\nThe shear modulus of the material is 12 GPa.\\nThe shear modulus of the material is 12 GPa.\\nThe shear modulus of the material is 12 GPa.\\nThe shear modulus of the material is 12 GPa.\\nThe shear modulus of the material is 12 GPa.\\nThe shear modulus of the material is 12 GPa.\\nThe shear modulus of the material is 12 GPa.\\nThe shear modulus of the material is 12 GPa.\\nThe shear modulus of the material is 12 GPa.\\nThe shear modulus of the material is 12 GPa.\\nThe shear modulus of the material is 12 GPa.\\nThe shear modulus of the material is 12 GPa.\\nThe shear modulus of the material is 12 GPa.\\nThe shear modulus of the material is 12 GPa.\\nThe shear modulus of the material is 12 GPa.\\nThe shear modulus of the material is 12 GPa.\\nThe shear modulus of the material is 12 GPa.\\nThe shear modulus of the material is 12 GPa.\\nThe shear modulus of the material is 12 GPa.\\nThe shear modulus of the material is 12 GPa.\\nThe shear modulus of the material is 12 GPa.\\nThe shear modulus of the material is 12 GPa.\\nThe shear modulus of'}]\n"
     ]
    }
   ],
   "source": [
    "\n",
    "pipe = pipeline(task=\"text-generation\",\n",
    "                model=base_model,\n",
    "                tokenizer=tokenizer,\n",
    "                max_length=1024,\n",
    "                do_sample=True,\n",
    "                temperature=0.1)\n",
    "\n",
    "for i in range(5):\n",
    " print(pipe(testset['text'][i][:-4]))\n",
    "\n"
   ]
  },
  {
   "cell_type": "code",
   "execution_count": 31,
   "metadata": {},
   "outputs": [],
   "source": [
    "adapter = \"/work/so87pot/structllm/megaloop2/finetune/llama_instruct/checkpoints/finetuned_train_composition_matbench_log_gvrh_0/llamav2-7b-lora-fine-tune\"\n",
    "model = PeftModel.from_pretrained(base_model, adapter)\n",
    "#model = model.merge_and_unload()\n",
    "\n",
    "# pipe = pipeline(task=\"text-generation\",\n",
    "#                 model=base_model,\n",
    "#                 tokenizer=tokenizer,\n",
    "#                 max_length=1024,\n",
    "#                 do_sample=True,\n",
    "#                 temperature=0.1)\n",
    "\n",
    "# for i in range(5):\n",
    "#  print(pipe(testset['text'][i][:-4]))"
   ]
  },
  {
   "cell_type": "code",
   "execution_count": 32,
   "metadata": {},
   "outputs": [
    {
     "name": "stdout",
     "output_type": "stream",
     "text": [
      "PeftModelForCausalLM(\n",
      "  (base_model): LoraModel(\n",
      "    (model): LlamaForCausalLM(\n",
      "      (model): LlamaModel(\n",
      "        (embed_tokens): Embedding(32008, 4096)\n",
      "        (layers): ModuleList(\n",
      "          (0-31): 32 x LlamaDecoderLayer(\n",
      "            (self_attn): LlamaAttention(\n",
      "              (q_proj): lora.Linear(\n",
      "                (base_layer): Linear(in_features=4096, out_features=4096, bias=False)\n",
      "                (lora_dropout): ModuleDict(\n",
      "                  (default): Dropout(p=0.05, inplace=False)\n",
      "                )\n",
      "                (lora_A): ModuleDict(\n",
      "                  (default): Linear(in_features=4096, out_features=8, bias=False)\n",
      "                )\n",
      "                (lora_B): ModuleDict(\n",
      "                  (default): Linear(in_features=8, out_features=4096, bias=False)\n",
      "                )\n",
      "                (lora_embedding_A): ParameterDict()\n",
      "                (lora_embedding_B): ParameterDict()\n",
      "              )\n",
      "              (k_proj): Linear(in_features=4096, out_features=4096, bias=False)\n",
      "              (v_proj): lora.Linear(\n",
      "                (base_layer): Linear(in_features=4096, out_features=4096, bias=False)\n",
      "                (lora_dropout): ModuleDict(\n",
      "                  (default): Dropout(p=0.05, inplace=False)\n",
      "                )\n",
      "                (lora_A): ModuleDict(\n",
      "                  (default): Linear(in_features=4096, out_features=8, bias=False)\n",
      "                )\n",
      "                (lora_B): ModuleDict(\n",
      "                  (default): Linear(in_features=8, out_features=4096, bias=False)\n",
      "                )\n",
      "                (lora_embedding_A): ParameterDict()\n",
      "                (lora_embedding_B): ParameterDict()\n",
      "              )\n",
      "              (o_proj): Linear(in_features=4096, out_features=4096, bias=False)\n",
      "              (rotary_emb): LlamaRotaryEmbedding()\n",
      "            )\n",
      "            (mlp): LlamaMLP(\n",
      "              (gate_proj): Linear(in_features=4096, out_features=11008, bias=False)\n",
      "              (up_proj): Linear(in_features=4096, out_features=11008, bias=False)\n",
      "              (down_proj): Linear(in_features=11008, out_features=4096, bias=False)\n",
      "              (act_fn): SiLU()\n",
      "            )\n",
      "            (input_layernorm): LlamaRMSNorm()\n",
      "            (post_attention_layernorm): LlamaRMSNorm()\n",
      "          )\n",
      "        )\n",
      "        (norm): LlamaRMSNorm()\n",
      "      )\n",
      "      (lm_head): Linear(in_features=4096, out_features=32008, bias=False)\n",
      "    )\n",
      "  )\n",
      ")\n"
     ]
    }
   ],
   "source": [
    "print(model)"
   ]
  },
  {
   "cell_type": "code",
   "execution_count": 33,
   "metadata": {},
   "outputs": [
    {
     "name": "stdout",
     "output_type": "stream",
     "text": [
      "LlamaForCausalLM(\n",
      "  (model): LlamaModel(\n",
      "    (embed_tokens): Embedding(32008, 4096)\n",
      "    (layers): ModuleList(\n",
      "      (0-31): 32 x LlamaDecoderLayer(\n",
      "        (self_attn): LlamaAttention(\n",
      "          (q_proj): Linear(in_features=4096, out_features=4096, bias=False)\n",
      "          (k_proj): Linear(in_features=4096, out_features=4096, bias=False)\n",
      "          (v_proj): Linear(in_features=4096, out_features=4096, bias=False)\n",
      "          (o_proj): Linear(in_features=4096, out_features=4096, bias=False)\n",
      "          (rotary_emb): LlamaRotaryEmbedding()\n",
      "        )\n",
      "        (mlp): LlamaMLP(\n",
      "          (gate_proj): Linear(in_features=4096, out_features=11008, bias=False)\n",
      "          (up_proj): Linear(in_features=4096, out_features=11008, bias=False)\n",
      "          (down_proj): Linear(in_features=11008, out_features=4096, bias=False)\n",
      "          (act_fn): SiLU()\n",
      "        )\n",
      "        (input_layernorm): LlamaRMSNorm()\n",
      "        (post_attention_layernorm): LlamaRMSNorm()\n",
      "      )\n",
      "    )\n",
      "    (norm): LlamaRMSNorm()\n",
      "  )\n",
      "  (lm_head): Linear(in_features=4096, out_features=32008, bias=False)\n",
      ")\n"
     ]
    }
   ],
   "source": [
    "model = model.merge_and_unload()\n",
    "print(model)"
   ]
  },
  {
   "cell_type": "code",
   "execution_count": 32,
   "metadata": {},
   "outputs": [],
   "source": [
    "# from peft import LoraConfig, PeftModel, get_peft_model\n",
    "\n",
    "# pretrained_ckpt = \"meta-llama/Llama-2-7b-hf\"\n",
    "# base_model = AutoModelForCausalLM.from_pretrained(\n",
    "#     pretrained_ckpt,\n",
    "#     low_cpu_mem_usage=True,\n",
    "#     return_dict=True,\n",
    "#     torch_dtype=torch.float16,\n",
    "#     device_map=\"auto\",\n",
    "# )\n",
    "\n",
    "# tokenizer = AutoTokenizer.from_pretrained(pretrained_ckpt, trust_remote_code=True)\n",
    "# special_tokens_dict = dict()\n",
    "# if tokenizer.pad_token is None:\n",
    "#     special_tokens_dict[\"pad_token\"] = DEFAULT_PAD_TOKEN\n",
    "# if tokenizer.eos_token is None:\n",
    "#     special_tokens_dict[\"eos_token\"] = DEFAULT_EOS_TOKEN\n",
    "# if tokenizer.bos_token is None:\n",
    "#     special_tokens_dict[\"bos_token\"] = DEFAULT_BOS_TOKEN\n",
    "# if tokenizer.unk_token is None:\n",
    "#     special_tokens_dict[\"unk_token\"] = DEFAULT_UNK_TOKEN\n",
    "\n",
    "# print(special_tokens_dict)\n",
    "\n",
    "# smart_tokenizer_and_embedding_resize(\n",
    "#             special_tokens_dict=special_tokens_dict,\n",
    "#             llama_tokenizer=tokenizer,\n",
    "#             model=base_model,\n",
    "#         )\n",
    "\n",
    "\n",
    "model = PeftModel.from_pretrained(base_model, comp_path)\n",
    "model = model.merge_and_unload()\n"
   ]
  },
  {
   "cell_type": "code",
   "execution_count": 33,
   "metadata": {},
   "outputs": [
    {
     "data": {
      "text/plain": [
       "LlamaForCausalLM(\n",
       "  (model): LlamaModel(\n",
       "    (embed_tokens): Embedding(32008, 4096)\n",
       "    (layers): ModuleList(\n",
       "      (0-31): 32 x LlamaDecoderLayer(\n",
       "        (self_attn): LlamaAttention(\n",
       "          (q_proj): Linear(in_features=4096, out_features=4096, bias=False)\n",
       "          (k_proj): Linear(in_features=4096, out_features=4096, bias=False)\n",
       "          (v_proj): Linear(in_features=4096, out_features=4096, bias=False)\n",
       "          (o_proj): Linear(in_features=4096, out_features=4096, bias=False)\n",
       "          (rotary_emb): LlamaRotaryEmbedding()\n",
       "        )\n",
       "        (mlp): LlamaMLP(\n",
       "          (gate_proj): Linear(in_features=4096, out_features=11008, bias=False)\n",
       "          (up_proj): Linear(in_features=4096, out_features=11008, bias=False)\n",
       "          (down_proj): Linear(in_features=11008, out_features=4096, bias=False)\n",
       "          (act_fn): SiLU()\n",
       "        )\n",
       "        (input_layernorm): LlamaRMSNorm()\n",
       "        (post_attention_layernorm): LlamaRMSNorm()\n",
       "      )\n",
       "    )\n",
       "    (norm): LlamaRMSNorm()\n",
       "  )\n",
       "  (lm_head): Linear(in_features=4096, out_features=32008, bias=False)\n",
       ")"
      ]
     },
     "execution_count": 33,
     "metadata": {},
     "output_type": "execute_result"
    }
   ],
   "source": [
    "model"
   ]
  },
  {
   "cell_type": "markdown",
   "metadata": {},
   "source": [
    "model"
   ]
  },
  {
   "cell_type": "code",
   "execution_count": 60,
   "metadata": {},
   "outputs": [],
   "source": [
    "representation =\"composition\"\n",
    "\n",
    "PROPERTY_MAP : {\n",
    "    \"matbench_log_gvrh\" : \"shear modulus (in GPa)\",\n",
    "    \"matbench_log_kvrh\" : \"bulk modulus (in GPa)\",\n",
    "    \"matbench_dielectric\" : \"refractive index\",\n",
    "    \"matbench_perovskites\" : \"formation energy (in eV)\",}\n",
    "\n",
    "MATERIAL_MAP : {\n",
    "    \"matbench_log_gvrh\" : \"material\",\n",
    "    \"matbench_log_kvrh\" : \"material\",\n",
    "    \"matbench_dielectric\" : \"dielectric material\",\n",
    "    \"matbench_perovskites\" : \"perovskite material\",   }\n",
    "\n",
    "\n",
    "def _tokenize( examples):\n",
    "        tokenized_examples = tokenizer(\n",
    "            examples[representation],\n",
    "            truncation=True,\n",
    "            padding=True,\n",
    "            return_tensors=\"pt\",\n",
    "        )\n",
    "        return tokenized_examples\n",
    "\n",
    "def format_qstns( sample):\n",
    "    material_ = \"material\"\n",
    "    property_ = \"bulk modulus (in GPa)\"\n",
    "    question = f\"<s>Question: What is the {property_} of the {material_} \"\n",
    "    material = f\"{sample[representation]}\"\n",
    "    response = f\" Answer:\"\n",
    "    # join all the parts together\n",
    "    prompt = \"\".join([i for i in [question, material, response] if i is not None])\n",
    "    return prompt\n",
    "\n",
    "# template dataset to add prompt to each sample\n",
    "def template_dataset_test( sample):\n",
    "    sample[\"text\"] = f\"{format_qstns(sample)}\"\n",
    "    return sample\n",
    "\n",
    "def _prepare_datasets( path: str) -> DatasetDict:\n",
    "    \"\"\"\n",
    "    Prepare training and validation datasets.\n",
    "\n",
    "    Args:\n",
    "        train_df (pd.DataFrame): DataFrame containing training data.\n",
    "\n",
    "    Returns:\n",
    "        DatasetDict: Dictionary containing training and validation datasets.\n",
    "    \"\"\"\n",
    "\n",
    "    ds = load_dataset(\"json\", data_files=path, split=\"train\")\n",
    "    dataset = ds.train_test_split(shuffle=True, test_size=0.2, seed=42)\n",
    "    ds = dataset.map(_tokenize, batched=True)\n",
    "\n",
    "    trainset = ds[\"train\"].map(template_dataset_test)\n",
    "    testset = ds[\"test\"].map(template_dataset_test)\n",
    "    print(trainset[0][\"text\"])\n",
    "    print(testset[0][\"text\"])\n",
    "    return trainset, testset"
   ]
  },
  {
   "cell_type": "code",
   "execution_count": 35,
   "metadata": {},
   "outputs": [
    {
     "data": {
      "application/vnd.jupyter.widget-view+json": {
       "model_id": "a1c7648d8f4f4d849fb3cb2a3906a4c3",
       "version_major": 2,
       "version_minor": 0
      },
      "text/plain": [
       "Map:   0%|          | 0/1222 [00:00<?, ? examples/s]"
      ]
     },
     "metadata": {},
     "output_type": "display_data"
    },
    {
     "data": {
      "application/vnd.jupyter.widget-view+json": {
       "model_id": "e7321072e28940bbb181b9692947cc0c",
       "version_major": 2,
       "version_minor": 0
      },
      "text/plain": [
       "Map:   0%|          | 0/306 [00:00<?, ? examples/s]"
      ]
     },
     "metadata": {},
     "output_type": "display_data"
    },
    {
     "data": {
      "application/vnd.jupyter.widget-view+json": {
       "model_id": "6b291202bcb04f3ba33bef95184b28c6",
       "version_major": 2,
       "version_minor": 0
      },
      "text/plain": [
       "Map:   0%|          | 0/1222 [00:00<?, ? examples/s]"
      ]
     },
     "metadata": {},
     "output_type": "display_data"
    },
    {
     "data": {
      "application/vnd.jupyter.widget-view+json": {
       "model_id": "4db0a34788fc4d959488ec246834f768",
       "version_major": 2,
       "version_minor": 0
      },
      "text/plain": [
       "Map:   0%|          | 0/306 [00:00<?, ? examples/s]"
      ]
     },
     "metadata": {},
     "output_type": "display_data"
    },
    {
     "name": "stdout",
     "output_type": "stream",
     "text": [
      "<s>Question: What is the bulk modulus (in GPa) of the material Hf12N4Zn4 Answer:\n",
      "<s>Question: What is the bulk modulus (in GPa) of the material CdCl3Cs Answer:\n"
     ]
    }
   ],
   "source": [
    "_,testset = _prepare_datasets(\"/work/so87pot/material_db/all_1/test_matbench_log_gvrh_0.json\")"
   ]
  },
  {
   "cell_type": "code",
   "execution_count": 36,
   "metadata": {},
   "outputs": [],
   "source": [
    "\n",
    "# Suppress Hugging Face pipeline logging\n",
    "logging.set_verbosity(logging.CRITICAL)\n",
    "\n",
    "# Initialize the pipeline\n",
    "pipe = pipeline(task=\"text-generation\",\n",
    "                model=model,\n",
    "                tokenizer=tokenizer,\n",
    "                max_length=512,\n",
    "                do_sample=True,\n",
    "                temperature=1)"
   ]
  },
  {
   "cell_type": "code",
   "execution_count": 59,
   "metadata": {},
   "outputs": [
    {
     "data": {
      "text/plain": [
       "[{'generated_text': '<s>Question: What is the bulk modulus (in GPa) of the material Be Pd Pd 0 1 - - - 0 1 - o - 0 1 o - - 0 1 o o - 0 2 - - o 0 2 - o o 0 2 o - o 0 2 o o o 0 0 o + o 0 0 + o o 1 2 - - o 1 2 - o o 1 2 o - o 1 2 o o o 1 2 o o + 1 1 o + o 1 1 + o o 2 2 o + o 2 2 + o o  Answer: 1) 0 1 - o - 2) 2 2 o + o 3) 0 1 o - - 4) 1 1 o + o 5) 2 2 o o o 6) 0 0 o o o 7) 1 1 o o o 8) 2 2 o o o 9) 0 0 o o o 10) 2 2 o o o 11) 0 1 o o o 12) 2 2 + o o 13) 1 1 + o o 14) 2 2 + o o 15) 0 0 o + + 16) 1 1 + o o 17) 2 2 + o o 18) 0 1 o o - 19) 2 2 + o o 20) 1 1 + o o 21) 2 2 + o o 22) 0 1 o o - 23) 2 2 + o - 24) 1 1 + o o 25) 2 2 + o o 26) 0 1 o o o 27) 1 1 + + o 28) 2 2 + o o 29) 1 1 + + o 30) 2 2 + o o 31) 1 1 + + o 32) 2 2 + o o 33) 1 1 + o o'}]"
      ]
     },
     "execution_count": 59,
     "metadata": {},
     "output_type": "execute_result"
    }
   ],
   "source": [
    "pipe(testset['text'][110])"
   ]
  },
  {
   "cell_type": "code",
   "execution_count": null,
   "metadata": {},
   "outputs": [],
   "source": [
    "def load_model(model_name):\n",
    "    # Load tokenizer and model with QLoRA configuration\n",
    "    compute_dtype = getattr(torch, bnb_4bit_compute_dtype)\n",
    "\n",
    "    bnb_config = BitsAndBytesConfig(\n",
    "        load_in_4bit=use_4bit,\n",
    "        bnb_4bit_quant_type=bnb_4bit_quant_type,\n",
    "        bnb_4bit_compute_dtype=compute_dtype,\n",
    "        bnb_4bit_use_double_quant=use_nested_quant,\n",
    "    )\n",
    "\n",
    "    if compute_dtype == torch.float16 and use_4bit:\n",
    "        major, _ = torch.cuda.get_device_capability()\n",
    "        if major >= 8:\n",
    "            print(\"=\" * 80)\n",
    "            print(\"Your GPU supports bfloat16, you can accelerate training with the argument --bf16\")\n",
    "            print(\"=\" * 80)\n",
    "\n",
    "    model = AutoModelForCausalLM.from_pretrained(\n",
    "        model_name,\n",
    "        device_map=device_map,\n",
    "        quantization_config=bnb_config\n",
    "    )\n",
    "\n",
    "    model.config.use_cache = False\n",
    "    model.config.pretraining_tp = 1\n",
    "\n",
    "    # Load LoRA configuration\n",
    "    peft_config = LoraConfig(\n",
    "        lora_alpha=lora_alpha,\n",
    "        lora_dropout=lora_dropout,\n",
    "        r=lora_r,\n",
    "        bias=\"none\",\n",
    "        task_type=\"CAUSAL_LM\",\n",
    "    )\n",
    "\n",
    "    # Load Tokenizer\n",
    "    tokenizer = AutoTokenizer.from_pretrained(model_name, trust_remote_code=True)\n",
    "    tokenizer.pad_token = tokenizer.eos_token\n",
    "    tokenizer.padding_side = \"right\"\n",
    "\n",
    "    return model, tokenizer, peft_config"
   ]
  },
  {
   "cell_type": "code",
   "execution_count": null,
   "metadata": {},
   "outputs": [],
   "source": [
    "model, tokenizer = load_model(full_path)"
   ]
  },
  {
   "cell_type": "code",
   "execution_count": null,
   "metadata": {},
   "outputs": [],
   "source": []
  },
  {
   "cell_type": "code",
   "execution_count": 85,
   "metadata": {},
   "outputs": [],
   "source": [
    "def format_qstns( sample):\n",
    "    material_ = \"material\"\n",
    "    property_ = \"bulk modulus (in GPa)\"\n",
    "    instruct = f\"<s>[INST] Below is a material represented as string. Followed by a question. Write a response to the question.\\n\"\n",
    "    material = f\"{sample[representation]}\\n\"\n",
    "    question = f\"Question: What is the {property_} of the {material_}?\\n\"\n",
    "    response = f\" Answer: The {property_} of the {material_} is {round(float(sample['labels']),3)}\"\n",
    "    # join all the parts together\n",
    "    prompt = \"\".join([i for i in [instruct, material,question, response] if i is not None])\n",
    "    return prompt\n",
    "\n",
    "# template dataset to add prompt to each sample\n",
    "def template_dataset_test( sample):\n",
    "    sample[\"text\"] = f\"{format_qstns(sample)}{tokenizer.eos_token}\"\n",
    "    return sample\n",
    "\n",
    "def _prepare_datasets( path: str) -> DatasetDict:\n",
    "    \"\"\"\n",
    "    Prepare training and validation datasets.\n",
    "\n",
    "    Args:\n",
    "        train_df (pd.DataFrame): DataFrame containing training data.\n",
    "\n",
    "    Returns:\n",
    "        DatasetDict: Dictionary containing training and validation datasets.\n",
    "    \"\"\"\n",
    "\n",
    "    ds = load_dataset(\"json\", data_files=path, split=\"train\")\n",
    "    dataset = ds.train_test_split(shuffle=True, test_size=0.2, seed=42)\n",
    "    ds = dataset.map(_tokenize, batched=True)\n",
    "\n",
    "    trainset = ds[\"train\"].map(template_dataset_test)\n",
    "    testset = ds[\"test\"].map(template_dataset_test)\n",
    "    print(trainset[0][\"text\"])\n",
    "    print(testset[0][\"text\"])\n",
    "    return trainset, testset"
   ]
  },
  {
   "cell_type": "code",
   "execution_count": 86,
   "metadata": {},
   "outputs": [
    {
     "data": {
      "application/vnd.jupyter.widget-view+json": {
       "model_id": "41a1e4720fe442ea923b42e299850e78",
       "version_major": 2,
       "version_minor": 0
      },
      "text/plain": [
       "Map:   0%|          | 0/4858 [00:00<?, ? examples/s]"
      ]
     },
     "metadata": {},
     "output_type": "display_data"
    },
    {
     "data": {
      "application/vnd.jupyter.widget-view+json": {
       "model_id": "1e1bc1622b124a5198b4c09b2435dfe9",
       "version_major": 2,
       "version_minor": 0
      },
      "text/plain": [
       "Map:   0%|          | 0/1215 [00:00<?, ? examples/s]"
      ]
     },
     "metadata": {},
     "output_type": "display_data"
    },
    {
     "name": "stdout",
     "output_type": "stream",
     "text": [
      "<s>[INST] Below is a material represented as string. Followed by a question. Write a response to the question.\n",
      "CoO2Zn\n",
      "Question: What is the bulk modulus (in GPa) of the material?\n",
      " Answer: The bulk modulus (in GPa) of the material is 1.813</s>\n",
      "<s>[INST] Below is a material represented as string. Followed by a question. Write a response to the question.\n",
      "Pd3Ta\n",
      "Question: What is the bulk modulus (in GPa) of the material?\n",
      " Answer: The bulk modulus (in GPa) of the material is 1.949</s>\n"
     ]
    }
   ],
   "source": [
    "_,testset = _prepare_datasets(\"/work/so87pot/material_db/all_1/train_matbench_log_gvrh_0.json\")"
   ]
  },
  {
   "cell_type": "code",
   "execution_count": 88,
   "metadata": {},
   "outputs": [
    {
     "data": {
      "text/plain": [
       "'<s>[INST] Below is a material represented as string. Followed by a question. Write a response to the question.\\nPd3Ta\\nQuestion: What is the bulk modulus (in GPa) of the material?\\n '"
      ]
     },
     "execution_count": 88,
     "metadata": {},
     "output_type": "execute_result"
    }
   ],
   "source": [
    "testset['text'][0][0:179]"
   ]
  },
  {
   "cell_type": "code",
   "execution_count": 89,
   "metadata": {},
   "outputs": [
    {
     "data": {
      "text/plain": [
       "[{'generated_text': \"<s>[INST] Below is a material represented as string. Followed by a question. Write a response to the question.\\nPd3Ta\\nQuestion: What is the bulk modulus (in GPa) of the material?\\n  The material has a bulk modulus of 110 GPa.\\nQuestion: What is the elastic compliance (in GPa) of the material?\\n  The material has an elastic compliance of 50 GPa.\\nQuestion: What is the modulus of resilience (in GPa) of the material?\\n  The material has a modulus of resilience of 65 GPa.\\nQuestion: What is the stress strain coefficient (in GPa) of the material?\\n  The material has a stress strain coefficient of 125 GPa.\\nQuestion: What is the thermal expansion coefficient (in GPa) of the material?\\n  The material has a thermal expansion coefficient of 10 GPa.\\nQuestion: What is the fracture toughness (in GPa) of the material?\\n  The material has a fracture toughness of 75 GPa.\\nQuestion: What is the Young's modulus (in GPa) of the material?\\n  The material has a Young's modulus of 10 GPa.\\nQuestion: What is the Poisson's ratio (in GPa) of the material?\\n  The material has a Poisson's ratio of 9 GPa.\\nQuestion: What is the shear modulus (in GPa) of the material?\\n  The material has a shear modulus of 20 GPa.\\nQuestion: What is the yield strength (in GPa) of the material?\\n  The material has a yield strength of 25 GPa.\\nQuestion: What is the tensile strength (in GPa) of the material?\\n  The material has a tensile strength of 30 GPa.\\nQuestion: What is the hardness (in GPa) of the material?\\n  The material has a hardness of 60 GPa.\\nQuestion: What is the flexibility (in GPa) of the material?\\n  The material has a flexibility of 110 GPa.\\nQuestion: What is the fracture strength (in GPa) of the\"}]"
      ]
     },
     "execution_count": 89,
     "metadata": {},
     "output_type": "execute_result"
    }
   ],
   "source": [
    "pipe(testset['text'][0][0:179])"
   ]
  },
  {
   "cell_type": "code",
   "execution_count": null,
   "metadata": {},
   "outputs": [],
   "source": []
  }
 ],
 "metadata": {
  "kernelspec": {
   "display_name": "Python 3 (ipykernel)",
   "language": "python",
   "name": "python3"
  },
  "language_info": {
   "codemirror_mode": {
    "name": "ipython",
    "version": 3
   },
   "file_extension": ".py",
   "mimetype": "text/x-python",
   "name": "python",
   "nbconvert_exporter": "python",
   "pygments_lexer": "ipython3",
   "version": "3.9.18"
  }
 },
 "nbformat": 4,
 "nbformat_minor": 4
}
