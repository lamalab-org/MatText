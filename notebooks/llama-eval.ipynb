{
 "cells": [
  {
   "cell_type": "code",
   "execution_count": 1,
   "metadata": {},
   "outputs": [
    {
     "name": "stderr",
     "output_type": "stream",
     "text": [
      "2024-05-14 17:11:51.452856: E external/local_xla/xla/stream_executor/cuda/cuda_dnn.cc:9261] Unable to register cuDNN factory: Attempting to register factory for plugin cuDNN when one has already been registered\n",
      "2024-05-14 17:11:51.452968: E external/local_xla/xla/stream_executor/cuda/cuda_fft.cc:607] Unable to register cuFFT factory: Attempting to register factory for plugin cuFFT when one has already been registered\n",
      "2024-05-14 17:11:51.492067: E external/local_xla/xla/stream_executor/cuda/cuda_blas.cc:1515] Unable to register cuBLAS factory: Attempting to register factory for plugin cuBLAS when one has already been registered\n",
      "2024-05-14 17:11:51.573709: I tensorflow/core/platform/cpu_feature_guard.cc:182] This TensorFlow binary is optimized to use available CPU instructions in performance-critical operations.\n",
      "To enable the following instructions: AVX2 FMA, in other operations, rebuild TensorFlow with the appropriate compiler flags.\n",
      "2024-05-14 17:11:52.755983: W tensorflow/compiler/tf2tensorrt/utils/py_utils.cc:38] TF-TRT Warning: Could not find TensorRT\n"
     ]
    }
   ],
   "source": [
    "\n",
    "import os\n",
    "import numpy as np\n",
    "import pandas as pd\n",
    "\n",
    "\n",
    "from torch.utils.data import Dataset\n",
    "from peft import (\n",
    "    LoraConfig, \n",
    "    get_peft_model, \n",
    ")\n",
    "\n",
    "from functools import partial\n",
    "from typing import Any, Dict, List\n",
    "\n",
    "import torch\n",
    "import wandb\n",
    "from datasets import DatasetDict, load_dataset\n",
    "from omegaconf import DictConfig\n",
    "\n",
    "from torch import nn\n",
    "\n",
    "from transformers import (\n",
    "    LlamaTokenizer, \n",
    "    LlamaForSequenceClassification,\n",
    "    AutoModelForCausalLM,\n",
    "    AutoTokenizer,\n",
    "    Trainer, \n",
    "    TrainingArguments,\n",
    "    AutoModelForSequenceClassification,\n",
    "    EarlyStoppingCallback,\n",
    "    TrainerCallback,\n",
    ")\n",
    "\n",
    "from structllm.models.utils import CustomWandbCallback_FineTune, EvaluateFirstStepCallback\n"
   ]
  },
  {
   "cell_type": "code",
   "execution_count": 2,
   "metadata": {},
   "outputs": [],
   "source": [
    "\n",
    "final_try = \"/work/so87pot/structllm/megaloop2/finetune/demo/comp_perov/finetuned_train_cif_p1_matbench_log_kvrh_0/llamav2-7b-lora-fine-tune\"\n",
    "adapter_path = \"/work/so87pot/structllm/megaloop2/finetune/lama_sft_new/checkpoints/finetuned_train_slice_matbench_log_gvrh_0/llamav2-7b-lora-fine-tune\"\n",
    "pt_ckpt = \"/work/so87pot/structllm/megaloop2/finetune/lama_sft_new/checkpoints/finetuned_train_slice_matbench_log_gvrh_0/\""
   ]
  },
  {
   "cell_type": "code",
   "execution_count": 3,
   "metadata": {},
   "outputs": [],
   "source": [
    "IGNORE_INDEX = -100\n",
    "MAX_LENGTH = 2048\n",
    "DEFAULT_PAD_TOKEN = \"[PAD]\"\n",
    "DEFAULT_EOS_TOKEN = \"</s>\"\n",
    "DEFAULT_BOS_TOKEN = \"<s>\"\n",
    "DEFAULT_UNK_TOKEN = \"<unk>\"\n",
    "\n",
    "def smart_tokenizer_and_embedding_resize(\n",
    "    special_tokens_dict, \n",
    "    llama_tokenizer, \n",
    "    model,\n",
    "):\n",
    "    \"\"\"Resize tokenizer and embedding.\n",
    "\n",
    "    Note: This is the unoptimized version that may make your embedding size not be divisible by 64.\n",
    "    \"\"\"\n",
    "    num_new_tokens = llama_tokenizer.add_special_tokens(special_tokens_dict)\n",
    "    llama_tokenizer.add_special_tokens(special_tokens_dict)\n",
    "    model.resize_token_embeddings(len(llama_tokenizer),pad_to_multiple_of=8)\n",
    "\n",
    "    if num_new_tokens > 0:\n",
    "        input_embeddings = model.get_input_embeddings().weight.data\n",
    "        input_embeddings_avg = input_embeddings[:-num_new_tokens].mean(dim=0, keepdim=True)\n",
    "        input_embeddings[-num_new_tokens:] = input_embeddings_avg\n",
    "\n",
    "    model.config.pad_token_id = llama_tokenizer.pad_token_id"
   ]
  },
  {
   "cell_type": "code",
   "execution_count": 31,
   "metadata": {},
   "outputs": [
    {
     "data": {
      "application/vnd.jupyter.widget-view+json": {
       "model_id": "d89741a984d14af6a91bd5e75c0495d5",
       "version_major": 2,
       "version_minor": 0
      },
      "text/plain": [
       "Loading checkpoint shards:   0%|          | 0/2 [00:00<?, ?it/s]"
      ]
     },
     "metadata": {},
     "output_type": "display_data"
    },
    {
     "name": "stdout",
     "output_type": "stream",
     "text": [
      "{'pad_token': '[PAD]'}\n"
     ]
    }
   ],
   "source": [
    "from peft import LoraConfig, PeftModel, get_peft_model\n",
    "\n",
    "pretrained_ckpt = \"meta-llama/Llama-2-7b-hf\"\n",
    "base_model = AutoModelForCausalLM.from_pretrained(\n",
    "    pretrained_ckpt,\n",
    "    low_cpu_mem_usage=True,\n",
    "    return_dict=True,\n",
    "    torch_dtype=torch.float16,\n",
    "    device_map=\"auto\",\n",
    ")\n",
    "\n",
    "tokenizer = AutoTokenizer.from_pretrained(pretrained_ckpt, trust_remote_code=True)\n",
    "special_tokens_dict = dict()\n",
    "if tokenizer.pad_token is None:\n",
    "    special_tokens_dict[\"pad_token\"] = DEFAULT_PAD_TOKEN\n",
    "if tokenizer.eos_token is None:\n",
    "    special_tokens_dict[\"eos_token\"] = DEFAULT_EOS_TOKEN\n",
    "if tokenizer.bos_token is None:\n",
    "    special_tokens_dict[\"bos_token\"] = DEFAULT_BOS_TOKEN\n",
    "if tokenizer.unk_token is None:\n",
    "    special_tokens_dict[\"unk_token\"] = DEFAULT_UNK_TOKEN\n",
    "\n",
    "print(special_tokens_dict)\n",
    "\n",
    "smart_tokenizer_and_embedding_resize(\n",
    "            special_tokens_dict=special_tokens_dict,\n",
    "            llama_tokenizer=tokenizer,\n",
    "            model=base_model,\n",
    "        )\n",
    "\n"
   ]
  },
  {
   "cell_type": "code",
   "execution_count": 32,
   "metadata": {},
   "outputs": [
    {
     "ename": "ValueError",
     "evalue": "Can't find 'adapter_config.json' at '/work/so87pot/structllm/megaloop2/finetune/lama_sft_new/checkpoints/finetuned_train_slice_matbench_log_gvrh_0/'",
     "output_type": "error",
     "traceback": [
      "\u001b[0;31m---------------------------------------------------------------------------\u001b[0m",
      "\u001b[0;31mHFValidationError\u001b[0m                         Traceback (most recent call last)",
      "File \u001b[0;32m~/miniconda3/envs/slice_llm/lib/python3.9/site-packages/peft/config.py:197\u001b[0m, in \u001b[0;36mPeftConfigMixin._get_peft_type\u001b[0;34m(cls, model_id, **hf_hub_download_kwargs)\u001b[0m\n\u001b[1;32m    196\u001b[0m \u001b[38;5;28;01mtry\u001b[39;00m:\n\u001b[0;32m--> 197\u001b[0m     config_file \u001b[38;5;241m=\u001b[39m \u001b[43mhf_hub_download\u001b[49m\u001b[43m(\u001b[49m\n\u001b[1;32m    198\u001b[0m \u001b[43m        \u001b[49m\u001b[43mmodel_id\u001b[49m\u001b[43m,\u001b[49m\n\u001b[1;32m    199\u001b[0m \u001b[43m        \u001b[49m\u001b[43mCONFIG_NAME\u001b[49m\u001b[43m,\u001b[49m\n\u001b[1;32m    200\u001b[0m \u001b[43m        \u001b[49m\u001b[38;5;241;43m*\u001b[39;49m\u001b[38;5;241;43m*\u001b[39;49m\u001b[43mhf_hub_download_kwargs\u001b[49m\u001b[43m,\u001b[49m\n\u001b[1;32m    201\u001b[0m \u001b[43m    \u001b[49m\u001b[43m)\u001b[49m\n\u001b[1;32m    202\u001b[0m \u001b[38;5;28;01mexcept\u001b[39;00m \u001b[38;5;167;01mException\u001b[39;00m:\n",
      "File \u001b[0;32m~/miniconda3/envs/slice_llm/lib/python3.9/site-packages/huggingface_hub/utils/_validators.py:110\u001b[0m, in \u001b[0;36mvalidate_hf_hub_args.<locals>._inner_fn\u001b[0;34m(*args, **kwargs)\u001b[0m\n\u001b[1;32m    109\u001b[0m \u001b[38;5;28;01mif\u001b[39;00m arg_name \u001b[38;5;129;01min\u001b[39;00m [\u001b[38;5;124m\"\u001b[39m\u001b[38;5;124mrepo_id\u001b[39m\u001b[38;5;124m\"\u001b[39m, \u001b[38;5;124m\"\u001b[39m\u001b[38;5;124mfrom_id\u001b[39m\u001b[38;5;124m\"\u001b[39m, \u001b[38;5;124m\"\u001b[39m\u001b[38;5;124mto_id\u001b[39m\u001b[38;5;124m\"\u001b[39m]:\n\u001b[0;32m--> 110\u001b[0m     \u001b[43mvalidate_repo_id\u001b[49m\u001b[43m(\u001b[49m\u001b[43marg_value\u001b[49m\u001b[43m)\u001b[49m\n\u001b[1;32m    112\u001b[0m \u001b[38;5;28;01melif\u001b[39;00m arg_name \u001b[38;5;241m==\u001b[39m \u001b[38;5;124m\"\u001b[39m\u001b[38;5;124mtoken\u001b[39m\u001b[38;5;124m\"\u001b[39m \u001b[38;5;129;01mand\u001b[39;00m arg_value \u001b[38;5;129;01mis\u001b[39;00m \u001b[38;5;129;01mnot\u001b[39;00m \u001b[38;5;28;01mNone\u001b[39;00m:\n",
      "File \u001b[0;32m~/miniconda3/envs/slice_llm/lib/python3.9/site-packages/huggingface_hub/utils/_validators.py:158\u001b[0m, in \u001b[0;36mvalidate_repo_id\u001b[0;34m(repo_id)\u001b[0m\n\u001b[1;32m    157\u001b[0m \u001b[38;5;28;01mif\u001b[39;00m repo_id\u001b[38;5;241m.\u001b[39mcount(\u001b[38;5;124m\"\u001b[39m\u001b[38;5;124m/\u001b[39m\u001b[38;5;124m\"\u001b[39m) \u001b[38;5;241m>\u001b[39m \u001b[38;5;241m1\u001b[39m:\n\u001b[0;32m--> 158\u001b[0m     \u001b[38;5;28;01mraise\u001b[39;00m HFValidationError(\n\u001b[1;32m    159\u001b[0m         \u001b[38;5;124m\"\u001b[39m\u001b[38;5;124mRepo id must be in the form \u001b[39m\u001b[38;5;124m'\u001b[39m\u001b[38;5;124mrepo_name\u001b[39m\u001b[38;5;124m'\u001b[39m\u001b[38;5;124m or \u001b[39m\u001b[38;5;124m'\u001b[39m\u001b[38;5;124mnamespace/repo_name\u001b[39m\u001b[38;5;124m'\u001b[39m\u001b[38;5;124m:\u001b[39m\u001b[38;5;124m\"\u001b[39m\n\u001b[1;32m    160\u001b[0m         \u001b[38;5;124mf\u001b[39m\u001b[38;5;124m\"\u001b[39m\u001b[38;5;124m \u001b[39m\u001b[38;5;124m'\u001b[39m\u001b[38;5;132;01m{\u001b[39;00mrepo_id\u001b[38;5;132;01m}\u001b[39;00m\u001b[38;5;124m'\u001b[39m\u001b[38;5;124m. Use `repo_type` argument if needed.\u001b[39m\u001b[38;5;124m\"\u001b[39m\n\u001b[1;32m    161\u001b[0m     )\n\u001b[1;32m    163\u001b[0m \u001b[38;5;28;01mif\u001b[39;00m \u001b[38;5;129;01mnot\u001b[39;00m REPO_ID_REGEX\u001b[38;5;241m.\u001b[39mmatch(repo_id):\n",
      "\u001b[0;31mHFValidationError\u001b[0m: Repo id must be in the form 'repo_name' or 'namespace/repo_name': '/work/so87pot/structllm/megaloop2/finetune/lama_sft_new/checkpoints/finetuned_train_slice_matbench_log_gvrh_0/'. Use `repo_type` argument if needed.",
      "\nDuring handling of the above exception, another exception occurred:\n",
      "\u001b[0;31mValueError\u001b[0m                                Traceback (most recent call last)",
      "Cell \u001b[0;32mIn[32], line 3\u001b[0m\n\u001b[1;32m      1\u001b[0m \u001b[38;5;66;03m#model = PeftModel.from_pretrained(model, final_try, device_map=\"auto\")\u001b[39;00m\n\u001b[0;32m----> 3\u001b[0m model \u001b[38;5;241m=\u001b[39m \u001b[43mPeftModel\u001b[49m\u001b[38;5;241;43m.\u001b[39;49m\u001b[43mfrom_pretrained\u001b[49m\u001b[43m(\u001b[49m\u001b[43mbase_model\u001b[49m\u001b[43m,\u001b[49m\u001b[43m \u001b[49m\u001b[43mpt_ckpt\u001b[49m\u001b[43m)\u001b[49m\n\u001b[1;32m      4\u001b[0m model \u001b[38;5;241m=\u001b[39m model\u001b[38;5;241m.\u001b[39mmerge_and_unload()\n",
      "File \u001b[0;32m~/miniconda3/envs/slice_llm/lib/python3.9/site-packages/peft/peft_model.py:328\u001b[0m, in \u001b[0;36mPeftModel.from_pretrained\u001b[0;34m(cls, model, model_id, adapter_name, is_trainable, config, **kwargs)\u001b[0m\n\u001b[1;32m    325\u001b[0m \u001b[38;5;66;03m# load the config\u001b[39;00m\n\u001b[1;32m    326\u001b[0m \u001b[38;5;28;01mif\u001b[39;00m config \u001b[38;5;129;01mis\u001b[39;00m \u001b[38;5;28;01mNone\u001b[39;00m:\n\u001b[1;32m    327\u001b[0m     config \u001b[38;5;241m=\u001b[39m PEFT_TYPE_TO_CONFIG_MAPPING[\n\u001b[0;32m--> 328\u001b[0m         \u001b[43mPeftConfig\u001b[49m\u001b[38;5;241;43m.\u001b[39;49m\u001b[43m_get_peft_type\u001b[49m\u001b[43m(\u001b[49m\n\u001b[1;32m    329\u001b[0m \u001b[43m            \u001b[49m\u001b[43mmodel_id\u001b[49m\u001b[43m,\u001b[49m\n\u001b[1;32m    330\u001b[0m \u001b[43m            \u001b[49m\u001b[43msubfolder\u001b[49m\u001b[38;5;241;43m=\u001b[39;49m\u001b[43mkwargs\u001b[49m\u001b[38;5;241;43m.\u001b[39;49m\u001b[43mget\u001b[49m\u001b[43m(\u001b[49m\u001b[38;5;124;43m\"\u001b[39;49m\u001b[38;5;124;43msubfolder\u001b[39;49m\u001b[38;5;124;43m\"\u001b[39;49m\u001b[43m,\u001b[49m\u001b[43m \u001b[49m\u001b[38;5;28;43;01mNone\u001b[39;49;00m\u001b[43m)\u001b[49m\u001b[43m,\u001b[49m\n\u001b[1;32m    331\u001b[0m \u001b[43m            \u001b[49m\u001b[43mrevision\u001b[49m\u001b[38;5;241;43m=\u001b[39;49m\u001b[43mkwargs\u001b[49m\u001b[38;5;241;43m.\u001b[39;49m\u001b[43mget\u001b[49m\u001b[43m(\u001b[49m\u001b[38;5;124;43m\"\u001b[39;49m\u001b[38;5;124;43mrevision\u001b[39;49m\u001b[38;5;124;43m\"\u001b[39;49m\u001b[43m,\u001b[49m\u001b[43m \u001b[49m\u001b[38;5;28;43;01mNone\u001b[39;49;00m\u001b[43m)\u001b[49m\u001b[43m,\u001b[49m\n\u001b[1;32m    332\u001b[0m \u001b[43m            \u001b[49m\u001b[43mcache_dir\u001b[49m\u001b[38;5;241;43m=\u001b[39;49m\u001b[43mkwargs\u001b[49m\u001b[38;5;241;43m.\u001b[39;49m\u001b[43mget\u001b[49m\u001b[43m(\u001b[49m\u001b[38;5;124;43m\"\u001b[39;49m\u001b[38;5;124;43mcache_dir\u001b[39;49m\u001b[38;5;124;43m\"\u001b[39;49m\u001b[43m,\u001b[49m\u001b[43m \u001b[49m\u001b[38;5;28;43;01mNone\u001b[39;49;00m\u001b[43m)\u001b[49m\u001b[43m,\u001b[49m\n\u001b[1;32m    333\u001b[0m \u001b[43m            \u001b[49m\u001b[43muse_auth_token\u001b[49m\u001b[38;5;241;43m=\u001b[39;49m\u001b[43mkwargs\u001b[49m\u001b[38;5;241;43m.\u001b[39;49m\u001b[43mget\u001b[49m\u001b[43m(\u001b[49m\u001b[38;5;124;43m\"\u001b[39;49m\u001b[38;5;124;43muse_auth_token\u001b[39;49m\u001b[38;5;124;43m\"\u001b[39;49m\u001b[43m,\u001b[49m\u001b[43m \u001b[49m\u001b[38;5;28;43;01mNone\u001b[39;49;00m\u001b[43m)\u001b[49m\u001b[43m,\u001b[49m\n\u001b[1;32m    334\u001b[0m \u001b[43m            \u001b[49m\u001b[43mtoken\u001b[49m\u001b[38;5;241;43m=\u001b[39;49m\u001b[43mkwargs\u001b[49m\u001b[38;5;241;43m.\u001b[39;49m\u001b[43mget\u001b[49m\u001b[43m(\u001b[49m\u001b[38;5;124;43m\"\u001b[39;49m\u001b[38;5;124;43mtoken\u001b[39;49m\u001b[38;5;124;43m\"\u001b[39;49m\u001b[43m,\u001b[49m\u001b[43m \u001b[49m\u001b[38;5;28;43;01mNone\u001b[39;49;00m\u001b[43m)\u001b[49m\u001b[43m,\u001b[49m\n\u001b[1;32m    335\u001b[0m \u001b[43m        \u001b[49m\u001b[43m)\u001b[49m\n\u001b[1;32m    336\u001b[0m     ]\u001b[38;5;241m.\u001b[39mfrom_pretrained(model_id, \u001b[38;5;241m*\u001b[39m\u001b[38;5;241m*\u001b[39mkwargs)\n\u001b[1;32m    337\u001b[0m \u001b[38;5;28;01melif\u001b[39;00m \u001b[38;5;28misinstance\u001b[39m(config, PeftConfig):\n\u001b[1;32m    338\u001b[0m     config\u001b[38;5;241m.\u001b[39minference_mode \u001b[38;5;241m=\u001b[39m \u001b[38;5;129;01mnot\u001b[39;00m is_trainable\n",
      "File \u001b[0;32m~/miniconda3/envs/slice_llm/lib/python3.9/site-packages/peft/config.py:203\u001b[0m, in \u001b[0;36mPeftConfigMixin._get_peft_type\u001b[0;34m(cls, model_id, **hf_hub_download_kwargs)\u001b[0m\n\u001b[1;32m    197\u001b[0m         config_file \u001b[38;5;241m=\u001b[39m hf_hub_download(\n\u001b[1;32m    198\u001b[0m             model_id,\n\u001b[1;32m    199\u001b[0m             CONFIG_NAME,\n\u001b[1;32m    200\u001b[0m             \u001b[38;5;241m*\u001b[39m\u001b[38;5;241m*\u001b[39mhf_hub_download_kwargs,\n\u001b[1;32m    201\u001b[0m         )\n\u001b[1;32m    202\u001b[0m     \u001b[38;5;28;01mexcept\u001b[39;00m \u001b[38;5;167;01mException\u001b[39;00m:\n\u001b[0;32m--> 203\u001b[0m         \u001b[38;5;28;01mraise\u001b[39;00m \u001b[38;5;167;01mValueError\u001b[39;00m(\u001b[38;5;124mf\u001b[39m\u001b[38;5;124m\"\u001b[39m\u001b[38;5;124mCan\u001b[39m\u001b[38;5;124m'\u001b[39m\u001b[38;5;124mt find \u001b[39m\u001b[38;5;124m'\u001b[39m\u001b[38;5;132;01m{\u001b[39;00mCONFIG_NAME\u001b[38;5;132;01m}\u001b[39;00m\u001b[38;5;124m'\u001b[39m\u001b[38;5;124m at \u001b[39m\u001b[38;5;124m'\u001b[39m\u001b[38;5;132;01m{\u001b[39;00mmodel_id\u001b[38;5;132;01m}\u001b[39;00m\u001b[38;5;124m'\u001b[39m\u001b[38;5;124m\"\u001b[39m)\n\u001b[1;32m    205\u001b[0m loaded_attributes \u001b[38;5;241m=\u001b[39m \u001b[38;5;28mcls\u001b[39m\u001b[38;5;241m.\u001b[39mfrom_json_file(config_file)\n\u001b[1;32m    206\u001b[0m \u001b[38;5;28;01mreturn\u001b[39;00m loaded_attributes[\u001b[38;5;124m\"\u001b[39m\u001b[38;5;124mpeft_type\u001b[39m\u001b[38;5;124m\"\u001b[39m]\n",
      "\u001b[0;31mValueError\u001b[0m: Can't find 'adapter_config.json' at '/work/so87pot/structllm/megaloop2/finetune/lama_sft_new/checkpoints/finetuned_train_slice_matbench_log_gvrh_0/'"
     ]
    }
   ],
   "source": [
    "#model = PeftModel.from_pretrained(model, final_try, device_map=\"auto\")\n",
    "\n",
    "model = PeftModel.from_pretrained(base_model, pt_ckpt)\n",
    "model = model.merge_and_unload()\n",
    "\n"
   ]
  },
  {
   "cell_type": "code",
   "execution_count": 6,
   "metadata": {},
   "outputs": [],
   "source": [
    "from transformers import pipeline, logging"
   ]
  },
  {
   "cell_type": "code",
   "execution_count": 27,
   "metadata": {},
   "outputs": [],
   "source": [
    "\n",
    "# Suppress Hugging Face pipeline logging\n",
    "logging.set_verbosity(logging.CRITICAL)\n",
    "\n",
    "# Initialize the pipeline\n",
    "pipe = pipeline(task=\"text-generation\",\n",
    "                model=base_model,\n",
    "                tokenizer=tokenizer,\n",
    "                max_length=1024,\n",
    "                do_sample=True,\n",
    "                temperature=0.9)"
   ]
  },
  {
   "cell_type": "code",
   "execution_count": 28,
   "metadata": {},
   "outputs": [],
   "source": [
    "representation =\"slice\"\n",
    "\n",
    "PROPERTY_MAP : {\n",
    "    \"matbench_log_gvrh\" : \"shear modulus (in GPa)\",\n",
    "    \"matbench_log_kvrh\" : \"bulk modulus (in GPa)\",\n",
    "    \"matbench_dielectric\" : \"refractive index\",\n",
    "    \"matbench_perovskites\" : \"formation energy (in eV)\",}\n",
    "\n",
    "MATERIAL_MAP : {\n",
    "    \"matbench_log_gvrh\" : \"material\",\n",
    "    \"matbench_log_kvrh\" : \"material\",\n",
    "    \"matbench_dielectric\" : \"dielectric material\",\n",
    "    \"matbench_perovskites\" : \"perovskite material\",   }\n",
    "\n",
    "\n",
    "def _tokenize( examples):\n",
    "        tokenized_examples = tokenizer(\n",
    "            examples[representation],\n",
    "            truncation=True,\n",
    "            padding=True,\n",
    "            return_tensors=\"pt\",\n",
    "        )\n",
    "        return tokenized_examples\n",
    "\n",
    "def format_qstns( sample):\n",
    "    material_ = \"material\"\n",
    "    property_ = \"bulk modulus (in GPa)\"\n",
    "    question = f\"<s>Question: What is the {property_} of the {material_} \"\n",
    "    material = f\"{sample[representation]}\"\n",
    "    response = f\" Answer:{tokenizer.eos_token}\"\n",
    "    # join all the parts together\n",
    "    prompt = \"\".join([i for i in [question, material, response] if i is not None])\n",
    "    return prompt\n",
    "\n",
    "# template dataset to add prompt to each sample\n",
    "def template_dataset_test( sample):\n",
    "    sample[\"text\"] = f\"{format_qstns(sample)}\"\n",
    "    return sample\n",
    "\n",
    "def _prepare_datasets( path: str) -> DatasetDict:\n",
    "    \"\"\"\n",
    "    Prepare training and validation datasets.\n",
    "\n",
    "    Args:\n",
    "        train_df (pd.DataFrame): DataFrame containing training data.\n",
    "\n",
    "    Returns:\n",
    "        DatasetDict: Dictionary containing training and validation datasets.\n",
    "    \"\"\"\n",
    "\n",
    "    ds = load_dataset(\"json\", data_files=path, split=\"train\")\n",
    "    dataset = ds.train_test_split(shuffle=True, test_size=0.2, seed=42)\n",
    "    ds = dataset.map(_tokenize, batched=True)\n",
    "\n",
    "    trainset = ds[\"train\"].map(template_dataset_test)\n",
    "    testset = ds[\"test\"].map(template_dataset_test)\n",
    "    print(trainset[0][\"text\"])\n",
    "    print(testset[0][\"text\"])\n",
    "    return trainset, testset"
   ]
  },
  {
   "cell_type": "code",
   "execution_count": 29,
   "metadata": {},
   "outputs": [
    {
     "name": "stdout",
     "output_type": "stream",
     "text": [
      "<s>Question: What is the bulk modulus (in GPa) of the material Zn Co O O 0 2 o - o 0 2 - o o 0 2 o o - 0 3 - - o 0 3 o - - 0 3 - o - 1 3 o - o 1 3 - o o 1 3 o o - 1 2 o o + 1 2 + o o 1 2 o + o  Answer:</s>\n",
      "<s>Question: What is the bulk modulus (in GPa) of the material Ta Pd Pd Pd 0 3 - - - 0 3 - o - 0 3 - o o 0 3 o o o 0 2 - - - 0 2 o - - 0 2 o - o 0 2 o o o 0 1 - - o 0 1 - o o 0 1 o - o 0 1 o o o 1 2 o - - 1 2 o o - 1 2 o o o 1 2 + o o 1 3 - o - 1 3 o o - 1 3 o o o 1 3 o + o 2 3 - o o 2 3 - + o 2 3 o o o 2 3 o + o  Answer:</s>\n"
     ]
    }
   ],
   "source": [
    "_,testset = _prepare_datasets(\"/work/so87pot/material_db/all_1/train_matbench_log_gvrh_0.json\")"
   ]
  },
  {
   "cell_type": "code",
   "execution_count": 11,
   "metadata": {},
   "outputs": [
    {
     "data": {
      "text/plain": [
       "\"<s>Question: What is the bulk modulus (in GPa) of the material data_Ge\\n_symmetry_space_group_name_H-M   'P 1'\\n_cell_length_a   6.03\\n_cell_length_b   6.03\\n_cell_length_c   7.11\\n_cell_angle_alpha   90.0\\n_cell_angle_beta   90.0\\n_cell_angle_gamma   90.0\\n_symmetry_Int_Tables_number   1\\n_chemical_formula_structural   Ge\\n_chemical_formula_sum   Ge12\\n_cell_volume   258.09\\n_cell_formula_units_Z   12\\nloop_\\n _symmetry_equiv_pos_site_id\\n _symmetry_equiv_pos_as_xyz\\n  1  'x, y, z'\\nloop_\\n _atom_site_type_symbol\\n _atom_site_label\\n _atom_site_symmetry_multiplicity\\n _atom_site_fract_x\\n _atom_site_fract_y\\n _atom_site_fract_z\\n _atom_site_occupancy\\n  Ge  Ge0  1  0.09  0.09  0.0  1.0\\n  Ge  Ge1  1  0.41  0.59  0.75  1.0\\n  Ge  Ge2  1  0.59  0.41  0.25  1.0\\n  Ge  Ge3  1  0.91  0.91  0.5  1.0\\n  Ge  Ge4  1  0.17  0.37  0.25  1.0\\n  Ge  Ge5  1  0.13  0.67  0.0  1.0\\n  Ge  Ge6  1  0.87  0.33  0.5  1.0\\n  Ge  Ge7  1  0.67  0.13  1.0  1.0\\n  Ge  Ge8  1  0.33  0.87  0.5  1.0\\n  Ge  Ge9  1  0.83  0.63  0.75  1.0\\n  Ge  Ge10  1  0.37  0.17  0.75  1.0\\n  Ge  Ge11  1  0.63  0.83  0.25  1.0\\n Answer:\""
      ]
     },
     "execution_count": 11,
     "metadata": {},
     "output_type": "execute_result"
    }
   ],
   "source": [
    "testset['text'][11][:-4]"
   ]
  },
  {
   "cell_type": "code",
   "execution_count": 30,
   "metadata": {},
   "outputs": [
    {
     "ename": "RuntimeError",
     "evalue": "probability tensor contains either `inf`, `nan` or element < 0",
     "output_type": "error",
     "traceback": [
      "\u001b[0;31m---------------------------------------------------------------------------\u001b[0m",
      "\u001b[0;31mRuntimeError\u001b[0m                              Traceback (most recent call last)",
      "Cell \u001b[0;32mIn[30], line 1\u001b[0m\n\u001b[0;32m----> 1\u001b[0m result \u001b[38;5;241m=\u001b[39m \u001b[43mpipe\u001b[49m\u001b[43m(\u001b[49m\u001b[43mtestset\u001b[49m\u001b[43m[\u001b[49m\u001b[38;5;124;43m'\u001b[39;49m\u001b[38;5;124;43mtext\u001b[39;49m\u001b[38;5;124;43m'\u001b[39;49m\u001b[43m]\u001b[49m\u001b[43m[\u001b[49m\u001b[38;5;241;43m39\u001b[39;49m\u001b[43m]\u001b[49m\u001b[43m[\u001b[49m\u001b[43m:\u001b[49m\u001b[38;5;241;43m-\u001b[39;49m\u001b[38;5;241;43m4\u001b[39;49m\u001b[43m]\u001b[49m\u001b[43m)\u001b[49m\n",
      "File \u001b[0;32m~/miniconda3/envs/slice_llm/lib/python3.9/site-packages/transformers/pipelines/text_generation.py:241\u001b[0m, in \u001b[0;36mTextGenerationPipeline.__call__\u001b[0;34m(self, text_inputs, **kwargs)\u001b[0m\n\u001b[1;32m    239\u001b[0m         \u001b[38;5;28;01mreturn\u001b[39;00m \u001b[38;5;28msuper\u001b[39m()\u001b[38;5;241m.\u001b[39m\u001b[38;5;21m__call__\u001b[39m(chats, \u001b[38;5;241m*\u001b[39m\u001b[38;5;241m*\u001b[39mkwargs)\n\u001b[1;32m    240\u001b[0m \u001b[38;5;28;01melse\u001b[39;00m:\n\u001b[0;32m--> 241\u001b[0m     \u001b[38;5;28;01mreturn\u001b[39;00m \u001b[38;5;28;43msuper\u001b[39;49m\u001b[43m(\u001b[49m\u001b[43m)\u001b[49m\u001b[38;5;241;43m.\u001b[39;49m\u001b[38;5;21;43m__call__\u001b[39;49m\u001b[43m(\u001b[49m\u001b[43mtext_inputs\u001b[49m\u001b[43m,\u001b[49m\u001b[43m \u001b[49m\u001b[38;5;241;43m*\u001b[39;49m\u001b[38;5;241;43m*\u001b[39;49m\u001b[43mkwargs\u001b[49m\u001b[43m)\u001b[49m\n",
      "File \u001b[0;32m~/miniconda3/envs/slice_llm/lib/python3.9/site-packages/transformers/pipelines/base.py:1196\u001b[0m, in \u001b[0;36mPipeline.__call__\u001b[0;34m(self, inputs, num_workers, batch_size, *args, **kwargs)\u001b[0m\n\u001b[1;32m   1188\u001b[0m     \u001b[38;5;28;01mreturn\u001b[39;00m \u001b[38;5;28mnext\u001b[39m(\n\u001b[1;32m   1189\u001b[0m         \u001b[38;5;28miter\u001b[39m(\n\u001b[1;32m   1190\u001b[0m             \u001b[38;5;28mself\u001b[39m\u001b[38;5;241m.\u001b[39mget_iterator(\n\u001b[0;32m   (...)\u001b[0m\n\u001b[1;32m   1193\u001b[0m         )\n\u001b[1;32m   1194\u001b[0m     )\n\u001b[1;32m   1195\u001b[0m \u001b[38;5;28;01melse\u001b[39;00m:\n\u001b[0;32m-> 1196\u001b[0m     \u001b[38;5;28;01mreturn\u001b[39;00m \u001b[38;5;28;43mself\u001b[39;49m\u001b[38;5;241;43m.\u001b[39;49m\u001b[43mrun_single\u001b[49m\u001b[43m(\u001b[49m\u001b[43minputs\u001b[49m\u001b[43m,\u001b[49m\u001b[43m \u001b[49m\u001b[43mpreprocess_params\u001b[49m\u001b[43m,\u001b[49m\u001b[43m \u001b[49m\u001b[43mforward_params\u001b[49m\u001b[43m,\u001b[49m\u001b[43m \u001b[49m\u001b[43mpostprocess_params\u001b[49m\u001b[43m)\u001b[49m\n",
      "File \u001b[0;32m~/miniconda3/envs/slice_llm/lib/python3.9/site-packages/transformers/pipelines/base.py:1203\u001b[0m, in \u001b[0;36mPipeline.run_single\u001b[0;34m(self, inputs, preprocess_params, forward_params, postprocess_params)\u001b[0m\n\u001b[1;32m   1201\u001b[0m \u001b[38;5;28;01mdef\u001b[39;00m \u001b[38;5;21mrun_single\u001b[39m(\u001b[38;5;28mself\u001b[39m, inputs, preprocess_params, forward_params, postprocess_params):\n\u001b[1;32m   1202\u001b[0m     model_inputs \u001b[38;5;241m=\u001b[39m \u001b[38;5;28mself\u001b[39m\u001b[38;5;241m.\u001b[39mpreprocess(inputs, \u001b[38;5;241m*\u001b[39m\u001b[38;5;241m*\u001b[39mpreprocess_params)\n\u001b[0;32m-> 1203\u001b[0m     model_outputs \u001b[38;5;241m=\u001b[39m \u001b[38;5;28;43mself\u001b[39;49m\u001b[38;5;241;43m.\u001b[39;49m\u001b[43mforward\u001b[49m\u001b[43m(\u001b[49m\u001b[43mmodel_inputs\u001b[49m\u001b[43m,\u001b[49m\u001b[43m \u001b[49m\u001b[38;5;241;43m*\u001b[39;49m\u001b[38;5;241;43m*\u001b[39;49m\u001b[43mforward_params\u001b[49m\u001b[43m)\u001b[49m\n\u001b[1;32m   1204\u001b[0m     outputs \u001b[38;5;241m=\u001b[39m \u001b[38;5;28mself\u001b[39m\u001b[38;5;241m.\u001b[39mpostprocess(model_outputs, \u001b[38;5;241m*\u001b[39m\u001b[38;5;241m*\u001b[39mpostprocess_params)\n\u001b[1;32m   1205\u001b[0m     \u001b[38;5;28;01mreturn\u001b[39;00m outputs\n",
      "File \u001b[0;32m~/miniconda3/envs/slice_llm/lib/python3.9/site-packages/transformers/pipelines/base.py:1102\u001b[0m, in \u001b[0;36mPipeline.forward\u001b[0;34m(self, model_inputs, **forward_params)\u001b[0m\n\u001b[1;32m   1100\u001b[0m     \u001b[38;5;28;01mwith\u001b[39;00m inference_context():\n\u001b[1;32m   1101\u001b[0m         model_inputs \u001b[38;5;241m=\u001b[39m \u001b[38;5;28mself\u001b[39m\u001b[38;5;241m.\u001b[39m_ensure_tensor_on_device(model_inputs, device\u001b[38;5;241m=\u001b[39m\u001b[38;5;28mself\u001b[39m\u001b[38;5;241m.\u001b[39mdevice)\n\u001b[0;32m-> 1102\u001b[0m         model_outputs \u001b[38;5;241m=\u001b[39m \u001b[38;5;28;43mself\u001b[39;49m\u001b[38;5;241;43m.\u001b[39;49m\u001b[43m_forward\u001b[49m\u001b[43m(\u001b[49m\u001b[43mmodel_inputs\u001b[49m\u001b[43m,\u001b[49m\u001b[43m \u001b[49m\u001b[38;5;241;43m*\u001b[39;49m\u001b[38;5;241;43m*\u001b[39;49m\u001b[43mforward_params\u001b[49m\u001b[43m)\u001b[49m\n\u001b[1;32m   1103\u001b[0m         model_outputs \u001b[38;5;241m=\u001b[39m \u001b[38;5;28mself\u001b[39m\u001b[38;5;241m.\u001b[39m_ensure_tensor_on_device(model_outputs, device\u001b[38;5;241m=\u001b[39mtorch\u001b[38;5;241m.\u001b[39mdevice(\u001b[38;5;124m\"\u001b[39m\u001b[38;5;124mcpu\u001b[39m\u001b[38;5;124m\"\u001b[39m))\n\u001b[1;32m   1104\u001b[0m \u001b[38;5;28;01melse\u001b[39;00m:\n",
      "File \u001b[0;32m~/miniconda3/envs/slice_llm/lib/python3.9/site-packages/transformers/pipelines/text_generation.py:328\u001b[0m, in \u001b[0;36mTextGenerationPipeline._forward\u001b[0;34m(self, model_inputs, **generate_kwargs)\u001b[0m\n\u001b[1;32m    325\u001b[0m         generate_kwargs[\u001b[38;5;124m\"\u001b[39m\u001b[38;5;124mmin_length\u001b[39m\u001b[38;5;124m\"\u001b[39m] \u001b[38;5;241m+\u001b[39m\u001b[38;5;241m=\u001b[39m prefix_length\n\u001b[1;32m    327\u001b[0m \u001b[38;5;66;03m# BS x SL\u001b[39;00m\n\u001b[0;32m--> 328\u001b[0m generated_sequence \u001b[38;5;241m=\u001b[39m \u001b[38;5;28;43mself\u001b[39;49m\u001b[38;5;241;43m.\u001b[39;49m\u001b[43mmodel\u001b[49m\u001b[38;5;241;43m.\u001b[39;49m\u001b[43mgenerate\u001b[49m\u001b[43m(\u001b[49m\u001b[43minput_ids\u001b[49m\u001b[38;5;241;43m=\u001b[39;49m\u001b[43minput_ids\u001b[49m\u001b[43m,\u001b[49m\u001b[43m \u001b[49m\u001b[43mattention_mask\u001b[49m\u001b[38;5;241;43m=\u001b[39;49m\u001b[43mattention_mask\u001b[49m\u001b[43m,\u001b[49m\u001b[43m \u001b[49m\u001b[38;5;241;43m*\u001b[39;49m\u001b[38;5;241;43m*\u001b[39;49m\u001b[43mgenerate_kwargs\u001b[49m\u001b[43m)\u001b[49m\n\u001b[1;32m    329\u001b[0m out_b \u001b[38;5;241m=\u001b[39m generated_sequence\u001b[38;5;241m.\u001b[39mshape[\u001b[38;5;241m0\u001b[39m]\n\u001b[1;32m    330\u001b[0m \u001b[38;5;28;01mif\u001b[39;00m \u001b[38;5;28mself\u001b[39m\u001b[38;5;241m.\u001b[39mframework \u001b[38;5;241m==\u001b[39m \u001b[38;5;124m\"\u001b[39m\u001b[38;5;124mpt\u001b[39m\u001b[38;5;124m\"\u001b[39m:\n",
      "File \u001b[0;32m~/miniconda3/envs/slice_llm/lib/python3.9/site-packages/torch/utils/_contextlib.py:115\u001b[0m, in \u001b[0;36mcontext_decorator.<locals>.decorate_context\u001b[0;34m(*args, **kwargs)\u001b[0m\n\u001b[1;32m    112\u001b[0m \u001b[38;5;129m@functools\u001b[39m\u001b[38;5;241m.\u001b[39mwraps(func)\n\u001b[1;32m    113\u001b[0m \u001b[38;5;28;01mdef\u001b[39;00m \u001b[38;5;21mdecorate_context\u001b[39m(\u001b[38;5;241m*\u001b[39margs, \u001b[38;5;241m*\u001b[39m\u001b[38;5;241m*\u001b[39mkwargs):\n\u001b[1;32m    114\u001b[0m     \u001b[38;5;28;01mwith\u001b[39;00m ctx_factory():\n\u001b[0;32m--> 115\u001b[0m         \u001b[38;5;28;01mreturn\u001b[39;00m \u001b[43mfunc\u001b[49m\u001b[43m(\u001b[49m\u001b[38;5;241;43m*\u001b[39;49m\u001b[43margs\u001b[49m\u001b[43m,\u001b[49m\u001b[43m \u001b[49m\u001b[38;5;241;43m*\u001b[39;49m\u001b[38;5;241;43m*\u001b[39;49m\u001b[43mkwargs\u001b[49m\u001b[43m)\u001b[49m\n",
      "File \u001b[0;32m~/miniconda3/envs/slice_llm/lib/python3.9/site-packages/transformers/generation/utils.py:1592\u001b[0m, in \u001b[0;36mGenerationMixin.generate\u001b[0;34m(self, inputs, generation_config, logits_processor, stopping_criteria, prefix_allowed_tokens_fn, synced_gpus, assistant_model, streamer, negative_prompt_ids, negative_prompt_attention_mask, **kwargs)\u001b[0m\n\u001b[1;32m   1584\u001b[0m     input_ids, model_kwargs \u001b[38;5;241m=\u001b[39m \u001b[38;5;28mself\u001b[39m\u001b[38;5;241m.\u001b[39m_expand_inputs_for_generation(\n\u001b[1;32m   1585\u001b[0m         input_ids\u001b[38;5;241m=\u001b[39minput_ids,\n\u001b[1;32m   1586\u001b[0m         expand_size\u001b[38;5;241m=\u001b[39mgeneration_config\u001b[38;5;241m.\u001b[39mnum_return_sequences,\n\u001b[1;32m   1587\u001b[0m         is_encoder_decoder\u001b[38;5;241m=\u001b[39m\u001b[38;5;28mself\u001b[39m\u001b[38;5;241m.\u001b[39mconfig\u001b[38;5;241m.\u001b[39mis_encoder_decoder,\n\u001b[1;32m   1588\u001b[0m         \u001b[38;5;241m*\u001b[39m\u001b[38;5;241m*\u001b[39mmodel_kwargs,\n\u001b[1;32m   1589\u001b[0m     )\n\u001b[1;32m   1591\u001b[0m     \u001b[38;5;66;03m# 13. run sample\u001b[39;00m\n\u001b[0;32m-> 1592\u001b[0m     \u001b[38;5;28;01mreturn\u001b[39;00m \u001b[38;5;28;43mself\u001b[39;49m\u001b[38;5;241;43m.\u001b[39;49m\u001b[43msample\u001b[49m\u001b[43m(\u001b[49m\n\u001b[1;32m   1593\u001b[0m \u001b[43m        \u001b[49m\u001b[43minput_ids\u001b[49m\u001b[43m,\u001b[49m\n\u001b[1;32m   1594\u001b[0m \u001b[43m        \u001b[49m\u001b[43mlogits_processor\u001b[49m\u001b[38;5;241;43m=\u001b[39;49m\u001b[43mprepared_logits_processor\u001b[49m\u001b[43m,\u001b[49m\n\u001b[1;32m   1595\u001b[0m \u001b[43m        \u001b[49m\u001b[43mlogits_warper\u001b[49m\u001b[38;5;241;43m=\u001b[39;49m\u001b[43mlogits_warper\u001b[49m\u001b[43m,\u001b[49m\n\u001b[1;32m   1596\u001b[0m \u001b[43m        \u001b[49m\u001b[43mstopping_criteria\u001b[49m\u001b[38;5;241;43m=\u001b[39;49m\u001b[43mprepared_stopping_criteria\u001b[49m\u001b[43m,\u001b[49m\n\u001b[1;32m   1597\u001b[0m \u001b[43m        \u001b[49m\u001b[43mpad_token_id\u001b[49m\u001b[38;5;241;43m=\u001b[39;49m\u001b[43mgeneration_config\u001b[49m\u001b[38;5;241;43m.\u001b[39;49m\u001b[43mpad_token_id\u001b[49m\u001b[43m,\u001b[49m\n\u001b[1;32m   1598\u001b[0m \u001b[43m        \u001b[49m\u001b[43meos_token_id\u001b[49m\u001b[38;5;241;43m=\u001b[39;49m\u001b[43mgeneration_config\u001b[49m\u001b[38;5;241;43m.\u001b[39;49m\u001b[43meos_token_id\u001b[49m\u001b[43m,\u001b[49m\n\u001b[1;32m   1599\u001b[0m \u001b[43m        \u001b[49m\u001b[43moutput_scores\u001b[49m\u001b[38;5;241;43m=\u001b[39;49m\u001b[43mgeneration_config\u001b[49m\u001b[38;5;241;43m.\u001b[39;49m\u001b[43moutput_scores\u001b[49m\u001b[43m,\u001b[49m\n\u001b[1;32m   1600\u001b[0m \u001b[43m        \u001b[49m\u001b[43moutput_logits\u001b[49m\u001b[38;5;241;43m=\u001b[39;49m\u001b[43mgeneration_config\u001b[49m\u001b[38;5;241;43m.\u001b[39;49m\u001b[43moutput_logits\u001b[49m\u001b[43m,\u001b[49m\n\u001b[1;32m   1601\u001b[0m \u001b[43m        \u001b[49m\u001b[43mreturn_dict_in_generate\u001b[49m\u001b[38;5;241;43m=\u001b[39;49m\u001b[43mgeneration_config\u001b[49m\u001b[38;5;241;43m.\u001b[39;49m\u001b[43mreturn_dict_in_generate\u001b[49m\u001b[43m,\u001b[49m\n\u001b[1;32m   1602\u001b[0m \u001b[43m        \u001b[49m\u001b[43msynced_gpus\u001b[49m\u001b[38;5;241;43m=\u001b[39;49m\u001b[43msynced_gpus\u001b[49m\u001b[43m,\u001b[49m\n\u001b[1;32m   1603\u001b[0m \u001b[43m        \u001b[49m\u001b[43mstreamer\u001b[49m\u001b[38;5;241;43m=\u001b[39;49m\u001b[43mstreamer\u001b[49m\u001b[43m,\u001b[49m\n\u001b[1;32m   1604\u001b[0m \u001b[43m        \u001b[49m\u001b[38;5;241;43m*\u001b[39;49m\u001b[38;5;241;43m*\u001b[39;49m\u001b[43mmodel_kwargs\u001b[49m\u001b[43m,\u001b[49m\n\u001b[1;32m   1605\u001b[0m \u001b[43m    \u001b[49m\u001b[43m)\u001b[49m\n\u001b[1;32m   1607\u001b[0m \u001b[38;5;28;01melif\u001b[39;00m generation_mode \u001b[38;5;241m==\u001b[39m GenerationMode\u001b[38;5;241m.\u001b[39mBEAM_SEARCH:\n\u001b[1;32m   1608\u001b[0m     \u001b[38;5;66;03m# 11. prepare beam search scorer\u001b[39;00m\n\u001b[1;32m   1609\u001b[0m     beam_scorer \u001b[38;5;241m=\u001b[39m BeamSearchScorer(\n\u001b[1;32m   1610\u001b[0m         batch_size\u001b[38;5;241m=\u001b[39mbatch_size,\n\u001b[1;32m   1611\u001b[0m         num_beams\u001b[38;5;241m=\u001b[39mgeneration_config\u001b[38;5;241m.\u001b[39mnum_beams,\n\u001b[0;32m   (...)\u001b[0m\n\u001b[1;32m   1616\u001b[0m         max_length\u001b[38;5;241m=\u001b[39mgeneration_config\u001b[38;5;241m.\u001b[39mmax_length,\n\u001b[1;32m   1617\u001b[0m     )\n",
      "File \u001b[0;32m~/miniconda3/envs/slice_llm/lib/python3.9/site-packages/transformers/generation/utils.py:2734\u001b[0m, in \u001b[0;36mGenerationMixin.sample\u001b[0;34m(self, input_ids, logits_processor, stopping_criteria, logits_warper, max_length, pad_token_id, eos_token_id, output_attentions, output_hidden_states, output_scores, output_logits, return_dict_in_generate, synced_gpus, streamer, **model_kwargs)\u001b[0m\n\u001b[1;32m   2732\u001b[0m \u001b[38;5;66;03m# sample\u001b[39;00m\n\u001b[1;32m   2733\u001b[0m probs \u001b[38;5;241m=\u001b[39m nn\u001b[38;5;241m.\u001b[39mfunctional\u001b[38;5;241m.\u001b[39msoftmax(next_token_scores, dim\u001b[38;5;241m=\u001b[39m\u001b[38;5;241m-\u001b[39m\u001b[38;5;241m1\u001b[39m)\n\u001b[0;32m-> 2734\u001b[0m next_tokens \u001b[38;5;241m=\u001b[39m \u001b[43mtorch\u001b[49m\u001b[38;5;241;43m.\u001b[39;49m\u001b[43mmultinomial\u001b[49m\u001b[43m(\u001b[49m\u001b[43mprobs\u001b[49m\u001b[43m,\u001b[49m\u001b[43m \u001b[49m\u001b[43mnum_samples\u001b[49m\u001b[38;5;241;43m=\u001b[39;49m\u001b[38;5;241;43m1\u001b[39;49m\u001b[43m)\u001b[49m\u001b[38;5;241m.\u001b[39msqueeze(\u001b[38;5;241m1\u001b[39m)\n\u001b[1;32m   2736\u001b[0m \u001b[38;5;66;03m# finished sentences should have their next token be a padding token\u001b[39;00m\n\u001b[1;32m   2737\u001b[0m \u001b[38;5;28;01mif\u001b[39;00m eos_token_id \u001b[38;5;129;01mis\u001b[39;00m \u001b[38;5;129;01mnot\u001b[39;00m \u001b[38;5;28;01mNone\u001b[39;00m:\n",
      "\u001b[0;31mRuntimeError\u001b[0m: probability tensor contains either `inf`, `nan` or element < 0"
     ]
    }
   ],
   "source": [
    "result = pipe(testset['text'][39][:-4])"
   ]
  },
  {
   "cell_type": "code",
   "execution_count": null,
   "metadata": {},
   "outputs": [],
   "source": [
    "result"
   ]
  },
  {
   "cell_type": "code",
   "execution_count": 259,
   "metadata": {},
   "outputs": [
    {
     "name": "stdout",
     "output_type": "stream",
     "text": [
      "[{'generated_text': '<s>Question: What is the formation energy (in eV) of the perovskite material HgNNiO2 Answer: Explanation:\\nThe formation energy of the perovskite material HgNNiO2 is about 0.8 eV.\\nQuestion: What is the bond order of the oxygen atom in the perovskite material HgNNiO2 Answer: Explanation:\\nThe bond order of the oxygen atom in the perovskite material HgNNiO2 is about 1.63.\\nQuestion: What is the density (in g cm-3) of the perovskite material HgNNiO2 Answer: Explanation:\\nThe density of the perovskite material HgNNiO2 is about 1.3 g cm-3.\\nQuestion: What is the electrical resistivity (in Ωcm) of the perovskite material HgNNiO2 Answer: Explanation:\\nThe electrical resistivity of the perovskite material HgNNiO2 is about 0.005 Ωcm.\\nQuestion: What is the thermal conductivity (in W m-1K-1) of the perovskite material HgNNiO2 Answer: Explanation:\\nThe thermal conductivity of the perovskite material HgNNiO2 is about 30 W m-1K-1.\\nQuestion: What is the thermal expansion coefficient (in 10-6 K-1) of the perovskite material HgNNiO2 Answer: Explanation:\\nThe thermal expansion coefficient of the perovskite material HgNNiO2 is about 2.1 × 10-6 K-1.\\nQuestion: What is the Brillouin zone shape for the perovskite material HgNNiO2 Answer: Explanation:\\nThe Brillouin zone shape for the perovskite material HgNNiO2 is face-centered cubic.\\nQuestion: What is the band gap (in eV) of the perovskite material HgNNiO2 Answer: Explanation:\\nThe band gap of the perovskite material HgNNiO2 is about 2.6 eV.\\nQuestion: What is the'}]\n",
      "[{'generated_text': '<s>Question: What is the formation energy (in eV) of the perovskite material CdO3Te Answer: 4.807 eV Explanation:(SiO2)Sr(ZnO2)Te(Y2O3)SrZnTa\\nWhat is the formation energy (in eV) of the perovskite material CdO3Te?\\nExplanation:SrZnTa'}]\n",
      "[{'generated_text': '<s>Question: What is the formation energy (in eV) of the perovskite material FKNOPd Answer: 2.25'}]\n"
     ]
    },
    {
     "name": "stderr",
     "output_type": "stream",
     "text": [
      "/home/so87pot/miniconda3/envs/slice_llm/lib/python3.9/site-packages/transformers/pipelines/base.py:1157: UserWarning: You seem to be using the pipelines sequentially on GPU. In order to maximize efficiency please use a dataset\n",
      "  warnings.warn(\n"
     ]
    },
    {
     "name": "stdout",
     "output_type": "stream",
     "text": [
      "[{'generated_text': '<s>Question: What is the formation energy (in eV) of the perovskite material MgN2ORu Answer: 0.026 (Theoretical) 0.031 (Experimental)\\nTheory: The formation energy is given by the difference in energy between the free state and the ionic crystalline state. The energy difference for the formation of MgN2ORu is given by\\n$E_f$ = $E_0$ + $E_I$\\n$E_0$ = Energy of free state\\n$E_I$ = Energy of ionic crystalline state\\nExperiment: The experimental formation energy of MgN2ORu is given by\\n$E_f$ = $E_g$ + $E_I$\\n$E_g$ = Energy of ground state\\n$E_I$ = Energy of ionic crystalline state\\nQuestion: What is the formation energy (in eV) of the perovskite material RbO3ReSn Answer: 0.16 (Theoretical) 0.23 (Experimental)\\nTheory: The formation energy is given by the difference in energy between the free state and the ionic crystalline state. The energy difference for the formation of RbO3ReSn is given by\\nExperiment: The experimental formation energy of RbO3ReSn is given by\\nQuestion: What is the formation energy (in eV) of the perovskite material CaFNNbO2 Answer: 0.032 (Theoretical) 0.032 (Experimental)\\nTheory: The formation energy is given by the difference in energy between the free state and the ionic crystalline state. The energy difference for the formation of CaFNNbO2 is given by\\nExperiment: The experimental formation energy of CaFNNbO2 is given by\\nQuestion: What is the formation energy (in eV) of the perovskite material Y2O3Zr2Sn Answer: 0.078 (Theoretical) 0.086 (Experimental)\\nTheory: The formation energy is given by the difference in energy between the free state and the ionic crystalline state. The energy difference for the formation of Y'}]\n",
      "[{'generated_text': '<s>Question: What is the formation energy (in eV) of the perovskite material AgNbO3 Answer: AgNbO3'}]\n",
      "[{'generated_text': '<s>Question: What is the formation energy (in eV) of the perovskite material BO2STl Answer: (a) 23.67 eV (b) 44.04 eV (c) 71.26 eV (d) 106.94 eV\\nWhat is the formation energy (in eV) of the perovskite material BO2STl\\n(a) 23.67 eV\\n(b) 44.04 eV\\n(c) 71.26 eV\\n(d) 106.94 eV\\nQuestion is : What is the formation energy (in eV) of the perovskite material BO2STl Answer is : (a) 23.67 eV (b) 44.04 eV (c) 71.26 eV (d) 106.94 eV Option is :\\nTopic : Chemical Reaction\\nThe correct answer is (a) 23.67 eV.\\nWhat is the formation energy (in eV) of the perovskite material BO2STl?\\nFormation energy refers to the energy required to form the compound from its constituent elements. The formation energy of perovskite material BO2STl is 23.67 eV.\\nThe correct answer is (b) 44.04 eV.\\nFormation energy refers to the energy required to form the compound from its constituent elements. The formation energy of perovskite material BO2STl is 44.04 eV.\\nFormation energy refers to the energy required to form the compound from its constituent elements. The formation energy of perovskite material BO2STl is 71.26 eV.\\nThe correct answer is (d) 106.94 eV.\\nFormation energy refers to the energy required to form the compound from its constituent elements. The formation energy of perovskite material BO2STl is 106.94 eV.'}]\n",
      "[{'generated_text': '<s>Question: What is the formation energy (in eV) of the perovskite material BeNiO2S Answer: 3.25'}]\n",
      "[{'generated_text': \"<s>Question: What is the formation energy (in eV) of the perovskite material NNaO2Sc Answer: 11.1 eV Explanation: This was a question in a recent exam, and I wasn't sure how to answer it so I did the following: I calculated the ionic radii of the elements in this perovskite by using a calculator I found online. The ionic radii were (in mm): Sc-0.98, Na-1.04, O-1.52, S-1.91. So, the radius of each element in this material is then (in mm): Sc-0.98/2=0.49, Na-1.04/2=0.52, O-1.52/2=0.76, S-1.91/2=0.95. Next I calculated the radius of the whole material, so that's the average radius of all four elements, which is then 0.85 mm. Then I calculated the density of this material using the average radius and then the molar mass (ScO2SnNa) then I divided 0.85 by the molar mass to get the density of the material which is then 1.83 g/cm3. Then I calculated the molar volume by dividing the density by the atomic mass (ScSnNaO2), and the molar volume of this material is then 22.78 cm3/mol. Then I calculated the density of the ionic liquid by dividing the molar volume of the ionic liquid by the molar volume of the material which is then 22.78/22.78 = 1.00. Then I calculated the density of the cations by dividing the molar volume of the cations by the molar volume of the ionic liquid which is then 22.78/22.78=1.00. Then I calculated the density of the anions by dividing the molar volume of the anions by the molar volume of the cations which is then 22.78/22.78=1.00. Then I calculated the volume of the anions by dividing the density of the anions by the density of the c\"}]\n",
      "[{'generated_text': '<s>Question: What is the formation energy (in eV) of the perovskite material AuMnNO2 Answer:\\nDensity of oxygen at 0°C and 1 atmosphere of pressure is ___________ g/cm3.\\nThe ionic radius of Na+ is __________.\\nCs2NiO2Sn\\nThe density of ZnO3Sb is ___________.\\nThe density of TeO3Sn is ___________.\\nMgN3Pb\\nRb3PbSn\\nPbSnTiO3\\nThe density of LiMnN3 is ___________.\\nDensity of LiMnO2Sn is ___________ g/cm3.\\nThe ionic radius of Pb2SnO2Sn is ___________.\\nThe density of SnO3Zn is ___________.\\nTiO2Ti\\nThe density of LiMnO3Sn is ___________.\\nThe density of TiO3Pb is ___________.\\nThe density of ZnO2Sr is ___________.\\nThe density of PbO2Sr is ___________.\\nThe density of TiO2Sr is ___________.\\nTiO2Zn\\nThe density of RbO3Zn is ___________.\\nThe density of Pb2SnO2Sn is ___________.\\nThe density of Li2SSr is ___________.\\nThe density of Li2SrZn is ___________.\\nSnTiO3\\nSnO2Ti\\nThe density of Rb2SSr is ___________.\\nThe density of LiMnO2Sn is ___________.\\nThe density of RbSnTiO3 is ___________.\\nSnO2Sr\\nThe density of LiMnO2Ti is ___________.\\nThe density of Li2SrZn is ___________.\\nThe density of Rb2SnO2Sn is ___________.\\nThe density of Rb2SnSr is ___________.\\nRbO2TiSn\\nSrZn\\nRb2SnO2Sn\\nTi2O\\nPbSr\\nThe density of Li2SSr is ___________.\\nThe density of Li2S'}]\n",
      "[{'generated_text': '<s>Question: What is the formation energy (in eV) of the perovskite material AsN3Re Answer:'}]\n",
      "[{'generated_text': '<s>Question: What is the formation energy (in eV) of the perovskite material HfN2ORb Answer: 2.37 eV'}]\n",
      "[{'generated_text': '<s>Question: What is the formation energy (in eV) of the perovskite material CaCsN2O Answer: a. In a perovskite structure, the space group symmetry group is [1 1 1], and the CaCsN2O crystal structure is shown below. Answer: In the CaCsN2O structure, the space group is PbTaO2S and the cell parameters are a = 4.2204 Å and V = 257.01 Å3.ina.ina. In a perovskite structure, the space group symmetry group is [1 1 1] and the CaCsN2O crystal structure is shown below.\\nQuestion: What is the formation energy (in eV) of the perovskite material CaCsN2O Answer: a.\\nQuestion: What is the formation energy (in eV) of the perovskite material CaCsN2O Answer: a. In a perovskite structure, the space group symmetry group is [1 1 1], and the CaCsN2O crystal structure is shown below. Answer: In the CaCsN2O structure, the space group is PbTaO2S and the cell parameters are a = 4.2204 Å and V = 257.01 Å3.\\nThe structure of CaCsN2O is a perovskite structure.\\nThe crystal structure of CaCsN2O is shown below.\\nThe space group of CaCsN2O is PbTaO2S.\\nThe cell parameters of CaCsN2O are a = 4.2204 Å and V = 257.01 Å3.\\nA perovskite structure is a type of crystal structure that consists of a cubic lattice with anionic and cationic sites. It is named after the perovskite minerals that have this type of crystal structure. The space group symmetry group of a perovskite structure is [1 1 1], which means that the cell has the same shape as a unit cell.\\nThe space group symmetry of a perovskite structure is [1 1 1].\\nIn a perovskite structure, the space group'}]\n",
      "[{'generated_text': '<s>Question: What is the formation energy (in eV) of the perovskite material BiCdFO2 Answer: 2.80'}]\n",
      "[{'generated_text': '<s>Question: What is the formation energy (in eV) of the perovskite material O3PdZr Answer: 2.09 eV Explanation: The formation energy for a perovskite material is the minimum energy required to create the material from its constituent elements. This is calculated by adding the energies of the constituent atoms in their elemental forms, and then subtracting the energy of the perovskite material. The answer in this case is 2.09 eV.'}]\n",
      "[{'generated_text': '<s>Question: What is the formation energy (in eV) of the perovskite material HfN3Sb Answer: 0.54 eV.\\nQuestion: What is the band gap of the perovskite material HfN3Sb Answer: 0.78 eV.\\nQuestion: What is the formation energy (in eV) of the perovskite material HfN3Sr Answer: 0.42 eV.\\nQuestion: What is the band gap of the perovskite material HfN3Sr Answer: 0.90 eV.\\nQuestion: What is the formation energy (in eV) of the perovskite material HfN3Sn Answer: 0.76 eV.\\nQuestion: What is the band gap of the perovskite material HfN3Sn Answer: 0.75 eV.\\nQuestion: What is the formation energy (in eV) of the perovskite material HfN2OTi Answer: 1.02 eV.\\nQuestion: What is the band gap of the perovskite material HfN2OTi Answer: 0.46 eV.\\nQuestion: What is the formation energy (in eV) of the perovskite material HfN2OSn Answer: 0.63 eV.\\nQuestion: What is the band gap of the perovskite material HfN2OSn Answer: 0.55 eV.\\nQuestion: What is the formation energy (in eV) of the perovskite material HfN2OSb Answer: 0.76 eV.\\nQuestion: What is the band gap of the perovskite material HfN2OSb Answer: 0.58 eV.\\nQuestion: What is the formation energy (in eV) of the perovskite material HfN2OSr Answer: 0.57 eV.\\nQuestion: What is the band gap of the perovskite material HfN2OSr Answer: 0.62 eV.\\nQuestion: What is the formation energy (in eV) of the perovskite material HfO3Ta Answer: 0.38 eV.\\nQuestion: What is the band'}]\n",
      "[{'generated_text': '<s>Question: What is the formation energy (in eV) of the perovskite material BeMnO3 Answer:'}]\n",
      "[{'generated_text': '<s>Question: What is the formation energy (in eV) of the perovskite material N3PdW Answer: 301.088 eV Explanation: From the reference:3SrWZn'}]\n",
      "[{'generated_text': '<s>Question: What is the formation energy (in eV) of the perovskite material FNOReV Answer: 0.060\\nQuestion: What is the formation energy (in eV) of the perovskite material FNOReV Answer: 0.060\\nWhat is the formation energy (in eV) of the perovskite material SnO3Ti2?\\nWhat is the formation energy (in eV) of the perovskite material RbN2O2Ti?\\nWhat is the formation energy (in eV) of the perovskite material ZnO2Sn2?\\nWhat is the formation energy (in eV) of the perovskite material RbTaO3?\\nWhat is the formation energy (in eV) of the perovskite material RbTaO2V?\\nWhat is the formation energy (in eV) of the perovskite material PtZnO2Sn2?\\nWhat is the formation energy (in eV) of the perovskite material PtZnO2Ti2?\\nWhat is the formation energy (in eV) of the perovskite material RbSnO2Ti2?\\nWhat is the formation energy (in eV) of the perovskite material PtZnO3Ti2?\\nWhat is the formation energy (in eV) of the perovskite material RbO2ReTa2?\\nWhat is the formation energy (in eV) of the perovskite material RbSnO2ReTa2?\\nWhat is the formation energy (in eV) of the perovskite material RbSnO2ReTa3?\\nWhat is the formation energy (in eV) of the perovskite material RbSnO3ReTa3?\\nWhat is the formation energy (in eV) of the perovskite material RbSnO3Ti2?\\nWhat is the formation energy (in eV) of the perovskite material PtSnO2ReTa2?\\nWhat is the formation energy (in eV) of the perovskite material RbTaO2ReTa2?\\nWhat is the formation energy ('}]\n",
      "[{'generated_text': '<s>Question: What is the formation energy (in eV) of the perovskite material FFeNOSi Answer: 4.84'}]\n",
      "[{'generated_text': '<s>Question: What is the formation energy (in eV) of the perovskite material AgN3Si Answer: 0.8825 eVExplanation:\\nQuestion: What is the formation energy (in eV) of the perovskite material AgN3Si Answer: 0.8825 eVExplanation:\\nThe formation energy of AgN3Si is 0.8825 eV at 0 K.\\nThe formation energy of perovskite material AgN3Si is given as 0.8825 eV.\\nFormation Energy Formula\\nFor calculating the formation energy, it is required to use the equation of Gibb’s Free Energy, which is given as:\\nGF(mol) = E(mol) + 2.303R(T)\\nE(mol) = -2.303R(T)\\nThe above equation states that the formation energy is the sum of enthalpy (E) and entropy (S).\\nThe enthalpy is a measure of the heat released or absorbed during a chemical reaction. The entropy of a system indicates the degree of disorder of the system.\\nThe formation energy is the energy required to convert the chemical species into a stable compound. The formation energy of the perovskite material AgN3Si is given as 0.8825 eV.\\nFormation Energy is the minimum amount of energy needed to create a new material from the basic elements. The formation energy can be calculated using the equation below:\\nThe perovskite material AgN3Si is composed of 3 elements – silver, nitrogen, and silicon. The formation energy of AgN3Si can be calculated by using the equation below:\\nFormation Energy = (E(Si) + E(Ag) + E(N)) / 3\\nFormation Energy = 0.8825 eV\\nTherefore, the formation energy of perovskite material AgN3Si is 0.8825 eV.\\nThe perovskite material AgN3Si is composed of silver, nitrogen, and silicon. The formation energy of the material is given by the equation:\\nF(AgN3Si) = F(Ag) + F(N) + F(Si)\\nwhere F('}]\n",
      "[{'generated_text': '<s>Question: What is the formation energy (in eV) of the perovskite material MnO3V Answer: 246.0439'}]\n",
      "[{'generated_text': '<s>Question: What is the formation energy (in eV) of the perovskite material FNa2O2 Answer:\\n254.6 eV'}]\n",
      "[{'generated_text': '<s>Question: What is the formation energy (in eV) of the perovskite material BFGeNO Answer: 0.77'}]\n",
      "[{'generated_text': '<s>Question: What is the formation energy (in eV) of the perovskite material BiHgNO2 Answer: 0.727 eV\\nQuestion: What is the formation energy (in eV) of the perovskite material BiHgNO2 Answer: 0.727 eV is correct for What is the formation energy (in eV) of the perovskite material BiHgNO2 Answer: 0.727 eV\\nWhat is the formation energy (in eV) of the perovskite material BiHgNO2 Answer: 0.727 eV\\nThe correct answer is: 0.727 eV'}]\n",
      "[{'generated_text': '<s>Question: What is the formation energy (in eV) of the perovskite material AlN3V Answer:'}]\n",
      "[{'generated_text': '<s>Question: What is the formation energy (in eV) of the perovskite material KLiNO2 Answer: 290, 155, 229\\nQuestion: What is the formation energy (in eV) of the perovskite material SrZrO2Sn Answer: 335, 202, 338\\nQuestion: What is the formation energy (in eV) of the perovskite material SrZrO2Sn Answer: 238, 202, 338\\nQuestion: What is the formation energy (in eV) of the perovskite material SrZrO2Sn Answer: 338, 335, 202\\nQuestion: What is the formation energy (in eV) of the perovskite material RbTaO2 Answer: 250, 220, 230\\nQuestion: What is the formation energy (in eV) of the perovskite material RbTaO2 Answer: 230, 220, 250\\nQuestion: What is the formation energy (in eV) of the perovskite material RbTaO2 Answer: 220, 250, 230\\nQuestion: What is the formation energy (in eV) of the perovskite material RbTaO2 Answer: 250, 230, 220\\nQuestion: What is the formation energy (in eV) of the perovskite material SrSnO2Zn Answer: 295, 210, 260\\nQuestion: What is the formation energy (in eV) of the perovskite material SrSnO2Zn Answer: 260, 295, 210\\nQuestion: What is the formation energy (in eV) of the perovskite material SrSnO2Zn Answer: 210, 260, 295\\nQuestion: What is the formation energy (in eV) of the perovskite material RbTaO2Zn Answer: 270, 160, 240\\nQuestion'}]\n",
      "[{'generated_text': '<s>Question: What is the formation energy (in eV) of the perovskite material NO2PtZn Answer: -1.2162 Explanation: Average formation energies are calculated from DFT calculations.\\nQuestions: What is the electronic structure of ZrN3Sn? Answer: ZrN3Sn is a metal with a 3d10s2 configuration of electrons.\\nQuestion: What is the electron configuration of the element Sn? Answer: Sn is a transition metal and its electron configuration is [Kr]2Sn.\\nQuestion: What is the electron configuration of the element Rb? Answer: Rb is a post-transition metal with an electron configuration of [Kr]2Rb.\\nQuestion: What is the electron configuration of the element Zn? Answer: Zn is a post-transition metal with an electron configuration of [Kr]2Zn.\\nQuestion: What is the electronic structure of the element Rb2N3? Answer: Rb2N3 is a metal with an electron configuration of [Kr]2Rb and a crystal structure of ScN3.\\nQuestions: What is the electronic structure of the element Sc2N3Sn? Answer: Sc2N3Sn is a metal with a 3d10s2 configuration of electrons.\\nQuestions: What is the electronic structure of the element Zr2N3Sn? Answer: Zr2N3Sn is a metal with an electron configuration of [Kr]2Zr.\\nQuestion: What is the electronic structure of the element Sn2N3Rb? Answer: Sn2N3Rb is a metal with an electron configuration of [Kr]2Rb and a crystal structure of ScN3.\\nQuestion: What is the electronic structure of the element Sn3N2Zr? Answer: Sn3N2Zr is a metal with an electron configuration of [Kr]2Sn and a crystal structure of ScN3.\\nQuestions: What is the electronic structure of the element Zn2N3Rb? Answer: Zn2N3Rb is a metal with an electron configuration of [Kr]2Zn and a crystal structure of ScN3.\\nQuestion: What is the electronic structure of the element Zr2N3Rb? Answer'}]\n",
      "[{'generated_text': '<s>Question: What is the formation energy (in eV) of the perovskite material CuFNOW Answer: 0.290eV?'}]\n",
      "[{'generated_text': '<s>Question: What is the formation energy (in eV) of the perovskite material BiN2OPt Answer: 5.64 eV.\\nQuestion: What is the formation energy (in eV) of the perovskite material BiN2OPt Answer: 5.64 eV.\\nThe formation energy of the perovskite material BiN2OPt is 5.64 eV.\\nThe perovskite material BiN2OPt is a compound with a strong crystal structure and a high melting point.\\nThe perovskite material BiN2OPt has a high melting point and a strong crystal structure.\\nThe perovskite material BiN2OPt has a strong crystal structure and a high melting point.\\nThe perovskite material BiN2OPt has a strong crystal structure and a high melting point.'}]\n",
      "[{'generated_text': '<s>Question: What is the formation energy (in eV) of the perovskite material BFMgNO Answer: -0.79979 eVExplanation: BFMgNO'}]\n",
      "[{'generated_text': '<s>Question: What is the formation energy (in eV) of the perovskite material CrFNOPd Answer: 3.6 eVExplanation: The formation energy of a material is defined as the energy required to add a new atom to the lattice. In this case, we are adding a Pd atom to the perovskite structure. The formation energy is the difference between the total energy of the system and the total energy of the system without the added atom.The formation energy of a perovskite material is the energy required to add a new atom to the lattice. This can be calculated using the equation:Formation Energy = E(perovskite) - E(perovskite - new atom)The formation energy of a perovskite material is generally high because the addition of new atoms disrupts the crystal structure and requires significant energy. The formation energy can also be used to determine the stability of a perovskite material.\\nQuestion: What is the formation energy (in eV) of the perovskite material MgO2SSi Answer: 2.5 eVExplanation: The formation energy of a perovskite material is the energy required to add a new atom to the lattice. This can be calculated using the equation:Formation Energy = E(perovskite) - E(perovskite - new atom)The formation energy of a perovskite material is generally high because the addition of new atoms disrupts the crystal structure and requires significant energy. The formation energy can also be used to determine the stability of a perovskite material.\\nQuestion: What is the formation energy (in eV) of the perovskite material Sc2SZn? Answer: 3.8 eVExplanation: The formation energy of a perovskite material is the energy required to add a new atom to the lattice. This can be calculated using the equation:Formation Energy = E(perovskite) - E(perovskite - new atom)The formation energy of a perovskite material is generally high because the addition of new atoms disrupts the crystal structure and requires significant energy. The formation energy can also be used to determine the stability of a perovskite material.\\nQuestion: What is the formation energy (in eV) of the perovskite material ZnO2SS'}]\n",
      "[{'generated_text': '<s>Question: What is the formation energy (in eV) of the perovskite material LiN3Pb Answer: 10.1 eV Explanation: PbO3Snhe perovskite structure is formed by stacking PbO2PbSn and the energy of formation is 10.1eVhe perovskite structure is formed by stacking PbO2PbSn and the energy of formation is 10.1eV'}]\n",
      "[{'generated_text': '<s>Question: What is the formation energy (in eV) of the perovskite material BCsFO2 Answer: 0.55'}]\n",
      "[{'generated_text': '<s>Question: What is the formation energy (in eV) of the perovskite material CoFNOPb Answer: 0.154 eV Explanation: See'}]\n",
      "[{'generated_text': '<s>Question: What is the formation energy (in eV) of the perovskite material FGeNNiO Answer:'}]\n",
      "[{'generated_text': '<s>Question: What is the formation energy (in eV) of the perovskite material O3OsY Answer: The formation energy (in eV) of the perovskite material O3OsY is:\\nAnswer: The formation energy (in eV) of the perovskite material O3OsY is:163543891113\\nAnswer: The formation energy (in eV) of the perovskite material O3OsY is: 163543891113'}]\n",
      "[{'generated_text': '<s>Question: What is the formation energy (in eV) of the perovskite material N3PbY Answer: 21.01 eVExplanation: See [link].\\n[SbTaO2Sn]\\nWhich of the following elements is NOT found in the perovskite structure?\\nA perovskite has a particular crystal structure. What does the name perovskite come from?\\nA. Aleksandr Mikhailovich Perovskii\\nB. L. Perovskii\\nC. Ivan Teternikov Perovskii\\nD. Dmitri Ivanovich Perovskii\\nWhich of the following materials is the least likely to be a perovskite?\\nWhat is the general formula for the perovskite structure?\\nA. Mn2O3\\nB. NaTaO3\\nC. RbZnO2Sn\\nD. ZnRuO2\\nA perovskite is a crystal structure which consists of anion layers, and which has an overall cubic shape. Which of the following statements is NOT true about a perovskite?\\nA. It is isostructural with rocksalt.\\nB. It is isostructural with diamond.\\nC. It is isostructural with ZnO2Sn.\\nD. It has an overall cubic shape.\\nWhich of the following statements is FALSE?\\nA. Perovskites are a group of oxide materials.\\nB. Perovskites can be used as a material for solar cells.\\nC. Perovskites can be used as a material for a hard disk drive.\\nD. Perovskites are a group of materials with a particular crystal structure.\\nWhich of the following statements is FALSE?\\nA. A perovskite is isostructural with ZnRuO2.\\nB. A perovskite is isostructural with rocksalt.\\nC. A perovskite is isostructural with diamond.\\nD. A perovskite is isostructural with ZnO2Sn.\\nA perovskite has a particular crystal structure. What does the name perovskite come from?A. Aleksandr Mikhailovich Perovsk'}]\n",
      "[{'generated_text': \"<s>Question: What is the formation energy (in eV) of the perovskite material FeNNiO2 Answer: 0.88 eVExplanation:\\nA perovskite is a type of crystal structure. In this structure, the oxygen atoms are located in the middle of a cube, and the other atoms are located at the corners. The perovskite structure is named after Russian mineralogist Vasily Vasil'evich Perovskii (1834-1898).\\nThe perovskite structure is common in materials such as ceramics and oxides.\\nThe formation energy of a perovskite material is the energy required to form the material from its constituent elements. This energy is usually measured in eV (electron volts), which is a measure of the energy of a single electron.\\nThe perovskite structure is a common crystal structure found in a variety of materials. The structure is named after Russian mineralogist Vasily Vasil'evich Perovskii (1834-1898).\\nThe perovskite structure is characterized by an octahedral arrangement of atoms. In this structure, the oxygen atoms are located at the corners of a cube, and the other atoms are located in the middle of the cube. The perovskite structure is common in materials such as ceramics and oxides.\\nThe formation energy of a perovskite material is the energy required to form the material from its constituent elements. This energy is usually measured in eV (electron volts), which is a measure of the energy of a single electron.\\nThe formation energy of a perovskite material is the energy required to form the material from its constituent elements. This energy is usually measured in eV (electron volts), which is a measure of the energy of a single electron. The formation energy of a perovskite material is typically around 0.88 eV.\\nThe perovskite structure is common in materials such as ceramics and oxides. The perovskite structure is named after Russian mineralogist Vasily Vasil'evich Perovskii (1834-1898). The perovskite structure is characterized by an octahedral arrangement of atoms. In this structure, the oxygen\"}]\n",
      "[{'generated_text': '<s>Question: What is the formation energy (in eV) of the perovskite material AsCsO2S Answer: -21.03671248'}]\n",
      "[{'generated_text': '<s>Question: What is the formation energy (in eV) of the perovskite material FInO2Si Answer: 320'}]\n",
      "[{'generated_text': '<s>Question: What is the formation energy (in eV) of the perovskite material CdFO2Rb Answer: 120.0 ± 1.0 [23] Question: What is the formation energy (in eV) of the perovskite material Sr2RhO3 Answer: 200.0 ± 1.0 [24] Question: What is the formation energy (in eV) of the perovskite material LaSnN2O2 Answer: 162.0 ± 1.0 [25] Question: What is the formation energy (in eV) of the perovskite material MnN3Tl Answer: 110.0 ± 1.0 [26] Question: What is the formation energy (in eV) of the perovskite material YZrN2O2 Answer: 38.0 ± 1.0 [27] Question: What is the formation energy (in eV) of the perovskite material MgO2RuSn Answer: 245.0 ± 1.0 [28] Question: What is the formation energy (in eV) of the perovskite material LaTiO2Pt Answer: 110.0 ± 1.0 [29] Question: What is the formation energy (in eV) of the perovskite material YZrO2RuSn Answer: 245.0 ± 1.0 [30] Question: What is the formation energy (in eV) of the perovskite material Pt2SnO2Y Answer: 22.0 ± 1.0 [31] Question: What is the formation energy (in eV) of the perovskite material YZrO2RuSn Answer: 245.0 ± 1.0 [32] Question: What is the formation energy (in eV) of the perovskite material ZrO2SnTa Answer: 17.0 ± 1.0 [33] Question: What is the formation energy (in eV) of the perovskite material YZrO2Ru'}]\n",
      "[{'generated_text': '<s>Question: What is the formation energy (in eV) of the perovskite material InN2OPd Answer: 26.3 eV Explanation: The formation energy (in eV) of the perovskite material InN2OPd is 26.3 eV.'}]\n",
      "[{'generated_text': '<s>Question: What is the formation energy (in eV) of the perovskite material IrO3V Answer: The formation energy (in eV) of the perovskite material IrO3V is 106.24.'}]\n",
      "[{'generated_text': '<s>Question: What is the formation energy (in eV) of the perovskite material O2RhSTi Answer: 61.757 eVExplanation:'}]\n",
      "[{'generated_text': '<s>Question: What is the formation energy (in eV) of the perovskite material MoO3Si Answer: 0.643 eV The formation energy of a perovskite is the energy needed to create the perovskite, and it is usually measured in electron volts.\\nQuestion: What is the formation energy (in eV) of the perovskite material MoSnO3? Answer: 0.145 eV The formation energy of a perovskite is the energy needed to create the perovskite, and it is usually measured in electron volts.\\nQuestion: What is the formation energy (in eV) of the perovskite material WO2Sn? Answer: 0.403 eV The formation energy of a perovskite is the energy needed to create the perovskite, and it is usually measured in electron volts.\\nQuestion: What is the formation energy (in eV) of the perovskite material WSnSnO2? Answer: 0.195 eV The formation energy of a perovskite is the energy needed to create the perovskite, and it is usually measured in electron volts.\\nQuestion: What is the formation energy (in eV) of the perovskite material ZnO2SnSnO2? Answer: 0.247 eV The formation energy of a perovskite is the energy needed to create the perovskite, and it is usually measured in electron volts.\\nQuestion: What is the formation energy (in eV) of the perovskite material ZnO3WZnSnO2? Answer: 0.498 eV The formation energy of a perovskite is the energy needed to create the perovskite, and it is usually measured in electron volts.\\nQuestion: What is the formation energy (in eV) of the perovskite material ZnSnO2SnSnO2? Answer: 0.155 eV The formation energy of a perovskite is the energy needed to create the perovskite, and it is usually measured in electron volts.\\nQuestion: What is the formation energy (in eV) of the perovskite material ZnSnS'}]\n",
      "[{'generated_text': '<s>Question: What is the formation energy (in eV) of the perovskite material CsFNOPb Answer:'}]\n",
      "[{'generated_text': '<s>Question: What is the formation energy (in eV) of the perovskite material CaFNOPt Answer: 336 eV'}]\n",
      "[{'generated_text': '<s>Question: What is the formation energy (in eV) of the perovskite material BN3Ru Answer:\\n2021-11-22\\u2002·\\u2002The formation energy of the perovskite material BN3Ru is 2.96 eV. (a) Draw the unit cell of BN3Ru. (b) Identify the cation and anion in the unit cell. (c) Identify the symmetry operations on the unit cell. (d) Draw the space group of the unit cell.\\nFormation energy of Sr2RuO2SrRuO2Sr2RuSrRuO2\\nFormation energy of Sr2RuO2SrRuO2Sr2RuO2SrRuSrRuO2SrRuO2Sr2RuO2SrRuO2SrRuO2Sr2RuO2SrRuO2SrRuO2Sr2RuO2SrRuO2SrRuO2SrRuO2Sr2RuO2SrRuO2Sr2RuO2SrRuO2SrRuO2SrRuO2Sr2RuO2SrRuO2SrRuO2SrRuO2SrRuO2SrRuO2Sr2RuO2SrRuO2SrRuO2Sr2RuO2SrRuO2SrRuO2SrRuO2SrRuO2SrRuO2SrRuO2SrRuO2Sr2RuO2SrRuO2SrRuO2Sr2RuO2SrRuO2SrRuO2SrRuO2SrRuO2SrRuO2SrRuO2SrRuO2SrRuO2SrRuO2SrRuO2SrRuO2Sr2RuO2SrRuO2SrRuO2SrRuO2S'}]\n",
      "[{'generated_text': '<s>Question: What is the formation energy (in eV) of the perovskite material BiCuFNO Answer: 200Explanation:re'}]\n",
      "[{'generated_text': '<s>Question: What is the formation energy (in eV) of the perovskite material CuFMnO2 Answer: 2.207eV CuO2ReSnTi'}]\n"
     ]
    }
   ],
   "source": [
    "for i in range(50):\n",
    " print(pipe(testset['text'][i][:-4]))"
   ]
  },
  {
   "cell_type": "code",
   "execution_count": 257,
   "metadata": {},
   "outputs": [],
   "source": [
    "\n",
    "\n"
   ]
  },
  {
   "cell_type": "code",
   "execution_count": null,
   "metadata": {},
   "outputs": [],
   "source": []
  },
  {
   "cell_type": "code",
   "execution_count": 32,
   "metadata": {},
   "outputs": [],
   "source": [
    "# from peft import LoraConfig, PeftModel, get_peft_model\n",
    "\n",
    "# pretrained_ckpt = \"meta-llama/Llama-2-7b-hf\"\n",
    "# base_model = AutoModelForCausalLM.from_pretrained(\n",
    "#     pretrained_ckpt,\n",
    "#     low_cpu_mem_usage=True,\n",
    "#     return_dict=True,\n",
    "#     torch_dtype=torch.float16,\n",
    "#     device_map=\"auto\",\n",
    "# )\n",
    "\n",
    "# tokenizer = AutoTokenizer.from_pretrained(pretrained_ckpt, trust_remote_code=True)\n",
    "# special_tokens_dict = dict()\n",
    "# if tokenizer.pad_token is None:\n",
    "#     special_tokens_dict[\"pad_token\"] = DEFAULT_PAD_TOKEN\n",
    "# if tokenizer.eos_token is None:\n",
    "#     special_tokens_dict[\"eos_token\"] = DEFAULT_EOS_TOKEN\n",
    "# if tokenizer.bos_token is None:\n",
    "#     special_tokens_dict[\"bos_token\"] = DEFAULT_BOS_TOKEN\n",
    "# if tokenizer.unk_token is None:\n",
    "#     special_tokens_dict[\"unk_token\"] = DEFAULT_UNK_TOKEN\n",
    "\n",
    "# print(special_tokens_dict)\n",
    "\n",
    "# smart_tokenizer_and_embedding_resize(\n",
    "#             special_tokens_dict=special_tokens_dict,\n",
    "#             llama_tokenizer=tokenizer,\n",
    "#             model=base_model,\n",
    "#         )\n",
    "\n",
    "\n",
    "model = PeftModel.from_pretrained(base_model, comp_path)\n",
    "model = model.merge_and_unload()\n"
   ]
  },
  {
   "cell_type": "code",
   "execution_count": 33,
   "metadata": {},
   "outputs": [
    {
     "data": {
      "text/plain": [
       "LlamaForCausalLM(\n",
       "  (model): LlamaModel(\n",
       "    (embed_tokens): Embedding(32008, 4096)\n",
       "    (layers): ModuleList(\n",
       "      (0-31): 32 x LlamaDecoderLayer(\n",
       "        (self_attn): LlamaAttention(\n",
       "          (q_proj): Linear(in_features=4096, out_features=4096, bias=False)\n",
       "          (k_proj): Linear(in_features=4096, out_features=4096, bias=False)\n",
       "          (v_proj): Linear(in_features=4096, out_features=4096, bias=False)\n",
       "          (o_proj): Linear(in_features=4096, out_features=4096, bias=False)\n",
       "          (rotary_emb): LlamaRotaryEmbedding()\n",
       "        )\n",
       "        (mlp): LlamaMLP(\n",
       "          (gate_proj): Linear(in_features=4096, out_features=11008, bias=False)\n",
       "          (up_proj): Linear(in_features=4096, out_features=11008, bias=False)\n",
       "          (down_proj): Linear(in_features=11008, out_features=4096, bias=False)\n",
       "          (act_fn): SiLU()\n",
       "        )\n",
       "        (input_layernorm): LlamaRMSNorm()\n",
       "        (post_attention_layernorm): LlamaRMSNorm()\n",
       "      )\n",
       "    )\n",
       "    (norm): LlamaRMSNorm()\n",
       "  )\n",
       "  (lm_head): Linear(in_features=4096, out_features=32008, bias=False)\n",
       ")"
      ]
     },
     "execution_count": 33,
     "metadata": {},
     "output_type": "execute_result"
    }
   ],
   "source": [
    "model"
   ]
  },
  {
   "cell_type": "markdown",
   "metadata": {},
   "source": [
    "model"
   ]
  },
  {
   "cell_type": "code",
   "execution_count": 60,
   "metadata": {},
   "outputs": [],
   "source": [
    "representation =\"composition\"\n",
    "\n",
    "PROPERTY_MAP : {\n",
    "    \"matbench_log_gvrh\" : \"shear modulus (in GPa)\",\n",
    "    \"matbench_log_kvrh\" : \"bulk modulus (in GPa)\",\n",
    "    \"matbench_dielectric\" : \"refractive index\",\n",
    "    \"matbench_perovskites\" : \"formation energy (in eV)\",}\n",
    "\n",
    "MATERIAL_MAP : {\n",
    "    \"matbench_log_gvrh\" : \"material\",\n",
    "    \"matbench_log_kvrh\" : \"material\",\n",
    "    \"matbench_dielectric\" : \"dielectric material\",\n",
    "    \"matbench_perovskites\" : \"perovskite material\",   }\n",
    "\n",
    "\n",
    "def _tokenize( examples):\n",
    "        tokenized_examples = tokenizer(\n",
    "            examples[representation],\n",
    "            truncation=True,\n",
    "            padding=True,\n",
    "            return_tensors=\"pt\",\n",
    "        )\n",
    "        return tokenized_examples\n",
    "\n",
    "def format_qstns( sample):\n",
    "    material_ = \"material\"\n",
    "    property_ = \"bulk modulus (in GPa)\"\n",
    "    question = f\"<s>Question: What is the {property_} of the {material_} \"\n",
    "    material = f\"{sample[representation]}\"\n",
    "    response = f\" Answer:\"\n",
    "    # join all the parts together\n",
    "    prompt = \"\".join([i for i in [question, material, response] if i is not None])\n",
    "    return prompt\n",
    "\n",
    "# template dataset to add prompt to each sample\n",
    "def template_dataset_test( sample):\n",
    "    sample[\"text\"] = f\"{format_qstns(sample)}\"\n",
    "    return sample\n",
    "\n",
    "def _prepare_datasets( path: str) -> DatasetDict:\n",
    "    \"\"\"\n",
    "    Prepare training and validation datasets.\n",
    "\n",
    "    Args:\n",
    "        train_df (pd.DataFrame): DataFrame containing training data.\n",
    "\n",
    "    Returns:\n",
    "        DatasetDict: Dictionary containing training and validation datasets.\n",
    "    \"\"\"\n",
    "\n",
    "    ds = load_dataset(\"json\", data_files=path, split=\"train\")\n",
    "    dataset = ds.train_test_split(shuffle=True, test_size=0.2, seed=42)\n",
    "    ds = dataset.map(_tokenize, batched=True)\n",
    "\n",
    "    trainset = ds[\"train\"].map(template_dataset_test)\n",
    "    testset = ds[\"test\"].map(template_dataset_test)\n",
    "    print(trainset[0][\"text\"])\n",
    "    print(testset[0][\"text\"])\n",
    "    return trainset, testset"
   ]
  },
  {
   "cell_type": "code",
   "execution_count": 35,
   "metadata": {},
   "outputs": [
    {
     "data": {
      "application/vnd.jupyter.widget-view+json": {
       "model_id": "a1c7648d8f4f4d849fb3cb2a3906a4c3",
       "version_major": 2,
       "version_minor": 0
      },
      "text/plain": [
       "Map:   0%|          | 0/1222 [00:00<?, ? examples/s]"
      ]
     },
     "metadata": {},
     "output_type": "display_data"
    },
    {
     "data": {
      "application/vnd.jupyter.widget-view+json": {
       "model_id": "e7321072e28940bbb181b9692947cc0c",
       "version_major": 2,
       "version_minor": 0
      },
      "text/plain": [
       "Map:   0%|          | 0/306 [00:00<?, ? examples/s]"
      ]
     },
     "metadata": {},
     "output_type": "display_data"
    },
    {
     "data": {
      "application/vnd.jupyter.widget-view+json": {
       "model_id": "6b291202bcb04f3ba33bef95184b28c6",
       "version_major": 2,
       "version_minor": 0
      },
      "text/plain": [
       "Map:   0%|          | 0/1222 [00:00<?, ? examples/s]"
      ]
     },
     "metadata": {},
     "output_type": "display_data"
    },
    {
     "data": {
      "application/vnd.jupyter.widget-view+json": {
       "model_id": "4db0a34788fc4d959488ec246834f768",
       "version_major": 2,
       "version_minor": 0
      },
      "text/plain": [
       "Map:   0%|          | 0/306 [00:00<?, ? examples/s]"
      ]
     },
     "metadata": {},
     "output_type": "display_data"
    },
    {
     "name": "stdout",
     "output_type": "stream",
     "text": [
      "<s>Question: What is the bulk modulus (in GPa) of the material Hf12N4Zn4 Answer:\n",
      "<s>Question: What is the bulk modulus (in GPa) of the material CdCl3Cs Answer:\n"
     ]
    }
   ],
   "source": [
    "_,testset = _prepare_datasets(\"/work/so87pot/material_db/all_1/test_matbench_log_gvrh_0.json\")"
   ]
  },
  {
   "cell_type": "code",
   "execution_count": 36,
   "metadata": {},
   "outputs": [],
   "source": [
    "\n",
    "# Suppress Hugging Face pipeline logging\n",
    "logging.set_verbosity(logging.CRITICAL)\n",
    "\n",
    "# Initialize the pipeline\n",
    "pipe = pipeline(task=\"text-generation\",\n",
    "                model=model,\n",
    "                tokenizer=tokenizer,\n",
    "                max_length=512,\n",
    "                do_sample=True,\n",
    "                temperature=1)"
   ]
  },
  {
   "cell_type": "code",
   "execution_count": 59,
   "metadata": {},
   "outputs": [
    {
     "data": {
      "text/plain": [
       "[{'generated_text': '<s>Question: What is the bulk modulus (in GPa) of the material Be Pd Pd 0 1 - - - 0 1 - o - 0 1 o - - 0 1 o o - 0 2 - - o 0 2 - o o 0 2 o - o 0 2 o o o 0 0 o + o 0 0 + o o 1 2 - - o 1 2 - o o 1 2 o - o 1 2 o o o 1 2 o o + 1 1 o + o 1 1 + o o 2 2 o + o 2 2 + o o  Answer: 1) 0 1 - o - 2) 2 2 o + o 3) 0 1 o - - 4) 1 1 o + o 5) 2 2 o o o 6) 0 0 o o o 7) 1 1 o o o 8) 2 2 o o o 9) 0 0 o o o 10) 2 2 o o o 11) 0 1 o o o 12) 2 2 + o o 13) 1 1 + o o 14) 2 2 + o o 15) 0 0 o + + 16) 1 1 + o o 17) 2 2 + o o 18) 0 1 o o - 19) 2 2 + o o 20) 1 1 + o o 21) 2 2 + o o 22) 0 1 o o - 23) 2 2 + o - 24) 1 1 + o o 25) 2 2 + o o 26) 0 1 o o o 27) 1 1 + + o 28) 2 2 + o o 29) 1 1 + + o 30) 2 2 + o o 31) 1 1 + + o 32) 2 2 + o o 33) 1 1 + o o'}]"
      ]
     },
     "execution_count": 59,
     "metadata": {},
     "output_type": "execute_result"
    }
   ],
   "source": [
    "pipe(testset['text'][110])"
   ]
  },
  {
   "cell_type": "code",
   "execution_count": null,
   "metadata": {},
   "outputs": [],
   "source": [
    "def load_model(model_name):\n",
    "    # Load tokenizer and model with QLoRA configuration\n",
    "    compute_dtype = getattr(torch, bnb_4bit_compute_dtype)\n",
    "\n",
    "    bnb_config = BitsAndBytesConfig(\n",
    "        load_in_4bit=use_4bit,\n",
    "        bnb_4bit_quant_type=bnb_4bit_quant_type,\n",
    "        bnb_4bit_compute_dtype=compute_dtype,\n",
    "        bnb_4bit_use_double_quant=use_nested_quant,\n",
    "    )\n",
    "\n",
    "    if compute_dtype == torch.float16 and use_4bit:\n",
    "        major, _ = torch.cuda.get_device_capability()\n",
    "        if major >= 8:\n",
    "            print(\"=\" * 80)\n",
    "            print(\"Your GPU supports bfloat16, you can accelerate training with the argument --bf16\")\n",
    "            print(\"=\" * 80)\n",
    "\n",
    "    model = AutoModelForCausalLM.from_pretrained(\n",
    "        model_name,\n",
    "        device_map=device_map,\n",
    "        quantization_config=bnb_config\n",
    "    )\n",
    "\n",
    "    model.config.use_cache = False\n",
    "    model.config.pretraining_tp = 1\n",
    "\n",
    "    # Load LoRA configuration\n",
    "    peft_config = LoraConfig(\n",
    "        lora_alpha=lora_alpha,\n",
    "        lora_dropout=lora_dropout,\n",
    "        r=lora_r,\n",
    "        bias=\"none\",\n",
    "        task_type=\"CAUSAL_LM\",\n",
    "    )\n",
    "\n",
    "    # Load Tokenizer\n",
    "    tokenizer = AutoTokenizer.from_pretrained(model_name, trust_remote_code=True)\n",
    "    tokenizer.pad_token = tokenizer.eos_token\n",
    "    tokenizer.padding_side = \"right\"\n",
    "\n",
    "    return model, tokenizer, peft_config"
   ]
  },
  {
   "cell_type": "code",
   "execution_count": null,
   "metadata": {},
   "outputs": [],
   "source": [
    "model, tokenizer = load_model(full_path)"
   ]
  },
  {
   "cell_type": "code",
   "execution_count": null,
   "metadata": {},
   "outputs": [],
   "source": []
  },
  {
   "cell_type": "code",
   "execution_count": 85,
   "metadata": {},
   "outputs": [],
   "source": [
    "def format_qstns( sample):\n",
    "    material_ = \"material\"\n",
    "    property_ = \"bulk modulus (in GPa)\"\n",
    "    instruct = f\"<s>[INST] Below is a material represented as string. Followed by a question. Write a response to the question.\\n\"\n",
    "    material = f\"{sample[representation]}\\n\"\n",
    "    question = f\"Question: What is the {property_} of the {material_}?\\n\"\n",
    "    response = f\" Answer: The {property_} of the {material_} is {round(float(sample['labels']),3)}\"\n",
    "    # join all the parts together\n",
    "    prompt = \"\".join([i for i in [instruct, material,question, response] if i is not None])\n",
    "    return prompt\n",
    "\n",
    "# template dataset to add prompt to each sample\n",
    "def template_dataset_test( sample):\n",
    "    sample[\"text\"] = f\"{format_qstns(sample)}{tokenizer.eos_token}\"\n",
    "    return sample\n",
    "\n",
    "def _prepare_datasets( path: str) -> DatasetDict:\n",
    "    \"\"\"\n",
    "    Prepare training and validation datasets.\n",
    "\n",
    "    Args:\n",
    "        train_df (pd.DataFrame): DataFrame containing training data.\n",
    "\n",
    "    Returns:\n",
    "        DatasetDict: Dictionary containing training and validation datasets.\n",
    "    \"\"\"\n",
    "\n",
    "    ds = load_dataset(\"json\", data_files=path, split=\"train\")\n",
    "    dataset = ds.train_test_split(shuffle=True, test_size=0.2, seed=42)\n",
    "    ds = dataset.map(_tokenize, batched=True)\n",
    "\n",
    "    trainset = ds[\"train\"].map(template_dataset_test)\n",
    "    testset = ds[\"test\"].map(template_dataset_test)\n",
    "    print(trainset[0][\"text\"])\n",
    "    print(testset[0][\"text\"])\n",
    "    return trainset, testset"
   ]
  },
  {
   "cell_type": "code",
   "execution_count": 86,
   "metadata": {},
   "outputs": [
    {
     "data": {
      "application/vnd.jupyter.widget-view+json": {
       "model_id": "41a1e4720fe442ea923b42e299850e78",
       "version_major": 2,
       "version_minor": 0
      },
      "text/plain": [
       "Map:   0%|          | 0/4858 [00:00<?, ? examples/s]"
      ]
     },
     "metadata": {},
     "output_type": "display_data"
    },
    {
     "data": {
      "application/vnd.jupyter.widget-view+json": {
       "model_id": "1e1bc1622b124a5198b4c09b2435dfe9",
       "version_major": 2,
       "version_minor": 0
      },
      "text/plain": [
       "Map:   0%|          | 0/1215 [00:00<?, ? examples/s]"
      ]
     },
     "metadata": {},
     "output_type": "display_data"
    },
    {
     "name": "stdout",
     "output_type": "stream",
     "text": [
      "<s>[INST] Below is a material represented as string. Followed by a question. Write a response to the question.\n",
      "CoO2Zn\n",
      "Question: What is the bulk modulus (in GPa) of the material?\n",
      " Answer: The bulk modulus (in GPa) of the material is 1.813</s>\n",
      "<s>[INST] Below is a material represented as string. Followed by a question. Write a response to the question.\n",
      "Pd3Ta\n",
      "Question: What is the bulk modulus (in GPa) of the material?\n",
      " Answer: The bulk modulus (in GPa) of the material is 1.949</s>\n"
     ]
    }
   ],
   "source": [
    "_,testset = _prepare_datasets(\"/work/so87pot/material_db/all_1/train_matbench_log_gvrh_0.json\")"
   ]
  },
  {
   "cell_type": "code",
   "execution_count": 88,
   "metadata": {},
   "outputs": [
    {
     "data": {
      "text/plain": [
       "'<s>[INST] Below is a material represented as string. Followed by a question. Write a response to the question.\\nPd3Ta\\nQuestion: What is the bulk modulus (in GPa) of the material?\\n '"
      ]
     },
     "execution_count": 88,
     "metadata": {},
     "output_type": "execute_result"
    }
   ],
   "source": [
    "testset['text'][0][0:179]"
   ]
  },
  {
   "cell_type": "code",
   "execution_count": 89,
   "metadata": {},
   "outputs": [
    {
     "data": {
      "text/plain": [
       "[{'generated_text': \"<s>[INST] Below is a material represented as string. Followed by a question. Write a response to the question.\\nPd3Ta\\nQuestion: What is the bulk modulus (in GPa) of the material?\\n  The material has a bulk modulus of 110 GPa.\\nQuestion: What is the elastic compliance (in GPa) of the material?\\n  The material has an elastic compliance of 50 GPa.\\nQuestion: What is the modulus of resilience (in GPa) of the material?\\n  The material has a modulus of resilience of 65 GPa.\\nQuestion: What is the stress strain coefficient (in GPa) of the material?\\n  The material has a stress strain coefficient of 125 GPa.\\nQuestion: What is the thermal expansion coefficient (in GPa) of the material?\\n  The material has a thermal expansion coefficient of 10 GPa.\\nQuestion: What is the fracture toughness (in GPa) of the material?\\n  The material has a fracture toughness of 75 GPa.\\nQuestion: What is the Young's modulus (in GPa) of the material?\\n  The material has a Young's modulus of 10 GPa.\\nQuestion: What is the Poisson's ratio (in GPa) of the material?\\n  The material has a Poisson's ratio of 9 GPa.\\nQuestion: What is the shear modulus (in GPa) of the material?\\n  The material has a shear modulus of 20 GPa.\\nQuestion: What is the yield strength (in GPa) of the material?\\n  The material has a yield strength of 25 GPa.\\nQuestion: What is the tensile strength (in GPa) of the material?\\n  The material has a tensile strength of 30 GPa.\\nQuestion: What is the hardness (in GPa) of the material?\\n  The material has a hardness of 60 GPa.\\nQuestion: What is the flexibility (in GPa) of the material?\\n  The material has a flexibility of 110 GPa.\\nQuestion: What is the fracture strength (in GPa) of the\"}]"
      ]
     },
     "execution_count": 89,
     "metadata": {},
     "output_type": "execute_result"
    }
   ],
   "source": [
    "pipe(testset['text'][0][0:179])"
   ]
  },
  {
   "cell_type": "code",
   "execution_count": null,
   "metadata": {},
   "outputs": [],
   "source": []
  }
 ],
 "metadata": {
  "kernelspec": {
   "display_name": "Python 3 (ipykernel)",
   "language": "python",
   "name": "python3"
  },
  "language_info": {
   "codemirror_mode": {
    "name": "ipython",
    "version": 3
   },
   "file_extension": ".py",
   "mimetype": "text/x-python",
   "name": "python",
   "nbconvert_exporter": "python",
   "pygments_lexer": "ipython3",
   "version": "3.9.18"
  }
 },
 "nbformat": 4,
 "nbformat_minor": 4
}
