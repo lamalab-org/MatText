{
 "cells": [
  {
   "cell_type": "code",
   "execution_count": 1,
   "metadata": {},
   "outputs": [
    {
     "name": "stderr",
     "output_type": "stream",
     "text": [
      "/home/so87pot/miniconda3/envs/mattext/lib/python3.9/site-packages/tqdm/auto.py:21: TqdmWarning: IProgress not found. Please update jupyter and ipywidgets. See https://ipywidgets.readthedocs.io/en/stable/user_install.html\n",
      "  from .autonotebook import tqdm as notebook_tqdm\n"
     ]
    }
   ],
   "source": [
    "from mattext.tokenizer import SliceTokenizer"
   ]
  },
  {
   "cell_type": "code",
   "execution_count": 8,
   "metadata": {},
   "outputs": [],
   "source": [
    "import json\n",
    "import io\n",
    "import tempfile\n",
    "\n",
    "\n",
    "\n",
    "my_dict = {\n",
    "    \"H\": 1,\n",
    "    \"He\": 2,\n",
    "    \"New_Atom\": 3\n",
    "}\n",
    "\n",
    "\n",
    "with tempfile.NamedTemporaryFile(delete=False, mode='w', suffix='.json') as temp_file:\n",
    "    # Write the JSON string to the temporary file\n",
    "    json.dump(my_dict, temp_file)\n",
    "    temp_file_path = temp_file.name\n"
   ]
  },
  {
   "cell_type": "code",
   "execution_count": 9,
   "metadata": {},
   "outputs": [],
   "source": [
    "tokenizer = SliceTokenizer(\n",
    "                 model_max_length=512,\n",
    "                 truncation=True,\n",
    "                 padding=\"max_length\",\n",
    "                 max_length=512,\n",
    "                 vocab_file=temp_file_path\n",
    "             )"
   ]
  },
  {
   "cell_type": "code",
   "execution_count": 10,
   "metadata": {},
   "outputs": [
    {
     "data": {
      "text/plain": [
       "['[CLS]', 'H', 'He', 'New_Atom', '[SEP]']"
      ]
     },
     "execution_count": 10,
     "metadata": {},
     "output_type": "execute_result"
    }
   ],
   "source": [
    "tokenizer.tokenize(\"H He Na New_Atom 1  2 9\")"
   ]
  },
  {
   "cell_type": "code",
   "execution_count": 16,
   "metadata": {},
   "outputs": [],
   "source": [
    "tokenizer = SliceTokenizer(\n",
    "                 model_max_length=512,\n",
    "                 truncation=True,\n",
    "                 padding=\"max_length\",\n",
    "                 max_length=512,\n",
    "                 vocab_file=\"/home/so87pot/n0w0f/mattext/data/try.json\"\n",
    "             )"
   ]
  },
  {
   "cell_type": "code",
   "execution_count": 17,
   "metadata": {},
   "outputs": [
    {
     "data": {
      "text/plain": [
       "{'H': 1,\n",
       " 'He': 2,\n",
       " 'New_Atom': 3,\n",
       " '1': 4,\n",
       " '2': 5,\n",
       " '3': 6,\n",
       " '4': 7,\n",
       " '[CLS]': 7,\n",
       " '[SEP]': 8}"
      ]
     },
     "execution_count": 17,
     "metadata": {},
     "output_type": "execute_result"
    }
   ],
   "source": [
    "tokenizer.vocab"
   ]
  },
  {
   "cell_type": "code",
   "execution_count": 7,
   "metadata": {},
   "outputs": [
    {
     "data": {
      "text/plain": [
       "['[CLS]', 'H', 'He', 'New_Atom', '1', '2', '[SEP]']"
      ]
     },
     "execution_count": 7,
     "metadata": {},
     "output_type": "execute_result"
    }
   ],
   "source": [
    "tokenizer.tokenize(\"H He Na New_Atom 1  2 9\")"
   ]
  },
  {
   "cell_type": "code",
   "execution_count": 18,
   "metadata": {},
   "outputs": [
    {
     "name": "stdout",
     "output_type": "stream",
     "text": [
      "{'H': 1, 'He': 2, 'New_Atom': 3, '1': 4, '2': 5, '3': 6, '4': 7, '[CLS]': 7, '[SEP]': 8}\n"
     ]
    }
   ],
   "source": [
    "tokenizer = SliceTokenizer(vocab_file=\"/home/so87pot/n0w0f/mattext/data/try.json\")\n",
    "print(tokenizer.vocab)"
   ]
  },
  {
   "cell_type": "code",
   "execution_count": 12,
   "metadata": {},
   "outputs": [
    {
     "data": {
      "text/plain": [
       "{'o o o': 0,\n",
       " 'o o +': 1,\n",
       " 'o o -': 2,\n",
       " 'o + o': 3,\n",
       " 'o + +': 4,\n",
       " 'o + -': 5,\n",
       " 'o - o': 6,\n",
       " 'o - +': 7,\n",
       " 'o - -': 8,\n",
       " '+ o o': 9,\n",
       " '+ o +': 10,\n",
       " '+ o -': 11,\n",
       " '+ + o': 12,\n",
       " '+ + +': 13,\n",
       " '+ + -': 14,\n",
       " '+ - o': 15,\n",
       " '+ - +': 16,\n",
       " '+ - -': 17,\n",
       " '- o o': 18,\n",
       " '- o +': 19,\n",
       " '- o -': 20,\n",
       " '- + o': 21,\n",
       " '- + +': 22,\n",
       " '- + -': 23,\n",
       " '- - o': 24,\n",
       " '- - +': 25,\n",
       " '- - -': 26,\n",
       " 'H': 27,\n",
       " 'He': 28,\n",
       " 'Li': 29,\n",
       " 'Be': 30,\n",
       " 'B': 31,\n",
       " 'C': 32,\n",
       " 'N': 33,\n",
       " 'O': 34,\n",
       " 'F': 35,\n",
       " 'Ne': 36,\n",
       " 'Na': 37,\n",
       " 'Mg': 38,\n",
       " 'Al': 39,\n",
       " 'Si': 40,\n",
       " 'P': 41,\n",
       " 'S': 42,\n",
       " 'Cl': 43,\n",
       " 'K': 44,\n",
       " 'Ar': 45,\n",
       " 'Ca': 46,\n",
       " 'Sc': 47,\n",
       " 'Ti': 48,\n",
       " 'V': 49,\n",
       " 'Cr': 50,\n",
       " 'Mn': 51,\n",
       " 'Fe': 52,\n",
       " 'Ni': 53,\n",
       " 'Co': 54,\n",
       " 'Cu': 55,\n",
       " 'Zn': 56,\n",
       " 'Ga': 57,\n",
       " 'Ge': 58,\n",
       " 'As': 59,\n",
       " 'Se': 60,\n",
       " 'Br': 61,\n",
       " 'Kr': 62,\n",
       " 'Rb': 63,\n",
       " 'Sr': 64,\n",
       " 'Y': 65,\n",
       " 'Zr': 66,\n",
       " 'Nb': 67,\n",
       " 'Mo': 68,\n",
       " 'Tc': 69,\n",
       " 'Ru': 70,\n",
       " 'Rh': 71,\n",
       " 'Pd': 72,\n",
       " 'Ag': 73,\n",
       " 'Cd': 74,\n",
       " 'In': 75,\n",
       " 'Sn': 76,\n",
       " 'Sb': 77,\n",
       " 'Te': 78,\n",
       " 'I': 79,\n",
       " 'Xe': 80,\n",
       " 'Cs': 81,\n",
       " 'Ba': 82,\n",
       " 'La': 83,\n",
       " 'Ce': 84,\n",
       " 'Pr': 85,\n",
       " 'Nd': 86,\n",
       " 'Pm': 87,\n",
       " 'Sm': 88,\n",
       " 'Eu': 89,\n",
       " 'Gd': 90,\n",
       " 'Tb': 91,\n",
       " 'Dy': 92,\n",
       " 'Ho': 93,\n",
       " 'Er': 94,\n",
       " 'Tm': 95,\n",
       " 'Yb': 96,\n",
       " 'Lu': 97,\n",
       " 'Hf': 98,\n",
       " 'Ta': 99,\n",
       " 'W': 100,\n",
       " 'Re': 101,\n",
       " 'Os': 102,\n",
       " 'Ir': 103,\n",
       " 'Pt': 104,\n",
       " 'Au': 105,\n",
       " 'Hg': 106,\n",
       " 'Tl': 107,\n",
       " 'Pb': 108,\n",
       " 'Bi': 109,\n",
       " 'Th': 110,\n",
       " 'Pa': 111,\n",
       " 'U': 112,\n",
       " 'Np': 113,\n",
       " 'Pu': 114,\n",
       " 'Am': 115,\n",
       " 'Cm': 116,\n",
       " 'Bk': 117,\n",
       " 'Cf': 118,\n",
       " 'Es': 119,\n",
       " 'Fm': 120,\n",
       " 'Md': 121,\n",
       " 'No': 122,\n",
       " 'Lr': 123,\n",
       " 'Rf': 124,\n",
       " 'Db': 125,\n",
       " 'Sg': 126,\n",
       " 'Bh': 127,\n",
       " 'Hs': 128,\n",
       " 'Mt': 129,\n",
       " 'Ds': 130,\n",
       " 'Rg': 131,\n",
       " 'Cn': 132,\n",
       " 'Nh': 133,\n",
       " 'Fl': 134,\n",
       " 'Mc': 135,\n",
       " 'Lv': 136,\n",
       " 'Ts': 137,\n",
       " 'Og': 138,\n",
       " '0': 139,\n",
       " '1': 140,\n",
       " '2': 141,\n",
       " '3': 142,\n",
       " '4': 143,\n",
       " '5': 144,\n",
       " '6': 145,\n",
       " '7': 146,\n",
       " '8': 147,\n",
       " '9': 148,\n",
       " '[CLS]': 149,\n",
       " '[SEP]': 150}"
      ]
     },
     "execution_count": 12,
     "metadata": {},
     "output_type": "execute_result"
    }
   ],
   "source": [
    "tokenizer.vocab"
   ]
  },
  {
   "cell_type": "code",
   "execution_count": 1,
   "metadata": {},
   "outputs": [
    {
     "name": "stderr",
     "output_type": "stream",
     "text": [
      "2024-06-09 18:15:54.455426: E external/local_xla/xla/stream_executor/cuda/cuda_dnn.cc:9261] Unable to register cuDNN factory: Attempting to register factory for plugin cuDNN when one has already been registered\n",
      "2024-06-09 18:15:54.456490: E external/local_xla/xla/stream_executor/cuda/cuda_fft.cc:607] Unable to register cuFFT factory: Attempting to register factory for plugin cuFFT when one has already been registered\n",
      "2024-06-09 18:15:54.724613: E external/local_xla/xla/stream_executor/cuda/cuda_blas.cc:1515] Unable to register cuBLAS factory: Attempting to register factory for plugin cuBLAS when one has already been registered\n"
     ]
    },
    {
     "name": "stdout",
     "output_type": "stream",
     "text": [
      "WARNING:tensorflow:From /home/so87pot/miniconda3/envs/mattext/lib/python3.9/site-packages/tensorflow/python/util/deprecation.py:588: calling function (from tensorflow.python.eager.polymorphic_function.polymorphic_function) with experimental_relax_shapes is deprecated and will be removed in a future version.\n",
      "Instructions for updating:\n",
      "experimental_relax_shapes is deprecated, use reduce_retracing instead\n"
     ]
    },
    {
     "name": "stderr",
     "output_type": "stream",
     "text": [
      "Reading file /home/so87pot/miniconda3/envs/mattext/lib/python3.9/site-packages/robocrys/condense/mineral_db.json.gz: 0it [00:00, ?it/s]#####2| 166/180 [00:00<00:00, 596.89it/s]\n",
      "Decoding objects from /home/so87pot/miniconda3/envs/mattext/lib/python3.9/site-packages/robocrys/condense/mineral_db.json.gz: 100%|##########| 180/180 [00:00<00:00, 554.45it/s]\n"
     ]
    }
   ],
   "source": [
    "from mattext.representations import TextRep\n",
    "from pymatgen.core import Structure\n",
    "\n",
    "\n",
    "# Load structure from a CIF file\n",
    "from_file = \"/home/so87pot/n0w0f/xtal2txt/tests/data/InCuS2_p1.cif\"\n",
    "structure = Structure.from_file(from_file, \"cif\")\n",
    "\n",
    "# Initialize TextRep Class\n",
    "text_rep = TextRep.from_input(structure)"
   ]
  },
  {
   "cell_type": "code",
   "execution_count": 2,
   "metadata": {},
   "outputs": [
    {
     "name": "stdout",
     "output_type": "stream",
     "text": [
      "{'cif_p1': \"data_InCuS2\\n_symmetry_space_group_name_H-M   'P 1'\\n_cell_length_a   5.52\\n_cell_length_b   5.52\\n_cell_length_c   6.8\\n_cell_angle_alpha   113.96\\n_cell_angle_beta   113.96\\n_cell_angle_gamma   90.0\\n_symmetry_Int_Tables_number   1\\n_chemical_formula_structural   InCuS2\\n_chemical_formula_sum   'In2 Cu2 S4'\\n_cell_volume   169.53\\n_cell_formula_units_Z   2\\nloop_\\n _symmetry_equiv_pos_site_id\\n _symmetry_equiv_pos_as_xyz\\n  1  'x, y, z'\\nloop_\\n _atom_type_symbol\\n _atom_type_oxidation_number\\n  In3+  3.0\\n  Cu+  1.0\\n  S2-  -2.0\\nloop_\\n _atom_site_type_symbol\\n _atom_site_label\\n _atom_site_symmetry_multiplicity\\n _atom_site_fract_x\\n _atom_site_fract_y\\n _atom_site_fract_z\\n _atom_site_occupancy\\n  Cu+  Cu4  1  0.25  0.75  0.5  1.0\\n  Cu+  Cu5  1  0.0  0.0  0.0  1.0\\n  In3+  In0  1  0.5  0.5  0.0  1.0\\n  In3+  In1  1  0.75  0.25  0.5  1.0\\n  S2-  S8  1  0.9  0.88  0.25  1.0\\n  S2-  S9  1  0.62  0.1  0.75  1.0\\n  S2-  S10  1  0.35  0.38  0.25  1.0\\n  S2-  S11  1  0.12  0.65  0.75  1.0\\n\", 'slice': 'Cu Cu In In S S S S 0 7 o o o 0 4 - o o 0 6 o o o 0 5 o + o 1 4 - - o 1 5 - o - 1 7 o - - 1 6 o o o 2 6 o o o 2 7 o o - 2 5 o o - 2 4 o o o 3 5 o o o 3 6 o o o 3 4 o - o 3 7 + o o ', 'atoms_params': 'Cu Cu In In S S S S 5.52 5.52 6.8 113 113 90', 'crystal_llm_rep': '5.5 5.5 6.8\\n113 113 90\\nCu+\\n0.25 0.75 0.50\\nCu+\\n0.00 0.00 0.00\\nIn3+\\n0.50 0.50 0.00\\nIn3+\\n0.75 0.25 0.50\\nS2-\\n0.90 0.87 0.25\\nS2-\\n0.62 0.10 0.75\\nS2-\\n0.35 0.37 0.25\\nS2-\\n0.12 0.65 0.75', 'zmatrix': 'Cu\\nCu 1 3.9\\nIn 2 3.9 1 60\\nIn 1 3.9 2 60 3 -71\\nS 3 2.5 4 90 1 93\\nS 4 2.5 2 90 1 93\\nS 1 2.3 2 32 3 -35\\nS 1 2.3 7 111 6 -32'}\n"
     ]
    }
   ],
   "source": [
    "requested_reps = [\n",
    "    \"cif_p1\",\n",
    "    \"slice\",\n",
    "    \"atoms_params\",\n",
    "    \"crystal_llm_rep\",\n",
    "    \"zmatrix\"\n",
    "]\n",
    "\n",
    "# Get the requested text representations\n",
    "requested_text_reps = text_rep.get_requested_text_reps(requested_reps)\n",
    "print(requested_text_reps)"
   ]
  },
  {
   "cell_type": "code",
   "execution_count": 3,
   "metadata": {},
   "outputs": [
    {
     "name": "stdout",
     "output_type": "stream",
     "text": [
      "Permuted Pymatgen Structure:\n",
      "Full Formula (N4)\n",
      "Reduced Formula: N2\n",
      "abc   :   5.605409   5.605409   5.605409\n",
      "angles:  90.000000  90.000000  90.000000\n",
      "pbc   :       True       True       True\n",
      "Sites (4)\n",
      "  #  SP          a        b        c\n",
      "---  ----  -------  -------  -------\n",
      "  0  N0+   0.02321  0.02321  0.02321\n",
      "  1  N0+   0.97679  0.52321  0.47679\n",
      "  2  N0+   0.52321  0.47679  0.97679\n",
      "  3  N0+   0.47679  0.97679  0.52321\n",
      "Permuted Text Representations:\n",
      "{'atoms': 'N N N N', 'crystal_llm_rep': '5.6 5.6 5.6\\n90 90 90\\nN0+\\n0.02 0.02 0.02\\nN0+\\n0.98 0.52 0.48\\nN0+\\n0.52 0.48 0.98\\nN0+\\n0.48 0.98 0.52'}\n"
     ]
    }
   ],
   "source": [
    "from mattext.representations import TextRep\n",
    "from pymatgen.core.structure import Structure\n",
    "\n",
    "structure_1 = Structure.from_file(\"/home/so87pot/n0w0f/xtal2txt/tests/data/N2_p1.cif\", \"cif\")\n",
    "\n",
    "transformations = [(\"permute_structure\", {\"seed\": 42})]\n",
    "\n",
    "text_rep = TextRep.from_input(structure_1, transformations)\n",
    "text_representations_requested = [\"atoms\", \"crystal_llm_rep\"]\n",
    "print(\"Permuted Pymatgen Structure:\")\n",
    "print(text_rep.structure)\n",
    "print(\"Permuted Text Representations:\")\n",
    "print(text_rep.get_requested_text_reps(text_representations_requested))"
   ]
  },
  {
   "cell_type": "code",
   "execution_count": 4,
   "metadata": {},
   "outputs": [
    {
     "name": "stdout",
     "output_type": "stream",
     "text": [
      "Translated Crystal-text-LLM Representations:\n",
      "{'crystal_llm_rep': '5.6 5.6 5.6\\n90 90 90\\nN0+\\n0.58 0.08 0.62\\nN0+\\n0.08 0.62 0.58\\nN0+\\n0.12 0.12 0.12\\nN0+\\n0.62 0.58 0.08'}\n"
     ]
    }
   ],
   "source": [
    "transformations = [(\"translate_structure\", {\"seed\": 42, \"vector\": [0.1, 0.1, 0.1]})]\n",
    "\n",
    "text_rep = TextRep.from_input(structure_1, transformations)\n",
    "text_representations_requested = [\"crystal_llm_rep\"]\n",
    "print(\"Translated Crystal-text-LLM Representations:\")\n",
    "print(text_rep.get_requested_text_reps(text_representations_requested))"
   ]
  },
  {
   "cell_type": "code",
   "execution_count": 5,
   "metadata": {},
   "outputs": [
    {
     "name": "stdout",
     "output_type": "stream",
     "text": [
      "[CLS]\n",
      "['[CLS]', 'Ga', 'Ga', 'P', 'P', '0', '3', '- - o', '0', '2', '- o -', '0', '1', 'o - -', '[SEP]']\n"
     ]
    }
   ],
   "source": [
    "\n",
    "from mattext.tokenizer import SliceTokenizer\n",
    "\n",
    "tokenizer = SliceTokenizer(\n",
    "                model_max_length=512, \n",
    "                truncation=True, \n",
    "                padding=\"max_length\", \n",
    "                max_length=512\n",
    "            )\n",
    "print(tokenizer.cls_token) \n",
    "print(tokenizer.tokenize(\"Ga Ga P P 0 3 - - o 0 2 - o - 0 1 o - -\"))\n"
   ]
  },
  {
   "cell_type": "code",
   "execution_count": null,
   "metadata": {},
   "outputs": [],
   "source": []
  },
  {
   "cell_type": "code",
   "execution_count": 6,
   "metadata": {},
   "outputs": [
    {
     "name": "stdout",
     "output_type": "stream",
     "text": [
      "[149, 57, 57, 41, 41, 139, 142, 24, 139, 141, 20, 139, 140, 8, 150]\n",
      "Ga Ga P P 0 3 - - o 0 2 - o - 0 1 o - -\n"
     ]
    }
   ],
   "source": [
    "token_ids = tokenizer.encode(\"Ga Ga P P 0 3 - - o 0 2 - o - 0 1 o - -\")\n",
    "print(token_ids)\n",
    "decoded = tokenizer.decode(token_ids, skip_special_tokens=True)\n",
    "print(decoded)\n",
    "\n"
   ]
  },
  {
   "cell_type": "code",
   "execution_count": null,
   "metadata": {},
   "outputs": [],
   "source": [
    "[CLS]\n",
    "['[CLS]', 'Ga', 'Ga', 'P', 'P', '0', '3', '- - o', '0', '2', '- o -', '0', '1', 'o - -', '[SEP]']"
   ]
  },
  {
   "cell_type": "code",
   "execution_count": 7,
   "metadata": {},
   "outputs": [
    {
     "name": "stdout",
     "output_type": "stream",
     "text": [
      "{'o o o': 0, 'o o +': 1, 'o o -': 2, 'o + o': 3, 'o + +': 4, 'o + -': 5, 'o - o': 6, 'o - +': 7, 'o - -': 8, '+ o o': 9, '+ o +': 10, '+ o -': 11, '+ + o': 12, '+ + +': 13, '+ + -': 14, '+ - o': 15, '+ - +': 16, '+ - -': 17, '- o o': 18, '- o +': 19, '- o -': 20, '- + o': 21, '- + +': 22, '- + -': 23, '- - o': 24, '- - +': 25, '- - -': 26, 'H': 27, 'He': 28, 'Li': 29, 'Be': 30, 'B': 31, 'C': 32, 'N': 33, 'O': 34, 'F': 35, 'Ne': 36, 'Na': 37, 'Mg': 38, 'Al': 39, 'Si': 40, 'P': 41, 'S': 42, 'Cl': 43, 'K': 44, 'Ar': 45, 'Ca': 46, 'Sc': 47, 'Ti': 48, 'V': 49, 'Cr': 50, 'Mn': 51, 'Fe': 52, 'Ni': 53, 'Co': 54, 'Cu': 55, 'Zn': 56, 'Ga': 57, 'Ge': 58, 'As': 59, 'Se': 60, 'Br': 61, 'Kr': 62, 'Rb': 63, 'Sr': 64, 'Y': 65, 'Zr': 66, 'Nb': 67, 'Mo': 68, 'Tc': 69, 'Ru': 70, 'Rh': 71, 'Pd': 72, 'Ag': 73, 'Cd': 74, 'In': 75, 'Sn': 76, 'Sb': 77, 'Te': 78, 'I': 79, 'Xe': 80, 'Cs': 81, 'Ba': 82, 'La': 83, 'Ce': 84, 'Pr': 85, 'Nd': 86, 'Pm': 87, 'Sm': 88, 'Eu': 89, 'Gd': 90, 'Tb': 91, 'Dy': 92, 'Ho': 93, 'Er': 94, 'Tm': 95, 'Yb': 96, 'Lu': 97, 'Hf': 98, 'Ta': 99, 'W': 100, 'Re': 101, 'Os': 102, 'Ir': 103, 'Pt': 104, 'Au': 105, 'Hg': 106, 'Tl': 107, 'Pb': 108, 'Bi': 109, 'Th': 110, 'Pa': 111, 'U': 112, 'Np': 113, 'Pu': 114, 'Am': 115, 'Cm': 116, 'Bk': 117, 'Cf': 118, 'Es': 119, 'Fm': 120, 'Md': 121, 'No': 122, 'Lr': 123, 'Rf': 124, 'Db': 125, 'Sg': 126, 'Bh': 127, 'Hs': 128, 'Mt': 129, 'Ds': 130, 'Rg': 131, 'Cn': 132, 'Nh': 133, 'Fl': 134, 'Mc': 135, 'Lv': 136, 'Ts': 137, 'Og': 138, '0': 139, '1': 140, '2': 141, '3': 142, '4': 143, '5': 144, '6': 145, '7': 146, '8': 147, '9': 148, '[CLS]': 149, '[SEP]': 150}\n"
     ]
    }
   ],
   "source": [
    "tokenizer = SliceTokenizer()\n",
    "print(tokenizer.vocab)"
   ]
  },
  {
   "cell_type": "code",
   "execution_count": null,
   "metadata": {},
   "outputs": [],
   "source": []
  }
 ],
 "metadata": {
  "kernelspec": {
   "display_name": "mattext",
   "language": "python",
   "name": "python3"
  },
  "language_info": {
   "codemirror_mode": {
    "name": "ipython",
    "version": 3
   },
   "file_extension": ".py",
   "mimetype": "text/x-python",
   "name": "python",
   "nbconvert_exporter": "python",
   "pygments_lexer": "ipython3",
   "version": "3.9.19"
  }
 },
 "nbformat": 4,
 "nbformat_minor": 2
}
