{
 "cells": [
  {
   "cell_type": "markdown",
   "metadata": {},
   "source": [
    "### Load dataset"
   ]
  },
  {
   "cell_type": "code",
   "execution_count": 1,
   "metadata": {},
   "outputs": [
    {
     "name": "stderr",
     "output_type": "stream",
     "text": [
      "/home/so87pot/miniconda3/envs/test/lib/python3.9/site-packages/tqdm/auto.py:21: TqdmWarning: IProgress not found. Please update jupyter and ipywidgets. See https://ipywidgets.readthedocs.io/en/stable/user_install.html\n",
      "  from .autonotebook import tqdm as notebook_tqdm\n"
     ]
    }
   ],
   "source": [
    "from datasets import load_dataset\n",
    "path= \"/work/so87pot/material_db/matbench_text/test_matbench_dielectric_4.json\"\n",
    "ds = load_dataset(\"json\", data_files=path,split=\"train\")\n"
   ]
  },
  {
   "cell_type": "code",
   "execution_count": 4,
   "metadata": {},
   "outputs": [
    {
     "data": {
      "text/plain": [
       "Dataset({\n",
       "    features: ['cif_p1', 'cif_symmetrized', 'cif_bonding', 'slice', 'composition', 'crystal_llm_rep', 'robocrys_rep', 'wycoff_rep'],\n",
       "    num_rows: 952\n",
       "})"
      ]
     },
     "execution_count": 4,
     "metadata": {},
     "output_type": "execute_result"
    }
   ],
   "source": [
    "ds"
   ]
  },
  {
   "cell_type": "code",
   "execution_count": 4,
   "metadata": {},
   "outputs": [],
   "source": [
    "dataset = ds.train_test_split(shuffle=True, test_size=0.2, seed=42)"
   ]
  },
  {
   "cell_type": "code",
   "execution_count": 5,
   "metadata": {},
   "outputs": [
    {
     "data": {
      "text/plain": [
       "DatasetDict({\n",
       "    train: Dataset({\n",
       "        features: ['cif_p1', 'cif_symmetrized', 'cif_bonding', 'slice', 'composition', 'crystal_llm_rep', 'robocrys_rep', 'wycoff_rep'],\n",
       "        num_rows: 3048\n",
       "    })\n",
       "    test: Dataset({\n",
       "        features: ['cif_p1', 'cif_symmetrized', 'cif_bonding', 'slice', 'composition', 'crystal_llm_rep', 'robocrys_rep', 'wycoff_rep'],\n",
       "        num_rows: 763\n",
       "    })\n",
       "})"
      ]
     },
     "execution_count": 5,
     "metadata": {},
     "output_type": "execute_result"
    }
   ],
   "source": [
    "dataset "
   ]
  },
  {
   "cell_type": "code",
   "execution_count": 16,
   "metadata": {},
   "outputs": [
    {
     "name": "stdout",
     "output_type": "stream",
     "text": [
      "Number of unique rows based on slice: 2032198\n"
     ]
    }
   ],
   "source": [
    "import pandas as pd\n",
    "# Convert the dataset to a pandas DataFrame\n",
    "df = pd.DataFrame(ds)\n",
    "\n",
    "# Filter only unique rows based on 'material_id'\n",
    "unique_df = df.drop_duplicates(subset='cif_p1')\n",
    "\n",
    "# Convert the unique DataFrame back to a dictionary\n",
    "unique_data = unique_df.to_dict('records')\n",
    "\n",
    "print(\"Number of unique rows based on slice:\", len(unique_data))"
   ]
  },
  {
   "cell_type": "markdown",
   "metadata": {},
   "source": [
    "### Remove duplicates based on Nomad Material ID"
   ]
  },
  {
   "cell_type": "code",
   "execution_count": 4,
   "metadata": {},
   "outputs": [],
   "source": [
    "import json\n",
    "\n",
    "# Read the JSON file\n",
    "with open('/work/so87pot/material_db/structllm_dataset/combined.json', 'r') as file:\n",
    "    data = json.load(file)\n",
    "\n",
    "# Create a dictionary to store unique entries based on material_id\n",
    "unique_entries = {}\n",
    "\n",
    "# Iterate over the data and filter out duplicates\n",
    "for entry in data:\n",
    "    material_id = entry['material_id']\n",
    "    if material_id not in unique_entries:\n",
    "        unique_entries[material_id] = entry\n",
    "\n",
    "# Convert the dictionary values back to a list\n",
    "filtered_data = list(unique_entries.values())\n",
    "\n",
    "# Write the filtered data back to a new JSON file\n",
    "with open('/work/so87pot/material_db/structllm_dataset/uique_combined.json', 'w') as file:\n",
    "    json.dump(filtered_data, file, indent=4)\n"
   ]
  },
  {
   "cell_type": "markdown",
   "metadata": {},
   "source": [
    "### Filter entries with None in any of representations"
   ]
  },
  {
   "cell_type": "code",
   "execution_count": 8,
   "metadata": {},
   "outputs": [],
   "source": [
    "from datasets import load_dataset\n",
    "import json\n",
    "\n",
    "# Filter out entries where any of the specified fields is None\n",
    "filtered_dataset = [entry for entry in ds if all(entry[field] is not None for field in ['cif_p1', 'slice', 'cif_symmetrized', 'crystal_llm_rep'])]\n",
    "\n",
    "# Save the filtered dataset back to a JSON file\n",
    "output_file_path = \"/work/so87pot/material_db/structllm_dataset/filtered_data.json\"\n",
    "with open(output_file_path, \"w\") as file:\n",
    "    json.dump(filtered_dataset, file, indent=4)\n"
   ]
  },
  {
   "cell_type": "code",
   "execution_count": null,
   "metadata": {},
   "outputs": [],
   "source": [
    "filtered_dataset = ds.filter(lambda example: \n",
    "    example['cif_p1'] is not None and \n",
    "    example['slice'] is not None and \n",
    "    example['cif_symmetrized'] is not None and \n",
    "    example['crystal_llm_rep'] is not None)\n"
   ]
  },
  {
   "cell_type": "markdown",
   "metadata": {},
   "source": [
    "### Train validation split with all duplicate entries (slice) in one fold"
   ]
  },
  {
   "cell_type": "code",
   "execution_count": 18,
   "metadata": {},
   "outputs": [],
   "source": [
    "from sklearn.model_selection import train_test_split\n",
    "from collections import Counter\n",
    "import json\n",
    "\n",
    "# Function to create a mask for non-unique entries in specified fields\n",
    "def create_non_unique_mask(dataset, fields):\n",
    "    counts = Counter()\n",
    "    for example in dataset:\n",
    "        key = tuple(example[field] for field in fields)\n",
    "        counts[key] += 1\n",
    "    mask = [counts[tuple(example[field] for field in fields)] > 1 for example in dataset]\n",
    "    return mask\n",
    "\n",
    "# Load the dataset\n",
    "path= \"/work/so87pot/material_db/structllm_dataset/filtered_data.json\"\n",
    "dataset = load_dataset(\"json\", data_files=path,split=\"train\")\n",
    "\n",
    "# Specify the fields for which non-unique entries should be grouped together\n",
    "fields_to_group = ['slice', 'cif_p1', 'cif_symmetrized', 'crystal_llm_rep']\n",
    "\n",
    "# Create a mask for non-unique entries in specified fields\n",
    "non_unique_mask = create_non_unique_mask(dataset, fields_to_group)\n",
    "\n",
    "# Split the dataset into train and test while maintaining the distribution of non-unique entries\n",
    "train_indices, test_indices = train_test_split(range(len(dataset)), test_size=0.01, stratify=non_unique_mask)\n",
    "\n",
    "# Create train and test splits\n",
    "train_set = [dataset[i] for i in train_indices]\n",
    "test_set = [dataset[i] for i in test_indices]\n",
    "\n",
    "# Save train and test splits as JSON files\n",
    "train_output_file = \"/work/so87pot/material_db/structllm_dataset/train.json\"\n",
    "test_output_file = \"/work/so87pot/material_db/structllm_dataset/test.json\"\n",
    "\n",
    "with open(train_output_file, \"w\") as train_file:\n",
    "    json.dump(train_set, train_file, indent=4)\n",
    "\n",
    "with open(test_output_file, \"w\") as test_file:\n",
    "    json.dump(test_set, test_file, indent=4)\n"
   ]
  },
  {
   "cell_type": "code",
   "execution_count": null,
   "metadata": {},
   "outputs": [],
   "source": [
    "from sklearn.model_selection import train_test_split\n",
    "from datasets import  DatasetDict\n",
    "\n",
    "train_ds, val_ds = train_test_split(ds, test_size=0.2, random_state=42)\n",
    "\n",
    "dataset_dict = DatasetDict({\"train\": train_ds, \"validation\": val_ds})"
   ]
  },
  {
   "cell_type": "markdown",
   "metadata": {},
   "source": [
    "### Preapare training set of different sizes"
   ]
  },
  {
   "cell_type": "code",
   "execution_count": 5,
   "metadata": {},
   "outputs": [
    {
     "name": "stdout",
     "output_type": "stream",
     "text": [
      "Sampled dataset of size 30000K saved to /work/so87pot/material_db/structllm_dataset/train_30000K.json\n",
      "Sampled dataset of size 100000K saved to /work/so87pot/material_db/structllm_dataset/train_100000K.json\n",
      "Sampled dataset of size 300000K saved to /work/so87pot/material_db/structllm_dataset/train_300000K.json\n"
     ]
    }
   ],
   "source": [
    "from datasets import load_dataset\n",
    "import json\n",
    "\n",
    "path = \"/work/so87pot/material_db/structllm_dataset/train.json\"\n",
    "ds = load_dataset(\"json\", data_files=path, split=\"train\")\n",
    "\n",
    "# Function to sample structures and save as JSON file\n",
    "def sample_and_save_dataset(dataset, sample_size, output_file):\n",
    "    sampled_data = dataset.select(range(sample_size))\n",
    "    sampled_data = [dict(entry) for entry in sampled_data]  # Convert Dataset to list of dictionaries\n",
    "    with open(output_file, \"w\") as file:\n",
    "        json.dump(sampled_data, file, indent=4)\n",
    "\n",
    "# Specify sizes for the datasets\n",
    "dataset_sizes = [30, 100, 300]  # Add more sizes as needed\n",
    "\n",
    "# Sample datasets of different sizes\n",
    "for size in dataset_sizes:\n",
    "    # Adjust train_size parameter to control the size of the sample\n",
    "    size *= 1000  # Convert size from K to actual number of examples\n",
    "    sampled_data = ds.shuffle(seed=42).select(range(size))\n",
    "    output_file = f\"/work/so87pot/material_db/structllm_dataset/train_{size}K.json\"\n",
    "    sample_and_save_dataset(sampled_data, size, output_file)\n",
    "    print(f\"Sampled dataset of size {size}K saved to {output_file}\")\n"
   ]
  },
  {
   "cell_type": "markdown",
   "metadata": {},
   "source": [
    "### APPENDIX - Unique entry exploration"
   ]
  },
  {
   "cell_type": "code",
   "execution_count": null,
   "metadata": {},
   "outputs": [],
   "source": [
    "filtered_dataset = ds.filter(lambda example: example['robocrys_rep'] is not None)"
   ]
  },
  {
   "cell_type": "code",
   "execution_count": 22,
   "metadata": {},
   "outputs": [
    {
     "name": "stdout",
     "output_type": "stream",
     "text": [
      "Number of unique rows based on material_id: 83934\n"
     ]
    }
   ],
   "source": [
    "import pandas as pd\n",
    "# Convert the dataset to a pandas DataFrame\n",
    "df = pd.DataFrame(ds)\n",
    "\n",
    "# Filter only unique rows based on 'material_id'\n",
    "unique_df = df.drop_duplicates(subset='cif_symmetrized')\n",
    "\n",
    "# Convert the unique DataFrame back to a dictionary\n",
    "unique_data = unique_df.to_dict('records')\n",
    "\n",
    "print(\"Number of unique rows based on material_id:\", len(unique_data))"
   ]
  },
  {
   "cell_type": "code",
   "execution_count": 14,
   "metadata": {},
   "outputs": [
    {
     "name": "stdout",
     "output_type": "stream",
     "text": [
      "Number of non-unique material IDs: 2804\n"
     ]
    }
   ],
   "source": [
    "import pandas as pd\n",
    "\n",
    "# Assuming ds is a pandas DataFrame\n",
    "# If not, you can convert it to a DataFrame first\n",
    "df = ds.to_pandas()\n",
    "\n",
    "# Find non-unique material IDs\n",
    "non_unique_ids = df[df.duplicated('material_id')]\n",
    "#non_unique_ids = df[df.duplicated('material_id')]['material_id'].unique()\n",
    "\n",
    "# Print non-unique material IDs\n",
    "if len(non_unique_ids) > 0:\n",
    "    # print(\"Non-unique material IDs:\")\n",
    "    # for id in non_unique_ids:\n",
    "    #     print(id)\n",
    "    print(\"Number of non-unique material IDs:\", len(non_unique_ids))\n",
    "else:\n",
    "    print(\"All material IDs are unique.\")\n"
   ]
  },
  {
   "cell_type": "code",
   "execution_count": 16,
   "metadata": {},
   "outputs": [],
   "source": [
    "non_unique_ids.to_csv(\"non_unique_material_ids.csv\")"
   ]
  },
  {
   "cell_type": "code",
   "execution_count": 53,
   "metadata": {},
   "outputs": [
    {
     "data": {
      "text/plain": [
       "626      RrZXyLGk6Xk9iSFJRG71uGXBRszP\n",
       "1287     Ttw5LXNw65Ps8ijvGKPOEq_aN-5a\n",
       "1684     ts__UNut7x07NFC7lEKbQayiMrja\n",
       "1979     EMhNSVY_nmSbWKfOxVKWg3vKbCEv\n",
       "2101     RrZXyLGk6Xk9iSFJRG71uGXBRszP\n",
       "                     ...             \n",
       "86403    RBwb2zfiwPJAsxt99eyrlhUXO1Pr\n",
       "86426    8uNdpE6Zvv65UMOSsXYae31YBt6O\n",
       "86427    6Up0BfVeVWFaI0duWEVMUwCLFQIh\n",
       "86451    2WotedHWs4tcLMIa8WMgB9h3eEUJ\n",
       "86463    GCytew0lCW2hgMsj132JgZ4djYmi\n",
       "Name: material_id, Length: 2804, dtype: object"
      ]
     },
     "execution_count": 53,
     "metadata": {},
     "output_type": "execute_result"
    }
   ],
   "source": [
    "non_unique_ids['material_id']"
   ]
  },
  {
   "cell_type": "markdown",
   "metadata": {},
   "source": [
    "### Handle JSON Decoding error by re-writing the json files in correct format"
   ]
  },
  {
   "cell_type": "code",
   "execution_count": 1,
   "metadata": {},
   "outputs": [],
   "source": [
    "from typing import List, Dict\n",
    "import json\n",
    "def read_json_lines(json_file: str) -> List[Dict]:\n",
    "    \"\"\"\n",
    "    Read JSON data from a file with each line containing a JSON object.\n",
    "\n",
    "    Args:\n",
    "        json_file (str): The path to the JSON file.\n",
    "\n",
    "    Returns:\n",
    "        List[Dict]: A list of dictionaries containing the JSON data.\n",
    "    \"\"\"\n",
    "    data = []\n",
    "    with open(json_file, 'r') as file:\n",
    "        for line in file:\n",
    "            try:\n",
    "                json_obj = json.loads(line)\n",
    "                data.append(json_obj)\n",
    "            except json.JSONDecodeError:\n",
    "                print(f\"Ignoring invalid JSON object: {line}\")\n",
    "    return data\n",
    "\n",
    "def save_to_json(data, file_path):\n",
    "    with open(file_path, 'w') as file:\n",
    "        json.dump(data, file)\n",
    "        "
   ]
  },
  {
   "cell_type": "code",
   "execution_count": 2,
   "metadata": {},
   "outputs": [],
   "source": [
    "import os\n",
    "\n",
    "def process_json_files(input_dir: str, output_dir: str):\n",
    "    # Create the output directory if it doesn't exist\n",
    "    os.makedirs(output_dir, exist_ok=True)\n",
    "    \n",
    "    # Iterate over all files in the input directory\n",
    "    for filename in os.listdir(input_dir):\n",
    "        if filename.endswith('.json'):  # Check if the file is a JSON file\n",
    "            input_path = os.path.join(input_dir, filename)\n",
    "            output_path = os.path.join(output_dir, filename)\n",
    "            \n",
    "            # Read JSON data from the input file\n",
    "            data = read_json_lines(input_path)\n",
    "            \n",
    "            # Save the data to a new JSON file in the output directory\n",
    "            save_to_json(data, output_path)\n",
    "            print(f\"Processed: {input_path}\")\n",
    "\n",
    "# Example usage:\n",
    "input_directory = '/path/to/input_directory'\n",
    "output_directory = '/path/to/output_directory'\n",
    "process_json_files(input_directory, output_directory)\n"
   ]
  },
  {
   "cell_type": "code",
   "execution_count": 3,
   "metadata": {},
   "outputs": [],
   "source": [
    "def prep(data, filepaths):\n",
    "    for data, path in zip(data, filepaths):\n",
    "        data = read_json_lines(data)\n",
    "        save_to_json(data, path)\n",
    "\n",
    "\n",
    "prep(data,filepaths)"
   ]
  },
  {
   "cell_type": "markdown",
   "metadata": {},
   "source": [
    "### Save data of one representation as CSV (to train BPE)"
   ]
  },
  {
   "cell_type": "code",
   "execution_count": null,
   "metadata": {},
   "outputs": [],
   "source": [
    "import pandas as pd\n",
    "\n",
    "# Assuming ds is your dataset loaded using load_dataset()\n",
    "\n",
    "# Convert the 'robocrys_rep' column to a pandas DataFrame\n",
    "robocrys_df = pd.DataFrame(filtered_dataset['robocrys_rep'], columns=['robocrys_rep'])\n",
    "\n",
    "# Save the DataFrame to a CSV file\n",
    "robocrys_df.to_csv('/work/so87pot/material_db/structllm_dataset/robocrys_4.csv', index=False)\n"
   ]
  },
  {
   "cell_type": "markdown",
   "metadata": {},
   "source": [
    "### Combine JSON files to one DATASET split"
   ]
  },
  {
   "cell_type": "code",
   "execution_count": 4,
   "metadata": {},
   "outputs": [
    {
     "name": "stdout",
     "output_type": "stream",
     "text": [
      "Combined JSON data has been written to: /work/so87pot/material_db/structllm_dataset/combined.json\n"
     ]
    }
   ],
   "source": [
    "import json\n",
    "import os\n",
    "\n",
    "def combine_json_files(folder_path):\n",
    "    combined_data = []\n",
    "    for filename in os.listdir(folder_path):\n",
    "        if filename.endswith('.json'):\n",
    "            with open(os.path.join(folder_path, filename), 'r') as file:\n",
    "                data = json.load(file)\n",
    "                combined_data.extend(data)\n",
    "    return combined_data\n",
    "\n",
    "folder_path = '/work/so87pot/material_db/structllm_dataset'\n",
    "combined_json = combine_json_files(folder_path)\n",
    "\n",
    "# Write the combined JSON data to a new file\n",
    "output_file_path = '/work/so87pot/material_db/structllm_dataset/combined.json'\n",
    "with open(output_file_path, 'w') as output_file:\n",
    "    json.dump(combined_json, output_file, indent=4)\n",
    "\n",
    "print(\"Combined JSON data has been written to:\", output_file_path)\n"
   ]
  },
  {
   "cell_type": "code",
   "execution_count": null,
   "metadata": {},
   "outputs": [],
   "source": []
  }
 ],
 "metadata": {
  "kernelspec": {
   "display_name": "xtal2txt",
   "language": "python",
   "name": "python3"
  },
  "language_info": {
   "codemirror_mode": {
    "name": "ipython",
    "version": 3
   },
   "file_extension": ".py",
   "mimetype": "text/x-python",
   "name": "python",
   "nbconvert_exporter": "python",
   "pygments_lexer": "ipython3",
   "version": "3.9.18"
  }
 },
 "nbformat": 4,
 "nbformat_minor": 2
}
