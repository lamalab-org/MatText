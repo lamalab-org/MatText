{
 "cells": [
  {
   "cell_type": "code",
   "execution_count": 1,
   "metadata": {},
   "outputs": [],
   "source": [
    "import pandas as pd"
   ]
  },
  {
   "cell_type": "code",
   "execution_count": 3,
   "metadata": {},
   "outputs": [],
   "source": [
    "\n",
    "path_100k = \"/home/so87pot/n0w0f/structllm/data/130k/combined.csv\"\n",
    "path_300k = \"/home/so87pot/n0w0f/structllm/data/396k/slice/combined_clean_396.csv\"\n",
    "path_2m = \"/work/so87pot/material_db/scaleup/clean_2m.csv\""
   ]
  },
  {
   "cell_type": "code",
   "execution_count": 12,
   "metadata": {},
   "outputs": [
    {
     "data": {
      "text/plain": [
       "Index(['Unnamed: 0', 'slices', 'formula', 'crystal'], dtype='object')"
      ]
     },
     "execution_count": 12,
     "metadata": {},
     "output_type": "execute_result"
    }
   ],
   "source": [
    "df = pd.read_csv(path_2m)\n",
    "df.columns"
   ]
  },
  {
   "cell_type": "code",
   "execution_count": 13,
   "metadata": {},
   "outputs": [],
   "source": [
    "formula_column = df['formula']"
   ]
  },
  {
   "cell_type": "code",
   "execution_count": 14,
   "metadata": {},
   "outputs": [],
   "source": [
    "formula_column.to_csv(\"/work/so87pot/material_db/composition/2m/composition.csv\", header=[\"slices\"], index=False)"
   ]
  },
  {
   "cell_type": "code",
   "execution_count": 2,
   "metadata": {},
   "outputs": [],
   "source": [
    "from sklearn.model_selection import train_test_split\n",
    "def split_csv(input_file: str, train_output_file: str, val_output_file: str, split_ratio: float = 0.8, random_state: int = None) -> None:\n",
    "        \"\"\"\n",
    "        Split a CSV file into training and validation sets.\n",
    "\n",
    "        Args:\n",
    "            input_file (str): Path to the input CSV file.\n",
    "            train_output_file (str): Path to save the training CSV file.\n",
    "            val_output_file (str): Path to save the validation CSV file.\n",
    "            split_ratio (float): Ratio to split the data into training and validation sets (default: 0.8).\n",
    "            random_state (int): Random seed for reproducibility (default: None).\n",
    "\n",
    "        Returns:\n",
    "            None\n",
    "        \"\"\"\n",
    "        # Load the CSV data\n",
    "        try:\n",
    "            data = pd.read_csv(input_file)\n",
    "        except FileNotFoundError:\n",
    "            print(f\"File '{input_file}' not found.\")\n",
    "            return\n",
    "\n",
    "        # Split the data\n",
    "        train_data, val_data = train_test_split(data, test_size=(1 - split_ratio), random_state=random_state)\n",
    "\n",
    "        # Save the split datasets\n",
    "        train_data.to_csv(train_output_file, index=False)\n",
    "        val_data.to_csv(val_output_file, index=False)\n",
    "\n",
    "        print(f\"Split complete: Train data saved to '{train_output_file}', Validation data saved to '{val_output_file}'.\")"
   ]
  },
  {
   "cell_type": "code",
   "execution_count": 3,
   "metadata": {},
   "outputs": [
    {
     "name": "stdout",
     "output_type": "stream",
     "text": [
      "Split complete: Train data saved to '/work/so87pot/material_db/composition/20/train.csv', Validation data saved to '/work/so87pot/material_db/composition/20/val.csv'.\n"
     ]
    }
   ],
   "source": [
    "split_csv(input_file=\"/work/so87pot/material_db/composition/100/val.csv\",train_output_file=\"/work/so87pot/material_db/composition/20/train.csv\",val_output_file=\"/work/so87pot/material_db/composition/20/val.csv\",split_ratio=0.8,random_state=7)"
   ]
  },
  {
   "cell_type": "code",
   "execution_count": 16,
   "metadata": {},
   "outputs": [
    {
     "name": "stdout",
     "output_type": "stream",
     "text": [
      "Split complete: Train data saved to '/work/so87pot/material_db/composition/2m/train.csv', Validation data saved to '/work/so87pot/material_db/composition/2m/val.csv'.\n",
      "Split complete: Train data saved to '/work/so87pot/material_db/composition/300/train.csv', Validation data saved to '/work/so87pot/material_db/composition/300/val.csv'.\n",
      "Split complete: Train data saved to '/work/so87pot/material_db/composition/100/train.csv', Validation data saved to '/work/so87pot/material_db/composition/100/val.csv'.\n"
     ]
    }
   ],
   "source": [
    "\n",
    "split_csv(input_file=\"/work/so87pot/material_db/composition/2m/composition.csv\",train_output_file=\"/work/so87pot/material_db/composition/2m/train.csv\",val_output_file=\"/work/so87pot/material_db/composition/2m/val.csv\",split_ratio=0.8,random_state=7)\n",
    "split_csv(input_file=\"/work/so87pot/material_db/composition/300/composition.csv\",train_output_file=\"/work/so87pot/material_db/composition/300/train.csv\",val_output_file=\"/work/so87pot/material_db/composition/300/val.csv\",split_ratio=0.8,random_state=7)\n",
    "split_csv(input_file=\"/work/so87pot/material_db/composition/300/composition.csv\",train_output_file=\"/work/so87pot/material_db/composition/100/train.csv\",val_output_file=\"/work/so87pot/material_db/composition/100/val.csv\",split_ratio=0.8,random_state=7)"
   ]
  },
  {
   "cell_type": "code",
   "execution_count": 17,
   "metadata": {},
   "outputs": [
    {
     "name": "stdout",
     "output_type": "stream",
     "text": [
      "Split complete: Train data saved to '/work/so87pot/material_db/composition/100/train.csv', Validation data saved to '/work/so87pot/material_db/composition/100/val.csv'.\n"
     ]
    }
   ],
   "source": [
    "split_csv(input_file=\"/work/so87pot/material_db/composition/100/composition.csv\",train_output_file=\"/work/so87pot/material_db/composition/100/train.csv\",val_output_file=\"/work/so87pot/material_db/composition/100/val.csv\",split_ratio=0.8,random_state=7)"
   ]
  },
  {
   "cell_type": "code",
   "execution_count": null,
   "metadata": {},
   "outputs": [],
   "source": []
  }
 ],
 "metadata": {
  "kernelspec": {
   "display_name": "slice_llm",
   "language": "python",
   "name": "python3"
  },
  "language_info": {
   "codemirror_mode": {
    "name": "ipython",
    "version": 3
   },
   "file_extension": ".py",
   "mimetype": "text/x-python",
   "name": "python",
   "nbconvert_exporter": "python",
   "pygments_lexer": "ipython3",
   "version": "3.9.18"
  }
 },
 "nbformat": 4,
 "nbformat_minor": 2
}
