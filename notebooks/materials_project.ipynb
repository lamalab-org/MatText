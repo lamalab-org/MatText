{
 "cells": [
  {
   "cell_type": "code",
   "execution_count": 1,
   "metadata": {},
   "outputs": [],
   "source": [
    "import pandas as pd"
   ]
  },
  {
   "cell_type": "code",
   "execution_count": 7,
   "metadata": {},
   "outputs": [],
   "source": [
    "df = pd.read_csv(\"/work/so87pot/structllm/materials_project/train.csv\")"
   ]
  },
  {
   "cell_type": "code",
   "execution_count": 8,
   "metadata": {},
   "outputs": [],
   "source": [
    "columns = df.columns.str.replace(' ', '_')"
   ]
  },
  {
   "cell_type": "code",
   "execution_count": 9,
   "metadata": {},
   "outputs": [
    {
     "data": {
      "text/plain": [
       "Index(['Zr_N_0_1_o_o_-_0_1_o_o_o_0_1_+_o_-_0_1_+_o_o_', 'Zr1_N1', 'Hexagonal',\n",
       "       '0.0', '6.3537155', '-9.93008659', 'False', '-1.4879888125000011',\n",
       "       '['P-6m2',_187]'],\n",
       "      dtype='object')"
      ]
     },
     "execution_count": 9,
     "metadata": {},
     "output_type": "execute_result"
    }
   ],
   "source": [
    "columns"
   ]
  },
  {
   "cell_type": "code",
   "execution_count": 11,
   "metadata": {},
   "outputs": [
    {
     "data": {
      "text/plain": [
       "Index(['Zr N 0 1 o o - 0 1 o o o 0 1 + o - 0 1 + o o', 'Zr1 N1', 'Hexagonal',\n",
       "       '0.0', '6.3537155', '-9.93008659', 'False', '-1.4879888125000011',\n",
       "       '['P-6m2', 187]'],\n",
       "      dtype='object')"
      ]
     },
     "execution_count": 11,
     "metadata": {},
     "output_type": "execute_result"
    }
   ],
   "source": [
    "df.columns "
   ]
  },
  {
   "cell_type": "code",
   "execution_count": 12,
   "metadata": {},
   "outputs": [],
   "source": [
    "df.columns = df.columns.str.strip()\n",
    "slice_column = df['Zr N 0 1 o o - 0 1 o o o 0 1 + o - 0 1 + o o']\n",
    "slice_column.to_csv(\"/work/so87pot/structllm/materials_project/train_slice.csv\", header=[\"slices\"], index=False)"
   ]
  },
  {
   "cell_type": "code",
   "execution_count": 1,
   "metadata": {},
   "outputs": [],
   "source": [
    "import lmdb\n",
    "import pickle\n",
    "\n",
    "from pymatgen.core import Structure, Lattice\n",
    "import numpy as np"
   ]
  },
  {
   "cell_type": "code",
   "execution_count": 2,
   "metadata": {},
   "outputs": [],
   "source": [
    "# Dataset generation\n",
    "\n",
    "class Dataset():\n",
    "  \"\"\"\n",
    "  Custom class for reading NOMAD dataset from MatSciML Zenodo\n",
    "  \n",
    "  \"\"\"\n",
    "\n",
    "  def __init__(self, lmdb_path, max_readers=1, transform=None, pre_transform=None):\n",
    "    \"\"\"\n",
    "    Constructor for dataset\n",
    "    param: lmdb_path -> path to lmdb_file\n",
    "    param: max_readers -> maximum number of concurrent read processes accessing lmdb file\n",
    "    \"\"\"\n",
    "    self.env = lmdb.open(lmdb_path,\n",
    "        subdir=False,\n",
    "        readonly=True,\n",
    "        lock=False,\n",
    "        readahead=False,\n",
    "        meminit=False,\n",
    "        max_readers=max_readers)\n",
    "    self.txn = self.env.begin()\n",
    "    \n",
    "  def len(self):\n",
    "    \n",
    "    return self.txn.stat()['entries']\n",
    "    \n",
    "\n",
    "  def get(self, index):\n",
    "    \"\"\"\n",
    "    Return a  datapoint\n",
    "    \"\"\"\n",
    "    # Select graph sample\n",
    "    id = f\"{index}\".encode(\"ascii\")\n",
    "    datapoint = pickle.loads(self.txn.get(id))\n",
    "    \n",
    "    return datapoint\n",
    "\n"
   ]
  },
  {
   "cell_type": "code",
   "execution_count": 6,
   "metadata": {},
   "outputs": [],
   "source": [
    "lmdb_path = \"/work/so87pot/material_db/materials_project/materials-project/base/test/data.lmdb\"\n",
    "dataset = Dataset(lmdb_path, 1)"
   ]
  },
  {
   "cell_type": "code",
   "execution_count": 7,
   "metadata": {},
   "outputs": [
    {
     "data": {
      "text/plain": [
       "15456"
      ]
     },
     "execution_count": 7,
     "metadata": {},
     "output_type": "execute_result"
    }
   ],
   "source": [
    "dataset.len()"
   ]
  },
  {
   "cell_type": "code",
   "execution_count": 11,
   "metadata": {},
   "outputs": [
    {
     "name": "stdout",
     "output_type": "stream",
     "text": [
      "dict_keys(['formula_pretty', 'symmetry', 'structure', 'uncorrected_energy_per_atom', 'energy_per_atom', 'formation_energy_per_atom', 'is_stable', 'band_gap', 'efermi', 'is_metal', 'is_magnetic', 'fields_not_requested'])\n"
     ]
    }
   ],
   "source": [
    "site = dataset.get(2)\n",
    "print(site.keys())\n"
   ]
  },
  {
   "cell_type": "code",
   "execution_count": 50,
   "metadata": {},
   "outputs": [
    {
     "data": {
      "text/plain": [
       "9.16940669"
      ]
     },
     "execution_count": 50,
     "metadata": {},
     "output_type": "execute_result"
    }
   ],
   "source": [
    "site['energy_per_atom']\n",
    "site['formation_energy_per_atom']\n",
    "site['is_stable']\n",
    "site['band_gap']\n",
    "site['efermi']\n"
   ]
  },
  {
   "cell_type": "code",
   "execution_count": 39,
   "metadata": {},
   "outputs": [
    {
     "data": {
      "text/plain": [
       "'SbIr'"
      ]
     },
     "execution_count": 39,
     "metadata": {},
     "output_type": "execute_result"
    }
   ],
   "source": [
    "site['formula_pretty']"
   ]
  },
  {
   "cell_type": "code",
   "execution_count": 68,
   "metadata": {},
   "outputs": [
    {
     "data": {
      "text/plain": [
       "'Hexagonal'"
      ]
     },
     "execution_count": 68,
     "metadata": {},
     "output_type": "execute_result"
    }
   ],
   "source": []
  },
  {
   "cell_type": "code",
   "execution_count": 71,
   "metadata": {},
   "outputs": [],
   "source": [
    "from pymatgen.core import Structure, Element\n",
    "def create_cif(structure:dict):\n",
    "\n",
    "    atom_species = structure.atomic_numbers\n",
    "    cartesian_pos = structure.cart_coords\n",
    "\n",
    "    lattice = structure.lattice\n",
    "    \n",
    "    \n",
    "    \n",
    "    # Handle atom species which could be either symbols or atomic numbers\n",
    "    atom_symbols = []\n",
    "    for species in atom_species:\n",
    "        if isinstance(species, int) and species != 0:\n",
    "            element = Element.from_Z(species)\n",
    "            atom_symbols.append(element.symbol)\n",
    "        else:\n",
    "            atom_symbols.append(species)\n",
    "\n",
    "\n",
    "    # Create a pymatgen Structure\n",
    "    pymatgen_structure = Structure(lattice, species=atom_symbols, coords=cartesian_pos )\n",
    "\n",
    "    # Generate CIF content using pymatgen\n",
    "    cif_content = pymatgen_structure.to(fmt=\"cif\")\n",
    "    return cif_content"
   ]
  },
  {
   "cell_type": "code",
   "execution_count": 74,
   "metadata": {},
   "outputs": [],
   "source": [
    "            \n",
    "def prepare_dict(mat_dict:dict):\n",
    "\n",
    "    cif_content = create_cif(mat_dict['structure'])\n",
    "    energy_per_atom = mat_dict['energy_per_atom']\n",
    "    formation_energy_per_atom = mat_dict['formation_energy_per_atom']\n",
    "    is_stable = mat_dict['is_stable']\n",
    "    band_gap = mat_dict['band_gap']\n",
    "    efermi =mat_dict['efermi']\n",
    "    crystal_type = mat_dict['symmetry'].crystal_system.value\n",
    "    space_group = mat_dict['structure'].get_space_group_info()\n",
    "    chemical_formula = mat_dict['structure'].formula\n",
    "\n",
    "   \n",
    "    return {\"formation_energy_per_atom\":formation_energy_per_atom , \n",
    "            \"is_stable\":is_stable, \n",
    "            \"chemical_formula\":chemical_formula,\n",
    "            \"space_group\":space_group,\n",
    "            \"crystal_type\":crystal_type,\n",
    "            \"band_gap\":band_gap,\n",
    "            \"efermi\":efermi,\n",
    "            \"energy_per_atom\":energy_per_atom,\n",
    "            \"cif\": cif_content}\n",
    "    "
   ]
  },
  {
   "cell_type": "code",
   "execution_count": 75,
   "metadata": {},
   "outputs": [],
   "source": [
    "datapoint = dataset.get(5)\n",
    "data_dict = prepare_dict(datapoint)\n",
    "        "
   ]
  },
  {
   "cell_type": "code",
   "execution_count": 76,
   "metadata": {},
   "outputs": [
    {
     "data": {
      "text/plain": [
       "{'formation_energy_per_atom': -0.7402652036342595,\n",
       " 'is_stable': False,\n",
       " 'chemical_formula': 'Te2 Mo1 W2 Se4',\n",
       " 'space_group': ('P-6m2', 187),\n",
       " 'crystal_type': 'Hexagonal',\n",
       " 'band_gap': 0.7511999999999999,\n",
       " 'efermi': 2.09750388,\n",
       " 'energy_per_atom': -7.077172788888889,\n",
       " 'cif': \"# generated using pymatgen\\ndata_Te2Mo(WSe2)2\\n_symmetry_space_group_name_H-M   'P 1'\\n_cell_length_a   3.39225611\\n_cell_length_b   3.39225611\\n_cell_length_c   31.47442500\\n_cell_angle_alpha   90.00000000\\n_cell_angle_beta   90.00000000\\n_cell_angle_gamma   120.00000216\\n_symmetry_Int_Tables_number   1\\n_chemical_formula_structural   Te2Mo(WSe2)2\\n_chemical_formula_sum   'Te2 Mo1 W2 Se4'\\n_cell_volume   313.66473487\\n_cell_formula_units_Z   1\\nloop_\\n _symmetry_equiv_pos_site_id\\n _symmetry_equiv_pos_as_xyz\\n  1  'x, y, z'\\nloop_\\n _atom_site_type_symbol\\n _atom_site_label\\n _atom_site_symmetry_multiplicity\\n _atom_site_fract_x\\n _atom_site_fract_y\\n _atom_site_fract_z\\n _atom_site_occupancy\\n  Te  Te0  1  0.00000000  0.00000000  1.87637932  1\\n  Te  Te1  1  0.00000000  0.00000000  29.59804568  1\\n  Mo  Mo2  1  1.69612800  0.97926196  0.00000000  1\\n  W  W3  1  0.00000000  0.00000000  24.19281678  1\\n  W  W4  1  0.00000000  0.00000000  7.28160822  1\\n  Se  Se5  1  1.69612800  0.97926196  22.53556240  1\\n  Se  Se6  1  1.69612800  0.97926196  5.62293750  1\\n  Se  Se7  1  1.69612800  0.97926196  25.85148750  1\\n  Se  Se8  1  1.69612800  0.97926196  8.93886260  1\\n\"}"
      ]
     },
     "execution_count": 76,
     "metadata": {},
     "output_type": "execute_result"
    }
   ],
   "source": [
    "data_dict"
   ]
  },
  {
   "cell_type": "code",
   "execution_count": null,
   "metadata": {},
   "outputs": [],
   "source": [
    "def prep_data(lmdb_path:str,output_file:str)->None:\n",
    "    materials_list = []\n",
    "    dataset = Dataset(lmdb_path, 1)\n",
    "\n",
    "    #loop through data points in lmdb\n",
    "    for index in tqdm(range(dataset.len())):\n",
    "        datapoint = dataset.get(index)\n",
    "        data_dict = prepare_dict(datapoint)\n",
    "        materials_list.append(data_dict)\n",
    "\n",
    "\n",
    "    with open(output_file, 'w') as json_file:\n",
    "        json.dump(materials_list, json_file)"
   ]
  }
 ],
 "metadata": {
  "kernelspec": {
   "display_name": "slice_llm",
   "language": "python",
   "name": "python3"
  },
  "language_info": {
   "codemirror_mode": {
    "name": "ipython",
    "version": 3
   },
   "file_extension": ".py",
   "mimetype": "text/x-python",
   "name": "python",
   "nbconvert_exporter": "python",
   "pygments_lexer": "ipython3",
   "version": "3.9.18"
  }
 },
 "nbformat": 4,
 "nbformat_minor": 2
}
