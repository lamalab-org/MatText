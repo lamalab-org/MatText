{
 "cells": [
  {
   "cell_type": "code",
   "execution_count": 2,
   "metadata": {},
   "outputs": [],
   "source": [
    "import lmdb\n",
    "import pickle\n",
    "\n",
    "from pymatgen.core import Structure, Lattice\n",
    "import numpy as np"
   ]
  },
  {
   "cell_type": "code",
   "execution_count": 3,
   "metadata": {},
   "outputs": [],
   "source": [
    "# Dataset generation\n",
    "\n",
    "class Dataset():\n",
    "  \"\"\"\n",
    "  Custom class for reading NOMAD dataset from MatSciML Zenodo\n",
    "  \n",
    "  \"\"\"\n",
    "\n",
    "  def __init__(self, lmdb_path, max_readers=1, transform=None, pre_transform=None):\n",
    "    \"\"\"\n",
    "    Constructor for dataset\n",
    "    param: lmdb_path -> path to lmdb_file\n",
    "    param: max_readers -> maximum number of concurrent read processes accessing lmdb file\n",
    "    \"\"\"\n",
    "    self.env = lmdb.open(lmdb_path,\n",
    "        subdir=False,\n",
    "        readonly=True,\n",
    "        lock=False,\n",
    "        readahead=False,\n",
    "        meminit=False,\n",
    "        max_readers=max_readers)\n",
    "    self.txn = self.env.begin()\n",
    "    \n",
    "  def len(self):\n",
    "    \n",
    "    return self.txn.stat()['entries']\n",
    "    \n",
    "\n",
    "  def get(self, index):\n",
    "    \"\"\"\n",
    "    Return a  datapoint\n",
    "    \"\"\"\n",
    "    # Select graph sample\n",
    "    id = f\"{index}\".encode(\"ascii\")\n",
    "    datapoint = pickle.loads(self.txn.get(id))\n",
    "    \n",
    "    return datapoint\n",
    "\n"
   ]
  },
  {
   "cell_type": "code",
   "execution_count": 4,
   "metadata": {},
   "outputs": [],
   "source": [
    "lmdb_path = \"/home/nawaf/n0w0f/material_db/nomad/all/data.lmdb\"\n",
    "dataset = Dataset(lmdb_path, 1)"
   ]
  },
  {
   "cell_type": "code",
   "execution_count": 5,
   "metadata": {},
   "outputs": [
    {
     "data": {
      "text/plain": [
       "138820"
      ]
     },
     "execution_count": 5,
     "metadata": {},
     "output_type": "execute_result"
    }
   ],
   "source": [
    "dataset.len()"
   ]
  },
  {
   "cell_type": "code",
   "execution_count": 6,
   "metadata": {},
   "outputs": [],
   "source": [
    "mat_dict = dataset.get(1)"
   ]
  },
  {
   "cell_type": "code",
   "execution_count": 30,
   "metadata": {},
   "outputs": [],
   "source": [
    "\n",
    "atom_species = mat_dict[\"properties\"][\"structures\"][\"structure_original\"][\"species_at_sites\"]\n",
    "lattice_vectors = mat_dict['properties']['structures']['structure_original']['lattice_vectors']\n",
    "cartesian_pos = mat_dict['properties']['geometry_optimization']['structure_optimized']['cartesian_site_positions']\n",
    "scale_factor : int = 1e10\n",
    "lattice  = [[v * scale_factor for v in row] for row in lattice_vectors ]\n",
    "atom_positions = [[v * scale_factor for v in row] for row in cartesian_pos]\n"
   ]
  },
  {
   "cell_type": "code",
   "execution_count": 25,
   "metadata": {},
   "outputs": [],
   "source": [
    "from math import pi\n",
    "\n",
    "def create_lattice(lattice_params : dict):\n",
    "\n",
    "    lattice_abc = (\n",
    "                    lattice_params[\"a\"] * scale_factor,\n",
    "                    lattice_params[\"b\"] * scale_factor,\n",
    "                    lattice_params[\"c\"] * scale_factor,\n",
    "                )\n",
    "    lattice_angles = (\n",
    "                    lattice_params[\"alpha\"],\n",
    "                    lattice_params[\"beta\"],\n",
    "                    lattice_params[\"gamma\"],\n",
    "                )\n",
    "    a, b, c  = lattice_abc\n",
    "    alpha, beta, gamma = lattice_angles       \n",
    "    lattice = Lattice.from_parameters(\n",
    "                a, b, c, alpha * 180/pi, beta * 180/pi, gamma * 180/pi\n",
    "            )\n",
    "    return lattice"
   ]
  },
  {
   "cell_type": "code",
   "execution_count": 15,
   "metadata": {},
   "outputs": [],
   "source": [
    "mat_dict = dataset.get(1)"
   ]
  },
  {
   "cell_type": "code",
   "execution_count": 21,
   "metadata": {},
   "outputs": [],
   "source": [
    "cartesian_pos = mat_dict['properties'][\"structures\"][\"structure_original\"]['cartesian_site_positions']"
   ]
  },
  {
   "cell_type": "code",
   "execution_count": 22,
   "metadata": {},
   "outputs": [
    {
     "data": {
      "text/plain": [
       "[[1.373914e-10, 1.373914e-10, 1.373914e-10],\n",
       " [4.1217410000000005e-10, 4.1217410000000005e-10, 1.373914e-10],\n",
       " [4.1217410000000005e-10, 1.373914e-10, 4.1217410000000005e-10],\n",
       " [1.373914e-10, 4.1217410000000005e-10, 4.1217410000000005e-10],\n",
       " [0.0, 0.0, 0.0],\n",
       " [0.0, 2.747828e-10, 2.747828e-10],\n",
       " [2.747828e-10, 0.0, 2.747828e-10],\n",
       " [2.747828e-10, 2.747828e-10, 0.0]]"
      ]
     },
     "execution_count": 22,
     "metadata": {},
     "output_type": "execute_result"
    }
   ],
   "source": [
    "cartesian_pos"
   ]
  },
  {
   "cell_type": "code",
   "execution_count": 26,
   "metadata": {},
   "outputs": [],
   "source": [
    "def create_cif(mat_dict:dict):\n",
    "\n",
    "    atom_species = mat_dict[\"properties\"][\"structures\"][\"structure_original\"][\"species_at_sites\"]\n",
    "    cartesian_pos = mat_dict['properties'][\"structures\"][\"structure_original\"]['cartesian_site_positions']\n",
    "\n",
    "\n",
    "    scale_factor : int = 1e10\n",
    "    atom_positions = [\n",
    "            [v * scale_factor for v in row] for row in cartesian_pos\n",
    "        ]\n",
    "    \n",
    "\n",
    "    lattice_params = mat_dict[\"properties\"][\"structures\"][\"structure_original\"][\n",
    "            \"lattice_parameters\"\n",
    "        ]\n",
    "    lattice = create_lattice(lattice_params)\n",
    "    \n",
    "    \n",
    "    \n",
    "    # Handle atom species which could be either symbols or atomic numbers\n",
    "    atom_symbols = []\n",
    "    for species in atom_species:\n",
    "        if isinstance(species, int) and species != 0:\n",
    "            element = Element.from_Z(species)\n",
    "            atom_symbols.append(element.symbol)\n",
    "        else:\n",
    "            atom_symbols.append(species)\n",
    "\n",
    "\n",
    "    # Create a pymatgen Structure\n",
    "    pymatgen_structure = Structure(lattice, species=atom_symbols, coords=atom_positions )\n",
    "\n",
    "    # Generate CIF content using pymatgen\n",
    "    cif_content = pymatgen_structure.to(fmt=\"cif\")\n",
    "    return cif_content\n",
    "            "
   ]
  },
  {
   "cell_type": "code",
   "execution_count": 27,
   "metadata": {},
   "outputs": [],
   "source": [
    "def prepare_dict(mat_dict:dict):\n",
    "\n",
    "    cif_content = create_cif(mat_dict)\n",
    "\n",
    "    # crystal structure properties\n",
    "    material_name = mat_dict['material']['material_name']\n",
    "    chemical_formula = mat_dict['material']['chemical_formula_descriptive']\n",
    "    space_group_symbol = mat_dict['material']['symmetry']['space_group_symbol']\n",
    "    crystal_system = mat_dict['material']['symmetry']['crystal_system']\n",
    "\n",
    "\n",
    "    mass_density = mat_dict['properties']['structures']['structure_original']['mass_density']\n",
    "\n",
    "\n",
    "    structural = {\n",
    "        \"space_group_symbol\": space_group_symbol,\n",
    "        \"crystal_system\":crystal_system,\n",
    "        \"mass_density\": mass_density\n",
    "    } \n",
    "\n",
    "    # Electronic structure properties\n",
    "    elec_structure = mat_dict['properties']['electronic']['dos_electronic']\n",
    "    spin_polarized = elec_structure['spin_polarized']\n",
    "    energy_fermi = elec_structure['energy_fermi']\n",
    "    energy_highest_occupied = elec_structure['band_gap'][0]['energy_highest_occupied']\n",
    "    energy_lowest_unoccupied = elec_structure['band_gap'][0]['energy_lowest_unoccupied']\n",
    "\n",
    "    electronic = {\n",
    "        \"spin_polarized\" : spin_polarized ,\n",
    "        \"energy_fermi\" : energy_fermi,\n",
    "        \"energy_highest_occupied\" : energy_highest_occupied,\n",
    "        \"energy_lowest_unoccupied\" :energy_lowest_unoccupied\n",
    "    }\n",
    "\n",
    "\n",
    "    # Energy\n",
    "    total_energy = mat_dict['energies']['total']['value']\n",
    "    fermi = mat_dict['energies']['fermi']\n",
    "\n",
    "    #method \n",
    "    method = mat_dict['method']\n",
    "\n",
    "    return {\"material_name\": material_name, \"method\":method, \"total_energy\":total_energy,\"fermi\":fermi , \"chemical_formula\":chemical_formula, \"structural_info\" :structural,\"electronic\": electronic, \"cif\": cif_content}\n",
    "    \n",
    "        "
   ]
  },
  {
   "cell_type": "code",
   "execution_count": 28,
   "metadata": {},
   "outputs": [],
   "source": [
    "def prepare_dict(mat_dict:dict):\n",
    "\n",
    "    cif_content = create_cif(mat_dict)\n",
    "\n",
    "    # crystal structure properties\n",
    "    material_name = mat_dict['material']['material_name']\n",
    "    chemical_formula = mat_dict['material']['chemical_formula_descriptive']\n",
    "    structural = {\n",
    "        \"space_group_symbol\": mat_dict['material']['symmetry']['space_group_symbol'],\n",
    "        \"crystal_system\": mat_dict['material']['symmetry']['crystal_system'],\n",
    "        \"mass_density\": mat_dict['properties']['structures']['structure_original']['mass_density']\n",
    "    } \n",
    "\n",
    "    # Electronic structure properties\n",
    "    elec_structure = mat_dict['properties']['electronic']['dos_electronic']\n",
    "    electronic = {\n",
    "        \"spin_polarized\" : elec_structure['spin_polarized'] ,\n",
    "        \"energy_fermi\" : elec_structure['energy_fermi'],\n",
    "        # \"energy_highest_occupied\" : elec_structure['band_gap'][0]['energy_highest_occupied'],\n",
    "        # \"energy_lowest_unoccupied\" :elec_structure['band_gap'][0]['energy_lowest_unoccupied']\n",
    "    }\n",
    "\n",
    "    # Energy\n",
    "    total_energy = mat_dict['energies']['total']['value']\n",
    "    fermi = mat_dict['energies']['fermi']\n",
    "\n",
    "    #method \n",
    "    method = mat_dict['method']\n",
    "\n",
    "    return {\"material_name\": material_name, \"method\":method, \"total_energy\":total_energy,\"fermi\":fermi , \"chemical_formula\":chemical_formula, \"structural_info\" :structural,\"electronic\": electronic, \"cif\": cif_content}\n",
    "    \n",
    "        "
   ]
  },
  {
   "cell_type": "code",
   "execution_count": 30,
   "metadata": {},
   "outputs": [
    {
     "name": "stderr",
     "output_type": "stream",
     "text": [
      "100%|██████████| 10/10 [00:00<00:00, 155.71it/s]\n"
     ]
    }
   ],
   "source": [
    "import json\n",
    "from tqdm import tqdm \n",
    "\n",
    "materials_list = []\n",
    "scale_factor : int = 1e10\n",
    "\n",
    "#loop through data points in lmdb\n",
    "for index in tqdm(range(10)):\n",
    "    datapoint = dataset.get(index)\n",
    "    data_dict = prepare_dict(datapoint)\n",
    "    materials_list.append(data_dict)\n",
    "\n",
    "\n",
    "output_file = \"output.json\"\n",
    "with open(output_file, 'w') as json_file:\n",
    "    json.dump(materials_list, json_file)\n",
    "\n",
    "\n",
    "\n"
   ]
  },
  {
   "cell_type": "code",
   "execution_count": null,
   "metadata": {},
   "outputs": [],
   "source": []
  }
 ],
 "metadata": {
  "kernelspec": {
   "display_name": "base",
   "language": "python",
   "name": "python3"
  },
  "language_info": {
   "codemirror_mode": {
    "name": "ipython",
    "version": 3
   },
   "file_extension": ".py",
   "mimetype": "text/x-python",
   "name": "python",
   "nbconvert_exporter": "python",
   "pygments_lexer": "ipython3",
   "version": "3.8.18"
  }
 },
 "nbformat": 4,
 "nbformat_minor": 2
}
