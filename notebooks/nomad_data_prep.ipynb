{
 "cells": [
  {
   "cell_type": "code",
   "execution_count": 52,
   "metadata": {},
   "outputs": [],
   "source": [
    "import lmdb\n",
    "import pickle"
   ]
  },
  {
   "cell_type": "code",
   "execution_count": 53,
   "metadata": {},
   "outputs": [],
   "source": [
    "# Dataset generation\n",
    "\n",
    "class Dataset():\n",
    "  \"\"\"\n",
    "  Custom class for reading NOMAD dataset from MatSciML Zenodo\n",
    "  \n",
    "  \"\"\"\n",
    "\n",
    "  def __init__(self, lmdb_path, max_readers=1, transform=None, pre_transform=None):\n",
    "    \"\"\"\n",
    "    Constructor for dataset\n",
    "    param: lmdb_path -> path to lmdb_file\n",
    "    param: max_readers -> maximum number of concurrent read processes accessing lmdb file\n",
    "    \"\"\"\n",
    "    self.env = lmdb.open(lmdb_path,\n",
    "        subdir=False,\n",
    "        readonly=True,\n",
    "        lock=False,\n",
    "        readahead=False,\n",
    "        meminit=False,\n",
    "        max_readers=max_readers)\n",
    "    self.txn = self.env.begin()\n",
    "    \n",
    "  def len(self):\n",
    "    \n",
    "    return self.txn.stat()['entries']\n",
    "    \n",
    "\n",
    "  def get(self, index):\n",
    "    \"\"\"\n",
    "    Return a  datapoint\n",
    "    \"\"\"\n",
    "    # Select graph sample\n",
    "    id = f\"{index}\".encode(\"ascii\")\n",
    "    datapoint = pickle.loads(self.txn.get(id))\n",
    "    \n",
    "    return datapoint\n",
    "\n"
   ]
  },
  {
   "cell_type": "code",
   "execution_count": 54,
   "metadata": {},
   "outputs": [],
   "source": [
    "lmdb_path = \"/home/nawaf/n0w0f/material_db/nomad/all/data.lmdb\"\n",
    "dataset = Dataset(lmdb_path, 1)"
   ]
  },
  {
   "cell_type": "code",
   "execution_count": 62,
   "metadata": {},
   "outputs": [
    {
     "data": {
      "text/plain": [
       "138820"
      ]
     },
     "execution_count": 62,
     "metadata": {},
     "output_type": "execute_result"
    }
   ],
   "source": [
    "dataset.len()"
   ]
  },
  {
   "cell_type": "code",
   "execution_count": 55,
   "metadata": {},
   "outputs": [],
   "source": [
    "mat_dict = dataset.get(1)"
   ]
  },
  {
   "cell_type": "code",
   "execution_count": 173,
   "metadata": {},
   "outputs": [],
   "source": []
  },
  {
   "cell_type": "code",
   "execution_count": 168,
   "metadata": {},
   "outputs": [],
   "source": [
    "# crystal structure properties\n",
    "\n",
    "material_name = mat_dict['material']['material_name']\n",
    "chemical_formula = mat_dict['material']['chemical_formula_descriptive']\n",
    "space_group_symbol = mat_dict['material']['symmetry']['space_group_symbol']\n",
    "crystal_system = mat_dict['material']['symmetry']['crystal_system']\n",
    "\n",
    "\n",
    "mass_density = mat_dict['properties']['structures']['structure_original']['mass_density']\n",
    "\n",
    "# Electronic structure properties\n",
    "\n",
    "spin_polarized = mat_dict['properties']['electronic']['dos_electronic']['spin_polarized']\n",
    "energy_fermi = mat_dict['properties']['electronic']['dos_electronic']['energy_fermi']\n",
    "energy_highest_occupied = mat_dict['properties']['electronic']['dos_electronic']['band_gap'][0]['energy_highest_occupied']\n",
    "energy_lowest_unoccupied = mat_dict['properties']['electronic']['dos_electronic']['band_gap'][0]['energy_lowest_unoccupied']\n",
    "\n",
    "# Energy\n",
    "total_energy = mat_dict['energies']['total']['value']\n",
    "fermi = mat_dict['energies']['fermi']\n",
    "\n",
    "#method \n",
    "method = mat_dict['method']"
   ]
  },
  {
   "cell_type": "code",
   "execution_count": 137,
   "metadata": {},
   "outputs": [],
   "source": [
    "atom_species = mat_dict['material']['elements']\n",
    "lattice_vectors = mat_dict['properties']['structures']['structure_original']['lattice_vectors']\n",
    "cartesian_pos = mat_dict['properties']['geometry_optimization']['structure_optimized']\n"
   ]
  },
  {
   "cell_type": "code",
   "execution_count": 138,
   "metadata": {},
   "outputs": [],
   "source": [
    "scale_factor : int = 1e10\n",
    "lattice  = [\n",
    "        [v * scale_factor for v in row] for row in lattice_vectors\n",
    "    ]\n",
    "atom_positions = [\n",
    "        [v * scale_factor for v in row] for row in cartesian_pos\n",
    "    ]"
   ]
  },
  {
   "cell_type": "code",
   "execution_count": null,
   "metadata": {},
   "outputs": [],
   "source": [
    "def create_material_dict(matsci_dict:dict):\n",
    "\n",
    "    atom_species = mat_dict['material']['elements']\n",
    "    lattice_vectors = mat_dict['properties']['structures']['structure_original']['lattice_vectors']\n",
    "    cartesian_pos = mat_dict['properties']['geometry_optimization']['structure_optimized']\n",
    "\n",
    "\n",
    "    scale_factor : int = 1e10\n",
    "    lattice  = [\n",
    "            [v * scale_factor for v in row] for row in lattice_vectors\n",
    "        ]\n",
    "    atom_positions = [\n",
    "            [v * scale_factor for v in row] for row in cartesian_pos\n",
    "        ]\n",
    "    \n",
    "        # Handle atom species which could be either symbols or atomic numbers\n",
    "    atom_symbols = []\n",
    "    for species in atom_species:\n",
    "        if isinstance(species, int) and species != 0:\n",
    "            element = Element.from_Z(species)\n",
    "            atom_symbols.append(element.symbol)\n",
    "        else:\n",
    "            atom_symbols.append(species)\n",
    "\n",
    "    # Construct the lattice using lattice vectors\n",
    "    lattice_matrix = np.array(lattice_vectors )\n",
    "    lattice = Lattice(lattice_matrix)\n",
    "\n",
    "    # Create a pymatgen Structure\n",
    "    pymatgen_structure = Structure(lattice, species=atom_symbols, coords=atom_positions )\n",
    "\n",
    "    # Generate CIF content using pymatgen\n",
    "    cif_content = pymatgen_structure.to(fmt=\"cif\")\n",
    "            "
   ]
  },
  {
   "cell_type": "code",
   "execution_count": null,
   "metadata": {},
   "outputs": [],
   "source": [
    "def convert_to_cif(response_json):\n",
    "    # Extract relevant information from the response JSON\n",
    "    entry_id = response_json['entry_id']\n",
    "    lattice_vectors = [\n",
    "        [v * scale_factor for v in row] for row in response_json['archive']['run'][0]['system'][0]['atoms']['lattice_vectors']\n",
    "    ]\n",
    "    atom_labels = response_json['archive']['run'][0]['system'][0]['atoms']['labels']\n",
    "    atom_species = response_json['archive']['run'][0]['system'][0]['atoms']['species']\n",
    "    atom_positions = [\n",
    "        [v * scale_factor for v in row] for row in response_json['archive']['run'][0]['system'][0]['atoms']['positions']\n",
    "    ] \n",
    "\n",
    "    # Handle atom species which could be either symbols or atomic numbers\n",
    "    atom_symbols = []\n",
    "    for species in atom_species:\n",
    "        if isinstance(species, int) and species != 0:\n",
    "            element = Element.from_Z(species)\n",
    "            atom_symbols.append(element.symbol)\n",
    "        else:\n",
    "            atom_symbols.append(species)\n",
    "\n",
    "    # Construct the lattice using lattice vectors\n",
    "    lattice_matrix = np.array(lattice_vectors )\n",
    "    lattice = Lattice(lattice_matrix)\n",
    "\n",
    "    # Create a pymatgen Structure\n",
    "    pymatgen_structure = Structure(lattice, species=atom_symbols, coords=atom_positions )\n",
    "\n",
    "    # Generate CIF content using pymatgen\n",
    "    cif_content = pymatgen_structure.to(fmt=\"cif\")\n",
    "\n",
    "    return {\"material_id\": entry_id, \"cif\": cif_content}"
   ]
  }
 ],
 "metadata": {
  "kernelspec": {
   "display_name": "base",
   "language": "python",
   "name": "python3"
  },
  "language_info": {
   "codemirror_mode": {
    "name": "ipython",
    "version": 3
   },
   "file_extension": ".py",
   "mimetype": "text/x-python",
   "name": "python",
   "nbconvert_exporter": "python",
   "pygments_lexer": "ipython3",
   "version": "3.11.4"
  }
 },
 "nbformat": 4,
 "nbformat_minor": 2
}
