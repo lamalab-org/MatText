{
 "cells": [
  {
   "cell_type": "code",
   "execution_count": 1,
   "metadata": {},
   "outputs": [],
   "source": [
    "import lmdb\n",
    "import pickle\n",
    "\n",
    "from pymatgen.core import Structure, Lattice\n",
    "import numpy as np"
   ]
  },
  {
   "cell_type": "code",
   "execution_count": 3,
   "metadata": {},
   "outputs": [],
   "source": [
    "# Dataset generation\n",
    "\n",
    "class Dataset():\n",
    "  \"\"\"\n",
    "  Custom class for reading NOMAD dataset from MatSciML Zenodo\n",
    "  \n",
    "  \"\"\"\n",
    "\n",
    "  def __init__(self, lmdb_path, max_readers=1, transform=None, pre_transform=None):\n",
    "    \"\"\"\n",
    "    Constructor for dataset\n",
    "    param: lmdb_path -> path to lmdb_file\n",
    "    param: max_readers -> maximum number of concurrent read processes accessing lmdb file\n",
    "    \"\"\"\n",
    "    self.env = lmdb.open(lmdb_path,\n",
    "        subdir=False,\n",
    "        readonly=True,\n",
    "        lock=False,\n",
    "        readahead=False,\n",
    "        meminit=False,\n",
    "        max_readers=max_readers)\n",
    "    self.txn = self.env.begin()\n",
    "    \n",
    "  def len(self):\n",
    "    \n",
    "    return self.txn.stat()['entries']\n",
    "    \n",
    "\n",
    "  def get(self, index):\n",
    "    \"\"\"\n",
    "    Return a  datapoint\n",
    "    \"\"\"\n",
    "    # Select graph sample\n",
    "    id = f\"{index}\".encode(\"ascii\")\n",
    "    datapoint = pickle.loads(self.txn.get(id))\n",
    "    \n",
    "    return datapoint\n",
    "\n"
   ]
  },
  {
   "cell_type": "code",
   "execution_count": 4,
   "metadata": {},
   "outputs": [],
   "source": [
    "lmdb_path = \"/home/nawaf/n0w0f/material_db/nomad/all/data.lmdb\"\n",
    "dataset = Dataset(lmdb_path, 1)"
   ]
  },
  {
   "cell_type": "code",
   "execution_count": 5,
   "metadata": {},
   "outputs": [
    {
     "data": {
      "text/plain": [
       "138820"
      ]
     },
     "execution_count": 5,
     "metadata": {},
     "output_type": "execute_result"
    }
   ],
   "source": [
    "dataset.len()"
   ]
  },
  {
   "cell_type": "code",
   "execution_count": 6,
   "metadata": {},
   "outputs": [],
   "source": [
    "mat_dict = dataset.get(1)"
   ]
  },
  {
   "cell_type": "code",
   "execution_count": 29,
   "metadata": {},
   "outputs": [
    {
     "ename": "KeyError",
     "evalue": "'structure'",
     "output_type": "error",
     "traceback": [
      "\u001b[0;31m---------------------------------------------------------------------------\u001b[0m",
      "\u001b[0;31mKeyError\u001b[0m                                  Traceback (most recent call last)",
      "\u001b[1;32m/home/nawaf/n0w0f/structllm/notebooks/nomad_data_prep.ipynb Cell 6\u001b[0m line \u001b[0;36m1\n\u001b[0;32m----> <a href='vscode-notebook-cell://wsl%2Bubuntu-22.04/home/nawaf/n0w0f/structllm/notebooks/nomad_data_prep.ipynb#Y113sdnNjb2RlLXJlbW90ZQ%3D%3D?line=0'>1</a>\u001b[0m mat_dict[\u001b[39m'\u001b[39;49m\u001b[39mstructure\u001b[39;49m\u001b[39m'\u001b[39;49m]\n",
      "\u001b[0;31mKeyError\u001b[0m: 'structure'"
     ]
    }
   ],
   "source": [
    "mat_dict['structure']"
   ]
  },
  {
   "cell_type": "code",
   "execution_count": 168,
   "metadata": {},
   "outputs": [],
   "source": [
    "# crystal structure properties\n",
    "\n",
    "material_name = mat_dict['material']['material_name']\n",
    "chemical_formula = mat_dict['material']['chemical_formula_descriptive']\n",
    "space_group_symbol = mat_dict['material']['symmetry']['space_group_symbol']\n",
    "crystal_system = mat_dict['material']['symmetry']['crystal_system']\n",
    "\n",
    "\n",
    "mass_density = mat_dict['properties']['structures']['structure_original']['mass_density']\n",
    "\n",
    "# Electronic structure properties\n",
    "\n",
    "spin_polarized = mat_dict['properties']['electronic']['dos_electronic']['spin_polarized']\n",
    "energy_fermi = mat_dict['properties']['electronic']['dos_electronic']['energy_fermi']\n",
    "energy_highest_occupied = mat_dict['properties']['electronic']['dos_electronic']['band_gap'][0]['energy_highest_occupied']\n",
    "energy_lowest_unoccupied = mat_dict['properties']['electronic']['dos_electronic']['band_gap'][0]['energy_lowest_unoccupied']\n",
    "\n",
    "# Energy\n",
    "total_energy = mat_dict['energies']['total']['value']\n",
    "fermi = mat_dict['energies']['fermi']\n",
    "\n",
    "#method \n",
    "method = mat_dict['method']"
   ]
  },
  {
   "cell_type": "code",
   "execution_count": 15,
   "metadata": {},
   "outputs": [
    {
     "data": {
      "text/plain": [
       "[[5.495655, 0.0, 0.0], [0.0, 5.495655, 0.0], [0.0, 0.0, 5.495655]]"
      ]
     },
     "execution_count": 15,
     "metadata": {},
     "output_type": "execute_result"
    }
   ],
   "source": [
    "scale_factor : int = 1e10\n",
    "lattice_vectors = mat_dict['properties']['structures']['structure_original']['lattice_vectors']\n",
    "\n",
    "[[v * scale_factor for v in row] for row in lattice_vectors ]"
   ]
  },
  {
   "cell_type": "code",
   "execution_count": 20,
   "metadata": {},
   "outputs": [
    {
     "name": "stdout",
     "output_type": "stream",
     "text": [
      "dimension_types\n",
      "lattice_vectors\n",
      "cartesian_site_positions\n",
      "species_at_sites\n",
      "cell_volume\n",
      "atomic_density\n",
      "mass_density\n",
      "species\n",
      "lattice_parameters\n"
     ]
    }
   ],
   "source": [
    "cartesian_pos = mat_dict['properties']['geometry_optimization']['structure_optimized']['cartesian_site_positions']\n",
    "for row in cartesian_pos:\n",
    "    print(row)"
   ]
  },
  {
   "cell_type": "code",
   "execution_count": 30,
   "metadata": {},
   "outputs": [],
   "source": [
    "scale_factor : int = 1e10\n",
    "atom_species = mat_dict[\"properties\"][\"structures\"][\"structure_original\"][\"species_at_sites\"]\n",
    "lattice_vectors = mat_dict['properties']['structures']['structure_original']['lattice_vectors']\n",
    "cartesian_pos = mat_dict['properties']['geometry_optimization']['structure_optimized']['cartesian_site_positions']\n",
    "scale_factor : int = 1e10\n",
    "lattice  = [[v * scale_factor for v in row] for row in lattice_vectors ]\n",
    "atom_positions = [[v * scale_factor for v in row] for row in cartesian_pos]\n"
   ]
  },
  {
   "cell_type": "code",
   "execution_count": 34,
   "metadata": {},
   "outputs": [],
   "source": [
    "lattice_params = mat_dict[\"properties\"][\"structures\"][\"structure_original\"][\n",
    "            \"lattice_parameters\"\n",
    "        ]\n",
    "lattice_abc = (\n",
    "            lattice_params[\"a\"] * 1e10,\n",
    "            lattice_params[\"b\"] * 1e10,\n",
    "            lattice_params[\"c\"] * 1e10,\n",
    "        )\n",
    "lattice_angles = (\n",
    "            lattice_params[\"alpha\"],\n",
    "            lattice_params[\"beta\"],\n",
    "            lattice_params[\"gamma\"],\n",
    "        )\n",
    "lattice_params = (lattice_abc + lattice_angles)"
   ]
  },
  {
   "cell_type": "code",
   "execution_count": 54,
   "metadata": {},
   "outputs": [],
   "source": [
    "from math import pi\n",
    "\n",
    "def create_lattice(lattice_params : dict):\n",
    "\n",
    "    lattice_abc = (\n",
    "                    lattice_params[\"a\"] * scale_factor,\n",
    "                    lattice_params[\"b\"] * scale_factor,\n",
    "                    lattice_params[\"c\"] * scale_factor,\n",
    "                )\n",
    "    lattice_angles = (\n",
    "                    lattice_params[\"alpha\"],\n",
    "                    lattice_params[\"beta\"],\n",
    "                    lattice_params[\"gamma\"],\n",
    "                )\n",
    "    a, b, c  = lattice_abc\n",
    "    alpha, beta, gamma = lattice_angles       \n",
    "    lattice = Lattice.from_parameters(\n",
    "                a, b, c, alpha * 180/pi, beta * 180/pi, gamma * 180/pi\n",
    "            )\n",
    "    return lattice"
   ]
  },
  {
   "cell_type": "code",
   "execution_count": 55,
   "metadata": {},
   "outputs": [],
   "source": [
    "def create_cif(mat_dict:dict):\n",
    "\n",
    "    atom_species = mat_dict[\"properties\"][\"structures\"][\"structure_original\"][\"species_at_sites\"]\n",
    "    lattice_vectors = mat_dict['properties']['structures']['structure_original']['lattice_vectors']\n",
    "    cartesian_pos = mat_dict['properties']['geometry_optimization']['structure_optimized']['cartesian_site_positions']\n",
    "\n",
    "\n",
    "    scale_factor : int = 1e10\n",
    "    atom_positions = [\n",
    "            [v * scale_factor for v in row] for row in cartesian_pos\n",
    "        ]\n",
    "    \n",
    "\n",
    "    lattice_params = mat_dict[\"properties\"][\"structures\"][\"structure_original\"][\n",
    "            \"lattice_parameters\"\n",
    "        ]\n",
    "    lattice = create_lattice(lattice_params)\n",
    "    \n",
    "    \n",
    "    \n",
    "    # Handle atom species which could be either symbols or atomic numbers\n",
    "    atom_symbols = []\n",
    "    for species in atom_species:\n",
    "        if isinstance(species, int) and species != 0:\n",
    "            element = Element.from_Z(species)\n",
    "            atom_symbols.append(element.symbol)\n",
    "        else:\n",
    "            atom_symbols.append(species)\n",
    "\n",
    "\n",
    "    # Create a pymatgen Structure\n",
    "    pymatgen_structure = Structure(lattice, species=atom_symbols, coords=atom_positions )\n",
    "\n",
    "    # Generate CIF content using pymatgen\n",
    "    cif_content = pymatgen_structure.to(fmt=\"cif\")\n",
    "    return cif_content\n",
    "            "
   ]
  },
  {
   "cell_type": "code",
   "execution_count": 56,
   "metadata": {},
   "outputs": [],
   "source": [
    "cif = create_cif(mat_dict)"
   ]
  },
  {
   "cell_type": "code",
   "execution_count": 44,
   "metadata": {},
   "outputs": [
    {
     "data": {
      "text/plain": [
       "\"# generated using pymatgen\\ndata_CuCl\\n_symmetry_space_group_name_H-M   'P 1'\\n_cell_length_a   0.00000000\\n_cell_length_b   0.00000000\\n_cell_length_c   0.00000000\\n_cell_angle_alpha   90.00000000\\n_cell_angle_beta   90.00000000\\n_cell_angle_gamma   90.00000000\\n_symmetry_Int_Tables_number   1\\n_chemical_formula_structural   CuCl\\n_chemical_formula_sum   'Cu4 Cl4'\\n_cell_volume   0.00000000\\n_cell_formula_units_Z   4\\nloop_\\n _symmetry_equiv_pos_site_id\\n _symmetry_equiv_pos_as_xyz\\n  1  'x, y, z'\\nloop_\\n _atom_site_type_symbol\\n _atom_site_label\\n _atom_site_symmetry_multiplicity\\n _atom_site_fract_x\\n _atom_site_fract_y\\n _atom_site_fract_z\\n _atom_site_occupancy\\n  Cl  Cl0  1  1.37391400  1.37391400  1.37391400  1\\n  Cl  Cl1  1  4.12174100  4.12174100  1.37391400  1\\n  Cl  Cl2  1  4.12174100  1.37391400  4.12174100  1\\n  Cl  Cl3  1  1.37391400  4.12174100  4.12174100  1\\n  Cu  Cu4  1  0.00000000  0.00000000  0.00000000  1\\n  Cu  Cu5  1  0.00000000  2.74782800  2.74782800  1\\n  Cu  Cu6  1  2.74782800  0.00000000  2.74782800  1\\n  Cu  Cu7  1  2.74782800  2.74782800  0.00000000  1\\n\""
      ]
     },
     "execution_count": 44,
     "metadata": {},
     "output_type": "execute_result"
    }
   ],
   "source": [
    "cif"
   ]
  }
 ],
 "metadata": {
  "kernelspec": {
   "display_name": "base",
   "language": "python",
   "name": "python3"
  },
  "language_info": {
   "codemirror_mode": {
    "name": "ipython",
    "version": 3
   },
   "file_extension": ".py",
   "mimetype": "text/x-python",
   "name": "python",
   "nbconvert_exporter": "python",
   "pygments_lexer": "ipython3",
   "version": "3.8.18"
  }
 },
 "nbformat": 4,
 "nbformat_minor": 2
}
