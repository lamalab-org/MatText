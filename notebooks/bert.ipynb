{
 "cells": [
  {
   "cell_type": "code",
   "execution_count": 1,
   "id": "76cca5e0-a4da-4bd2-9038-dd060ea4a7fe",
   "metadata": {},
   "outputs": [
    {
     "name": "stderr",
     "output_type": "stream",
     "text": [
      "2023-11-05 12:06:51.711471: I tensorflow/core/platform/cpu_feature_guard.cc:182] This TensorFlow binary is optimized to use available CPU instructions in performance-critical operations.\n",
      "To enable the following instructions: AVX2 FMA, in other operations, rebuild TensorFlow with the appropriate compiler flags.\n",
      "2023-11-05 12:06:53.938958: W tensorflow/compiler/tf2tensorrt/utils/py_utils.cc:38] TF-TRT Warning: Could not find TensorRT\n"
     ]
    }
   ],
   "source": [
    "from tokenizers import Tokenizer\n",
    "from transformers import PreTrainedTokenizerFast\n",
    "from transformers import DataCollatorForLanguageModeling\n",
    "from transformers import BertConfig, BertForMaskedLM\n",
    "from transformers import Trainer, TrainingArguments\n",
    "\n",
    "from datasets import load_dataset\n",
    "import hydra\n",
    "from omegaconf import DictConfig"
   ]
  },
  {
   "cell_type": "code",
   "execution_count": 2,
   "id": "360151ac-6786-4946-b40c-1834a5008464",
   "metadata": {},
   "outputs": [],
   "source": [
    "@hydra.main(version_base=None, config_path=\"../conf\", config_name=\"config\")\n",
    "def main(cfg: DictConfig) -> None:\n",
    "    return cfg"
   ]
  },
  {
   "cell_type": "code",
   "execution_count": 4,
   "id": "5dd1b7ee-da4b-440f-8948-8ef368a8a376",
   "metadata": {},
   "outputs": [
    {
     "data": {
      "application/vnd.jupyter.widget-view+json": {
       "model_id": "77758b7a24114f83b9ade457c8cbc08f",
       "version_major": 2,
       "version_minor": 0
      },
      "text/plain": [
       "Downloading data files:   0%|          | 0/1 [00:00<?, ?it/s]"
      ]
     },
     "metadata": {},
     "output_type": "display_data"
    },
    {
     "data": {
      "application/vnd.jupyter.widget-view+json": {
       "model_id": "5f91ae6bf7a549a39c34399470d610fa",
       "version_major": 2,
       "version_minor": 0
      },
      "text/plain": [
       "Extracting data files:   0%|          | 0/1 [00:00<?, ?it/s]"
      ]
     },
     "metadata": {},
     "output_type": "display_data"
    },
    {
     "data": {
      "application/vnd.jupyter.widget-view+json": {
       "model_id": "ab3db4ecbfd8412f9a22a9f45651946f",
       "version_major": 2,
       "version_minor": 0
      },
      "text/plain": [
       "Generating train split: 0 examples [00:00, ? examples/s]"
      ]
     },
     "metadata": {},
     "output_type": "display_data"
    }
   ],
   "source": [
    "slice_data = load_dataset(\"csv\", data_files=\"/home/so87pot/n0w0f/structllm/data/130k/slice.csv\")"
   ]
  },
  {
   "cell_type": "code",
   "execution_count": 5,
   "id": "8db92e24-f68a-43f6-88b8-3dd6922dfe7b",
   "metadata": {},
   "outputs": [
    {
     "data": {
      "text/plain": [
       "DatasetDict({\n",
       "    train: Dataset({\n",
       "        features: ['slices'],\n",
       "        num_rows: 137641\n",
       "    })\n",
       "})"
      ]
     },
     "execution_count": 5,
     "metadata": {},
     "output_type": "execute_result"
    }
   ],
   "source": [
    "slice_data"
   ]
  },
  {
   "cell_type": "code",
   "execution_count": 16,
   "id": "043e2d4c-7dfc-4fef-bf26-3f1a84337a99",
   "metadata": {},
   "outputs": [
    {
     "data": {
      "text/plain": [
       "['slices']"
      ]
     },
     "execution_count": 16,
     "metadata": {},
     "output_type": "execute_result"
    }
   ],
   "source": [
    "slice_data['train'].column_names"
   ]
  },
  {
   "cell_type": "code",
   "execution_count": 17,
   "id": "d0f1cb53-a0dc-4c57-b480-7a93a369b185",
   "metadata": {},
   "outputs": [
    {
     "data": {
      "application/vnd.jupyter.widget-view+json": {
       "model_id": "145e90ecffcb4390a3fddac7de041b44",
       "version_major": 2,
       "version_minor": 0
      },
      "text/plain": [
       "Map:   0%|          | 0/137641 [00:00<?, ? examples/s]"
      ]
     },
     "metadata": {},
     "output_type": "display_data"
    }
   ],
   "source": [
    "# Load the custom tokenizer using tokenizers library\n",
    "self_tokenizer = Tokenizer.from_file(\"/home/so87pot/n0w0f/structllm/src/structllm/tokenizer/tokenizer-slice_130k.json\")\n",
    "self_wrapped_tokenizer = PreTrainedTokenizerFast(\n",
    "    tokenizer_object=self_tokenizer,\n",
    "    unk_token=\"[UNK]\",\n",
    "    pad_token=\"[PAD]\",\n",
    "    cls_token=\"[CLS]\",\n",
    "    sep_token=\"[SEP]\",\n",
    "    mask_token=\"[MASK]\",\n",
    ")\n",
    "\n",
    "def tokenize_pad_and_truncate(texts):\n",
    "        return self_wrapped_tokenizer(texts[\"slices\"], truncation=True, padding=\"max_length\", max_length=128)\n",
    "tokenized_datasets = slice_data.map(tokenize_pad_and_truncate, batched=True)"
   ]
  },
  {
   "cell_type": "code",
   "execution_count": null,
   "id": "6220137c-0191-4f49-bc4d-1a090420c450",
   "metadata": {},
   "outputs": [],
   "source": []
  }
 ],
 "metadata": {
  "kernelspec": {
   "display_name": "Python 3 (ipykernel)",
   "language": "python",
   "name": "python3"
  },
  "language_info": {
   "codemirror_mode": {
    "name": "ipython",
    "version": 3
   },
   "file_extension": ".py",
   "mimetype": "text/x-python",
   "name": "python",
   "nbconvert_exporter": "python",
   "pygments_lexer": "ipython3",
   "version": "3.8.18"
  }
 },
 "nbformat": 4,
 "nbformat_minor": 5
}
