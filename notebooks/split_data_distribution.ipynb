{
 "cells": [
  {
   "cell_type": "code",
   "execution_count": 1,
   "metadata": {},
   "outputs": [
    {
     "name": "stderr",
     "output_type": "stream",
     "text": [
      "/tmp/ipykernel_2633416/3340805949.py:5: DtypeWarning: Columns (1) have mixed types. Specify dtype option on import or set low_memory=False.\n",
      "  dataset = pd.read_csv(\"/work/so87pot/material_db/nomad/07_02_data/composition/composition_combined_cleaned.csv\")\n"
     ]
    }
   ],
   "source": [
    "import pandas as pd\n",
    "from sklearn.model_selection import train_test_split\n",
    "\n",
    "# Load the dataset\n",
    "dataset = pd.read_csv(\"/work/so87pot/material_db/nomad/07_02_data/composition/composition_combined_cleaned.csv\")\n",
    "\n",
    "\n"
   ]
  },
  {
   "cell_type": "code",
   "execution_count": null,
   "metadata": {},
   "outputs": [],
   "source": [
    "\n",
    "\n",
    "# Splitting the dataset into different sizes\n",
    "sizes = [27000, 130000, 390000, 2100000]\n",
    "\n",
    "for size in sizes:\n",
    "    # Determine the size of the validation set (20%)\n",
    "    val_size = int(0.2 * size)\n",
    "    \n",
    "    # Split the dataset into train and validation sets\n",
    "    train_data, val_data = train_test_split(dataset, train_size=size, random_state=7)\n",
    "    \n",
    "    # Save the train and validation sets to CSV files\n",
    "    train_data.to_csv(f\"/work/so87pot/material_db/nomad/07_02_data/composition/train_{size}.csv\", index=False)\n",
    "    val_data.to_csv(f\"/work/so87pot/material_db/nomad/07_02_data/composition/val_{size}.csv\", index=False)\n"
   ]
  },
  {
   "cell_type": "code",
   "execution_count": null,
   "metadata": {},
   "outputs": [],
   "source": []
  }
 ],
 "metadata": {
  "kernelspec": {
   "display_name": "slice_llm",
   "language": "python",
   "name": "python3"
  },
  "language_info": {
   "codemirror_mode": {
    "name": "ipython",
    "version": 3
   },
   "file_extension": ".py",
   "mimetype": "text/x-python",
   "name": "python",
   "nbconvert_exporter": "python",
   "pygments_lexer": "ipython3",
   "version": "3.9.18"
  }
 },
 "nbformat": 4,
 "nbformat_minor": 2
}
